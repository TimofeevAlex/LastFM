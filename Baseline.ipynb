{
 "cells": [
  {
   "cell_type": "code",
   "execution_count": 89,
   "metadata": {},
   "outputs": [
    {
     "name": "stdout",
     "output_type": "stream",
     "text": [
      "The autoreload extension is already loaded. To reload it, use:\n",
      "  %reload_ext autoreload\n"
     ]
    }
   ],
   "source": [
    "import os\n",
    "import sys\n",
    "from tqdm import tqdm\n",
    "from datetime import datetime\n",
    "\n",
    "import numpy as np\n",
    "import pandas as pd\n",
    "import matplotlib.pyplot as plt\n",
    "\n",
    "from IPython.display import clear_output\n",
    "\n",
    "sys.path.append('src')\n",
    "from train_test import train_test_split\n",
    "\n",
    "from ncf_helpers import create_train_step, create_test_step, create_inference, get_ratings\n",
    "from metrics import precision_recall_at_k, hit_rate_total, arhr_total, ndcg_at_k\n",
    "# from metrics import\n",
    "\n",
    "%load_ext autoreload\n",
    "%autoreload 2\n"
   ]
  },
  {
   "cell_type": "code",
   "execution_count": 2,
   "metadata": {},
   "outputs": [],
   "source": [
    "DATA_PATH = './data.nosync/'"
   ]
  },
  {
   "cell_type": "code",
   "execution_count": 3,
   "metadata": {},
   "outputs": [],
   "source": [
    "train = pd.read_csv(DATA_PATH + 'train.csv')\n",
    "valid = pd.read_csv(DATA_PATH + 'valid.csv')\n",
    "test = pd.read_csv(DATA_PATH + 'test.csv')\n",
    "lastfm_360_behav = pd.read_csv(DATA_PATH + 'behav-360k-processed.csv')\n",
    "lastfm_360_demo = pd.read_csv(DATA_PATH + 'demo-360k-processed.csv')\n",
    "lastfm_360_demo = lastfm_360_demo.set_index('user_email').astype(bool).reset_index()\n",
    "test_users = np.load(DATA_PATH + 'test_users.npy')"
   ]
  },
  {
   "cell_type": "code",
   "execution_count": 4,
   "metadata": {},
   "outputs": [],
   "source": [
    "train_plays_max = train['log_plays'].max()\n",
    "train['log_plays'] = train['log_plays'] / train_plays_max\n",
    "valid['log_plays'] = valid['log_plays'] / train_plays_max\n",
    "test['log_plays'] = test['log_plays'] / train_plays_max"
   ]
  },
  {
   "cell_type": "code",
   "execution_count": 5,
   "metadata": {},
   "outputs": [],
   "source": [
    "artists = lastfm_360_behav['artist_id'].unique()\n",
    "users = lastfm_360_demo['user_email'].unique()"
   ]
  },
  {
   "cell_type": "code",
   "execution_count": 108,
   "metadata": {},
   "outputs": [],
   "source": [
    "k = 10"
   ]
  },
  {
   "cell_type": "code",
   "execution_count": 109,
   "metadata": {},
   "outputs": [],
   "source": [
    "def baseline_predict(data, k=100):\n",
    "    total_log_plays = data.groupby('artist_id').sum()\n",
    "    ranked_artist_scores = total_log_plays.sort_values(['log_plays'], ascending=False)['log_plays']\n",
    "    return ranked_artist_scores[:k]"
   ]
  },
  {
   "cell_type": "code",
   "execution_count": 106,
   "metadata": {},
   "outputs": [],
   "source": [
    "pred = baseline_predict(test)"
   ]
  },
  {
   "cell_type": "code",
   "execution_count": 107,
   "metadata": {},
   "outputs": [],
   "source": [
    "pred_ratings = {u: np.array([pred.index.values, pred.values]) for u in test_users}"
   ]
  },
  {
   "cell_type": "code",
   "execution_count": 102,
   "metadata": {},
   "outputs": [
    {
     "name": "stdout",
     "output_type": "stream",
     "text": [
      "Computing precision & recall...\n"
     ]
    },
    {
     "data": {
      "application/vnd.jupyter.widget-view+json": {
       "model_id": "3fc41c8bfcdc4c98ac8ed1a30c47a83c",
       "version_major": 2,
       "version_minor": 0
      },
      "text/plain": [
       "HBox(children=(FloatProgress(value=0.0, max=1000.0), HTML(value='')))"
      ]
     },
     "metadata": {},
     "output_type": "display_data"
    },
    {
     "name": "stdout",
     "output_type": "stream",
     "text": [
      "\n",
      "Computing normalized discounted cumulative gain...\n"
     ]
    },
    {
     "data": {
      "application/vnd.jupyter.widget-view+json": {
       "model_id": "6b78ec409fa54299a351ebd028d789a1",
       "version_major": 2,
       "version_minor": 0
      },
      "text/plain": [
       "HBox(children=(FloatProgress(value=0.0, max=1000.0), HTML(value='')))"
      ]
     },
     "metadata": {},
     "output_type": "display_data"
    },
    {
     "name": "stdout",
     "output_type": "stream",
     "text": [
      "\n",
      "Computing hit rate...\n"
     ]
    },
    {
     "data": {
      "application/vnd.jupyter.widget-view+json": {
       "model_id": "a19779b1412f44159a6f22283f02ea17",
       "version_major": 2,
       "version_minor": 0
      },
      "text/plain": [
       "HBox(children=(FloatProgress(value=0.0, max=1000.0), HTML(value='')))"
      ]
     },
     "metadata": {},
     "output_type": "display_data"
    },
    {
     "name": "stdout",
     "output_type": "stream",
     "text": [
      "\n",
      "Computing average reciprocal hit ranking...\n"
     ]
    },
    {
     "data": {
      "application/vnd.jupyter.widget-view+json": {
       "model_id": "a56299f45f16430dbf56949a707b66f4",
       "version_major": 2,
       "version_minor": 0
      },
      "text/plain": [
       "HBox(children=(FloatProgress(value=0.0, max=1000.0), HTML(value='')))"
      ]
     },
     "metadata": {},
     "output_type": "display_data"
    },
    {
     "name": "stdout",
     "output_type": "stream",
     "text": [
      "\n",
      "Metrics: \n",
      "Precision @ 20: 0.01345\n",
      "Recall    @ 20: 0.04913571428571429\n",
      "Ndcg @ 20: 0.09103585540079194\n",
      "Hit rate: 0.269\n",
      "Arhr: 0.060413446980436256\n"
     ]
    }
   ],
   "source": [
    "compute_metrics(test, test_users, pred_ratings, k)"
   ]
  },
  {
   "cell_type": "code",
   "execution_count": null,
   "metadata": {},
   "outputs": [],
   "source": []
  }
 ],
 "metadata": {
  "kernelspec": {
   "display_name": "Python 3",
   "language": "python",
   "name": "python3"
  },
  "language_info": {
   "codemirror_mode": {
    "name": "ipython",
    "version": 3
   },
   "file_extension": ".py",
   "mimetype": "text/x-python",
   "name": "python",
   "nbconvert_exporter": "python",
   "pygments_lexer": "ipython3",
   "version": "3.7.6"
  }
 },
 "nbformat": 4,
 "nbformat_minor": 4
}
