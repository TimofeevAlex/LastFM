{
 "cells": [
  {
   "cell_type": "code",
   "execution_count": null,
   "metadata": {
    "colab": {
     "base_uri": "https://localhost:8080/"
    },
    "id": "pJbYXou6chZf",
    "outputId": "6edf7e61-ea57-4bb4-f024-0309226061b5"
   },
   "outputs": [
    {
     "name": "stdout",
     "output_type": "stream",
     "text": [
      "Mounted at /content/gdrive\n"
     ]
    }
   ],
   "source": [
    "# from google.colab import drive\n",
    "# drive.mount('/content/gdrive')"
   ]
  },
  {
   "cell_type": "code",
   "execution_count": null,
   "metadata": {
    "colab": {
     "base_uri": "https://localhost:8080/"
    },
    "id": "ySS_aA78CVeg",
    "outputId": "c5ec48e0-c5b2-4b5d-c07a-fd63fedfc6ed"
   },
   "outputs": [
    {
     "name": "stdout",
     "output_type": "stream",
     "text": [
      "/content/gdrive/MyDrive/LastFM\n"
     ]
    }
   ],
   "source": [
    "# %cd gdrive/MyDrive/\n",
    "# ! git clone https://github.com/TimofeevAlex/LastFM.git"
   ]
  },
  {
   "cell_type": "code",
   "execution_count": 1,
   "metadata": {
    "id": "rWhq8p1qCXZm"
   },
   "outputs": [],
   "source": [
    "import os\n",
    "import sys\n",
    "from tqdm import tqdm\n",
    "from datetime import datetime\n",
    "\n",
    "import numpy as np\n",
    "import pandas as pd\n",
    "import matplotlib.pyplot as plt\n",
    "\n",
    "import tensorflow as tf\n",
    "from tensorflow import keras\n",
    "from tensorflow.keras.regularizers import l2\n",
    "from keras.utils.vis_utils import model_to_dot\n",
    "\n",
    "from IPython.display import clear_output\n",
    "\n",
    "sys.path.append('src')\n",
    "from train_test import train_test_split\n",
    "from models import create_ncf_model\n",
    "from ncf_helpers import create_train_step, create_test_step, create_inference, get_ratings\n",
    "from metrics import precision_recall_at_k\n",
    "# from metrics import\n",
    "\n",
    "%load_ext autoreload\n",
    "%autoreload 2\n",
    "\n",
    "seed=0\n",
    "np.random.seed(seed)"
   ]
  },
  {
   "cell_type": "code",
   "execution_count": 8,
   "metadata": {
    "id": "gb4akhfuCXgH"
   },
   "outputs": [],
   "source": [
    "train = pd.read_csv('lastfm-dataset-360K/train.csv')\n",
    "valid = pd.read_csv('lastfm-dataset-360K/valid.csv')\n",
    "test = pd.read_csv('lastfm-dataset-360K/test.csv')\n",
    "lastfm_360_behav = pd.read_csv('lastfm-dataset-360K/behav-360k-processed.csv')\n",
    "lastfm_360_demo = pd.read_csv('lastfm-dataset-360K/demo-360k-processed.csv')\n",
    "lastfm_360_demo = lastfm_360_demo.set_index('user_email').astype(bool)\n",
    "test_users = np.load('lastfm-dataset-360K/test_users.npy')"
   ]
  },
  {
   "cell_type": "code",
   "execution_count": 3,
   "metadata": {
    "id": "q05TD5QACYE5"
   },
   "outputs": [],
   "source": [
    "train_plays_max = train['log_plays'].max()\n",
    "train['log_plays'] = train['log_plays'] / train_plays_max\n",
    "valid['log_plays'] = valid['log_plays'] / train_plays_max\n",
    "test['log_plays'] = test['log_plays'] / train_plays_max"
   ]
  },
  {
   "cell_type": "code",
   "execution_count": 4,
   "metadata": {},
   "outputs": [],
   "source": [
    "artists = lastfm_360_behav['artist_id'].unique()"
   ]
  },
  {
   "cell_type": "code",
   "execution_count": 5,
   "metadata": {
    "id": "hYJiprQwCX_B"
   },
   "outputs": [],
   "source": [
    "num_artists = artists.shape[0] \n",
    "num_user_features = lastfm_360_demo.shape[1] \n",
    "num_factors = 120\n",
    "batch_size = 2 ** 16\n",
    "k=10"
   ]
  },
  {
   "cell_type": "code",
   "execution_count": 6,
   "metadata": {},
   "outputs": [],
   "source": [
    "train_dataset = tf.data.Dataset.from_tensor_slices(train)\n",
    "train_dataset = train_dataset.batch(batch_size)\n",
    "valid_dataset = tf.data.Dataset.from_tensor_slices(valid)\n",
    "valid_dataset = valid_dataset.batch(batch_size)\n",
    "test_dataset = tf.data.Dataset.from_tensor_slices(test)#test.append(valid)\n",
    "test_dataset = test_dataset.batch(batch_size)"
   ]
  },
  {
   "cell_type": "code",
   "execution_count": 7,
   "metadata": {
    "id": "0yBny4rCCYLW"
   },
   "outputs": [],
   "source": [
    "model = create_ncf_model(num_factors, num_user_features, num_artists)\n",
    "optimizer = tf.keras.optimizers.SGD(learning_rate=0.001, momentum=0.9)#\n",
    "loss_fn = tf.keras.losses.MeanSquaredError()"
   ]
  },
  {
   "cell_type": "code",
   "execution_count": null,
   "metadata": {
    "colab": {
     "base_uri": "https://localhost:8080/",
     "height": 35
    },
    "id": "NQ3iSIyCsEBj",
    "outputId": "48e3c12e-750b-4313-dbf5-548fe364039b"
   },
   "outputs": [
    {
     "data": {
      "text/plain": [
       "<Figure size 432x288 with 0 Axes>"
      ]
     },
     "metadata": {
      "tags": []
     },
     "output_type": "display_data"
    }
   ],
   "source": [
    "tf.keras.utils.plot_model(model, show_shapes=False, dpi=300)\n",
    "plt.savefig('nlf_model_vertical.png')"
   ]
  },
  {
   "cell_type": "code",
   "execution_count": null,
   "metadata": {
    "id": "ECF_ETu8CYOt"
   },
   "outputs": [],
   "source": [
    "epoch_loss_avg = tf.keras.metrics.Mean()\n",
    "epoch_rmse = tf.keras.metrics.RootMeanSquaredError()\n",
    "test_loss_avg = tf.keras.metrics.Mean()\n",
    "test_rmse = tf.keras.metrics.RootMeanSquaredError()"
   ]
  },
  {
   "cell_type": "code",
   "execution_count": null,
   "metadata": {},
   "outputs": [],
   "source": [
    "train_step = create_train_step(model, loss_fn, epoch_loss_avg, epoch_rmse)\n",
    "test_step = create_test_step(model, loss_fn, test_loss_avg, test_rmse)"
   ]
  },
  {
   "cell_type": "code",
   "execution_count": null,
   "metadata": {
    "colab": {
     "base_uri": "https://localhost:8080/",
     "height": 558
    },
    "id": "w7Dif1k6C7O0",
    "outputId": "0771dd17-a1bd-4f4a-de63-3cb97e974861"
   },
   "outputs": [
    {
     "data": {
      "image/png": "[encoded data removed]",
      "text/plain": [
       "<Figure size 864x576 with 2 Axes>"
      ]
     },
     "metadata": {
      "needs_background": "light",
      "tags": []
     },
     "output_type": "display_data"
    }
   ],
   "source": [
    "num_epochs = 51\n",
    "log_frequency = 1\n",
    "\n",
    "train_loss_results = []\n",
    "train_rmse_results = []\n",
    "test_loss_results = []\n",
    "test_rmse_results = []\n",
    "\n",
    "timenow = str(datetime.now())\n",
    "try:\n",
    "    os.mkdir('saved_model/' + timenow)  \n",
    "except OSError as error:  \n",
    "    print(error)\n",
    "\n",
    "try:\n",
    "    os.mkdir('plots')  \n",
    "except OSError as error:  \n",
    "    print(error)\n",
    "    \n",
    "for epoch in range(num_epochs):\n",
    "    epoch_loss_avg.reset_states()\n",
    "    epoch_rmse.reset_states()\n",
    "    for batch in train_dataset:\n",
    "        user_feats = lastfm_360_demo.loc[batch[:, 0]]\n",
    "        artist_id = batch[:, 1]\n",
    "        y = batch[:, 2]\n",
    "        loss_value = train_step([user_feats, artist_id], y) \n",
    "\n",
    "    train_loss_results.append(epoch_loss_avg.result().numpy())\n",
    "    train_rmse_results.append(epoch_rmse.result().numpy())\n",
    "\n",
    "    if epoch % log_frequency == 0:\n",
    "        model.save('saved_model/' + timenow + '/model_' + str(epoch))\n",
    "        # Validation\n",
    "        test_loss_avg.reset_states()\n",
    "        test_rmse.reset_states()\n",
    "        for batch in valid_dataset:\n",
    "            user_feats = lastfm_360_demo.loc[batch[:, 0]]\n",
    "            artist_id = batch[:, 1]\n",
    "            y = batch[:, 2]\n",
    "            loss_value = test_step([user_feats, artist_id], y)\n",
    "        test_loss_results.append(test_loss_avg.result().numpy())\n",
    "        test_rmse_results.append(tf.sqrt(test_loss_avg.result().numpy()))\n",
    "\n",
    "        # Plot metrics  \n",
    "        clear_output(wait=True)\n",
    "        fig, axes = plt.subplots(2, sharex=True, figsize=(12, 8))\n",
    "        fig.suptitle('Training Metrics')\n",
    "\n",
    "        axes[0].set_ylabel(\"Loss\", fontsize=14)\n",
    "        axes[0].plot(train_loss_results, label='Train')\n",
    "        axes[0].plot(np.arange(0, epoch+1, log_frequency), test_loss_results, label='Test')\n",
    "\n",
    "        axes[1].set_ylabel(\"RMSE\", fontsize=14)\n",
    "        axes[1].set_xlabel(\"Epoch\", fontsize=14)\n",
    "        axes[1].plot(train_rmse_results, label='Train')\n",
    "        axes[1].plot(np.arange(0, epoch+1, log_frequency), test_rmse_results, label='Test')\n",
    "        plt.legend()\n",
    "        plt.savefig('plots/metrics_'+ timenow +'.png')\n",
    "        plt.show()\n",
    "        #plot gradients"
   ]
  },
  {
   "cell_type": "markdown",
   "metadata": {},
   "source": [
    "### Test"
   ]
  },
  {
   "cell_type": "code",
   "execution_count": 19,
   "metadata": {},
   "outputs": [
    {
     "name": "stderr",
     "output_type": "stream",
     "text": [
      "  0%|          | 0/1000 [00:00<?, ?it/s]"
     ]
    },
    {
     "name": "stdout",
     "output_type": "stream",
     "text": [
      "WARNING:tensorflow:5 out of the last 11 calls to <function create_inference.<locals>.inference at 0x7fcac5f03820> triggered tf.function retracing. Tracing is expensive and the excessive number of tracings could be due to (1) creating @tf.function repeatedly in a loop, (2) passing tensors with different shapes, (3) passing Python objects instead of tensors. For (1), please define your @tf.function outside of the loop. For (2), @tf.function has experimental_relax_shapes=True option that relaxes argument shapes that can avoid unnecessary retracing. For (3), please refer to https://www.tensorflow.org/guide/function#controlling_retracing and https://www.tensorflow.org/api_docs/python/tf/function for  more details.\n"
     ]
    },
    {
     "name": "stderr",
     "output_type": "stream",
     "text": [
      "  0%|          | 1/1000 [00:00<15:32,  1.07it/s]"
     ]
    },
    {
     "name": "stdout",
     "output_type": "stream",
     "text": [
      "WARNING:tensorflow:6 out of the last 12 calls to <function create_inference.<locals>.inference at 0x7fcac5f03820> triggered tf.function retracing. Tracing is expensive and the excessive number of tracings could be due to (1) creating @tf.function repeatedly in a loop, (2) passing tensors with different shapes, (3) passing Python objects instead of tensors. For (1), please define your @tf.function outside of the loop. For (2), @tf.function has experimental_relax_shapes=True option that relaxes argument shapes that can avoid unnecessary retracing. For (3), please refer to https://www.tensorflow.org/guide/function#controlling_retracing and https://www.tensorflow.org/api_docs/python/tf/function for  more details.\n"
     ]
    },
    {
     "name": "stderr",
     "output_type": "stream",
     "text": [
      "  0%|          | 2/1000 [00:01<14:35,  1.14it/s]"
     ]
    },
    {
     "name": "stdout",
     "output_type": "stream",
     "text": [
      "WARNING:tensorflow:6 out of the last 11 calls to <function create_inference.<locals>.inference at 0x7fcac5f03820> triggered tf.function retracing. Tracing is expensive and the excessive number of tracings could be due to (1) creating @tf.function repeatedly in a loop, (2) passing tensors with different shapes, (3) passing Python objects instead of tensors. For (1), please define your @tf.function outside of the loop. For (2), @tf.function has experimental_relax_shapes=True option that relaxes argument shapes that can avoid unnecessary retracing. For (3), please refer to https://www.tensorflow.org/guide/function#controlling_retracing and https://www.tensorflow.org/api_docs/python/tf/function for  more details.\n"
     ]
    },
    {
     "name": "stderr",
     "output_type": "stream",
     "text": [
      "100%|██████████| 1000/1000 [14:36<00:00,  1.14it/s]\n"
     ]
    }
   ],
   "source": [
    "inference = create_inference(model)\n",
    "seen_artists = train.append(valid).drop(columns='log_plays')\n",
    "seen_artists = seen_artists[seen_artists['user_email'].isin(test_users)]\n",
    "pred_ratings = get_ratings(inference, seen_artists, lastfm_360_demo, artists)"
   ]
  },
  {
   "cell_type": "code",
   "execution_count": 41,
   "metadata": {},
   "outputs": [],
   "source": [
    "precisions, recalls = precision_recall_at_k(test[test['user_email'].isin(test_users)], pred_ratings)"
   ]
  },
  {
   "cell_type": "code",
   "execution_count": 42,
   "metadata": {},
   "outputs": [
    {
     "name": "stdout",
     "output_type": "stream",
     "text": [
      "0.0 0.0\n"
     ]
    }
   ],
   "source": [
    "print(np.mean(precisions), np.mean(recalls))"
   ]
  },
  {
   "cell_type": "code",
   "execution_count": 47,
   "metadata": {},
   "outputs": [
    {
     "data": {
      "text/plain": [
       "(17309231, 5)"
      ]
     },
     "execution_count": 47,
     "metadata": {},
     "output_type": "execute_result"
    }
   ],
   "source": [
    "lastfm_360_behav.shape"
   ]
  },
  {
   "cell_type": "code",
   "execution_count": null,
   "metadata": {},
   "outputs": [],
   "source": []
  }
 ],
 "metadata": {
  "colab": {
   "collapsed_sections": [],
   "machine_shape": "hm",
   "name": "Deep latent FM P100.ipynb",
   "provenance": []
  },
  "kernelspec": {
   "display_name": "Python 3",
   "language": "python",
   "name": "python3"
  },
  "language_info": {
   "codemirror_mode": {
    "name": "ipython",
    "version": 3
   },
   "file_extension": ".py",
   "mimetype": "text/x-python",
   "name": "python",
   "nbconvert_exporter": "python",
   "pygments_lexer": "ipython3",
   "version": "3.8.8"
  }
 },
 "nbformat": 4,
 "nbformat_minor": 4
}
