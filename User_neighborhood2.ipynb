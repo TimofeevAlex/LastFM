{
 "cells": [
  {
   "cell_type": "markdown",
   "metadata": {},
   "source": [
    "# User-user neighborhood model\n",
    "\n",
    "This notebook present the user-user neighborhood model training and testing\n",
    "\n",
    "Note: Because of the dataset size, we chose to adapt the model following these steps:\n",
    "\n",
    "__Preprocessing:__ we replace the plays by binary interactions (1 if any plays, 0 otherwise). \n",
    "\n",
    "\n",
    "__Pipeline:__\n",
    "\n",
    "\n",
    "1. For each user, compute a set of neighbors and compute the similarity. \n",
    "2. Using the neighbors, we compute predictions for the number of plays for a given artist.\n",
    "\n",
    "__Summary__\n",
    "\n",
    "1.[Load datasets](#1.-Load-datasets)\n",
    "- Load train and test datasets. \n",
    "\n",
    "2.[Compute list of user neighbors](#2.-Find-user-neighbors)\n",
    "- For each user, using the binary interactions, compute a list of neighbors with similarity score\n",
    "\n",
    "3.[Compute predictions](#Compute-predictions)\n",
    "- Given list of neighbors, compute predictions for a given user. \n",
    "\n",
    "4.[Evaluate model](#Evaluate-model)\n",
    "- Compute metrics for a small subset of users to evaluate model predictions\n",
    "\n",
    "5.[Fine tune model](#Fine-tuning)\n",
    "- Compare different similarity score and prediction formula"
   ]
  },
  {
   "cell_type": "code",
   "execution_count": 1,
   "metadata": {},
   "outputs": [],
   "source": [
    "import os\n",
    "import sys\n",
    "from tqdm.auto import tqdm\n",
    "from datetime import datetime\n",
    "\n",
    "import numpy as np\n",
    "import pandas as pd\n",
    "import matplotlib.pyplot as plt\n",
    "\n",
    "import time\n",
    "\n",
    "from IPython.display import clear_output\n",
    "\n",
    "sys.path.append('src')\n",
    "from train_test import train_test_split\n",
    "\n",
    "from metrics import compute_metrics\n",
    "\n",
    "tqdm.pandas()\n",
    "%load_ext autoreload\n",
    "%autoreload 2"
   ]
  },
  {
   "cell_type": "markdown",
   "metadata": {},
   "source": [
    "## 1. Load datasets"
   ]
  },
  {
   "cell_type": "code",
   "execution_count": 2,
   "metadata": {},
   "outputs": [],
   "source": [
    "DATA_PATH = './data.nosync/lastfm-dataset-360K/'"
   ]
  },
  {
   "cell_type": "code",
   "execution_count": 38,
   "metadata": {},
   "outputs": [],
   "source": [
    "# Load data files\n",
    "train = pd.read_csv(DATA_PATH + 'train.csv')\n",
    "valid = pd.read_csv(DATA_PATH + 'valid.csv')\n",
    "test = pd.read_csv(DATA_PATH + 'test.csv')\n",
    "lastfm_360_behav = pd.read_csv(DATA_PATH + 'behav-360k-processed.csv')\n",
    "lastfm_360_demo = pd.read_csv(DATA_PATH + 'demo-360k-processed.csv')\n",
    "lastfm_360_demo = lastfm_360_demo.set_index('user_email')\n",
    "test_users = np.load(DATA_PATH + 'test_users.npy')"
   ]
  },
  {
   "cell_type": "code",
   "execution_count": 4,
   "metadata": {},
   "outputs": [
    {
     "data": {
      "text/plain": [
       "((5644266, 3), (620749, 3), (30022346, 3))"
      ]
     },
     "execution_count": 4,
     "metadata": {},
     "output_type": "execute_result"
    }
   ],
   "source": [
    "train.shape, valid.shape, test.shape"
   ]
  },
  {
   "cell_type": "code",
   "execution_count": 6,
   "metadata": {},
   "outputs": [
    {
     "data": {
      "text/html": [
       "<div>\n",
       "<style scoped>\n",
       "    .dataframe tbody tr th:only-of-type {\n",
       "        vertical-align: middle;\n",
       "    }\n",
       "\n",
       "    .dataframe tbody tr th {\n",
       "        vertical-align: top;\n",
       "    }\n",
       "\n",
       "    .dataframe thead th {\n",
       "        text-align: right;\n",
       "    }\n",
       "</style>\n",
       "<table border=\"1\" class=\"dataframe\">\n",
       "  <thead>\n",
       "    <tr style=\"text-align: right;\">\n",
       "      <th></th>\n",
       "      <th>user_email</th>\n",
       "      <th>artist_id</th>\n",
       "      <th>rating</th>\n",
       "    </tr>\n",
       "  </thead>\n",
       "  <tbody>\n",
       "    <tr>\n",
       "      <th>0</th>\n",
       "      <td>43941</td>\n",
       "      <td>68275</td>\n",
       "      <td>0.000000</td>\n",
       "    </tr>\n",
       "    <tr>\n",
       "      <th>1</th>\n",
       "      <td>62958</td>\n",
       "      <td>82754</td>\n",
       "      <td>3.429031</td>\n",
       "    </tr>\n",
       "    <tr>\n",
       "      <th>2</th>\n",
       "      <td>1931</td>\n",
       "      <td>1719</td>\n",
       "      <td>3.828571</td>\n",
       "    </tr>\n",
       "    <tr>\n",
       "      <th>3</th>\n",
       "      <td>52024</td>\n",
       "      <td>882</td>\n",
       "      <td>3.625399</td>\n",
       "    </tr>\n",
       "    <tr>\n",
       "      <th>4</th>\n",
       "      <td>5085</td>\n",
       "      <td>910</td>\n",
       "      <td>1.753127</td>\n",
       "    </tr>\n",
       "    <tr>\n",
       "      <th>...</th>\n",
       "      <td>...</td>\n",
       "      <td>...</td>\n",
       "      <td>...</td>\n",
       "    </tr>\n",
       "    <tr>\n",
       "      <th>5644261</th>\n",
       "      <td>61713</td>\n",
       "      <td>142</td>\n",
       "      <td>0.193042</td>\n",
       "    </tr>\n",
       "    <tr>\n",
       "      <th>5644262</th>\n",
       "      <td>63257</td>\n",
       "      <td>10599</td>\n",
       "      <td>0.000000</td>\n",
       "    </tr>\n",
       "    <tr>\n",
       "      <th>5644263</th>\n",
       "      <td>13378</td>\n",
       "      <td>302</td>\n",
       "      <td>0.021553</td>\n",
       "    </tr>\n",
       "    <tr>\n",
       "      <th>5644264</th>\n",
       "      <td>42288</td>\n",
       "      <td>17</td>\n",
       "      <td>0.313919</td>\n",
       "    </tr>\n",
       "    <tr>\n",
       "      <th>5644265</th>\n",
       "      <td>26450</td>\n",
       "      <td>4342</td>\n",
       "      <td>0.299742</td>\n",
       "    </tr>\n",
       "  </tbody>\n",
       "</table>\n",
       "<p>5644266 rows × 3 columns</p>\n",
       "</div>"
      ],
      "text/plain": [
       "         user_email  artist_id    rating\n",
       "0             43941      68275  0.000000\n",
       "1             62958      82754  3.429031\n",
       "2              1931       1719  3.828571\n",
       "3             52024        882  3.625399\n",
       "4              5085        910  1.753127\n",
       "...             ...        ...       ...\n",
       "5644261       61713        142  0.193042\n",
       "5644262       63257      10599  0.000000\n",
       "5644263       13378        302  0.021553\n",
       "5644264       42288         17  0.313919\n",
       "5644265       26450       4342  0.299742\n",
       "\n",
       "[5644266 rows x 3 columns]"
      ]
     },
     "execution_count": 6,
     "metadata": {},
     "output_type": "execute_result"
    }
   ],
   "source": [
    "train"
   ]
  },
  {
   "cell_type": "markdown",
   "metadata": {},
   "source": [
    "## 2. Split users \n",
    "\n",
    "The dataset is too big to compute the pairwise correlation. In order to fix this, we split the dataset based on users into different groups using age chunks. \n",
    "\n",
    "We try to make the groups smaller than 20k users. \n"
   ]
  },
  {
   "cell_type": "code",
   "execution_count": 7,
   "metadata": {},
   "outputs": [],
   "source": [
    "users = train['user_email'].unique()"
   ]
  },
  {
   "cell_type": "code",
   "execution_count": 8,
   "metadata": {},
   "outputs": [],
   "source": [
    "# Return index given user age\n",
    "age_columns = lastfm_360_demo.columns[3:93]\n",
    "def get_age_chunk_index(user_email:int, chunk_size=4):\n",
    "    user_age_vals = lastfm_360_demo.loc[user_email, age_columns]\n",
    "    user_age = [i for i, v in user_age_vals.items() if v]\n",
    "    \n",
    "    if len(user_age) != 1:\n",
    "        return -1\n",
    "    \n",
    "    min_age = int(float(user_age_vals.index[0]))\n",
    "    age = int(float(user_age[0]))\n",
    "    \n",
    "    return (age - min_age) // chunk_size "
   ]
  },
  {
   "cell_type": "code",
   "execution_count": 9,
   "metadata": {},
   "outputs": [],
   "source": [
    "def compute_groups(df):\n",
    "    users = df['user_email'].unique()\n",
    "    # Compute chunk index given user email\n",
    "    user_to_chunk = {u:get_age_chunk_index(u) for u in  tqdm(users)}\n",
    "    \n",
    "    # Get the chunk indices\n",
    "    chunks = set(user_to_chunk.values())\n",
    "\n",
    "    # Compute dict of chunks to users\n",
    "    chunk_users = {}\n",
    "    for c in chunks:\n",
    "        chunk_users[c] = [u for u, v in user_to_chunk.items() if v == c]\n",
    "        \n",
    "    # Compute list of users group of less than 20k users (maximum for our correlation matrix).\n",
    "    groups = []\n",
    "    current_group = []\n",
    "    \n",
    "    chunks.remove(-1) # Remove the nan age group (added as an individual group)\n",
    "    \n",
    "    for i in chunks: # Build group of less than 20k users\n",
    "        if len(current_group) > 10000 or (len(chunk_users[i]) > 10000): # If length above 10k, reset current group\n",
    "            groups.append(current_group)\n",
    "            current_group = []\n",
    "        \n",
    "        current_group.extend(chunk_users[i])\n",
    "    groups.append(chunk_users[-1]) # Add the group of users without age \n",
    "    return groups"
   ]
  },
  {
   "cell_type": "code",
   "execution_count": 10,
   "metadata": {},
   "outputs": [
    {
     "data": {
      "application/vnd.jupyter.widget-view+json": {
       "model_id": "d5b1ab2b3d1d45518c06fe1ef0a66003",
       "version_major": 2,
       "version_minor": 0
      },
      "text/plain": [
       "HBox(children=(FloatProgress(value=0.0, max=66928.0), HTML(value='')))"
      ]
     },
     "metadata": {},
     "output_type": "display_data"
    },
    {
     "name": "stdout",
     "output_type": "stream",
     "text": [
      "\n"
     ]
    }
   ],
   "source": [
    "train_groups = compute_groups(train)"
   ]
  },
  {
   "cell_type": "code",
   "execution_count": 11,
   "metadata": {},
   "outputs": [
    {
     "data": {
      "text/plain": [
       "[9079, 17226, 10001, 11977, 15131]"
      ]
     },
     "execution_count": 11,
     "metadata": {},
     "output_type": "execute_result"
    }
   ],
   "source": [
    "[len(train_groups[i]) for i in range(len(train_groups))]"
   ]
  },
  {
   "cell_type": "markdown",
   "metadata": {},
   "source": [
    "## 2. Find user neighbors\n",
    "\n",
    "Because of the big size of the dataset 67k users, the pairwise correlation cannot be compute on all pairs, therefore, we are going to chunk the users dataset using the 'age' demographic parameter. We are going to split the users in chunk of 5 years. "
   ]
  },
  {
   "cell_type": "code",
   "execution_count": 12,
   "metadata": {},
   "outputs": [
    {
     "data": {
      "text/plain": [
       "84497"
      ]
     },
     "execution_count": 12,
     "metadata": {},
     "output_type": "execute_result"
    }
   ],
   "source": [
    "len(train['artist_id'].unique())"
   ]
  },
  {
   "cell_type": "code",
   "execution_count": 13,
   "metadata": {},
   "outputs": [],
   "source": [
    "def get_top_k_user_scores(corr_df, user, k=100):\n",
    "    user_corr = corr_df.loc[user]\n",
    "    top_k_indices = user_corr.values.argsort()[-(k+1):][::-1][1:]\n",
    "    top_k_users = user_corr.index[top_k_indices]\n",
    "    return list(user_corr[top_k_users].items())\n",
    "    "
   ]
  },
  {
   "cell_type": "code",
   "execution_count": 14,
   "metadata": {},
   "outputs": [],
   "source": [
    "def filter_artists(train_df, artist_threshold:int=100, verbose:bool=False):\n",
    "    selected_artists = train_df['artist_id'].value_counts()\n",
    "    selected_artists= selected_artists[selected_artists > artist_threshold].index.values\n",
    "    if verbose: print(f\"Number of selected artists: {len(selected_artists)}\")\n",
    "    return selected_artists"
   ]
  },
  {
   "cell_type": "code",
   "execution_count": 15,
   "metadata": {},
   "outputs": [],
   "source": [
    "def compute_correlations(train_df, user_groups, artist_threshold:int=100, k_neighbors:int=100, binary_scores:bool=True, verbose=False):\n",
    "    \n",
    "    # In order to reduce the computation time, we make predictions from only a subset of artists. \n",
    "    # The subset contains artists listened by more than 100 users.\n",
    "    selected_artists = filter_artists(train_df, artist_threshold, verbose)\n",
    "    \n",
    "    # Make sure there are no duplicates\n",
    "    my_df = train_df.groupby(['user_email', 'artist_id'], as_index=False).sum()\n",
    "    # Select row with selected artists\n",
    "    my_df = my_df[my_df['artist_id'].isin(selected_artists)]\n",
    "    \n",
    "    # Select binary score or ratings\n",
    "    score_col = 'binary' if binary_scores else 'rating'\n",
    "    \n",
    "    if score_col == 'binary':\n",
    "        my_df['binary'] = my_df['rating'].apply(lambda x: 1 if x > 0 else 0)\n",
    "        \n",
    "    # Iterate over the user groups to reduce the correlation matrix dimention\n",
    "    user_to_neighbors = {}\n",
    "    groups_size = [len(train_groups[i]) for i in range(len(train_groups))]\n",
    "    if verbose: print(f\"User groups size: {groups_size}\")\n",
    "    for user_group in tqdm(user_groups):\n",
    "        start = time.time()\n",
    "        my_df_small = my_df[my_df['user_email'].isin(user_group)] # Get data for given user group\n",
    "        # Build my with scores\n",
    "        my_df_small = my_df_small.pivot(index='user_email', columns='artist_id', values=score_col).fillna(0)\n",
    "        # Compute correlation matrix\n",
    "        corr = np.corrcoef(my_df_small.values)\n",
    "        corr_df = pd.DataFrame(data = corr, index=my_df_small.index, columns=my_df_small.index).fillna(0)\n",
    "        end = time.time()\n",
    "        if verbose: print(f\"Correlation matrix computation: {end - start} seconds.\")\n",
    "        # Get top k neighbors\n",
    "        for user in tqdm(corr_df.index):\n",
    "            user_to_neighbors[user] = get_top_k_user_scores(corr_df, user)\n",
    "    \n",
    "    neighbors_df = pd.DataFrame({'user_email':user_to_neighbors.keys(), \n",
    "                                 'neighbors':user_to_neighbors.values()}).set_index('user_email')\n",
    "    return neighbors_df\n",
    "    "
   ]
  },
  {
   "cell_type": "code",
   "execution_count": 16,
   "metadata": {
    "scrolled": true
   },
   "outputs": [
    {
     "name": "stdout",
     "output_type": "stream",
     "text": [
      "Number of selected artists: 5354\n",
      "User groups size: [9079, 17226, 10001, 11977, 15131]\n"
     ]
    },
    {
     "data": {
      "application/vnd.jupyter.widget-view+json": {
       "model_id": "0b912fcd3f624fd284b0ba821028517e",
       "version_major": 2,
       "version_minor": 0
      },
      "text/plain": [
       "HBox(children=(FloatProgress(value=0.0, max=5.0), HTML(value='')))"
      ]
     },
     "metadata": {},
     "output_type": "display_data"
    },
    {
     "name": "stderr",
     "output_type": "stream",
     "text": [
      "/Users/pierre/opt/miniconda3/lib/python3.7/site-packages/numpy/lib/function_base.py:2559: RuntimeWarning: invalid value encountered in true_divide\n",
      "  c /= stddev[:, None]\n",
      "/Users/pierre/opt/miniconda3/lib/python3.7/site-packages/numpy/lib/function_base.py:2560: RuntimeWarning: invalid value encountered in true_divide\n",
      "  c /= stddev[None, :]\n"
     ]
    },
    {
     "name": "stdout",
     "output_type": "stream",
     "text": [
      "Correlation matrix computation: 7.676588773727417 seconds.\n"
     ]
    },
    {
     "data": {
      "application/vnd.jupyter.widget-view+json": {
       "model_id": "9b3d050b7f98437f9c1bf5f5f9b0ad24",
       "version_major": 2,
       "version_minor": 0
      },
      "text/plain": [
       "HBox(children=(FloatProgress(value=0.0, max=9076.0), HTML(value='')))"
      ]
     },
     "metadata": {},
     "output_type": "display_data"
    },
    {
     "name": "stdout",
     "output_type": "stream",
     "text": [
      "\n",
      "Correlation matrix computation: 30.61698627471924 seconds.\n"
     ]
    },
    {
     "data": {
      "application/vnd.jupyter.widget-view+json": {
       "model_id": "746b38467367487699790c6f9baf659c",
       "version_major": 2,
       "version_minor": 0
      },
      "text/plain": [
       "HBox(children=(FloatProgress(value=0.0, max=17223.0), HTML(value='')))"
      ]
     },
     "metadata": {},
     "output_type": "display_data"
    },
    {
     "name": "stdout",
     "output_type": "stream",
     "text": [
      "\n",
      "Correlation matrix computation: 9.967627048492432 seconds.\n"
     ]
    },
    {
     "data": {
      "application/vnd.jupyter.widget-view+json": {
       "model_id": "ee9e7a99c8d047069451ffe4d438824b",
       "version_major": 2,
       "version_minor": 0
      },
      "text/plain": [
       "HBox(children=(FloatProgress(value=0.0, max=10001.0), HTML(value='')))"
      ]
     },
     "metadata": {},
     "output_type": "display_data"
    },
    {
     "name": "stdout",
     "output_type": "stream",
     "text": [
      "\n",
      "Correlation matrix computation: 12.80122685432434 seconds.\n"
     ]
    },
    {
     "data": {
      "application/vnd.jupyter.widget-view+json": {
       "model_id": "0c36cc84bd6846d9bf3b0a986259bf57",
       "version_major": 2,
       "version_minor": 0
      },
      "text/plain": [
       "HBox(children=(FloatProgress(value=0.0, max=11974.0), HTML(value='')))"
      ]
     },
     "metadata": {},
     "output_type": "display_data"
    },
    {
     "name": "stdout",
     "output_type": "stream",
     "text": [
      "\n",
      "Correlation matrix computation: 20.19828200340271 seconds.\n"
     ]
    },
    {
     "data": {
      "application/vnd.jupyter.widget-view+json": {
       "model_id": "fb97b5c965854ac9ac3b0ccb313335d5",
       "version_major": 2,
       "version_minor": 0
      },
      "text/plain": [
       "HBox(children=(FloatProgress(value=0.0, max=15126.0), HTML(value='')))"
      ]
     },
     "metadata": {},
     "output_type": "display_data"
    },
    {
     "name": "stdout",
     "output_type": "stream",
     "text": [
      "\n",
      "\n"
     ]
    }
   ],
   "source": [
    "model = compute_correlations(train, train_groups, verbose=True)"
   ]
  },
  {
   "cell_type": "code",
   "execution_count": 22,
   "metadata": {},
   "outputs": [],
   "source": [
    "# Save the model\n",
    "model.to_csv(\"user_neighborhood_model.csv\", index=False)\n",
    "# Load the model \n",
    "#model = pd.read_csv(\"user_neighborhood_model.csv\", index_col=None)"
   ]
  },
  {
   "cell_type": "markdown",
   "metadata": {},
   "source": [
    "## 3. Compute user predictions\n",
    "\n",
    "\n",
    "### Edge cases:\n",
    "\n",
    "- 1. If the user is not in the model (in case all the listened artists are not in the selected artists)\n",
    "    -> Predictions are 0 for all artists\n",
    "- 2. For a given artist: If none of the neighbors has listened to it: predict 0\n",
    "\n",
    "Note: We do not count the neighbors that do not have listened to the artist. \n",
    "\n",
    "Issue: How to we take in account the fact that the artist is not popular within the neighbors set. "
   ]
  },
  {
   "cell_type": "code",
   "execution_count": 32,
   "metadata": {},
   "outputs": [],
   "source": [
    "selected_artists = filter_artists(train, artist_threshold=300)"
   ]
  },
  {
   "cell_type": "code",
   "execution_count": 34,
   "metadata": {},
   "outputs": [],
   "source": [
    "def get_neighbors_score(neighbors, n_df, artist_id):\n",
    "    res_df = pd.DataFrame(neighbors, columns=['user_email'])\n",
    "    a_df = n_df[n_df['artist_id'] == artist_id]\n",
    "    res_df = res_df.merge(a_df, how='left', on='user_email')[['user_email', 'rating']].fillna(0).set_index('user_email')\n",
    "    return res_df\n",
    "    "
   ]
  },
  {
   "cell_type": "code",
   "execution_count": 35,
   "metadata": {},
   "outputs": [],
   "source": [
    "def compute_var(remaining_n_rating, n_corr_df, avg_n_rating):\n",
    "  \n",
    "    var = 0\n",
    "    corr_sum = 0\n",
    "    \n",
    "    for n in remaining_n_rating.index:\n",
    "        corr_sum += n_corr_df.loc[n, 'corr']\n",
    "        \n",
    "        var += n_corr_df.loc[n, 'corr'] * (remaining_n_rating.loc[n, 'rating'] - avg_n_rating.loc[n, 'rating'])\n",
    "        \n",
    "    var = var / corr_sum\n",
    "    \n",
    "    #print(var)\n",
    "    return var"
   ]
  },
  {
   "cell_type": "code",
   "execution_count": 36,
   "metadata": {},
   "outputs": [],
   "source": [
    "def compute_predictions(train_df, user_email, selected_artists,  model, verbose=False):\n",
    "    \n",
    "    if user_email not in model.index: # If the user had no artists in the selected artists, return 0. \n",
    "        return [0]*selected_artists\n",
    "    \n",
    "    neighbors = model.loc[user_email]\n",
    "    \n",
    "    neighbors_email = np.array([n[0] for n in neighbors[0]])\n",
    "    neighbors_corr = np.array([n[1] for n in neighbors[0]])\n",
    "    \n",
    "    n_corr_df = pd.DataFrame(data={'user_email':neighbors_email, 'corr':neighbors_corr}).set_index('user_email')\n",
    "    \n",
    "    \n",
    "    neighbors_behav = train_df[train_df['user_email'].isin(neighbors_email)]\n",
    "    \n",
    "    avg_n_rating = pd.DataFrame(neighbors_behav.groupby('user_email')['rating'].mean())\n",
    "    \n",
    "    avg_user_rating = train_df.loc[train_df['user_email'] == user_email, 'rating'].mean()\n",
    "    \n",
    "    results = []\n",
    "    \n",
    "    for a in tqdm(selected_artists): \n",
    "        neighbors_rating = get_neighbors_score(neighbors_email, neighbors_behav, a)\n",
    "        \n",
    "        remaining_n_rating = neighbors_rating[neighbors_rating['rating'] > 0]\n",
    "        \n",
    "        if not len(remaining_n_rating) == 0:\n",
    "            \n",
    "            result = avg_user_rating + compute_var(remaining_n_rating, n_corr_df, avg_n_rating)\n",
    "            \n",
    "            if np.isnan(result):\n",
    "                result = 0\n",
    "            \n",
    "        else:\n",
    "            result = 0 # No neighbors have listened to the artist, return 0. \n",
    "            \n",
    "        results.append(result)\n",
    "        \n",
    "        \n",
    "    return results\n",
    "    "
   ]
  },
  {
   "cell_type": "code",
   "execution_count": 37,
   "metadata": {
    "scrolled": true
   },
   "outputs": [
    {
     "data": {
      "application/vnd.jupyter.widget-view+json": {
       "model_id": "91f4b58721e44aff863aead401266180",
       "version_major": 2,
       "version_minor": 0
      },
      "text/plain": [
       "HBox(children=(FloatProgress(value=0.0, max=1810.0), HTML(value='')))"
      ]
     },
     "metadata": {},
     "output_type": "display_data"
    },
    {
     "name": "stdout",
     "output_type": "stream",
     "text": [
      "\n"
     ]
    },
    {
     "data": {
      "text/plain": [
       "[2.4806858204751685,\n",
       " 1.9535931081797093,\n",
       " 1.3733997644466616,\n",
       " 1.148740264741722,\n",
       " 1.738766710488829,\n",
       " 1.6911434765651554,\n",
       " 1.6659272560658245,\n",
       " 2.227210474797293,\n",
       " 1.3817642927066078,\n",
       " 1.5130840937868093,\n",
       " 1.4898494648498226,\n",
       " 1.544750031216121,\n",
       " 0,\n",
       " 1.3948442998974089,\n",
       " 1.8490550268692933,\n",
       " 1.5427332137479217,\n",
       " 1.4612086283181467,\n",
       " 0.9780663457074996,\n",
       " 0.8364110448654098,\n",
       " 1.607998766389449,\n",
       " 1.1328521600768218,\n",
       " 1.1371491454005906,\n",
       " 1.7186772902948844,\n",
       " 1.3123532829958107,\n",
       " 1.6429687033688092,\n",
       " 2.2015162922030105,\n",
       " 1.1370647510129661,\n",
       " 1.060846228605649,\n",
       " 1.667942449536413,\n",
       " 1.264158248622901,\n",
       " 0.8739020643419618,\n",
       " 0.7871438425810242,\n",
       " 1.291929532016189,\n",
       " 1.3728216195609502,\n",
       " 2.255337769688647,\n",
       " 0,\n",
       " 0.6278200075698116,\n",
       " 1.7679889968248172,\n",
       " 0,\n",
       " 2.157588829206044,\n",
       " 1.5682343616043355,\n",
       " 0.9654538215906876,\n",
       " 1.615820091897218,\n",
       " 1.271992455272434,\n",
       " 0.7381308425528367,\n",
       " 1.6368190931876843,\n",
       " 1.8895327403905782,\n",
       " 1.2757099344594316,\n",
       " 0.8314791191954635,\n",
       " 1.4943380685294305,\n",
       " 0.9820147595118913,\n",
       " 3.269919937900879,\n",
       " 2.9290792487840935,\n",
       " 1.9526631400721934,\n",
       " 1.448753711692716,\n",
       " 1.172491564870726,\n",
       " 0.8449448191953517,\n",
       " 1.485376365314679,\n",
       " 0.580366230383459,\n",
       " 1.458176725296199,\n",
       " 0.5300120621506514,\n",
       " 0.8419299819348108,\n",
       " 1.1961118926684393,\n",
       " 0.8177596612298974,\n",
       " 1.51557876032,\n",
       " 1.189538908598816,\n",
       " 1.425999439879071,\n",
       " 1.7871836866962725,\n",
       " 0,\n",
       " 1.807984062083647,\n",
       " 1.2363584591067383,\n",
       " 1.044484086281714,\n",
       " 1.5468281363579561,\n",
       " 1.5614928708463132,\n",
       " 1.2444051404408145,\n",
       " 1.3813890916470755,\n",
       " 0,\n",
       " 1.2344293233625565,\n",
       " 1.4466781266538535,\n",
       " 1.4606574619413102,\n",
       " 1.1191683379647908,\n",
       " 1.8013365195903406,\n",
       " 1.7765289478806054,\n",
       " 1.2579872586699445,\n",
       " 1.7814463731104382,\n",
       " 0.7059646329275904,\n",
       " 0.5955331354370829,\n",
       " 0.9910441603207316,\n",
       " 1.2464226079338556,\n",
       " 1.4504025252102268,\n",
       " 1.893434513285373,\n",
       " 0,\n",
       " 1.382609846782891,\n",
       " 1.6474329826236256,\n",
       " 1.170763253598893,\n",
       " 1.845197950549293,\n",
       " 1.0229167513284365,\n",
       " 2.0957836913007486,\n",
       " 2.167981602042976,\n",
       " 0.6657460746468015,\n",
       " 1.2180283953912663,\n",
       " 1.568311128828618,\n",
       " 1.7757350083966992,\n",
       " 0,\n",
       " 0,\n",
       " 0,\n",
       " 1.5306744012449411,\n",
       " 0.8572149308451221,\n",
       " 1.7730099325875204,\n",
       " 1.4879521181653312,\n",
       " 0.7365811131520619,\n",
       " 0.22789373574553895,\n",
       " 1.5035817293176503,\n",
       " 0.5973741888840856,\n",
       " 1.2455335752349914,\n",
       " 1.7373987532748294,\n",
       " 1.3823956796833998,\n",
       " 1.2754796512674043,\n",
       " 1.7797886162708236,\n",
       " 2.1645273898683883,\n",
       " 1.6105254343027378,\n",
       " 0.6179342426367758,\n",
       " 1.3566819938540173,\n",
       " 0.7306253971838336,\n",
       " 0.9115067193447981,\n",
       " 2.7483285795761185,\n",
       " 0.5221199981066065,\n",
       " 1.246065226702374,\n",
       " 0.8105448345846487,\n",
       " 3.072535676425596,\n",
       " 1.2191886431682717,\n",
       " 1.1820887769415236,\n",
       " 0.43008226934570404,\n",
       " 0.3401016005359032,\n",
       " 0.9525544207865831,\n",
       " 1.3006558265412815,\n",
       " 0.7440824865631381,\n",
       " 1.3329560396877995,\n",
       " 1.6067409761768214,\n",
       " 0.9865672406535643,\n",
       " 1.0796002332634427,\n",
       " 2.0263041504414288,\n",
       " 0.9191334585896848,\n",
       " 0,\n",
       " 1.3613115171379713,\n",
       " 2.282132892643655,\n",
       " 0,\n",
       " 1.1332784835212224,\n",
       " 1.1127572754285882,\n",
       " 0.9254937350246795,\n",
       " 0.15152933585307615,\n",
       " 1.333183234668231,\n",
       " 2.462661281852095,\n",
       " 1.4710334714095765,\n",
       " 0,\n",
       " 0.886032733766255,\n",
       " 0,\n",
       " 0,\n",
       " 0.26778963906289954,\n",
       " 2.176238683259136,\n",
       " 1.1291007887799793,\n",
       " 0,\n",
       " 0,\n",
       " 0.9028289146708508,\n",
       " 0.1865657858292198,\n",
       " 0.2466361492686267,\n",
       " 0.40936926593276274,\n",
       " 2.3254763577301247,\n",
       " 1.0482821381518501,\n",
       " 1.1670233126426726,\n",
       " 0,\n",
       " 1.0283198503642557,\n",
       " 1.0679236753426096,\n",
       " 0,\n",
       " 0,\n",
       " 0,\n",
       " 2.6519036818573403,\n",
       " 0.7391965626388096,\n",
       " 0.46691994956920224,\n",
       " 1.1502181598327272,\n",
       " 1.0071225740877048,\n",
       " 0.996480717332924,\n",
       " 0,\n",
       " 1.379747634580225,\n",
       " 0,\n",
       " 1.2135655464051092,\n",
       " 1.1822833601673404,\n",
       " 0.8751261992411381,\n",
       " 2.8203385678661674,\n",
       " 0.401260392852258,\n",
       " 0.6177358216617646,\n",
       " 1.5940383133017473,\n",
       " 0.6836350303075707,\n",
       " 0,\n",
       " 1.3382886092319588,\n",
       " 0,\n",
       " 1.5993193265759755,\n",
       " 0,\n",
       " 1.2121137197785292,\n",
       " 1.1485321729970956,\n",
       " 0.9060103154408802,\n",
       " 1.4501792816037429,\n",
       " 1.197604822035263,\n",
       " 1.304878122780395,\n",
       " 1.7636296498799806,\n",
       " 0,\n",
       " 1.747866411788893,\n",
       " 1.731868734797214,\n",
       " 0.836706556912156,\n",
       " 0.8467638334051413,\n",
       " 0,\n",
       " 1.1849658858669718,\n",
       " 0.7762467223412757,\n",
       " 1.2417163309313923,\n",
       " 0,\n",
       " 0.8912826379142785,\n",
       " 1.4834389289538263,\n",
       " 0,\n",
       " 0.42109715284812527,\n",
       " 0.690764233144049,\n",
       " 1.8022549148144198,\n",
       " 0.5190479368384284,\n",
       " 1.0397039364946785,\n",
       " 0,\n",
       " 1.2802368550465248,\n",
       " 0,\n",
       " 0,\n",
       " 0.8265455282941958,\n",
       " 1.7806559724995281,\n",
       " 0,\n",
       " 0.12298683268008614,\n",
       " 0,\n",
       " 0.43688640156438197,\n",
       " 3.787498396001995,\n",
       " 1.1368570774003173,\n",
       " 0,\n",
       " 0,\n",
       " 0.6703133310958854,\n",
       " 1.625042388170709,\n",
       " 0,\n",
       " 1.686730471806406,\n",
       " 0.40833138795061547,\n",
       " 0.6303580284117937,\n",
       " 0,\n",
       " 1.862175875365369,\n",
       " 0,\n",
       " 0,\n",
       " 0,\n",
       " 0,\n",
       " 0,\n",
       " 1.6836638330670315,\n",
       " 0,\n",
       " 0,\n",
       " 0.273660369042299,\n",
       " 0,\n",
       " 1.6177102324594181,\n",
       " 0.7302143267862133,\n",
       " 0,\n",
       " 1.5278790051418718,\n",
       " 0,\n",
       " 1.1173343410642347,\n",
       " 0.7358466952005522,\n",
       " 0,\n",
       " 1.2168254928305293,\n",
       " 2.049763069211374,\n",
       " 0,\n",
       " 0,\n",
       " 1.3611353343137407,\n",
       " 0,\n",
       " 0,\n",
       " 0.645726997743516,\n",
       " 1.624664128092844,\n",
       " 0,\n",
       " 1.062785631499849,\n",
       " 0.8484393308442014,\n",
       " 1.5310212476277905,\n",
       " 1.1219528177981992,\n",
       " 0,\n",
       " 1.6555767748402088,\n",
       " 0.7061144253060105,\n",
       " 0.7158753997384399,\n",
       " 2.208595341603112,\n",
       " 1.8563970233727944,\n",
       " 2.528001232634069,\n",
       " 1.0532596133659933,\n",
       " 0.24938996909264377,\n",
       " 0,\n",
       " 1.4096740334214461,\n",
       " 1.1920010510506702,\n",
       " 0.03393596359158757,\n",
       " 0.7593383248892973,\n",
       " 0.8646055408181919,\n",
       " 1.2895957651828103,\n",
       " 0.8944527612775295,\n",
       " 0,\n",
       " 1.1572432629503036,\n",
       " 2.4491598155341796,\n",
       " 1.1071799156789355,\n",
       " 2.5911415859950027,\n",
       " 0.8580820478288982,\n",
       " 1.556593634880737,\n",
       " 0.63774455329249,\n",
       " 0,\n",
       " 0.3280325067778299,\n",
       " 1.7599119104267071,\n",
       " 0,\n",
       " 0.7236572004182886,\n",
       " 0,\n",
       " 0,\n",
       " 0.8853216903428752,\n",
       " 0,\n",
       " 0.5972832093438729,\n",
       " 0,\n",
       " 2.0307635127266765,\n",
       " 0.40634600560944023,\n",
       " 0,\n",
       " 0,\n",
       " 0.303421363178263,\n",
       " 0,\n",
       " 0.416964494515653,\n",
       " 1.9263460056094401,\n",
       " 1.3145398305829494,\n",
       " 2.130844848445187,\n",
       " 0.34367728347014376,\n",
       " 1.057285957363359,\n",
       " 0,\n",
       " 0.4932501981792867,\n",
       " 0,\n",
       " 0.790397180777965,\n",
       " 0.4417124929989392,\n",
       " 0.24722512648856082,\n",
       " 1.1072051278810355,\n",
       " 0,\n",
       " 0,\n",
       " 0,\n",
       " 1.9483051828270732,\n",
       " 0.3122800715435057,\n",
       " 0,\n",
       " 0.5700771805542505,\n",
       " 0,\n",
       " 0,\n",
       " 1.3875597544766065,\n",
       " 0,\n",
       " 0.614397829934246,\n",
       " 0,\n",
       " 0.6145804373640779,\n",
       " 0,\n",
       " 0,\n",
       " 0,\n",
       " 1.402025373712465,\n",
       " 0,\n",
       " 0.5582197570837216,\n",
       " 0,\n",
       " 0,\n",
       " 3.3669092543678234,\n",
       " 0.9613092874157103,\n",
       " 1.5662597653769132,\n",
       " 1.5981259708258482,\n",
       " 0,\n",
       " 0,\n",
       " 0,\n",
       " 0.6968369320195206,\n",
       " 1.1505959644270323,\n",
       " 0.3826097418731763,\n",
       " 1.3635962174509002,\n",
       " 0,\n",
       " 1.2262358496455756,\n",
       " 0.22814238683689836,\n",
       " 0.8501087653430343,\n",
       " 1.2582141374775717,\n",
       " 1.7344654881693482,\n",
       " 0,\n",
       " 0,\n",
       " 0.4680499415586101,\n",
       " 1.023075670522976,\n",
       " 0.9708541413262866,\n",
       " 0.7848386338977362,\n",
       " 2.348792808971587,\n",
       " 1.61789152061003,\n",
       " 1.199000758040515,\n",
       " 1.4273939657599795,\n",
       " 1.564141404392949,\n",
       " 0,\n",
       " 0,\n",
       " 0.9315886966024399,\n",
       " 1.8438487054781336,\n",
       " 1.0132759589555727,\n",
       " 0,\n",
       " 0,\n",
       " 0.7060933220488038,\n",
       " 1.7375452292912825,\n",
       " 0.640390916325238,\n",
       " 0.6077712117135488,\n",
       " 0.5849676221058198,\n",
       " 0,\n",
       " 0,\n",
       " 0,\n",
       " 1.5395689324883999,\n",
       " 0,\n",
       " 1.0337683178090014,\n",
       " 0,\n",
       " 0,\n",
       " 0,\n",
       " 0,\n",
       " 0.47991366316475365,\n",
       " 1.1514645186164272,\n",
       " 0,\n",
       " 0,\n",
       " 0.8150920597176999,\n",
       " 0,\n",
       " 0,\n",
       " 0,\n",
       " 1.1807797563298363,\n",
       " 0.9492386658570917,\n",
       " 1.363991404029899,\n",
       " 1.2738214701234802,\n",
       " 1.8447071273566917,\n",
       " 0,\n",
       " 2.5262656709392886,\n",
       " 0,\n",
       " 0,\n",
       " 0,\n",
       " 0,\n",
       " 0,\n",
       " 2.8600866271292666,\n",
       " 0.12177080730793244,\n",
       " 0,\n",
       " 1.381166358344421,\n",
       " 0.8033343944296092,\n",
       " 1.6770338067643824,\n",
       " 0,\n",
       " 0.6490912284285559,\n",
       " 2.592905164352298,\n",
       " 1.6700578223991627,\n",
       " 0,\n",
       " 0,\n",
       " 0.8622429605485908,\n",
       " 3.221352679701096,\n",
       " 0,\n",
       " 0,\n",
       " 0,\n",
       " 0,\n",
       " 0,\n",
       " 0,\n",
       " 1.1052827283523317,\n",
       " 1.3014305764654637,\n",
       " 0,\n",
       " 0,\n",
       " 1.3159799911849621,\n",
       " 0.7494312793839711,\n",
       " 0.49306056254084274,\n",
       " 1.0853936355616185,\n",
       " 0,\n",
       " 1.2096700573648356,\n",
       " 0,\n",
       " 0,\n",
       " 1.1427803274767907,\n",
       " 0,\n",
       " 0,\n",
       " 0,\n",
       " 0,\n",
       " 0.4912658621108773,\n",
       " 0,\n",
       " 0,\n",
       " 0.8454633320785796,\n",
       " 0,\n",
       " 1.62850526662506,\n",
       " 0.7256659939627521,\n",
       " 1.4164222165467224,\n",
       " 0,\n",
       " 0,\n",
       " 0,\n",
       " 0,\n",
       " 0.9231970952641751,\n",
       " 0.7146417026605155,\n",
       " 1.3867931637083,\n",
       " 2.476002407665349,\n",
       " 0,\n",
       " 1.5635526091575074,\n",
       " 0.6987913132463522,\n",
       " 0,\n",
       " 0.3361711008312495,\n",
       " 0,\n",
       " 1.4916655744976874,\n",
       " 0.18921494565146563,\n",
       " 0.5149313910163192,\n",
       " 0,\n",
       " 0,\n",
       " 0,\n",
       " 2.2091749127849827,\n",
       " 0,\n",
       " 1.4152736249902558,\n",
       " 0,\n",
       " 0,\n",
       " 0,\n",
       " 0,\n",
       " 0.0738438301322798,\n",
       " 0,\n",
       " 0,\n",
       " 1.277639974922633,\n",
       " 3.2717051158107537,\n",
       " 1.3964608812061106,\n",
       " 0.4145862813053166,\n",
       " 1.8762502913179206,\n",
       " 0,\n",
       " 1.0071326743840696,\n",
       " 1.1870506884958476,\n",
       " 0,\n",
       " 0,\n",
       " 1.632779571823313,\n",
       " 0.3785694514287069,\n",
       " 0.26292353844527216,\n",
       " 0,\n",
       " 0,\n",
       " 0,\n",
       " 0,\n",
       " 1.5392525901364085,\n",
       " 0.5091310275295089,\n",
       " 2.7122916544431073,\n",
       " 1.1202237793710412,\n",
       " 0,\n",
       " 0.27135019571545343,\n",
       " 0.9941267244412764,\n",
       " 0,\n",
       " 1.4341069596610403,\n",
       " 0,\n",
       " 1.2475591139140434,\n",
       " 0.8801891114603817,\n",
       " 0.6807150690465007,\n",
       " 0.5033777475194331,\n",
       " 0.136075262275006,\n",
       " 0.4805733662813972,\n",
       " 0.29278011207194454,\n",
       " 0.8096735371521138,\n",
       " 0,\n",
       " 0,\n",
       " 0.495906079554317,\n",
       " 0,\n",
       " 0,\n",
       " 1.146941665314002,\n",
       " 0,\n",
       " 0.8159407013086488,\n",
       " 0,\n",
       " 0,\n",
       " 0,\n",
       " 0,\n",
       " 0.9129895213175734,\n",
       " 0,\n",
       " 0,\n",
       " 0.936301821904804,\n",
       " 2.0367705838628063,\n",
       " 0,\n",
       " 0.6701851088617787,\n",
       " 1.2880603806226947,\n",
       " 1.4108304419351794,\n",
       " 0,\n",
       " 0,\n",
       " 0.9111345821034598,\n",
       " 0,\n",
       " 0,\n",
       " 1.1106066281366036,\n",
       " 0,\n",
       " 0,\n",
       " 1.1204876791011424,\n",
       " 0,\n",
       " 0,\n",
       " 0.7804974101844644,\n",
       " 0,\n",
       " 0.43573784960752493,\n",
       " 0,\n",
       " 1.4411340451445902,\n",
       " 1.791037209067285,\n",
       " 0,\n",
       " 0,\n",
       " 0,\n",
       " 0,\n",
       " 0,\n",
       " 0,\n",
       " 0,\n",
       " 0.8330891284398938,\n",
       " 0,\n",
       " 0,\n",
       " 0,\n",
       " 0,\n",
       " 0,\n",
       " 1.4391203223427627,\n",
       " 0,\n",
       " 0,\n",
       " 0.8627143601121036,\n",
       " 0,\n",
       " 0.7000595530291062,\n",
       " 0,\n",
       " 0.7609035759081311,\n",
       " 1.4443925069660466,\n",
       " 0,\n",
       " 0.5427300474405795,\n",
       " 0,\n",
       " 0.9260951015052017,\n",
       " 0,\n",
       " 0,\n",
       " 0,\n",
       " 1.143197139224653,\n",
       " 1.790989667522011,\n",
       " 0,\n",
       " 0.6278873383603377,\n",
       " 0,\n",
       " 0,\n",
       " 1.700480627800396,\n",
       " 0.9302248949249046,\n",
       " 0,\n",
       " 0.5581325168161553,\n",
       " 0,\n",
       " 0,\n",
       " 0,\n",
       " 0,\n",
       " 1.6810345282402293,\n",
       " 0.3771253575424933,\n",
       " 1.1204190833647454,\n",
       " 0,\n",
       " 0,\n",
       " 0,\n",
       " 0,\n",
       " 0,\n",
       " 0,\n",
       " 0,\n",
       " 1.4224819828352293,\n",
       " 2.240524059768303,\n",
       " 0,\n",
       " 0,\n",
       " 0.6543865155305029,\n",
       " 0.7373795170794626,\n",
       " 2.594475564230137,\n",
       " 0,\n",
       " 0,\n",
       " 1.8605278016809454,\n",
       " 0.894893093621972,\n",
       " 0,\n",
       " 2.157785661902331,\n",
       " 0,\n",
       " 0,\n",
       " 0,\n",
       " 0,\n",
       " 0,\n",
       " 0.7720255420930651,\n",
       " 0,\n",
       " 0,\n",
       " 1.1515089850390297,\n",
       " 0.748965274082974,\n",
       " 0,\n",
       " 0,\n",
       " 0.6630493023127367,\n",
       " 0.8032464250368606,\n",
       " 1.6392664498395162,\n",
       " 0.26231926102915487,\n",
       " 0,\n",
       " 0,\n",
       " 0,\n",
       " 2.571425133286816,\n",
       " 0,\n",
       " 0,\n",
       " 0,\n",
       " 0,\n",
       " 0,\n",
       " 2.674711372215984,\n",
       " 0.13115412194884557,\n",
       " 1.006902804896588,\n",
       " 0.8544795159668296,\n",
       " 1.286183586887406,\n",
       " 0,\n",
       " 0.9158898437356748,\n",
       " 0.9598189113718926,\n",
       " 0.4645274967048851,\n",
       " 0,\n",
       " 0,\n",
       " 0,\n",
       " 0,\n",
       " 0,\n",
       " 0,\n",
       " 0,\n",
       " 1.5503327242296807,\n",
       " 0,\n",
       " 0,\n",
       " 0,\n",
       " 1.886984044650899,\n",
       " 0,\n",
       " 0,\n",
       " 0,\n",
       " 0.7285282157804299,\n",
       " 0,\n",
       " 0.31705042074997364,\n",
       " 0.9946091805453592,\n",
       " 0.30314934479791417,\n",
       " 0,\n",
       " 0,\n",
       " 0,\n",
       " 2.3221821739139896,\n",
       " 0,\n",
       " 0,\n",
       " 0.7532089224238341,\n",
       " 0,\n",
       " 0,\n",
       " 0,\n",
       " 0.5583375404071202,\n",
       " 2.05990256215573,\n",
       " 0.8477175525470496,\n",
       " 0,\n",
       " 1.4471530868087839,\n",
       " 0,\n",
       " 0,\n",
       " 0,\n",
       " 0,\n",
       " 0.37751771438296966,\n",
       " 0,\n",
       " 0,\n",
       " 2.1925061980163436,\n",
       " 0,\n",
       " 2.050002620088522,\n",
       " 1.589502161592359,\n",
       " 1.176581535363297,\n",
       " 0,\n",
       " 2.232269662047937,\n",
       " 0.8017082849002708,\n",
       " 0,\n",
       " 0,\n",
       " 0,\n",
       " 1.1210276342652041,\n",
       " 0,\n",
       " 0.8730922892008606,\n",
       " 0.43073855609907663,\n",
       " 0,\n",
       " 0,\n",
       " 1.2601775382582565,\n",
       " 1.0481266615486118,\n",
       " 0.9514769725504024,\n",
       " 0,\n",
       " 0,\n",
       " 0.4089058107673318,\n",
       " 0,\n",
       " 0,\n",
       " 0,\n",
       " 1.488470627824645,\n",
       " 0.5081464109876368,\n",
       " 0.5487142771375593,\n",
       " 0.648752836531098,\n",
       " 0.7288267109106987,\n",
       " 0,\n",
       " 0.32612062725880714,\n",
       " 0,\n",
       " 0,\n",
       " 0,\n",
       " 0,\n",
       " 0,\n",
       " 0.9139657612717885,\n",
       " 0,\n",
       " 0,\n",
       " 1.7896965804616742,\n",
       " 0,\n",
       " 0,\n",
       " 0,\n",
       " 0,\n",
       " 0,\n",
       " 0,\n",
       " 1.2509793377037262,\n",
       " 1.0863014024958244,\n",
       " 0.7017342336620054,\n",
       " 1.1284558498027404,\n",
       " 1.5513837611168753,\n",
       " 1.919871223949542,\n",
       " 0,\n",
       " 0,\n",
       " 0,\n",
       " 0,\n",
       " 0,\n",
       " 0.8721786883905325,\n",
       " 0.6337754577887253,\n",
       " 0,\n",
       " 0.6288917423318149,\n",
       " 0,\n",
       " 0,\n",
       " 0.5657588177837642,\n",
       " 0,\n",
       " 0,\n",
       " 2.925427267543067,\n",
       " 0,\n",
       " 0,\n",
       " 0,\n",
       " 0,\n",
       " 0,\n",
       " 1.71342986555366,\n",
       " 0,\n",
       " 0,\n",
       " 0,\n",
       " 0.9575547968182311,\n",
       " 0,\n",
       " 0.5891408022105243,\n",
       " 0,\n",
       " 0,\n",
       " 0,\n",
       " 0.5439613070896268,\n",
       " 0.5654602923456058,\n",
       " 0,\n",
       " 1.0609986280062518,\n",
       " 0.5504542642970567,\n",
       " 0,\n",
       " 0.5185415320952775,\n",
       " 0,\n",
       " 1.3053394350272238,\n",
       " 0,\n",
       " 1.0945244104332654,\n",
       " 0.4965314189229491,\n",
       " 0,\n",
       " 2.6755688514572267,\n",
       " 0,\n",
       " 0.6396036561014551,\n",
       " 0,\n",
       " 0,\n",
       " 1.2862375348222943,\n",
       " 0,\n",
       " 1.633760600876399,\n",
       " 1.6235701073671582,\n",
       " 0,\n",
       " 0,\n",
       " 0,\n",
       " 0,\n",
       " 2.3870235339616914,\n",
       " 0,\n",
       " 0,\n",
       " 0,\n",
       " 1.254525479894685,\n",
       " 0,\n",
       " 1.6708049744719848,\n",
       " 1.7789010555058067,\n",
       " 0,\n",
       " 0,\n",
       " 0.6995847953152167,\n",
       " 1.5060917648917043,\n",
       " 0,\n",
       " 0.9104191526397087,\n",
       " 0,\n",
       " 0.021862147495770756,\n",
       " 0,\n",
       " 0,\n",
       " 1.350430513496022,\n",
       " 0,\n",
       " 0,\n",
       " 0,\n",
       " 0.9067800952018706,\n",
       " 0,\n",
       " 0,\n",
       " 0.3774862901569507,\n",
       " 0,\n",
       " 0.3084438834807039,\n",
       " 0.07034783854674131,\n",
       " 0.6166329918510467,\n",
       " 0,\n",
       " 0,\n",
       " 0.5191858936560982,\n",
       " 1.9552591684308331,\n",
       " 0,\n",
       " 0.9828486864454444,\n",
       " 0.4285519067036303,\n",
       " 0,\n",
       " 0.893846161483852,\n",
       " 0,\n",
       " 0,\n",
       " 0.8031486026257567,\n",
       " 0.5042817155476143,\n",
       " 0.13230276008407693,\n",
       " 0,\n",
       " 1.2342613122004074,\n",
       " 0,\n",
       " 0,\n",
       " 0,\n",
       " 0,\n",
       " 0.3692963141841599,\n",
       " 0,\n",
       " 0,\n",
       " 0,\n",
       " 0,\n",
       " 0,\n",
       " 0.3997406305983321,\n",
       " 0.8602367119685268,\n",
       " 0,\n",
       " 1.7373316327523223,\n",
       " 0,\n",
       " 1.6698402229304268,\n",
       " 0,\n",
       " 0,\n",
       " 0,\n",
       " 1.6813181825586354,\n",
       " 0.5537366575845563,\n",
       " 0.7999937116570527,\n",
       " 0,\n",
       " 2.934104826478694,\n",
       " 0,\n",
       " 0,\n",
       " 0,\n",
       " 0,\n",
       " 1.1160618133456857,\n",
       " 1.3740073551381071,\n",
       " 0.08852097018245275,\n",
       " 0.4598194888837128,\n",
       " 2.0201242984786973,\n",
       " 0,\n",
       " 2.4178995184569114,\n",
       " 0,\n",
       " 0.4895565815185775,\n",
       " 0,\n",
       " 0,\n",
       " 0,\n",
       " 0,\n",
       " 3.0759469276787432,\n",
       " 1.3333061042879324,\n",
       " 1.952138668364272,\n",
       " 0,\n",
       " 0,\n",
       " 0,\n",
       " 0,\n",
       " 0,\n",
       " 0,\n",
       " 0.33021642149625147,\n",
       " 0,\n",
       " 0,\n",
       " 2.721422059337831,\n",
       " 2.1377383283956024,\n",
       " 0.9537401234449614,\n",
       " 0,\n",
       " 1.2621294704145325,\n",
       " 1.171850594229734,\n",
       " 0,\n",
       " 0,\n",
       " 0,\n",
       " 0,\n",
       " 0,\n",
       " 0,\n",
       " 0,\n",
       " 0,\n",
       " 0,\n",
       " 0.9951710076411524,\n",
       " 0,\n",
       " 0.2879266190454913,\n",
       " 1.2031813234035633,\n",
       " 1.506619065962456,\n",
       " 0,\n",
       " 0.4471892506063001,\n",
       " 0,\n",
       " 0,\n",
       " 0,\n",
       " 1.6760291418243294,\n",
       " 0,\n",
       " 0,\n",
       " 0,\n",
       " 0,\n",
       " 0.1519091766133367,\n",
       " 0.7210237985669455,\n",
       " 0,\n",
       " 0,\n",
       " 0.9276428148225073,\n",
       " 0,\n",
       " 0,\n",
       " 0,\n",
       " 0,\n",
       " 2.840307841575577,\n",
       " 0,\n",
       " 0,\n",
       " 0.4487966400188929,\n",
       " 0,\n",
       " 1.2088263972162419,\n",
       " 0.5411501441407,\n",
       " 0,\n",
       " 0.25569626487403224,\n",
       " 0,\n",
       " 0.03696827589782048,\n",
       " 0,\n",
       " 0.795141488264125,\n",
       " 0,\n",
       " 0,\n",
       " 0,\n",
       " 0,\n",
       " 0,\n",
       " 1.745126829072151,\n",
       " 0,\n",
       " 0,\n",
       " 0,\n",
       " 0,\n",
       " 1.1690119643362458,\n",
       " 0,\n",
       " 0,\n",
       " 0,\n",
       " 1.0546068688562777,\n",
       " 0,\n",
       " 0,\n",
       " 0.43672869172231815,\n",
       " 0,\n",
       " 0,\n",
       " 0,\n",
       " 0,\n",
       " 0,\n",
       " 0,\n",
       " 0,\n",
       " ...]"
      ]
     },
     "execution_count": 37,
     "metadata": {},
     "output_type": "execute_result"
    }
   ],
   "source": [
    "compute_predictions(train, 10, selected_artists, model)"
   ]
  },
  {
   "cell_type": "code",
   "execution_count": 40,
   "metadata": {},
   "outputs": [
    {
     "data": {
      "text/plain": [
       "30022346"
      ]
     },
     "execution_count": 40,
     "metadata": {},
     "output_type": "execute_result"
    }
   ],
   "source": [
    "len(test)"
   ]
  },
  {
   "cell_type": "code",
   "execution_count": 44,
   "metadata": {},
   "outputs": [],
   "source": [
    "train_subset = train[train['user_email'].isin(test_users)]"
   ]
  },
  {
   "cell_type": "code",
   "execution_count": 57,
   "metadata": {},
   "outputs": [],
   "source": [
    "test_small = test[test['user_email'].isin(test_users)]"
   ]
  },
  {
   "cell_type": "code",
   "execution_count": 63,
   "metadata": {},
   "outputs": [
    {
     "data": {
      "text/plain": [
       "(81918, 3)"
      ]
     },
     "execution_count": 63,
     "metadata": {},
     "output_type": "execute_result"
    }
   ],
   "source": [
    "test_small.shape"
   ]
  },
  {
   "cell_type": "code",
   "execution_count": 67,
   "metadata": {},
   "outputs": [
    {
     "data": {
      "text/plain": [
       "184"
      ]
     },
     "execution_count": 67,
     "metadata": {},
     "output_type": "execute_result"
    }
   ],
   "source": [
    "len(test_small['user_email'].unique())"
   ]
  },
  {
   "cell_type": "code",
   "execution_count": 72,
   "metadata": {},
   "outputs": [
    {
     "data": {
      "application/vnd.jupyter.widget-view+json": {
       "model_id": "66016c75d77745caaa99e75ebee6522a",
       "version_major": 2,
       "version_minor": 0
      },
      "text/plain": [
       "HBox(children=(FloatProgress(value=0.0, max=184.0), HTML(value='')))"
      ]
     },
     "metadata": {},
     "output_type": "display_data"
    },
    {
     "data": {
      "application/vnd.jupyter.widget-view+json": {
       "model_id": "f68ebff2f9eb48c998d3dff7bda9c4c3",
       "version_major": 2,
       "version_minor": 0
      },
      "text/plain": [
       "HBox(children=(FloatProgress(value=0.0, max=309.0), HTML(value='')))"
      ]
     },
     "metadata": {},
     "output_type": "display_data"
    },
    {
     "name": "stdout",
     "output_type": "stream",
     "text": [
      "\n"
     ]
    },
    {
     "data": {
      "application/vnd.jupyter.widget-view+json": {
       "model_id": "9bc0020cd03b44a6858c44b97b80fed7",
       "version_major": 2,
       "version_minor": 0
      },
      "text/plain": [
       "HBox(children=(FloatProgress(value=0.0, max=409.0), HTML(value='')))"
      ]
     },
     "metadata": {},
     "output_type": "display_data"
    },
    {
     "name": "stdout",
     "output_type": "stream",
     "text": [
      "\n"
     ]
    },
    {
     "data": {
      "application/vnd.jupyter.widget-view+json": {
       "model_id": "0b1c0eff17ba4e1faca7affcbc693e2a",
       "version_major": 2,
       "version_minor": 0
      },
      "text/plain": [
       "HBox(children=(FloatProgress(value=0.0, max=400.0), HTML(value='')))"
      ]
     },
     "metadata": {},
     "output_type": "display_data"
    },
    {
     "name": "stdout",
     "output_type": "stream",
     "text": [
      "\n"
     ]
    },
    {
     "data": {
      "application/vnd.jupyter.widget-view+json": {
       "model_id": "657e77aa725a4aff88c60267ff2f9c14",
       "version_major": 2,
       "version_minor": 0
      },
      "text/plain": [
       "HBox(children=(FloatProgress(value=0.0, max=446.0), HTML(value='')))"
      ]
     },
     "metadata": {},
     "output_type": "display_data"
    },
    {
     "name": "stdout",
     "output_type": "stream",
     "text": [
      "\n"
     ]
    },
    {
     "data": {
      "application/vnd.jupyter.widget-view+json": {
       "model_id": "2926e602895446afbe3e12d189726eeb",
       "version_major": 2,
       "version_minor": 0
      },
      "text/plain": [
       "HBox(children=(FloatProgress(value=0.0, max=428.0), HTML(value='')))"
      ]
     },
     "metadata": {},
     "output_type": "display_data"
    },
    {
     "name": "stdout",
     "output_type": "stream",
     "text": [
      "\n"
     ]
    },
    {
     "data": {
      "application/vnd.jupyter.widget-view+json": {
       "model_id": "a84a90051bec41a082506251bd96b36b",
       "version_major": 2,
       "version_minor": 0
      },
      "text/plain": [
       "HBox(children=(FloatProgress(value=0.0, max=473.0), HTML(value='')))"
      ]
     },
     "metadata": {},
     "output_type": "display_data"
    },
    {
     "name": "stdout",
     "output_type": "stream",
     "text": [
      "\n"
     ]
    },
    {
     "data": {
      "application/vnd.jupyter.widget-view+json": {
       "model_id": "5c3377ae265e4236b18513a0f346dadb",
       "version_major": 2,
       "version_minor": 0
      },
      "text/plain": [
       "HBox(children=(FloatProgress(value=0.0, max=491.0), HTML(value='')))"
      ]
     },
     "metadata": {},
     "output_type": "display_data"
    },
    {
     "name": "stdout",
     "output_type": "stream",
     "text": [
      "\n"
     ]
    },
    {
     "data": {
      "application/vnd.jupyter.widget-view+json": {
       "model_id": "db65de32ab4b4bd3802a855596aa650c",
       "version_major": 2,
       "version_minor": 0
      },
      "text/plain": [
       "HBox(children=(FloatProgress(value=0.0, max=501.0), HTML(value='')))"
      ]
     },
     "metadata": {},
     "output_type": "display_data"
    },
    {
     "name": "stdout",
     "output_type": "stream",
     "text": [
      "\n"
     ]
    },
    {
     "data": {
      "application/vnd.jupyter.widget-view+json": {
       "model_id": "0254f9c5b29b422a8a1086a4a9917de7",
       "version_major": 2,
       "version_minor": 0
      },
      "text/plain": [
       "HBox(children=(FloatProgress(value=0.0, max=437.0), HTML(value='')))"
      ]
     },
     "metadata": {},
     "output_type": "display_data"
    },
    {
     "name": "stdout",
     "output_type": "stream",
     "text": [
      "\n"
     ]
    },
    {
     "data": {
      "application/vnd.jupyter.widget-view+json": {
       "model_id": "e25d0523f129450c9694f49c35888f74",
       "version_major": 2,
       "version_minor": 0
      },
      "text/plain": [
       "HBox(children=(FloatProgress(value=0.0, max=428.0), HTML(value='')))"
      ]
     },
     "metadata": {},
     "output_type": "display_data"
    },
    {
     "name": "stdout",
     "output_type": "stream",
     "text": [
      "\n"
     ]
    },
    {
     "data": {
      "application/vnd.jupyter.widget-view+json": {
       "model_id": "3932665924c54e38848e771cf2a756e9",
       "version_major": 2,
       "version_minor": 0
      },
      "text/plain": [
       "HBox(children=(FloatProgress(value=0.0, max=437.0), HTML(value='')))"
      ]
     },
     "metadata": {},
     "output_type": "display_data"
    },
    {
     "name": "stdout",
     "output_type": "stream",
     "text": [
      "\n"
     ]
    },
    {
     "data": {
      "application/vnd.jupyter.widget-view+json": {
       "model_id": "20ded171a53845b6a142a90877245cb7",
       "version_major": 2,
       "version_minor": 0
      },
      "text/plain": [
       "HBox(children=(FloatProgress(value=0.0, max=446.0), HTML(value='')))"
      ]
     },
     "metadata": {},
     "output_type": "display_data"
    },
    {
     "name": "stdout",
     "output_type": "stream",
     "text": [
      "\n"
     ]
    },
    {
     "data": {
      "application/vnd.jupyter.widget-view+json": {
       "model_id": "d8ec15f80fff44ca82cd8be1b0b7587a",
       "version_major": 2,
       "version_minor": 0
      },
      "text/plain": [
       "HBox(children=(FloatProgress(value=0.0, max=455.0), HTML(value='')))"
      ]
     },
     "metadata": {},
     "output_type": "display_data"
    },
    {
     "name": "stdout",
     "output_type": "stream",
     "text": [
      "\n"
     ]
    },
    {
     "data": {
      "application/vnd.jupyter.widget-view+json": {
       "model_id": "0f25967e1d564978b84fb59dcccd5473",
       "version_major": 2,
       "version_minor": 0
      },
      "text/plain": [
       "HBox(children=(FloatProgress(value=0.0, max=455.0), HTML(value='')))"
      ]
     },
     "metadata": {},
     "output_type": "display_data"
    },
    {
     "name": "stdout",
     "output_type": "stream",
     "text": [
      "\n"
     ]
    },
    {
     "data": {
      "application/vnd.jupyter.widget-view+json": {
       "model_id": "19b25867eb69445fbb1b6be85f32af99",
       "version_major": 2,
       "version_minor": 0
      },
      "text/plain": [
       "HBox(children=(FloatProgress(value=0.0, max=400.0), HTML(value='')))"
      ]
     },
     "metadata": {},
     "output_type": "display_data"
    },
    {
     "name": "stdout",
     "output_type": "stream",
     "text": [
      "\n"
     ]
    },
    {
     "data": {
      "application/vnd.jupyter.widget-view+json": {
       "model_id": "8acaec41d46f4524a35530aa21e79b04",
       "version_major": 2,
       "version_minor": 0
      },
      "text/plain": [
       "HBox(children=(FloatProgress(value=0.0, max=446.0), HTML(value='')))"
      ]
     },
     "metadata": {},
     "output_type": "display_data"
    },
    {
     "name": "stdout",
     "output_type": "stream",
     "text": [
      "\n"
     ]
    },
    {
     "data": {
      "application/vnd.jupyter.widget-view+json": {
       "model_id": "91a86f55ac4e4fa1ae1a5a87682739b7",
       "version_major": 2,
       "version_minor": 0
      },
      "text/plain": [
       "HBox(children=(FloatProgress(value=0.0, max=437.0), HTML(value='')))"
      ]
     },
     "metadata": {},
     "output_type": "display_data"
    },
    {
     "name": "stdout",
     "output_type": "stream",
     "text": [
      "\n"
     ]
    },
    {
     "data": {
      "application/vnd.jupyter.widget-view+json": {
       "model_id": "5cbc8fe2a6044a199bba6741f6b989af",
       "version_major": 2,
       "version_minor": 0
      },
      "text/plain": [
       "HBox(children=(FloatProgress(value=0.0, max=464.0), HTML(value='')))"
      ]
     },
     "metadata": {},
     "output_type": "display_data"
    },
    {
     "name": "stdout",
     "output_type": "stream",
     "text": [
      "\n"
     ]
    },
    {
     "data": {
      "application/vnd.jupyter.widget-view+json": {
       "model_id": "e7db68eed040486db302de077d5877a1",
       "version_major": 2,
       "version_minor": 0
      },
      "text/plain": [
       "HBox(children=(FloatProgress(value=0.0, max=400.0), HTML(value='')))"
      ]
     },
     "metadata": {},
     "output_type": "display_data"
    },
    {
     "name": "stdout",
     "output_type": "stream",
     "text": [
      "\n"
     ]
    },
    {
     "data": {
      "application/vnd.jupyter.widget-view+json": {
       "model_id": "4ff101b38eca4ea48b3c49fa4def7901",
       "version_major": 2,
       "version_minor": 0
      },
      "text/plain": [
       "HBox(children=(FloatProgress(value=0.0, max=409.0), HTML(value='')))"
      ]
     },
     "metadata": {},
     "output_type": "display_data"
    },
    {
     "name": "stdout",
     "output_type": "stream",
     "text": [
      "\n"
     ]
    },
    {
     "data": {
      "application/vnd.jupyter.widget-view+json": {
       "model_id": "9a6178b71eef495893368ee76fbd2238",
       "version_major": 2,
       "version_minor": 0
      },
      "text/plain": [
       "HBox(children=(FloatProgress(value=0.0, max=419.0), HTML(value='')))"
      ]
     },
     "metadata": {},
     "output_type": "display_data"
    },
    {
     "name": "stdout",
     "output_type": "stream",
     "text": [
      "\n"
     ]
    },
    {
     "data": {
      "application/vnd.jupyter.widget-view+json": {
       "model_id": "3c469aa66abf48c3b06d1c3cfdd394a3",
       "version_major": 2,
       "version_minor": 0
      },
      "text/plain": [
       "HBox(children=(FloatProgress(value=0.0, max=519.0), HTML(value='')))"
      ]
     },
     "metadata": {},
     "output_type": "display_data"
    },
    {
     "name": "stdout",
     "output_type": "stream",
     "text": [
      "\n"
     ]
    },
    {
     "data": {
      "application/vnd.jupyter.widget-view+json": {
       "model_id": "57d3d781235a4d9fab3ab767996c2b01",
       "version_major": 2,
       "version_minor": 0
      },
      "text/plain": [
       "HBox(children=(FloatProgress(value=0.0, max=419.0), HTML(value='')))"
      ]
     },
     "metadata": {},
     "output_type": "display_data"
    },
    {
     "name": "stdout",
     "output_type": "stream",
     "text": [
      "\n"
     ]
    },
    {
     "data": {
      "application/vnd.jupyter.widget-view+json": {
       "model_id": "d6c09427f1c54c529840e9866ac5d874",
       "version_major": 2,
       "version_minor": 0
      },
      "text/plain": [
       "HBox(children=(FloatProgress(value=0.0, max=428.0), HTML(value='')))"
      ]
     },
     "metadata": {},
     "output_type": "display_data"
    },
    {
     "name": "stdout",
     "output_type": "stream",
     "text": [
      "\n"
     ]
    },
    {
     "data": {
      "application/vnd.jupyter.widget-view+json": {
       "model_id": "e59759928dec4291a24a53165cd7252d",
       "version_major": 2,
       "version_minor": 0
      },
      "text/plain": [
       "HBox(children=(FloatProgress(value=0.0, max=428.0), HTML(value='')))"
      ]
     },
     "metadata": {},
     "output_type": "display_data"
    },
    {
     "name": "stdout",
     "output_type": "stream",
     "text": [
      "\n"
     ]
    },
    {
     "data": {
      "application/vnd.jupyter.widget-view+json": {
       "model_id": "f05e90a6558143ba8543ab7f25061de2",
       "version_major": 2,
       "version_minor": 0
      },
      "text/plain": [
       "HBox(children=(FloatProgress(value=0.0, max=391.0), HTML(value='')))"
      ]
     },
     "metadata": {},
     "output_type": "display_data"
    },
    {
     "name": "stdout",
     "output_type": "stream",
     "text": [
      "\n"
     ]
    },
    {
     "data": {
      "application/vnd.jupyter.widget-view+json": {
       "model_id": "d9680c58130a424e9c88c20faa2e781f",
       "version_major": 2,
       "version_minor": 0
      },
      "text/plain": [
       "HBox(children=(FloatProgress(value=0.0, max=409.0), HTML(value='')))"
      ]
     },
     "metadata": {},
     "output_type": "display_data"
    },
    {
     "name": "stdout",
     "output_type": "stream",
     "text": [
      "\n"
     ]
    },
    {
     "data": {
      "application/vnd.jupyter.widget-view+json": {
       "model_id": "9fbcbf3715d749bdaf42ff78bd823fdb",
       "version_major": 2,
       "version_minor": 0
      },
      "text/plain": [
       "HBox(children=(FloatProgress(value=0.0, max=409.0), HTML(value='')))"
      ]
     },
     "metadata": {},
     "output_type": "display_data"
    },
    {
     "name": "stdout",
     "output_type": "stream",
     "text": [
      "\n"
     ]
    },
    {
     "data": {
      "application/vnd.jupyter.widget-view+json": {
       "model_id": "094f12b6bd7743068975a02f8e19a738",
       "version_major": 2,
       "version_minor": 0
      },
      "text/plain": [
       "HBox(children=(FloatProgress(value=0.0, max=255.0), HTML(value='')))"
      ]
     },
     "metadata": {},
     "output_type": "display_data"
    },
    {
     "name": "stdout",
     "output_type": "stream",
     "text": [
      "\n"
     ]
    },
    {
     "data": {
      "application/vnd.jupyter.widget-view+json": {
       "model_id": "0204a180040243c39e6ecdf832cbd4cd",
       "version_major": 2,
       "version_minor": 0
      },
      "text/plain": [
       "HBox(children=(FloatProgress(value=0.0, max=519.0), HTML(value='')))"
      ]
     },
     "metadata": {},
     "output_type": "display_data"
    },
    {
     "name": "stdout",
     "output_type": "stream",
     "text": [
      "\n"
     ]
    },
    {
     "data": {
      "application/vnd.jupyter.widget-view+json": {
       "model_id": "418aebb5baab42b9b40a785d728554e2",
       "version_major": 2,
       "version_minor": 0
      },
      "text/plain": [
       "HBox(children=(FloatProgress(value=0.0, max=437.0), HTML(value='')))"
      ]
     },
     "metadata": {},
     "output_type": "display_data"
    },
    {
     "name": "stdout",
     "output_type": "stream",
     "text": [
      "\n"
     ]
    },
    {
     "data": {
      "application/vnd.jupyter.widget-view+json": {
       "model_id": "671ffd076f924207a673daaa61a71339",
       "version_major": 2,
       "version_minor": 0
      },
      "text/plain": [
       "HBox(children=(FloatProgress(value=0.0, max=437.0), HTML(value='')))"
      ]
     },
     "metadata": {},
     "output_type": "display_data"
    },
    {
     "name": "stdout",
     "output_type": "stream",
     "text": [
      "\n"
     ]
    },
    {
     "data": {
      "application/vnd.jupyter.widget-view+json": {
       "model_id": "553774d7240e42e3acb6567d5154c803",
       "version_major": 2,
       "version_minor": 0
      },
      "text/plain": [
       "HBox(children=(FloatProgress(value=0.0, max=455.0), HTML(value='')))"
      ]
     },
     "metadata": {},
     "output_type": "display_data"
    },
    {
     "name": "stdout",
     "output_type": "stream",
     "text": [
      "\n"
     ]
    },
    {
     "data": {
      "application/vnd.jupyter.widget-view+json": {
       "model_id": "8bce35dc550c479aa4a5e67da3d4d559",
       "version_major": 2,
       "version_minor": 0
      },
      "text/plain": [
       "HBox(children=(FloatProgress(value=0.0, max=573.0), HTML(value='')))"
      ]
     },
     "metadata": {},
     "output_type": "display_data"
    },
    {
     "name": "stdout",
     "output_type": "stream",
     "text": [
      "\n"
     ]
    },
    {
     "data": {
      "application/vnd.jupyter.widget-view+json": {
       "model_id": "1a3a94412b8b487d89378288d4d25cf9",
       "version_major": 2,
       "version_minor": 0
      },
      "text/plain": [
       "HBox(children=(FloatProgress(value=0.0, max=455.0), HTML(value='')))"
      ]
     },
     "metadata": {},
     "output_type": "display_data"
    },
    {
     "name": "stdout",
     "output_type": "stream",
     "text": [
      "\n"
     ]
    },
    {
     "data": {
      "application/vnd.jupyter.widget-view+json": {
       "model_id": "4e556104a0a1463593697d2efa73fb99",
       "version_major": 2,
       "version_minor": 0
      },
      "text/plain": [
       "HBox(children=(FloatProgress(value=0.0, max=446.0), HTML(value='')))"
      ]
     },
     "metadata": {},
     "output_type": "display_data"
    },
    {
     "name": "stdout",
     "output_type": "stream",
     "text": [
      "\n"
     ]
    },
    {
     "data": {
      "application/vnd.jupyter.widget-view+json": {
       "model_id": "2885269fcad9488fb84be57e8ff47b61",
       "version_major": 2,
       "version_minor": 0
      },
      "text/plain": [
       "HBox(children=(FloatProgress(value=0.0, max=473.0), HTML(value='')))"
      ]
     },
     "metadata": {},
     "output_type": "display_data"
    },
    {
     "name": "stdout",
     "output_type": "stream",
     "text": [
      "\n"
     ]
    },
    {
     "data": {
      "application/vnd.jupyter.widget-view+json": {
       "model_id": "7dcbbe9aa1824a3bb2f330168c3ff31a",
       "version_major": 2,
       "version_minor": 0
      },
      "text/plain": [
       "HBox(children=(FloatProgress(value=0.0, max=455.0), HTML(value='')))"
      ]
     },
     "metadata": {},
     "output_type": "display_data"
    },
    {
     "name": "stdout",
     "output_type": "stream",
     "text": [
      "\n"
     ]
    },
    {
     "data": {
      "application/vnd.jupyter.widget-view+json": {
       "model_id": "edc719184ce64c7ea9a4ed49bddcd308",
       "version_major": 2,
       "version_minor": 0
      },
      "text/plain": [
       "HBox(children=(FloatProgress(value=0.0, max=36.0), HTML(value='')))"
      ]
     },
     "metadata": {},
     "output_type": "display_data"
    },
    {
     "name": "stdout",
     "output_type": "stream",
     "text": [
      "\n"
     ]
    },
    {
     "data": {
      "application/vnd.jupyter.widget-view+json": {
       "model_id": "bcd297f80d1e40f9944a5224a9e42fc2",
       "version_major": 2,
       "version_minor": 0
      },
      "text/plain": [
       "HBox(children=(FloatProgress(value=0.0, max=428.0), HTML(value='')))"
      ]
     },
     "metadata": {},
     "output_type": "display_data"
    },
    {
     "name": "stdout",
     "output_type": "stream",
     "text": [
      "\n"
     ]
    },
    {
     "data": {
      "application/vnd.jupyter.widget-view+json": {
       "model_id": "2971cefc2f3c4aaea81cce1a715d48f2",
       "version_major": 2,
       "version_minor": 0
      },
      "text/plain": [
       "HBox(children=(FloatProgress(value=0.0, max=546.0), HTML(value='')))"
      ]
     },
     "metadata": {},
     "output_type": "display_data"
    },
    {
     "name": "stdout",
     "output_type": "stream",
     "text": [
      "\n"
     ]
    },
    {
     "data": {
      "application/vnd.jupyter.widget-view+json": {
       "model_id": "c3f86f859e204d7aab9a25a055b6c427",
       "version_major": 2,
       "version_minor": 0
      },
      "text/plain": [
       "HBox(children=(FloatProgress(value=0.0, max=464.0), HTML(value='')))"
      ]
     },
     "metadata": {},
     "output_type": "display_data"
    },
    {
     "name": "stdout",
     "output_type": "stream",
     "text": [
      "\n"
     ]
    },
    {
     "data": {
      "application/vnd.jupyter.widget-view+json": {
       "model_id": "0d2299c2a3a94a639652f39649532d40",
       "version_major": 2,
       "version_minor": 0
      },
      "text/plain": [
       "HBox(children=(FloatProgress(value=0.0, max=455.0), HTML(value='')))"
      ]
     },
     "metadata": {},
     "output_type": "display_data"
    },
    {
     "name": "stdout",
     "output_type": "stream",
     "text": [
      "\n"
     ]
    },
    {
     "data": {
      "application/vnd.jupyter.widget-view+json": {
       "model_id": "1bf4046655474925b186f1dbde61146c",
       "version_major": 2,
       "version_minor": 0
      },
      "text/plain": [
       "HBox(children=(FloatProgress(value=0.0, max=455.0), HTML(value='')))"
      ]
     },
     "metadata": {},
     "output_type": "display_data"
    },
    {
     "name": "stdout",
     "output_type": "stream",
     "text": [
      "\n"
     ]
    },
    {
     "data": {
      "application/vnd.jupyter.widget-view+json": {
       "model_id": "32a3540f6a16480d915c1832c292d651",
       "version_major": 2,
       "version_minor": 0
      },
      "text/plain": [
       "HBox(children=(FloatProgress(value=0.0, max=473.0), HTML(value='')))"
      ]
     },
     "metadata": {},
     "output_type": "display_data"
    },
    {
     "name": "stdout",
     "output_type": "stream",
     "text": [
      "\n"
     ]
    },
    {
     "data": {
      "application/vnd.jupyter.widget-view+json": {
       "model_id": "3322bdb935f1499188fac82b77cc9fd9",
       "version_major": 2,
       "version_minor": 0
      },
      "text/plain": [
       "HBox(children=(FloatProgress(value=0.0, max=482.0), HTML(value='')))"
      ]
     },
     "metadata": {},
     "output_type": "display_data"
    },
    {
     "name": "stdout",
     "output_type": "stream",
     "text": [
      "\n"
     ]
    },
    {
     "data": {
      "application/vnd.jupyter.widget-view+json": {
       "model_id": "a1acbc3f5ffe417f99338fecaa8c1bc7",
       "version_major": 2,
       "version_minor": 0
      },
      "text/plain": [
       "HBox(children=(FloatProgress(value=0.0, max=455.0), HTML(value='')))"
      ]
     },
     "metadata": {},
     "output_type": "display_data"
    },
    {
     "name": "stdout",
     "output_type": "stream",
     "text": [
      "\n"
     ]
    },
    {
     "data": {
      "application/vnd.jupyter.widget-view+json": {
       "model_id": "78c5108a7b10496db94a52298e87cd8c",
       "version_major": 2,
       "version_minor": 0
      },
      "text/plain": [
       "HBox(children=(FloatProgress(value=0.0, max=428.0), HTML(value='')))"
      ]
     },
     "metadata": {},
     "output_type": "display_data"
    },
    {
     "name": "stdout",
     "output_type": "stream",
     "text": [
      "\n"
     ]
    },
    {
     "data": {
      "application/vnd.jupyter.widget-view+json": {
       "model_id": "85a2fed71bd74c48bae5dd479aaadd5c",
       "version_major": 2,
       "version_minor": 0
      },
      "text/plain": [
       "HBox(children=(FloatProgress(value=0.0, max=455.0), HTML(value='')))"
      ]
     },
     "metadata": {},
     "output_type": "display_data"
    },
    {
     "name": "stdout",
     "output_type": "stream",
     "text": [
      "\n"
     ]
    },
    {
     "data": {
      "application/vnd.jupyter.widget-view+json": {
       "model_id": "1f77fca5cd234891b5ad1dbd02a5acc2",
       "version_major": 2,
       "version_minor": 0
      },
      "text/plain": [
       "HBox(children=(FloatProgress(value=0.0, max=501.0), HTML(value='')))"
      ]
     },
     "metadata": {},
     "output_type": "display_data"
    },
    {
     "name": "stdout",
     "output_type": "stream",
     "text": [
      "\n"
     ]
    },
    {
     "data": {
      "application/vnd.jupyter.widget-view+json": {
       "model_id": "150fafa746694286a5d6de89770cc517",
       "version_major": 2,
       "version_minor": 0
      },
      "text/plain": [
       "HBox(children=(FloatProgress(value=0.0, max=373.0), HTML(value='')))"
      ]
     },
     "metadata": {},
     "output_type": "display_data"
    },
    {
     "name": "stdout",
     "output_type": "stream",
     "text": [
      "\n"
     ]
    },
    {
     "data": {
      "application/vnd.jupyter.widget-view+json": {
       "model_id": "d8c5600dacfa492c916f8ebd67021839",
       "version_major": 2,
       "version_minor": 0
      },
      "text/plain": [
       "HBox(children=(FloatProgress(value=0.0, max=546.0), HTML(value='')))"
      ]
     },
     "metadata": {},
     "output_type": "display_data"
    },
    {
     "name": "stdout",
     "output_type": "stream",
     "text": [
      "\n"
     ]
    },
    {
     "data": {
      "application/vnd.jupyter.widget-view+json": {
       "model_id": "faed27b37a4a4d49a8a744b6d5740627",
       "version_major": 2,
       "version_minor": 0
      },
      "text/plain": [
       "HBox(children=(FloatProgress(value=0.0, max=446.0), HTML(value='')))"
      ]
     },
     "metadata": {},
     "output_type": "display_data"
    },
    {
     "name": "stdout",
     "output_type": "stream",
     "text": [
      "\n"
     ]
    },
    {
     "data": {
      "application/vnd.jupyter.widget-view+json": {
       "model_id": "1b9fdd96742847719a27b425fb9ba663",
       "version_major": 2,
       "version_minor": 0
      },
      "text/plain": [
       "HBox(children=(FloatProgress(value=0.0, max=437.0), HTML(value='')))"
      ]
     },
     "metadata": {},
     "output_type": "display_data"
    },
    {
     "name": "stdout",
     "output_type": "stream",
     "text": [
      "\n"
     ]
    },
    {
     "data": {
      "application/vnd.jupyter.widget-view+json": {
       "model_id": "482e15e189484c918743648ad120b455",
       "version_major": 2,
       "version_minor": 0
      },
      "text/plain": [
       "HBox(children=(FloatProgress(value=0.0, max=437.0), HTML(value='')))"
      ]
     },
     "metadata": {},
     "output_type": "display_data"
    },
    {
     "name": "stdout",
     "output_type": "stream",
     "text": [
      "\n"
     ]
    },
    {
     "data": {
      "application/vnd.jupyter.widget-view+json": {
       "model_id": "19475dfefaf04ed29f2f038355d3ac04",
       "version_major": 2,
       "version_minor": 0
      },
      "text/plain": [
       "HBox(children=(FloatProgress(value=0.0, max=409.0), HTML(value='')))"
      ]
     },
     "metadata": {},
     "output_type": "display_data"
    },
    {
     "name": "stdout",
     "output_type": "stream",
     "text": [
      "\n"
     ]
    },
    {
     "data": {
      "application/vnd.jupyter.widget-view+json": {
       "model_id": "b3c8af231af84a66917392ede70dc695",
       "version_major": 2,
       "version_minor": 0
      },
      "text/plain": [
       "HBox(children=(FloatProgress(value=0.0, max=146.0), HTML(value='')))"
      ]
     },
     "metadata": {},
     "output_type": "display_data"
    },
    {
     "name": "stdout",
     "output_type": "stream",
     "text": [
      "\n"
     ]
    },
    {
     "data": {
      "application/vnd.jupyter.widget-view+json": {
       "model_id": "e3fa6da4685e4474a20783e96c7f51dd",
       "version_major": 2,
       "version_minor": 0
      },
      "text/plain": [
       "HBox(children=(FloatProgress(value=0.0, max=455.0), HTML(value='')))"
      ]
     },
     "metadata": {},
     "output_type": "display_data"
    },
    {
     "name": "stdout",
     "output_type": "stream",
     "text": [
      "\n"
     ]
    },
    {
     "data": {
      "application/vnd.jupyter.widget-view+json": {
       "model_id": "44c11ef80162488db8df2e0743ff7beb",
       "version_major": 2,
       "version_minor": 0
      },
      "text/plain": [
       "HBox(children=(FloatProgress(value=0.0, max=337.0), HTML(value='')))"
      ]
     },
     "metadata": {},
     "output_type": "display_data"
    },
    {
     "name": "stdout",
     "output_type": "stream",
     "text": [
      "\n"
     ]
    },
    {
     "data": {
      "application/vnd.jupyter.widget-view+json": {
       "model_id": "aef72cb7e7a248df96efe59231a37b12",
       "version_major": 2,
       "version_minor": 0
      },
      "text/plain": [
       "HBox(children=(FloatProgress(value=0.0, max=455.0), HTML(value='')))"
      ]
     },
     "metadata": {},
     "output_type": "display_data"
    },
    {
     "name": "stdout",
     "output_type": "stream",
     "text": [
      "\n"
     ]
    },
    {
     "data": {
      "application/vnd.jupyter.widget-view+json": {
       "model_id": "e0cc405fa0844586a1db6fb70ef9dda7",
       "version_major": 2,
       "version_minor": 0
      },
      "text/plain": [
       "HBox(children=(FloatProgress(value=0.0, max=391.0), HTML(value='')))"
      ]
     },
     "metadata": {},
     "output_type": "display_data"
    },
    {
     "name": "stdout",
     "output_type": "stream",
     "text": [
      "\n"
     ]
    },
    {
     "data": {
      "application/vnd.jupyter.widget-view+json": {
       "model_id": "e93cf379231543ff83249c8a762dde61",
       "version_major": 2,
       "version_minor": 0
      },
      "text/plain": [
       "HBox(children=(FloatProgress(value=0.0, max=446.0), HTML(value='')))"
      ]
     },
     "metadata": {},
     "output_type": "display_data"
    },
    {
     "name": "stdout",
     "output_type": "stream",
     "text": [
      "\n"
     ]
    },
    {
     "data": {
      "application/vnd.jupyter.widget-view+json": {
       "model_id": "d3ba230aa5e84e2c928ca76193d97fa8",
       "version_major": 2,
       "version_minor": 0
      },
      "text/plain": [
       "HBox(children=(FloatProgress(value=0.0, max=428.0), HTML(value='')))"
      ]
     },
     "metadata": {},
     "output_type": "display_data"
    },
    {
     "name": "stdout",
     "output_type": "stream",
     "text": [
      "\n"
     ]
    },
    {
     "data": {
      "application/vnd.jupyter.widget-view+json": {
       "model_id": "54508647164c4765b7fa43b3e1a5cab2",
       "version_major": 2,
       "version_minor": 0
      },
      "text/plain": [
       "HBox(children=(FloatProgress(value=0.0, max=601.0), HTML(value='')))"
      ]
     },
     "metadata": {},
     "output_type": "display_data"
    },
    {
     "name": "stdout",
     "output_type": "stream",
     "text": [
      "\n"
     ]
    },
    {
     "data": {
      "application/vnd.jupyter.widget-view+json": {
       "model_id": "8dcbc63689924f2492628b0afc6d21b7",
       "version_major": 2,
       "version_minor": 0
      },
      "text/plain": [
       "HBox(children=(FloatProgress(value=0.0, max=428.0), HTML(value='')))"
      ]
     },
     "metadata": {},
     "output_type": "display_data"
    },
    {
     "name": "stdout",
     "output_type": "stream",
     "text": [
      "\n"
     ]
    },
    {
     "data": {
      "application/vnd.jupyter.widget-view+json": {
       "model_id": "2780bc57ba724c058e5905d28d1e2c75",
       "version_major": 2,
       "version_minor": 0
      },
      "text/plain": [
       "HBox(children=(FloatProgress(value=0.0, max=437.0), HTML(value='')))"
      ]
     },
     "metadata": {},
     "output_type": "display_data"
    },
    {
     "name": "stdout",
     "output_type": "stream",
     "text": [
      "\n"
     ]
    },
    {
     "data": {
      "application/vnd.jupyter.widget-view+json": {
       "model_id": "3bad4ecdb74642c3be3af069919f2c6f",
       "version_major": 2,
       "version_minor": 0
      },
      "text/plain": [
       "HBox(children=(FloatProgress(value=0.0, max=428.0), HTML(value='')))"
      ]
     },
     "metadata": {},
     "output_type": "display_data"
    },
    {
     "name": "stdout",
     "output_type": "stream",
     "text": [
      "\n"
     ]
    },
    {
     "data": {
      "application/vnd.jupyter.widget-view+json": {
       "model_id": "c9779d5d84e642c5a99a89938e7b8015",
       "version_major": 2,
       "version_minor": 0
      },
      "text/plain": [
       "HBox(children=(FloatProgress(value=0.0, max=419.0), HTML(value='')))"
      ]
     },
     "metadata": {},
     "output_type": "display_data"
    },
    {
     "name": "stdout",
     "output_type": "stream",
     "text": [
      "\n"
     ]
    },
    {
     "data": {
      "application/vnd.jupyter.widget-view+json": {
       "model_id": "36a2b044baf54d2b921f5b417cc1f595",
       "version_major": 2,
       "version_minor": 0
      },
      "text/plain": [
       "HBox(children=(FloatProgress(value=0.0, max=501.0), HTML(value='')))"
      ]
     },
     "metadata": {},
     "output_type": "display_data"
    },
    {
     "name": "stdout",
     "output_type": "stream",
     "text": [
      "\n"
     ]
    },
    {
     "data": {
      "application/vnd.jupyter.widget-view+json": {
       "model_id": "51b11fccdf5d4b6f9e3cc39e5b495552",
       "version_major": 2,
       "version_minor": 0
      },
      "text/plain": [
       "HBox(children=(FloatProgress(value=0.0, max=419.0), HTML(value='')))"
      ]
     },
     "metadata": {},
     "output_type": "display_data"
    },
    {
     "name": "stdout",
     "output_type": "stream",
     "text": [
      "\n"
     ]
    },
    {
     "data": {
      "application/vnd.jupyter.widget-view+json": {
       "model_id": "07160f61bd984166b9d83d8c80133b16",
       "version_major": 2,
       "version_minor": 0
      },
      "text/plain": [
       "HBox(children=(FloatProgress(value=0.0, max=501.0), HTML(value='')))"
      ]
     },
     "metadata": {},
     "output_type": "display_data"
    },
    {
     "name": "stdout",
     "output_type": "stream",
     "text": [
      "\n"
     ]
    },
    {
     "data": {
      "application/vnd.jupyter.widget-view+json": {
       "model_id": "dad9a0df7f3d4a278f6da73a03d262f0",
       "version_major": 2,
       "version_minor": 0
      },
      "text/plain": [
       "HBox(children=(FloatProgress(value=0.0, max=419.0), HTML(value='')))"
      ]
     },
     "metadata": {},
     "output_type": "display_data"
    },
    {
     "name": "stdout",
     "output_type": "stream",
     "text": [
      "\n"
     ]
    },
    {
     "data": {
      "application/vnd.jupyter.widget-view+json": {
       "model_id": "463c3526e0374626a6260b2e70507d4d",
       "version_major": 2,
       "version_minor": 0
      },
      "text/plain": [
       "HBox(children=(FloatProgress(value=0.0, max=419.0), HTML(value='')))"
      ]
     },
     "metadata": {},
     "output_type": "display_data"
    },
    {
     "name": "stdout",
     "output_type": "stream",
     "text": [
      "\n"
     ]
    },
    {
     "data": {
      "application/vnd.jupyter.widget-view+json": {
       "model_id": "428b6cc000d24ee09799129a308c9ce2",
       "version_major": 2,
       "version_minor": 0
      },
      "text/plain": [
       "HBox(children=(FloatProgress(value=0.0, max=455.0), HTML(value='')))"
      ]
     },
     "metadata": {},
     "output_type": "display_data"
    },
    {
     "name": "stdout",
     "output_type": "stream",
     "text": [
      "\n"
     ]
    },
    {
     "data": {
      "application/vnd.jupyter.widget-view+json": {
       "model_id": "40b0612eb3774708a6951c51ecf4a21d",
       "version_major": 2,
       "version_minor": 0
      },
      "text/plain": [
       "HBox(children=(FloatProgress(value=0.0, max=437.0), HTML(value='')))"
      ]
     },
     "metadata": {},
     "output_type": "display_data"
    },
    {
     "name": "stdout",
     "output_type": "stream",
     "text": [
      "\n"
     ]
    },
    {
     "data": {
      "application/vnd.jupyter.widget-view+json": {
       "model_id": "f96fa8bdf73946da8faee027a90c4de7",
       "version_major": 2,
       "version_minor": 0
      },
      "text/plain": [
       "HBox(children=(FloatProgress(value=0.0, max=428.0), HTML(value='')))"
      ]
     },
     "metadata": {},
     "output_type": "display_data"
    },
    {
     "name": "stdout",
     "output_type": "stream",
     "text": [
      "\n"
     ]
    },
    {
     "data": {
      "application/vnd.jupyter.widget-view+json": {
       "model_id": "9a892d4b390141fb9c5245b0304e350c",
       "version_major": 2,
       "version_minor": 0
      },
      "text/plain": [
       "HBox(children=(FloatProgress(value=0.0, max=464.0), HTML(value='')))"
      ]
     },
     "metadata": {},
     "output_type": "display_data"
    },
    {
     "name": "stdout",
     "output_type": "stream",
     "text": [
      "\n"
     ]
    },
    {
     "data": {
      "application/vnd.jupyter.widget-view+json": {
       "model_id": "50765553063f4413af80233cdd8e9ee3",
       "version_major": 2,
       "version_minor": 0
      },
      "text/plain": [
       "HBox(children=(FloatProgress(value=0.0, max=391.0), HTML(value='')))"
      ]
     },
     "metadata": {},
     "output_type": "display_data"
    },
    {
     "name": "stdout",
     "output_type": "stream",
     "text": [
      "\n"
     ]
    },
    {
     "data": {
      "application/vnd.jupyter.widget-view+json": {
       "model_id": "d62f7dbca5f54626aac9d8a60805033d",
       "version_major": 2,
       "version_minor": 0
      },
      "text/plain": [
       "HBox(children=(FloatProgress(value=0.0, max=428.0), HTML(value='')))"
      ]
     },
     "metadata": {},
     "output_type": "display_data"
    },
    {
     "name": "stdout",
     "output_type": "stream",
     "text": [
      "\n"
     ]
    },
    {
     "data": {
      "application/vnd.jupyter.widget-view+json": {
       "model_id": "da2d62d4bc98444589d3c94133a42458",
       "version_major": 2,
       "version_minor": 0
      },
      "text/plain": [
       "HBox(children=(FloatProgress(value=0.0, max=400.0), HTML(value='')))"
      ]
     },
     "metadata": {},
     "output_type": "display_data"
    },
    {
     "name": "stdout",
     "output_type": "stream",
     "text": [
      "\n"
     ]
    },
    {
     "data": {
      "application/vnd.jupyter.widget-view+json": {
       "model_id": "1e3d71a2788c4aa9bc11baf6ef1e1623",
       "version_major": 2,
       "version_minor": 0
      },
      "text/plain": [
       "HBox(children=(FloatProgress(value=0.0, max=637.0), HTML(value='')))"
      ]
     },
     "metadata": {},
     "output_type": "display_data"
    },
    {
     "name": "stdout",
     "output_type": "stream",
     "text": [
      "\n"
     ]
    },
    {
     "data": {
      "application/vnd.jupyter.widget-view+json": {
       "model_id": "b447b116a1624b28b2535d2fe1748de9",
       "version_major": 2,
       "version_minor": 0
      },
      "text/plain": [
       "HBox(children=(FloatProgress(value=0.0, max=455.0), HTML(value='')))"
      ]
     },
     "metadata": {},
     "output_type": "display_data"
    },
    {
     "name": "stdout",
     "output_type": "stream",
     "text": [
      "\n"
     ]
    },
    {
     "data": {
      "application/vnd.jupyter.widget-view+json": {
       "model_id": "c1d1ed2fbeb742a6ae715e0986134228",
       "version_major": 2,
       "version_minor": 0
      },
      "text/plain": [
       "HBox(children=(FloatProgress(value=0.0, max=537.0), HTML(value='')))"
      ]
     },
     "metadata": {},
     "output_type": "display_data"
    },
    {
     "name": "stdout",
     "output_type": "stream",
     "text": [
      "\n"
     ]
    },
    {
     "data": {
      "application/vnd.jupyter.widget-view+json": {
       "model_id": "88b908c2350f48a1a9b036c39e8eccee",
       "version_major": 2,
       "version_minor": 0
      },
      "text/plain": [
       "HBox(children=(FloatProgress(value=0.0, max=373.0), HTML(value='')))"
      ]
     },
     "metadata": {},
     "output_type": "display_data"
    },
    {
     "name": "stdout",
     "output_type": "stream",
     "text": [
      "\n"
     ]
    },
    {
     "data": {
      "application/vnd.jupyter.widget-view+json": {
       "model_id": "9db97f8025094e199728d569f6d8a1fd",
       "version_major": 2,
       "version_minor": 0
      },
      "text/plain": [
       "HBox(children=(FloatProgress(value=0.0, max=482.0), HTML(value='')))"
      ]
     },
     "metadata": {},
     "output_type": "display_data"
    },
    {
     "name": "stdout",
     "output_type": "stream",
     "text": [
      "\n"
     ]
    },
    {
     "data": {
      "application/vnd.jupyter.widget-view+json": {
       "model_id": "8e519d4d37f04eb59f1a8bfb08c3ec2b",
       "version_major": 2,
       "version_minor": 0
      },
      "text/plain": [
       "HBox(children=(FloatProgress(value=0.0, max=428.0), HTML(value='')))"
      ]
     },
     "metadata": {},
     "output_type": "display_data"
    },
    {
     "name": "stdout",
     "output_type": "stream",
     "text": [
      "\n"
     ]
    },
    {
     "data": {
      "application/vnd.jupyter.widget-view+json": {
       "model_id": "a73b55f704934522a25956cb9ec07fd4",
       "version_major": 2,
       "version_minor": 0
      },
      "text/plain": [
       "HBox(children=(FloatProgress(value=0.0, max=419.0), HTML(value='')))"
      ]
     },
     "metadata": {},
     "output_type": "display_data"
    },
    {
     "name": "stdout",
     "output_type": "stream",
     "text": [
      "\n"
     ]
    },
    {
     "data": {
      "application/vnd.jupyter.widget-view+json": {
       "model_id": "3ee6ca0435c24860a017a80358344228",
       "version_major": 2,
       "version_minor": 0
      },
      "text/plain": [
       "HBox(children=(FloatProgress(value=0.0, max=455.0), HTML(value='')))"
      ]
     },
     "metadata": {},
     "output_type": "display_data"
    },
    {
     "name": "stdout",
     "output_type": "stream",
     "text": [
      "\n"
     ]
    },
    {
     "data": {
      "application/vnd.jupyter.widget-view+json": {
       "model_id": "63988027966e4acba23ad0cc520a719c",
       "version_major": 2,
       "version_minor": 0
      },
      "text/plain": [
       "HBox(children=(FloatProgress(value=0.0, max=473.0), HTML(value='')))"
      ]
     },
     "metadata": {},
     "output_type": "display_data"
    },
    {
     "name": "stdout",
     "output_type": "stream",
     "text": [
      "\n"
     ]
    },
    {
     "data": {
      "application/vnd.jupyter.widget-view+json": {
       "model_id": "909422a803d94fc589c7f4670382ca02",
       "version_major": 2,
       "version_minor": 0
      },
      "text/plain": [
       "HBox(children=(FloatProgress(value=0.0, max=437.0), HTML(value='')))"
      ]
     },
     "metadata": {},
     "output_type": "display_data"
    },
    {
     "name": "stdout",
     "output_type": "stream",
     "text": [
      "\n"
     ]
    },
    {
     "data": {
      "application/vnd.jupyter.widget-view+json": {
       "model_id": "9aacd1446e384bb9b00f309deb25746e",
       "version_major": 2,
       "version_minor": 0
      },
      "text/plain": [
       "HBox(children=(FloatProgress(value=0.0, max=637.0), HTML(value='')))"
      ]
     },
     "metadata": {},
     "output_type": "display_data"
    },
    {
     "name": "stdout",
     "output_type": "stream",
     "text": [
      "\n"
     ]
    },
    {
     "data": {
      "application/vnd.jupyter.widget-view+json": {
       "model_id": "163be13fb82e45539e68a59ba79b3fb1",
       "version_major": 2,
       "version_minor": 0
      },
      "text/plain": [
       "HBox(children=(FloatProgress(value=0.0, max=473.0), HTML(value='')))"
      ]
     },
     "metadata": {},
     "output_type": "display_data"
    },
    {
     "name": "stdout",
     "output_type": "stream",
     "text": [
      "\n"
     ]
    },
    {
     "data": {
      "application/vnd.jupyter.widget-view+json": {
       "model_id": "25ea499717234e83b6e69a389d60164d",
       "version_major": 2,
       "version_minor": 0
      },
      "text/plain": [
       "HBox(children=(FloatProgress(value=0.0, max=200.0), HTML(value='')))"
      ]
     },
     "metadata": {},
     "output_type": "display_data"
    },
    {
     "name": "stdout",
     "output_type": "stream",
     "text": [
      "\n"
     ]
    },
    {
     "data": {
      "application/vnd.jupyter.widget-view+json": {
       "model_id": "22a0ca78437d40699b86e2ab5f173b12",
       "version_major": 2,
       "version_minor": 0
      },
      "text/plain": [
       "HBox(children=(FloatProgress(value=0.0, max=446.0), HTML(value='')))"
      ]
     },
     "metadata": {},
     "output_type": "display_data"
    },
    {
     "name": "stdout",
     "output_type": "stream",
     "text": [
      "\n"
     ]
    },
    {
     "data": {
      "application/vnd.jupyter.widget-view+json": {
       "model_id": "9d66f9cc3b7f46cdbb173775d3a70dda",
       "version_major": 2,
       "version_minor": 0
      },
      "text/plain": [
       "HBox(children=(FloatProgress(value=0.0, max=428.0), HTML(value='')))"
      ]
     },
     "metadata": {},
     "output_type": "display_data"
    },
    {
     "name": "stdout",
     "output_type": "stream",
     "text": [
      "\n"
     ]
    },
    {
     "data": {
      "application/vnd.jupyter.widget-view+json": {
       "model_id": "6154ae77d3d64190a505dbba8e654541",
       "version_major": 2,
       "version_minor": 0
      },
      "text/plain": [
       "HBox(children=(FloatProgress(value=0.0, max=409.0), HTML(value='')))"
      ]
     },
     "metadata": {},
     "output_type": "display_data"
    },
    {
     "name": "stdout",
     "output_type": "stream",
     "text": [
      "\n"
     ]
    },
    {
     "data": {
      "application/vnd.jupyter.widget-view+json": {
       "model_id": "fdd59989c682424bb026af68dc49bad2",
       "version_major": 2,
       "version_minor": 0
      },
      "text/plain": [
       "HBox(children=(FloatProgress(value=0.0, max=455.0), HTML(value='')))"
      ]
     },
     "metadata": {},
     "output_type": "display_data"
    },
    {
     "name": "stdout",
     "output_type": "stream",
     "text": [
      "\n"
     ]
    },
    {
     "data": {
      "application/vnd.jupyter.widget-view+json": {
       "model_id": "57405dc4bd2a44069258a8b40fe0573b",
       "version_major": 2,
       "version_minor": 0
      },
      "text/plain": [
       "HBox(children=(FloatProgress(value=0.0, max=455.0), HTML(value='')))"
      ]
     },
     "metadata": {},
     "output_type": "display_data"
    },
    {
     "name": "stdout",
     "output_type": "stream",
     "text": [
      "\n"
     ]
    },
    {
     "data": {
      "application/vnd.jupyter.widget-view+json": {
       "model_id": "134e4b585a084aa9b8a3a7bf2dfedb1f",
       "version_major": 2,
       "version_minor": 0
      },
      "text/plain": [
       "HBox(children=(FloatProgress(value=0.0, max=419.0), HTML(value='')))"
      ]
     },
     "metadata": {},
     "output_type": "display_data"
    },
    {
     "name": "stdout",
     "output_type": "stream",
     "text": [
      "\n"
     ]
    },
    {
     "data": {
      "application/vnd.jupyter.widget-view+json": {
       "model_id": "e1763e40674d4cca8b4825e40ae42e2e",
       "version_major": 2,
       "version_minor": 0
      },
      "text/plain": [
       "HBox(children=(FloatProgress(value=0.0, max=464.0), HTML(value='')))"
      ]
     },
     "metadata": {},
     "output_type": "display_data"
    },
    {
     "name": "stdout",
     "output_type": "stream",
     "text": [
      "\n"
     ]
    },
    {
     "data": {
      "application/vnd.jupyter.widget-view+json": {
       "model_id": "124b8cba9d7e47afb04f2643d7d6c6f5",
       "version_major": 2,
       "version_minor": 0
      },
      "text/plain": [
       "HBox(children=(FloatProgress(value=0.0, max=546.0), HTML(value='')))"
      ]
     },
     "metadata": {},
     "output_type": "display_data"
    },
    {
     "name": "stdout",
     "output_type": "stream",
     "text": [
      "\n"
     ]
    },
    {
     "data": {
      "application/vnd.jupyter.widget-view+json": {
       "model_id": "8657198fe9c6440eaed1c8ac91b99ebd",
       "version_major": 2,
       "version_minor": 0
      },
      "text/plain": [
       "HBox(children=(FloatProgress(value=0.0, max=455.0), HTML(value='')))"
      ]
     },
     "metadata": {},
     "output_type": "display_data"
    },
    {
     "name": "stdout",
     "output_type": "stream",
     "text": [
      "\n"
     ]
    },
    {
     "data": {
      "application/vnd.jupyter.widget-view+json": {
       "model_id": "a286cbd3ac5947fa81c6224380cf5c1c",
       "version_major": 2,
       "version_minor": 0
      },
      "text/plain": [
       "HBox(children=(FloatProgress(value=0.0, max=473.0), HTML(value='')))"
      ]
     },
     "metadata": {},
     "output_type": "display_data"
    },
    {
     "name": "stdout",
     "output_type": "stream",
     "text": [
      "\n"
     ]
    },
    {
     "data": {
      "application/vnd.jupyter.widget-view+json": {
       "model_id": "c1736471000c45c6aaf2d010859699e3",
       "version_major": 2,
       "version_minor": 0
      },
      "text/plain": [
       "HBox(children=(FloatProgress(value=0.0, max=355.0), HTML(value='')))"
      ]
     },
     "metadata": {},
     "output_type": "display_data"
    },
    {
     "name": "stdout",
     "output_type": "stream",
     "text": [
      "\n"
     ]
    },
    {
     "data": {
      "application/vnd.jupyter.widget-view+json": {
       "model_id": "bd5c1bf538734763bd86d3ad62dc5c67",
       "version_major": 2,
       "version_minor": 0
      },
      "text/plain": [
       "HBox(children=(FloatProgress(value=0.0, max=428.0), HTML(value='')))"
      ]
     },
     "metadata": {},
     "output_type": "display_data"
    },
    {
     "name": "stdout",
     "output_type": "stream",
     "text": [
      "\n"
     ]
    },
    {
     "data": {
      "application/vnd.jupyter.widget-view+json": {
       "model_id": "4ca1497e557343a5920e1242c36f340c",
       "version_major": 2,
       "version_minor": 0
      },
      "text/plain": [
       "HBox(children=(FloatProgress(value=0.0, max=400.0), HTML(value='')))"
      ]
     },
     "metadata": {},
     "output_type": "display_data"
    },
    {
     "name": "stdout",
     "output_type": "stream",
     "text": [
      "\n"
     ]
    },
    {
     "data": {
      "application/vnd.jupyter.widget-view+json": {
       "model_id": "6053f25a9bdf4d7da49c5adcddc9cf76",
       "version_major": 2,
       "version_minor": 0
      },
      "text/plain": [
       "HBox(children=(FloatProgress(value=0.0, max=428.0), HTML(value='')))"
      ]
     },
     "metadata": {},
     "output_type": "display_data"
    },
    {
     "name": "stdout",
     "output_type": "stream",
     "text": [
      "\n"
     ]
    },
    {
     "data": {
      "application/vnd.jupyter.widget-view+json": {
       "model_id": "2d5f3de586d94612a05d6159b23bdaca",
       "version_major": 2,
       "version_minor": 0
      },
      "text/plain": [
       "HBox(children=(FloatProgress(value=0.0, max=455.0), HTML(value='')))"
      ]
     },
     "metadata": {},
     "output_type": "display_data"
    },
    {
     "name": "stdout",
     "output_type": "stream",
     "text": [
      "\n"
     ]
    },
    {
     "data": {
      "application/vnd.jupyter.widget-view+json": {
       "model_id": "5a17cb7e04f640878e2e784376dd5a83",
       "version_major": 2,
       "version_minor": 0
      },
      "text/plain": [
       "HBox(children=(FloatProgress(value=0.0, max=455.0), HTML(value='')))"
      ]
     },
     "metadata": {},
     "output_type": "display_data"
    },
    {
     "name": "stdout",
     "output_type": "stream",
     "text": [
      "\n"
     ]
    },
    {
     "data": {
      "application/vnd.jupyter.widget-view+json": {
       "model_id": "98ddf72293554644beb9d65897da27b2",
       "version_major": 2,
       "version_minor": 0
      },
      "text/plain": [
       "HBox(children=(FloatProgress(value=0.0, max=519.0), HTML(value='')))"
      ]
     },
     "metadata": {},
     "output_type": "display_data"
    },
    {
     "name": "stdout",
     "output_type": "stream",
     "text": [
      "\n"
     ]
    },
    {
     "data": {
      "application/vnd.jupyter.widget-view+json": {
       "model_id": "ee3a75bcd5184510b958088c6f570004",
       "version_major": 2,
       "version_minor": 0
      },
      "text/plain": [
       "HBox(children=(FloatProgress(value=0.0, max=446.0), HTML(value='')))"
      ]
     },
     "metadata": {},
     "output_type": "display_data"
    },
    {
     "name": "stdout",
     "output_type": "stream",
     "text": [
      "\n"
     ]
    },
    {
     "data": {
      "application/vnd.jupyter.widget-view+json": {
       "model_id": "c3f51aee742c4da8b33c34601c474f24",
       "version_major": 2,
       "version_minor": 0
      },
      "text/plain": [
       "HBox(children=(FloatProgress(value=0.0, max=491.0), HTML(value='')))"
      ]
     },
     "metadata": {},
     "output_type": "display_data"
    },
    {
     "name": "stdout",
     "output_type": "stream",
     "text": [
      "\n"
     ]
    },
    {
     "data": {
      "application/vnd.jupyter.widget-view+json": {
       "model_id": "8c5f16b2dbdf4c26b021e69986fe7bb9",
       "version_major": 2,
       "version_minor": 0
      },
      "text/plain": [
       "HBox(children=(FloatProgress(value=0.0, max=573.0), HTML(value='')))"
      ]
     },
     "metadata": {},
     "output_type": "display_data"
    },
    {
     "name": "stdout",
     "output_type": "stream",
     "text": [
      "\n"
     ]
    },
    {
     "data": {
      "application/vnd.jupyter.widget-view+json": {
       "model_id": "9516005b658a4560b0d2afc3842d5034",
       "version_major": 2,
       "version_minor": 0
      },
      "text/plain": [
       "HBox(children=(FloatProgress(value=0.0, max=437.0), HTML(value='')))"
      ]
     },
     "metadata": {},
     "output_type": "display_data"
    },
    {
     "name": "stdout",
     "output_type": "stream",
     "text": [
      "\n"
     ]
    },
    {
     "data": {
      "application/vnd.jupyter.widget-view+json": {
       "model_id": "e871f419b62643478afd193cc9149b34",
       "version_major": 2,
       "version_minor": 0
      },
      "text/plain": [
       "HBox(children=(FloatProgress(value=0.0, max=519.0), HTML(value='')))"
      ]
     },
     "metadata": {},
     "output_type": "display_data"
    },
    {
     "name": "stdout",
     "output_type": "stream",
     "text": [
      "\n"
     ]
    },
    {
     "data": {
      "application/vnd.jupyter.widget-view+json": {
       "model_id": "f357263a6db143679238f9910f39f5ee",
       "version_major": 2,
       "version_minor": 0
      },
      "text/plain": [
       "HBox(children=(FloatProgress(value=0.0, max=537.0), HTML(value='')))"
      ]
     },
     "metadata": {},
     "output_type": "display_data"
    },
    {
     "name": "stdout",
     "output_type": "stream",
     "text": [
      "\n"
     ]
    },
    {
     "data": {
      "application/vnd.jupyter.widget-view+json": {
       "model_id": "6b368840499b4d03b67a2025e7a98052",
       "version_major": 2,
       "version_minor": 0
      },
      "text/plain": [
       "HBox(children=(FloatProgress(value=0.0, max=164.0), HTML(value='')))"
      ]
     },
     "metadata": {},
     "output_type": "display_data"
    },
    {
     "name": "stdout",
     "output_type": "stream",
     "text": [
      "\n"
     ]
    },
    {
     "data": {
      "application/vnd.jupyter.widget-view+json": {
       "model_id": "f0efa43c3fb646d9a444b921889e94c3",
       "version_major": 2,
       "version_minor": 0
      },
      "text/plain": [
       "HBox(children=(FloatProgress(value=0.0, max=446.0), HTML(value='')))"
      ]
     },
     "metadata": {},
     "output_type": "display_data"
    },
    {
     "name": "stdout",
     "output_type": "stream",
     "text": [
      "\n"
     ]
    },
    {
     "data": {
      "application/vnd.jupyter.widget-view+json": {
       "model_id": "459624bed2964bcdb4a5e19dae9cc1d9",
       "version_major": 2,
       "version_minor": 0
      },
      "text/plain": [
       "HBox(children=(FloatProgress(value=0.0, max=428.0), HTML(value='')))"
      ]
     },
     "metadata": {},
     "output_type": "display_data"
    },
    {
     "name": "stdout",
     "output_type": "stream",
     "text": [
      "\n"
     ]
    },
    {
     "data": {
      "application/vnd.jupyter.widget-view+json": {
       "model_id": "096b4e397ca04ccd9a0240a965224440",
       "version_major": 2,
       "version_minor": 0
      },
      "text/plain": [
       "HBox(children=(FloatProgress(value=0.0, max=546.0), HTML(value='')))"
      ]
     },
     "metadata": {},
     "output_type": "display_data"
    },
    {
     "name": "stdout",
     "output_type": "stream",
     "text": [
      "\n"
     ]
    },
    {
     "data": {
      "application/vnd.jupyter.widget-view+json": {
       "model_id": "bc27b0689899412aa0e6a1ad7d327867",
       "version_major": 2,
       "version_minor": 0
      },
      "text/plain": [
       "HBox(children=(FloatProgress(value=0.0, max=455.0), HTML(value='')))"
      ]
     },
     "metadata": {},
     "output_type": "display_data"
    },
    {
     "name": "stdout",
     "output_type": "stream",
     "text": [
      "\n"
     ]
    },
    {
     "data": {
      "application/vnd.jupyter.widget-view+json": {
       "model_id": "772c9634b94a49ff89468701900dab5c",
       "version_major": 2,
       "version_minor": 0
      },
      "text/plain": [
       "HBox(children=(FloatProgress(value=0.0, max=446.0), HTML(value='')))"
      ]
     },
     "metadata": {},
     "output_type": "display_data"
    },
    {
     "name": "stdout",
     "output_type": "stream",
     "text": [
      "\n"
     ]
    },
    {
     "data": {
      "application/vnd.jupyter.widget-view+json": {
       "model_id": "5e355148469344778e840ae96912af92",
       "version_major": 2,
       "version_minor": 0
      },
      "text/plain": [
       "HBox(children=(FloatProgress(value=0.0, max=528.0), HTML(value='')))"
      ]
     },
     "metadata": {},
     "output_type": "display_data"
    },
    {
     "name": "stdout",
     "output_type": "stream",
     "text": [
      "\n"
     ]
    },
    {
     "data": {
      "application/vnd.jupyter.widget-view+json": {
       "model_id": "3aff4d944de44e3b8b510438f57aef98",
       "version_major": 2,
       "version_minor": 0
      },
      "text/plain": [
       "HBox(children=(FloatProgress(value=0.0, max=455.0), HTML(value='')))"
      ]
     },
     "metadata": {},
     "output_type": "display_data"
    },
    {
     "name": "stdout",
     "output_type": "stream",
     "text": [
      "\n"
     ]
    },
    {
     "data": {
      "application/vnd.jupyter.widget-view+json": {
       "model_id": "1e768cb7f8dd40fcb1eac364ae028e97",
       "version_major": 2,
       "version_minor": 0
      },
      "text/plain": [
       "HBox(children=(FloatProgress(value=0.0, max=455.0), HTML(value='')))"
      ]
     },
     "metadata": {},
     "output_type": "display_data"
    },
    {
     "name": "stdout",
     "output_type": "stream",
     "text": [
      "\n"
     ]
    },
    {
     "data": {
      "application/vnd.jupyter.widget-view+json": {
       "model_id": "440d5985ba7a408da5330d6f8313b357",
       "version_major": 2,
       "version_minor": 0
      },
      "text/plain": [
       "HBox(children=(FloatProgress(value=0.0, max=582.0), HTML(value='')))"
      ]
     },
     "metadata": {},
     "output_type": "display_data"
    },
    {
     "name": "stdout",
     "output_type": "stream",
     "text": [
      "\n"
     ]
    },
    {
     "data": {
      "application/vnd.jupyter.widget-view+json": {
       "model_id": "24db1026be3243cd9eb761b3b5d3bdaf",
       "version_major": 2,
       "version_minor": 0
      },
      "text/plain": [
       "HBox(children=(FloatProgress(value=0.0, max=428.0), HTML(value='')))"
      ]
     },
     "metadata": {},
     "output_type": "display_data"
    },
    {
     "name": "stdout",
     "output_type": "stream",
     "text": [
      "\n"
     ]
    },
    {
     "data": {
      "application/vnd.jupyter.widget-view+json": {
       "model_id": "fd4f6cfe9794489dba17b6ca4589f727",
       "version_major": 2,
       "version_minor": 0
      },
      "text/plain": [
       "HBox(children=(FloatProgress(value=0.0, max=473.0), HTML(value='')))"
      ]
     },
     "metadata": {},
     "output_type": "display_data"
    },
    {
     "name": "stdout",
     "output_type": "stream",
     "text": [
      "\n"
     ]
    },
    {
     "data": {
      "application/vnd.jupyter.widget-view+json": {
       "model_id": "af9fbf0827b74d6eae4dae6d516ae72f",
       "version_major": 2,
       "version_minor": 0
      },
      "text/plain": [
       "HBox(children=(FloatProgress(value=0.0, max=482.0), HTML(value='')))"
      ]
     },
     "metadata": {},
     "output_type": "display_data"
    },
    {
     "name": "stdout",
     "output_type": "stream",
     "text": [
      "\n"
     ]
    },
    {
     "data": {
      "application/vnd.jupyter.widget-view+json": {
       "model_id": "2dcdffafaf8f47f3a2dbf3dfd2c0ace0",
       "version_major": 2,
       "version_minor": 0
      },
      "text/plain": [
       "HBox(children=(FloatProgress(value=0.0, max=555.0), HTML(value='')))"
      ]
     },
     "metadata": {},
     "output_type": "display_data"
    },
    {
     "name": "stdout",
     "output_type": "stream",
     "text": [
      "\n"
     ]
    },
    {
     "data": {
      "application/vnd.jupyter.widget-view+json": {
       "model_id": "fd982847102c4c16b8c9bf6f7d374b62",
       "version_major": 2,
       "version_minor": 0
      },
      "text/plain": [
       "HBox(children=(FloatProgress(value=0.0, max=428.0), HTML(value='')))"
      ]
     },
     "metadata": {},
     "output_type": "display_data"
    },
    {
     "name": "stdout",
     "output_type": "stream",
     "text": [
      "\n"
     ]
    },
    {
     "data": {
      "application/vnd.jupyter.widget-view+json": {
       "model_id": "4e8c386df51c48798194825537d82336",
       "version_major": 2,
       "version_minor": 0
      },
      "text/plain": [
       "HBox(children=(FloatProgress(value=0.0, max=455.0), HTML(value='')))"
      ]
     },
     "metadata": {},
     "output_type": "display_data"
    },
    {
     "name": "stdout",
     "output_type": "stream",
     "text": [
      "\n"
     ]
    },
    {
     "data": {
      "application/vnd.jupyter.widget-view+json": {
       "model_id": "8a6b70ba97d0474c9462f9f4e7c88afe",
       "version_major": 2,
       "version_minor": 0
      },
      "text/plain": [
       "HBox(children=(FloatProgress(value=0.0, max=464.0), HTML(value='')))"
      ]
     },
     "metadata": {},
     "output_type": "display_data"
    },
    {
     "name": "stdout",
     "output_type": "stream",
     "text": [
      "\n"
     ]
    },
    {
     "data": {
      "application/vnd.jupyter.widget-view+json": {
       "model_id": "45056067d91d4eaea03193c5cfc1a4eb",
       "version_major": 2,
       "version_minor": 0
      },
      "text/plain": [
       "HBox(children=(FloatProgress(value=0.0, max=428.0), HTML(value='')))"
      ]
     },
     "metadata": {},
     "output_type": "display_data"
    },
    {
     "name": "stdout",
     "output_type": "stream",
     "text": [
      "\n"
     ]
    },
    {
     "data": {
      "application/vnd.jupyter.widget-view+json": {
       "model_id": "1b02cfdfaedf4f6e9106047717bc57a1",
       "version_major": 2,
       "version_minor": 0
      },
      "text/plain": [
       "HBox(children=(FloatProgress(value=0.0, max=455.0), HTML(value='')))"
      ]
     },
     "metadata": {},
     "output_type": "display_data"
    },
    {
     "name": "stdout",
     "output_type": "stream",
     "text": [
      "\n"
     ]
    },
    {
     "data": {
      "application/vnd.jupyter.widget-view+json": {
       "model_id": "f2556038421547ccbeb965b9b7686b61",
       "version_major": 2,
       "version_minor": 0
      },
      "text/plain": [
       "HBox(children=(FloatProgress(value=0.0, max=428.0), HTML(value='')))"
      ]
     },
     "metadata": {},
     "output_type": "display_data"
    },
    {
     "name": "stdout",
     "output_type": "stream",
     "text": [
      "\n"
     ]
    },
    {
     "data": {
      "application/vnd.jupyter.widget-view+json": {
       "model_id": "efc8d32932a44477a2c9c50a9af6cae8",
       "version_major": 2,
       "version_minor": 0
      },
      "text/plain": [
       "HBox(children=(FloatProgress(value=0.0, max=437.0), HTML(value='')))"
      ]
     },
     "metadata": {},
     "output_type": "display_data"
    },
    {
     "name": "stdout",
     "output_type": "stream",
     "text": [
      "\n"
     ]
    },
    {
     "data": {
      "application/vnd.jupyter.widget-view+json": {
       "model_id": "4027b272351245f29c69b1da968518c6",
       "version_major": 2,
       "version_minor": 0
      },
      "text/plain": [
       "HBox(children=(FloatProgress(value=0.0, max=446.0), HTML(value='')))"
      ]
     },
     "metadata": {},
     "output_type": "display_data"
    },
    {
     "name": "stdout",
     "output_type": "stream",
     "text": [
      "\n"
     ]
    },
    {
     "data": {
      "application/vnd.jupyter.widget-view+json": {
       "model_id": "3e058d96b5c44c1bb00471f9b8300f42",
       "version_major": 2,
       "version_minor": 0
      },
      "text/plain": [
       "HBox(children=(FloatProgress(value=0.0, max=391.0), HTML(value='')))"
      ]
     },
     "metadata": {},
     "output_type": "display_data"
    },
    {
     "name": "stdout",
     "output_type": "stream",
     "text": [
      "\n"
     ]
    },
    {
     "data": {
      "application/vnd.jupyter.widget-view+json": {
       "model_id": "ceae2bb185b64730a67b660d263175c0",
       "version_major": 2,
       "version_minor": 0
      },
      "text/plain": [
       "HBox(children=(FloatProgress(value=0.0, max=519.0), HTML(value='')))"
      ]
     },
     "metadata": {},
     "output_type": "display_data"
    },
    {
     "name": "stdout",
     "output_type": "stream",
     "text": [
      "\n"
     ]
    },
    {
     "data": {
      "application/vnd.jupyter.widget-view+json": {
       "model_id": "90c08e286a3c4b1badb9918313187e9a",
       "version_major": 2,
       "version_minor": 0
      },
      "text/plain": [
       "HBox(children=(FloatProgress(value=0.0, max=519.0), HTML(value='')))"
      ]
     },
     "metadata": {},
     "output_type": "display_data"
    },
    {
     "name": "stdout",
     "output_type": "stream",
     "text": [
      "\n"
     ]
    },
    {
     "data": {
      "application/vnd.jupyter.widget-view+json": {
       "model_id": "5422ca2803ad4819a5fd36b211d9d546",
       "version_major": 2,
       "version_minor": 0
      },
      "text/plain": [
       "HBox(children=(FloatProgress(value=0.0, max=446.0), HTML(value='')))"
      ]
     },
     "metadata": {},
     "output_type": "display_data"
    },
    {
     "name": "stdout",
     "output_type": "stream",
     "text": [
      "\n"
     ]
    },
    {
     "data": {
      "application/vnd.jupyter.widget-view+json": {
       "model_id": "b23c9ac04e3c43b9aefc283ddb85ed9c",
       "version_major": 2,
       "version_minor": 0
      },
      "text/plain": [
       "HBox(children=(FloatProgress(value=0.0, max=446.0), HTML(value='')))"
      ]
     },
     "metadata": {},
     "output_type": "display_data"
    },
    {
     "name": "stdout",
     "output_type": "stream",
     "text": [
      "\n"
     ]
    },
    {
     "data": {
      "application/vnd.jupyter.widget-view+json": {
       "model_id": "36c60ac9a8444592a6db5bdd79429ba4",
       "version_major": 2,
       "version_minor": 0
      },
      "text/plain": [
       "HBox(children=(FloatProgress(value=0.0, max=409.0), HTML(value='')))"
      ]
     },
     "metadata": {},
     "output_type": "display_data"
    },
    {
     "name": "stdout",
     "output_type": "stream",
     "text": [
      "\n"
     ]
    },
    {
     "data": {
      "application/vnd.jupyter.widget-view+json": {
       "model_id": "0e5394e005c84c32826016de2eb50f89",
       "version_major": 2,
       "version_minor": 0
      },
      "text/plain": [
       "HBox(children=(FloatProgress(value=0.0, max=519.0), HTML(value='')))"
      ]
     },
     "metadata": {},
     "output_type": "display_data"
    },
    {
     "name": "stdout",
     "output_type": "stream",
     "text": [
      "\n"
     ]
    },
    {
     "data": {
      "application/vnd.jupyter.widget-view+json": {
       "model_id": "73200ada637b4b46a14c0286a8984d25",
       "version_major": 2,
       "version_minor": 0
      },
      "text/plain": [
       "HBox(children=(FloatProgress(value=0.0, max=482.0), HTML(value='')))"
      ]
     },
     "metadata": {},
     "output_type": "display_data"
    },
    {
     "name": "stdout",
     "output_type": "stream",
     "text": [
      "\n"
     ]
    },
    {
     "data": {
      "application/vnd.jupyter.widget-view+json": {
       "model_id": "6a61b2cad94640a8a9af877e73b980e2",
       "version_major": 2,
       "version_minor": 0
      },
      "text/plain": [
       "HBox(children=(FloatProgress(value=0.0, max=455.0), HTML(value='')))"
      ]
     },
     "metadata": {},
     "output_type": "display_data"
    },
    {
     "name": "stdout",
     "output_type": "stream",
     "text": [
      "\n"
     ]
    },
    {
     "data": {
      "application/vnd.jupyter.widget-view+json": {
       "model_id": "53aab09521e14f76be58f13a79f4ee01",
       "version_major": 2,
       "version_minor": 0
      },
      "text/plain": [
       "HBox(children=(FloatProgress(value=0.0, max=337.0), HTML(value='')))"
      ]
     },
     "metadata": {},
     "output_type": "display_data"
    },
    {
     "name": "stdout",
     "output_type": "stream",
     "text": [
      "\n"
     ]
    },
    {
     "data": {
      "application/vnd.jupyter.widget-view+json": {
       "model_id": "43174bd66c1c408aa2ba813ef06dbb85",
       "version_major": 2,
       "version_minor": 0
      },
      "text/plain": [
       "HBox(children=(FloatProgress(value=0.0, max=519.0), HTML(value='')))"
      ]
     },
     "metadata": {},
     "output_type": "display_data"
    },
    {
     "name": "stdout",
     "output_type": "stream",
     "text": [
      "\n"
     ]
    },
    {
     "data": {
      "application/vnd.jupyter.widget-view+json": {
       "model_id": "6042afb2691e4037aa2e762c4cf84590",
       "version_major": 2,
       "version_minor": 0
      },
      "text/plain": [
       "HBox(children=(FloatProgress(value=0.0, max=437.0), HTML(value='')))"
      ]
     },
     "metadata": {},
     "output_type": "display_data"
    },
    {
     "name": "stdout",
     "output_type": "stream",
     "text": [
      "\n"
     ]
    },
    {
     "data": {
      "application/vnd.jupyter.widget-view+json": {
       "model_id": "6ef38d463df34017b542c4b2fab687d8",
       "version_major": 2,
       "version_minor": 0
      },
      "text/plain": [
       "HBox(children=(FloatProgress(value=0.0, max=419.0), HTML(value='')))"
      ]
     },
     "metadata": {},
     "output_type": "display_data"
    },
    {
     "name": "stdout",
     "output_type": "stream",
     "text": [
      "\n"
     ]
    },
    {
     "data": {
      "application/vnd.jupyter.widget-view+json": {
       "model_id": "7ae034fe32324303814f9e54d1ef830f",
       "version_major": 2,
       "version_minor": 0
      },
      "text/plain": [
       "HBox(children=(FloatProgress(value=0.0, max=409.0), HTML(value='')))"
      ]
     },
     "metadata": {},
     "output_type": "display_data"
    },
    {
     "name": "stdout",
     "output_type": "stream",
     "text": [
      "\n"
     ]
    },
    {
     "data": {
      "application/vnd.jupyter.widget-view+json": {
       "model_id": "8132230018684ddd9f5b1382507875f1",
       "version_major": 2,
       "version_minor": 0
      },
      "text/plain": [
       "HBox(children=(FloatProgress(value=0.0, max=464.0), HTML(value='')))"
      ]
     },
     "metadata": {},
     "output_type": "display_data"
    },
    {
     "name": "stdout",
     "output_type": "stream",
     "text": [
      "\n"
     ]
    },
    {
     "data": {
      "application/vnd.jupyter.widget-view+json": {
       "model_id": "b7730e525a054123a0ab427ee6279650",
       "version_major": 2,
       "version_minor": 0
      },
      "text/plain": [
       "HBox(children=(FloatProgress(value=0.0, max=510.0), HTML(value='')))"
      ]
     },
     "metadata": {},
     "output_type": "display_data"
    },
    {
     "name": "stdout",
     "output_type": "stream",
     "text": [
      "\n"
     ]
    },
    {
     "data": {
      "application/vnd.jupyter.widget-view+json": {
       "model_id": "f0a89e6ac9b341c8ba3c170aa9bdfef7",
       "version_major": 2,
       "version_minor": 0
      },
      "text/plain": [
       "HBox(children=(FloatProgress(value=0.0, max=473.0), HTML(value='')))"
      ]
     },
     "metadata": {},
     "output_type": "display_data"
    },
    {
     "name": "stdout",
     "output_type": "stream",
     "text": [
      "\n"
     ]
    },
    {
     "data": {
      "application/vnd.jupyter.widget-view+json": {
       "model_id": "adabb1eed3f54333a26b5e930a473b6a",
       "version_major": 2,
       "version_minor": 0
      },
      "text/plain": [
       "HBox(children=(FloatProgress(value=0.0, max=391.0), HTML(value='')))"
      ]
     },
     "metadata": {},
     "output_type": "display_data"
    },
    {
     "name": "stdout",
     "output_type": "stream",
     "text": [
      "\n"
     ]
    },
    {
     "data": {
      "application/vnd.jupyter.widget-view+json": {
       "model_id": "00f24ab413cf40c8a4595b282dc611fb",
       "version_major": 2,
       "version_minor": 0
      },
      "text/plain": [
       "HBox(children=(FloatProgress(value=0.0, max=464.0), HTML(value='')))"
      ]
     },
     "metadata": {},
     "output_type": "display_data"
    },
    {
     "name": "stdout",
     "output_type": "stream",
     "text": [
      "\n"
     ]
    },
    {
     "data": {
      "application/vnd.jupyter.widget-view+json": {
       "model_id": "d13eeadb4e6949c29a336a2cbf50b88b",
       "version_major": 2,
       "version_minor": 0
      },
      "text/plain": [
       "HBox(children=(FloatProgress(value=0.0, max=364.0), HTML(value='')))"
      ]
     },
     "metadata": {},
     "output_type": "display_data"
    },
    {
     "name": "stdout",
     "output_type": "stream",
     "text": [
      "\n"
     ]
    },
    {
     "data": {
      "application/vnd.jupyter.widget-view+json": {
       "model_id": "b9de373e850945959913c1eef756bfa6",
       "version_major": 2,
       "version_minor": 0
      },
      "text/plain": [
       "HBox(children=(FloatProgress(value=0.0, max=428.0), HTML(value='')))"
      ]
     },
     "metadata": {},
     "output_type": "display_data"
    },
    {
     "name": "stdout",
     "output_type": "stream",
     "text": [
      "\n"
     ]
    },
    {
     "data": {
      "application/vnd.jupyter.widget-view+json": {
       "model_id": "52661434a34845959ee175734ad7e9df",
       "version_major": 2,
       "version_minor": 0
      },
      "text/plain": [
       "HBox(children=(FloatProgress(value=0.0, max=437.0), HTML(value='')))"
      ]
     },
     "metadata": {},
     "output_type": "display_data"
    },
    {
     "name": "stdout",
     "output_type": "stream",
     "text": [
      "\n"
     ]
    },
    {
     "data": {
      "application/vnd.jupyter.widget-view+json": {
       "model_id": "454ffbc61c5c4e23b48a40e77daf9538",
       "version_major": 2,
       "version_minor": 0
      },
      "text/plain": [
       "HBox(children=(FloatProgress(value=0.0, max=437.0), HTML(value='')))"
      ]
     },
     "metadata": {},
     "output_type": "display_data"
    },
    {
     "name": "stdout",
     "output_type": "stream",
     "text": [
      "\n"
     ]
    },
    {
     "data": {
      "application/vnd.jupyter.widget-view+json": {
       "model_id": "c6bc558a1b494f69b062ac356d9fe604",
       "version_major": 2,
       "version_minor": 0
      },
      "text/plain": [
       "HBox(children=(FloatProgress(value=0.0, max=437.0), HTML(value='')))"
      ]
     },
     "metadata": {},
     "output_type": "display_data"
    },
    {
     "name": "stdout",
     "output_type": "stream",
     "text": [
      "\n"
     ]
    },
    {
     "data": {
      "application/vnd.jupyter.widget-view+json": {
       "model_id": "39b6111891e6436f82cf486dc408c60d",
       "version_major": 2,
       "version_minor": 0
      },
      "text/plain": [
       "HBox(children=(FloatProgress(value=0.0, max=409.0), HTML(value='')))"
      ]
     },
     "metadata": {},
     "output_type": "display_data"
    },
    {
     "name": "stdout",
     "output_type": "stream",
     "text": [
      "\n"
     ]
    },
    {
     "data": {
      "application/vnd.jupyter.widget-view+json": {
       "model_id": "8544238b829c4c3b9a350f9638ec122d",
       "version_major": 2,
       "version_minor": 0
      },
      "text/plain": [
       "HBox(children=(FloatProgress(value=0.0, max=482.0), HTML(value='')))"
      ]
     },
     "metadata": {},
     "output_type": "display_data"
    },
    {
     "name": "stdout",
     "output_type": "stream",
     "text": [
      "\n"
     ]
    },
    {
     "data": {
      "application/vnd.jupyter.widget-view+json": {
       "model_id": "68a5c8600eb141749754c59faf664969",
       "version_major": 2,
       "version_minor": 0
      },
      "text/plain": [
       "HBox(children=(FloatProgress(value=0.0, max=437.0), HTML(value='')))"
      ]
     },
     "metadata": {},
     "output_type": "display_data"
    },
    {
     "name": "stdout",
     "output_type": "stream",
     "text": [
      "\n"
     ]
    },
    {
     "data": {
      "application/vnd.jupyter.widget-view+json": {
       "model_id": "813ab0e5adf544dda856729cf20918b7",
       "version_major": 2,
       "version_minor": 0
      },
      "text/plain": [
       "HBox(children=(FloatProgress(value=0.0, max=683.0), HTML(value='')))"
      ]
     },
     "metadata": {},
     "output_type": "display_data"
    },
    {
     "name": "stdout",
     "output_type": "stream",
     "text": [
      "\n"
     ]
    },
    {
     "data": {
      "application/vnd.jupyter.widget-view+json": {
       "model_id": "a73219ce0c7d4abdbdc57f110603dbd2",
       "version_major": 2,
       "version_minor": 0
      },
      "text/plain": [
       "HBox(children=(FloatProgress(value=0.0, max=446.0), HTML(value='')))"
      ]
     },
     "metadata": {},
     "output_type": "display_data"
    },
    {
     "name": "stdout",
     "output_type": "stream",
     "text": [
      "\n"
     ]
    },
    {
     "data": {
      "application/vnd.jupyter.widget-view+json": {
       "model_id": "36001aa28644468d91676025b84882c5",
       "version_major": 2,
       "version_minor": 0
      },
      "text/plain": [
       "HBox(children=(FloatProgress(value=0.0, max=564.0), HTML(value='')))"
      ]
     },
     "metadata": {},
     "output_type": "display_data"
    },
    {
     "name": "stdout",
     "output_type": "stream",
     "text": [
      "\n"
     ]
    },
    {
     "data": {
      "application/vnd.jupyter.widget-view+json": {
       "model_id": "8305714289af495eaea7400fec96660d",
       "version_major": 2,
       "version_minor": 0
      },
      "text/plain": [
       "HBox(children=(FloatProgress(value=0.0, max=419.0), HTML(value='')))"
      ]
     },
     "metadata": {},
     "output_type": "display_data"
    },
    {
     "name": "stdout",
     "output_type": "stream",
     "text": [
      "\n"
     ]
    },
    {
     "data": {
      "application/vnd.jupyter.widget-view+json": {
       "model_id": "12046011fe524519b30671ff95f3e9cc",
       "version_major": 2,
       "version_minor": 0
      },
      "text/plain": [
       "HBox(children=(FloatProgress(value=0.0, max=419.0), HTML(value='')))"
      ]
     },
     "metadata": {},
     "output_type": "display_data"
    },
    {
     "name": "stdout",
     "output_type": "stream",
     "text": [
      "\n"
     ]
    },
    {
     "data": {
      "application/vnd.jupyter.widget-view+json": {
       "model_id": "b4210103b6624d1cbaba7559ea34d49b",
       "version_major": 2,
       "version_minor": 0
      },
      "text/plain": [
       "HBox(children=(FloatProgress(value=0.0, max=446.0), HTML(value='')))"
      ]
     },
     "metadata": {},
     "output_type": "display_data"
    },
    {
     "name": "stdout",
     "output_type": "stream",
     "text": [
      "\n"
     ]
    },
    {
     "data": {
      "application/vnd.jupyter.widget-view+json": {
       "model_id": "dbb57cbc5f484eec8597c410dea08c25",
       "version_major": 2,
       "version_minor": 0
      },
      "text/plain": [
       "HBox(children=(FloatProgress(value=0.0, max=437.0), HTML(value='')))"
      ]
     },
     "metadata": {},
     "output_type": "display_data"
    },
    {
     "name": "stdout",
     "output_type": "stream",
     "text": [
      "\n",
      "\n"
     ]
    }
   ],
   "source": [
    "pred_ratings_dict = {}\n",
    "true_dict = {}\n",
    "for user, user_df in tqdm(test_small.groupby('user_email')):\n",
    "    artists = user_df['artist_id'].values\n",
    "    pred_ratings_dict[user] = [artists, np.array(compute_predictions(train, user, artists, model))]\n",
    "    true_dict[user] = [artists, user_df['rating'].values]"
   ]
  },
  {
   "cell_type": "code",
   "execution_count": 73,
   "metadata": {},
   "outputs": [],
   "source": [
    "\n",
    "# Evaluate the model \n",
    "from sklearn.metrics import mean_squared_error\n",
    "\n",
    "def rmse(y_true, y_pred):\n",
    "    return mean_squared_error(y_true, y_pred, squared=False)"
   ]
  },
  {
   "cell_type": "code",
   "execution_count": 80,
   "metadata": {},
   "outputs": [
    {
     "name": "stdout",
     "output_type": "stream",
     "text": [
      "Average RMSE: 0.20082133414236836\n"
     ]
    }
   ],
   "source": [
    "rmse_arr = []\n",
    "for user in pred_ratings_dict:\n",
    "    u_true = true_dict[user][1]\n",
    "    u_pred = pred_ratings_dict[user][1]\n",
    "    rmse_arr.append(rmse(u_true, u_pred))\n",
    "    \n",
    "print(f\"Average RMSE: {np.mean(rmse_arr)}\")"
   ]
  },
  {
   "cell_type": "code",
   "execution_count": 106,
   "metadata": {},
   "outputs": [],
   "source": [
    "for k in pred_ratings_dict:\n",
    "    pred_ratings_dict[k]= np.stack(pred_ratings_dict[k])"
   ]
  },
  {
   "cell_type": "code",
   "execution_count": 112,
   "metadata": {},
   "outputs": [
    {
     "name": "stdout",
     "output_type": "stream",
     "text": [
      "Computing precision & recall...\n"
     ]
    },
    {
     "data": {
      "application/vnd.jupyter.widget-view+json": {
       "model_id": "29b2721a98744033bbd6ab8567f8264c",
       "version_major": 2,
       "version_minor": 0
      },
      "text/plain": [
       "HBox(children=(FloatProgress(value=0.0, max=183.0), HTML(value='')))"
      ]
     },
     "metadata": {},
     "output_type": "display_data"
    },
    {
     "name": "stdout",
     "output_type": "stream",
     "text": [
      "\n",
      "Computing normalized discounted cumulative gain...\n"
     ]
    },
    {
     "data": {
      "application/vnd.jupyter.widget-view+json": {
       "model_id": "8eb97ec19f024bb9abc8e0c4583df61a",
       "version_major": 2,
       "version_minor": 0
      },
      "text/plain": [
       "HBox(children=(FloatProgress(value=0.0, max=183.0), HTML(value='')))"
      ]
     },
     "metadata": {},
     "output_type": "display_data"
    },
    {
     "name": "stdout",
     "output_type": "stream",
     "text": [
      "\n",
      "Computing hit rate...\n"
     ]
    },
    {
     "data": {
      "application/vnd.jupyter.widget-view+json": {
       "model_id": "3db4404780724b9189ace4e01c02a78f",
       "version_major": 2,
       "version_minor": 0
      },
      "text/plain": [
       "HBox(children=(FloatProgress(value=0.0, max=183.0), HTML(value='')))"
      ]
     },
     "metadata": {},
     "output_type": "display_data"
    },
    {
     "name": "stdout",
     "output_type": "stream",
     "text": [
      "\n",
      "Computing average reciprocal hit ranking...\n"
     ]
    },
    {
     "data": {
      "application/vnd.jupyter.widget-view+json": {
       "model_id": "48bf5a21ec6140b497c031fe3f19b8fd",
       "version_major": 2,
       "version_minor": 0
      },
      "text/plain": [
       "HBox(children=(FloatProgress(value=0.0, max=183.0), HTML(value='')))"
      ]
     },
     "metadata": {},
     "output_type": "display_data"
    },
    {
     "name": "stdout",
     "output_type": "stream",
     "text": [
      "\n",
      "\n",
      "Metrics: \n",
      "\n",
      "Precision @ 10: 0.35081967213114756\n",
      "Recall    @ 10: 0.7171155347384854\n",
      "Ndcg @ 10: 0.6063062869201542\n",
      "Hit rate: 3.480874316939891\n",
      "Arhr: 1.1327131581229943\n"
     ]
    }
   ],
   "source": [
    "k = 10\n",
    "_, _, _, _, _  = compute_metrics(test.drop(test[test.rating == 0].index), test_users, pred_ratings_dict, k)"
   ]
  },
  {
   "cell_type": "code",
   "execution_count": null,
   "metadata": {},
   "outputs": [],
   "source": []
  }
 ],
 "metadata": {
  "kernelspec": {
   "display_name": "Python 3",
   "language": "python",
   "name": "python3"
  },
  "language_info": {
   "codemirror_mode": {
    "name": "ipython",
    "version": 3
   },
   "file_extension": ".py",
   "mimetype": "text/x-python",
   "name": "python",
   "nbconvert_exporter": "python",
   "pygments_lexer": "ipython3",
   "version": "3.7.6"
  }
 },
 "nbformat": 4,
 "nbformat_minor": 4
}
