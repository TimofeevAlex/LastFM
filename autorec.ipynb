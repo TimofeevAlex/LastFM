{
 "cells": [
  {
   "cell_type": "code",
   "execution_count": 6,
   "id": "preliminary-possession",
   "metadata": {},
   "outputs": [],
   "source": [
    "import numpy as np\n",
    "import pandas as pd\n",
    "import seaborn as sns\n",
    "import matplotlib.pyplot as plt\n",
    "\n",
    "import tensorflow as tf\n",
    "from tensorflow import keras\n",
    "from tensorflow.keras.layers import Dense\n",
    "# from sklearn.preprocessing import MinMaxScaler\n",
    "# import warnings\n",
    "# warnings.filterwarnings(\"ignore\", category=FutureWarning)\n",
    "# warnings.filterwarnings(\"ignore\", category=RuntimeWarning)\n",
    "np.random.seed(0)"
   ]
  },
  {
   "cell_type": "code",
   "execution_count": 7,
   "id": "personalized-salad",
   "metadata": {},
   "outputs": [],
   "source": [
    "lastfm_360_behav = pd.read_csv('lastfm-dataset-360K/behav-360k-processed.csv')\n",
    "uniq_users = lastfm_360_behav['user_email'].unique()\n",
    "upd_ids = dict((id_, i) for i, id_ in enumerate(uniq_users))\n",
    "lastfm_360_behav['user_email'] = lastfm_360_behav['user_email'].map(lambda x: upd_ids[x])"
   ]
  },
  {
   "cell_type": "code",
   "execution_count": 8,
   "id": "original-approach",
   "metadata": {},
   "outputs": [],
   "source": [
    "ratings = lastfm_360_behav[['user_email', 'artist_id', 'std_plays']]"
   ]
  },
  {
   "cell_type": "code",
   "execution_count": 9,
   "id": "visible-yesterday",
   "metadata": {},
   "outputs": [],
   "source": [
    "artists = ratings['artist_id'].unique()\n",
    "artists_num = artists.shape[0] "
   ]
  },
  {
   "cell_type": "code",
   "execution_count": 61,
   "id": "spatial-yellow",
   "metadata": {},
   "outputs": [],
   "source": [
    "def user_split(ratings_, test_frac=0.1):\n",
    "    users = ratings_['user_email'].unique()\n",
    "    np.random.shuffle(users)\n",
    "    train_size = int((1 - test_frac) * users.shape[0])\n",
    "    train_users, test_users = users[:train_size], users[train_size:]\n",
    "    return train_users, test_users\n",
    "# ratings_[ratings_['user_email'].isin(train_users)].reset_index(drop=True), \\\n",
    "#            ratings_[ratings_['user_email'].isin(test_users)].reset_index(drop=True)\n",
    "\n",
    "# maybe median\n",
    "def user_artist_matrix(data, artists, average=True):\n",
    "    users = data['user_email'].unique()\n",
    "    user_artist = pd.DataFrame(-np.ones((users.shape[0], artists.shape[0])), columns=artists, index=users)\n",
    "    for user in users:\n",
    "        user_frame = data[data['user_email'] == user]\n",
    "        if average:\n",
    "            user_artist.loc[user] = user_frame['std_plays'].mean()\n",
    "        user_artist.loc[user, user_frame['artist_id']] = user_frame['std_plays']\n",
    "    return user_artist\n",
    "\n",
    "def holdout_artist(test_users, ratings_, k=5):\n",
    "    test = ratings_[ratings_['user_email'].isin(test_users)].reset_index(drop=True)\n",
    "    large_groups = test.groupby('user_email').filter(lambda x: x['user_email'].count() >= 2 * k)\n",
    "    holdout = large_groups.groupby('user_email').sample(k)    \n",
    "    return holdout"
   ]
  },
  {
   "cell_type": "code",
   "execution_count": 52,
   "id": "nasty-tomorrow",
   "metadata": {},
   "outputs": [],
   "source": [
    "train_users, test_users = user_split(ratings, test_frac=0.1)"
   ]
  },
  {
   "cell_type": "code",
   "execution_count": 62,
   "id": "infinite-rover",
   "metadata": {},
   "outputs": [],
   "source": [
    "holdout = holdout_artist(test_users, ratings, k=5)"
   ]
  },
  {
   "cell_type": "code",
   "execution_count": 36,
   "id": "solar-technical",
   "metadata": {},
   "outputs": [],
   "source": [
    "# test_user_artist_matrix = user_artist_matrix(test.loc[:100], artists) #can work only for batches"
   ]
  },
  {
   "cell_type": "code",
   "execution_count": null,
   "id": "going-database",
   "metadata": {},
   "outputs": [],
   "source": [
    "# def create_autorec(input_dim, hidden_dim):\n",
    "#      # User branch\n",
    "#     inputs = x = tf.keras.layers.Input(shape=input_dim, name='user_rating')\n",
    "#     x = Dense(500, activation='', name='LatentSpace', kernel_regularizer=regularizers.l2(reg))(x)\n",
    "#     output_layer = Dense(X.shape[1], activation=last_activation, name='UserScorePred', kernel_regularizer=regularizers.l2(reg))(x)\n",
    "\n",
    "#     # Model definition\n",
    "#     model = tf.keras.models.Model(inputs=[user_id, item_id], outputs=[vectors_product], name='shallow_model')\n",
    "#     return model"
   ]
  }
 ],
 "metadata": {
  "kernelspec": {
   "display_name": "Python 3",
   "language": "python",
   "name": "python3"
  },
  "language_info": {
   "codemirror_mode": {
    "name": "ipython",
    "version": 3
   },
   "file_extension": ".py",
   "mimetype": "text/x-python",
   "name": "python",
   "nbconvert_exporter": "python",
   "pygments_lexer": "ipython3",
   "version": "3.8.8"
  }
 },
 "nbformat": 4,
 "nbformat_minor": 5
}
