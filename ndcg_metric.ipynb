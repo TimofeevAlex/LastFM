{
 "cells": [
  {
   "cell_type": "code",
   "execution_count": 1,
   "metadata": {},
   "outputs": [],
   "source": [
    "import pandas as pd\n",
    "from sklearn.metrics import ndcg_score"
   ]
  },
  {
   "cell_type": "code",
   "execution_count": 2,
   "metadata": {},
   "outputs": [],
   "source": [
    "behav = pd.read_csv('data.nosync/lastfm-dataset-360K/behav-360k-processed.csv', index_col=None)"
   ]
  },
  {
   "cell_type": "code",
   "execution_count": 3,
   "metadata": {},
   "outputs": [],
   "source": [
    "# Example data\n",
    "user_email = \"00000c289a1829a808ac09c00daf10bc3c4e223b\"\n",
    "\n",
    "# Artist id to log_plays prediction\n",
    "top_artists_pred = {\n",
    "    39: 5.467,\n",
    "    0: 0.567 ,\n",
    "    4: 3.2879, \n",
    "    16: 7.23678,\n",
    "    79: 3.4789,\n",
    "    62: 1.3678,\n",
    "    24: 2.47693\n",
    "}"
   ]
  },
  {
   "cell_type": "code",
   "execution_count": 4,
   "metadata": {},
   "outputs": [],
   "source": [
    "def get_true_scores(user_email, artist_ids):\n",
    "    \"\"\"Get log_plays scores as relevance score givin list of artists and given user (0 if absent).\"\"\"\n",
    "    user_data = behav[behav['user_email'] == user_email].set_index('artist_id')[['log_plays']]\n",
    "    selected_artists = pd.DataFrame(artist_ids, columns=['artist_id']).join(user_data, on='artist_id')\n",
    "    return selected_artists.fillna(0)['log_plays'].values"
   ]
  },
  {
   "cell_type": "code",
   "execution_count": 5,
   "metadata": {},
   "outputs": [],
   "source": [
    "def ndcg_metric(user_email, top_artists_score):\n",
    "    \"\"\"Compute normalized discount cumulative gain for a given user.\"\"\"\n",
    "    true_scores = get_true_scores(user_email, list(top_artists_score.keys()))\n",
    "    pred_scores = list(top_artists_score.values())\n",
    "    return ndcg_score([true_scores], [pred_scores])"
   ]
  },
  {
   "cell_type": "code",
   "execution_count": 6,
   "metadata": {},
   "outputs": [
    {
     "data": {
      "text/plain": [
       "0.8646026905164278"
      ]
     },
     "execution_count": 6,
     "metadata": {},
     "output_type": "execute_result"
    }
   ],
   "source": [
    "ndcg_metric(user_email, top_artists_pred)"
   ]
  }
 ],
 "metadata": {
  "kernelspec": {
   "display_name": "Python 3",
   "language": "python",
   "name": "python3"
  },
  "language_info": {
   "codemirror_mode": {
    "name": "ipython",
    "version": 3
   },
   "file_extension": ".py",
   "mimetype": "text/x-python",
   "name": "python",
   "nbconvert_exporter": "python",
   "pygments_lexer": "ipython3",
   "version": "3.7.6"
  }
 },
 "nbformat": 4,
 "nbformat_minor": 4
}
