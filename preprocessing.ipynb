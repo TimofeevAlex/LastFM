{
 "cells": [
  {
   "cell_type": "code",
   "execution_count": 1,
   "id": "outdoor-treatment",
   "metadata": {},
   "outputs": [],
   "source": [
    "import os\n",
    "import sys\n",
    "import numpy as np\n",
    "import pandas as pd\n",
    "import seaborn as sns\n",
    "import matplotlib.pyplot as plt\n",
    "import warnings\n",
    "from tqdm import tqdm\n",
    "warnings.simplefilter(action='ignore', category=FutureWarning)\n",
    "tqdm.pandas()\n",
    "\n",
    "sys.path.append('src')\n",
    "from train_test import train_test_split\n",
    "from preprocessing import to_ratings, build_get_negative_ratings\n",
    "%load_ext autoreload\n",
    "%autoreload 2"
   ]
  },
  {
   "cell_type": "markdown",
   "id": "extreme-emerald",
   "metadata": {},
   "source": [
    "### Uploading the original dataset (uncomment if you need)"
   ]
  },
  {
   "cell_type": "code",
   "execution_count": 2,
   "id": "serial-haiti",
   "metadata": {},
   "outputs": [],
   "source": [
    "# ! sudo apt install curl\n",
    "# ! curl -O  http://mtg.upf.edu/static/datasets/last.fm/lastfm-dataset-360K.tar.gz"
   ]
  },
  {
   "cell_type": "code",
   "execution_count": 3,
   "id": "choice-treasurer",
   "metadata": {},
   "outputs": [],
   "source": [
    "# ! tar -xf ./lastfm-dataset-360K.tar.gz"
   ]
  },
  {
   "cell_type": "markdown",
   "id": "lesbian-lodge",
   "metadata": {},
   "source": [
    "### Reading the dataset"
   ]
  },
  {
   "cell_type": "code",
   "execution_count": 4,
   "id": "macro-cookbook",
   "metadata": {},
   "outputs": [],
   "source": [
    "datafolder = 'lastfm-dataset-360K'\n",
    "lastfm_360_demo = pd.read_csv(os.path.join(datafolder, 'usersha1-profile.tsv'), sep='\\t', header=None,\n",
    "                             names=['user_email', 'gender', 'age', 'country', 'signup'])\n",
    "lastfm_360_behav = pd.read_csv(os.path.join(datafolder, 'usersha1-artmbid-artname-plays.tsv'), sep='\\t', header=None, \n",
    "                              names=['user_email', 'artist_id', 'artist_name', 'plays'])"
   ]
  },
  {
   "cell_type": "markdown",
   "id": "detailed-employer",
   "metadata": {},
   "source": [
    "Number of interactions, users, and artists in the original dataset"
   ]
  },
  {
   "cell_type": "code",
   "execution_count": 5,
   "id": "obvious-operations",
   "metadata": {},
   "outputs": [
    {
     "data": {
      "text/plain": [
       "((359347, 5), (17535655, 4), 359347, 160112)"
      ]
     },
     "execution_count": 5,
     "metadata": {},
     "output_type": "execute_result"
    }
   ],
   "source": [
    "lastfm_360_demo.shape, lastfm_360_behav.shape, lastfm_360_demo.user_email.nunique(), lastfm_360_behav.artist_id.nunique()"
   ]
  },
  {
   "cell_type": "markdown",
   "id": "consistent-likelihood",
   "metadata": {},
   "source": [
    "Reduce the dataset to the USA users only in order to make the training process doable"
   ]
  },
  {
   "cell_type": "code",
   "execution_count": 6,
   "id": "corrected-indication",
   "metadata": {},
   "outputs": [],
   "source": [
    "lastfm_360_demo = lastfm_360_demo[lastfm_360_demo['country'] == 'United States']\n",
    "lastfm_360_behav = lastfm_360_behav[lastfm_360_behav['user_email'].isin(lastfm_360_demo['user_email'].unique())]"
   ]
  },
  {
   "cell_type": "markdown",
   "id": "fallen-storm",
   "metadata": {},
   "source": [
    "Number of interactions, users, and artists in the reduced dataset"
   ]
  },
  {
   "cell_type": "code",
   "execution_count": 7,
   "id": "coated-virus",
   "metadata": {},
   "outputs": [
    {
     "data": {
      "text/plain": [
       "((67044, 5), (3336272, 4), 67044, 84506)"
      ]
     },
     "execution_count": 7,
     "metadata": {},
     "output_type": "execute_result"
    }
   ],
   "source": [
    "lastfm_360_demo.shape, lastfm_360_behav.shape, lastfm_360_demo.user_email.nunique(), lastfm_360_behav.artist_id.nunique()"
   ]
  },
  {
   "cell_type": "markdown",
   "id": "identical-puppy",
   "metadata": {},
   "source": [
    "Transform \"signup\" column into datetime type"
   ]
  },
  {
   "cell_type": "code",
   "execution_count": 8,
   "id": "speaking-contrary",
   "metadata": {},
   "outputs": [],
   "source": [
    "lastfm_360_demo[\"signup\"] = pd.to_datetime(lastfm_360_demo.signup)"
   ]
  },
  {
   "cell_type": "markdown",
   "id": "empirical-campbell",
   "metadata": {},
   "source": [
    "Make users' IDs as numbers to reduce memory consumption"
   ]
  },
  {
   "cell_type": "code",
   "execution_count": 9,
   "id": "phantom-hours",
   "metadata": {},
   "outputs": [],
   "source": [
    "uniq_users = lastfm_360_demo['user_email'].unique()\n",
    "upd_users_ids = dict((id_, i) for i, id_ in enumerate(uniq_users))\n",
    "lastfm_360_demo['user_email'] = lastfm_360_demo['user_email'].map(lambda x: upd_users_ids[x])"
   ]
  },
  {
   "cell_type": "markdown",
   "id": "czech-playlist",
   "metadata": {},
   "source": [
    "### Cleaning demographic data"
   ]
  },
  {
   "cell_type": "code",
   "execution_count": 10,
   "id": "capital-january",
   "metadata": {},
   "outputs": [
    {
     "data": {
      "text/html": [
       "<div>\n",
       "<style scoped>\n",
       "    .dataframe tbody tr th:only-of-type {\n",
       "        vertical-align: middle;\n",
       "    }\n",
       "\n",
       "    .dataframe tbody tr th {\n",
       "        vertical-align: top;\n",
       "    }\n",
       "\n",
       "    .dataframe thead th {\n",
       "        text-align: right;\n",
       "    }\n",
       "</style>\n",
       "<table border=\"1\" class=\"dataframe\">\n",
       "  <thead>\n",
       "    <tr style=\"text-align: right;\">\n",
       "      <th></th>\n",
       "      <th>user_email</th>\n",
       "      <th>gender</th>\n",
       "      <th>age</th>\n",
       "      <th>country</th>\n",
       "      <th>signup</th>\n",
       "    </tr>\n",
       "  </thead>\n",
       "  <tbody>\n",
       "    <tr>\n",
       "      <th>4</th>\n",
       "      <td>0</td>\n",
       "      <td>m</td>\n",
       "      <td>28.0</td>\n",
       "      <td>United States</td>\n",
       "      <td>2006-01-27</td>\n",
       "    </tr>\n",
       "    <tr>\n",
       "      <th>11</th>\n",
       "      <td>1</td>\n",
       "      <td>NaN</td>\n",
       "      <td>23.0</td>\n",
       "      <td>United States</td>\n",
       "      <td>2007-05-12</td>\n",
       "    </tr>\n",
       "    <tr>\n",
       "      <th>15</th>\n",
       "      <td>2</td>\n",
       "      <td>m</td>\n",
       "      <td>23.0</td>\n",
       "      <td>United States</td>\n",
       "      <td>2005-08-19</td>\n",
       "    </tr>\n",
       "    <tr>\n",
       "      <th>19</th>\n",
       "      <td>3</td>\n",
       "      <td>m</td>\n",
       "      <td>30.0</td>\n",
       "      <td>United States</td>\n",
       "      <td>2006-08-23</td>\n",
       "    </tr>\n",
       "    <tr>\n",
       "      <th>21</th>\n",
       "      <td>4</td>\n",
       "      <td>f</td>\n",
       "      <td>26.0</td>\n",
       "      <td>United States</td>\n",
       "      <td>2008-12-05</td>\n",
       "    </tr>\n",
       "  </tbody>\n",
       "</table>\n",
       "</div>"
      ],
      "text/plain": [
       "    user_email gender   age        country     signup\n",
       "4            0      m  28.0  United States 2006-01-27\n",
       "11           1    NaN  23.0  United States 2007-05-12\n",
       "15           2      m  23.0  United States 2005-08-19\n",
       "19           3      m  30.0  United States 2006-08-23\n",
       "21           4      f  26.0  United States 2008-12-05"
      ]
     },
     "execution_count": 10,
     "metadata": {},
     "output_type": "execute_result"
    }
   ],
   "source": [
    "lastfm_360_demo.head()"
   ]
  },
  {
   "cell_type": "code",
   "execution_count": 11,
   "id": "direct-cornwall",
   "metadata": {},
   "outputs": [
    {
     "name": "stdout",
     "output_type": "stream",
     "text": [
      "<class 'pandas.core.frame.DataFrame'>\n",
      "Int64Index: 67044 entries, 4 to 359344\n",
      "Data columns (total 5 columns):\n",
      " #   Column      Non-Null Count  Dtype         \n",
      "---  ------      --------------  -----         \n",
      " 0   user_email  67044 non-null  int64         \n",
      " 1   gender      60534 non-null  object        \n",
      " 2   age         52286 non-null  float64       \n",
      " 3   country     67044 non-null  object        \n",
      " 4   signup      67044 non-null  datetime64[ns]\n",
      "dtypes: datetime64[ns](1), float64(1), int64(1), object(2)\n",
      "memory usage: 3.1+ MB\n"
     ]
    }
   ],
   "source": [
    "lastfm_360_demo.info()"
   ]
  },
  {
   "cell_type": "code",
   "execution_count": 12,
   "id": "formal-cotton",
   "metadata": {},
   "outputs": [
    {
     "data": {
      "text/html": [
       "<div>\n",
       "<style scoped>\n",
       "    .dataframe tbody tr th:only-of-type {\n",
       "        vertical-align: middle;\n",
       "    }\n",
       "\n",
       "    .dataframe tbody tr th {\n",
       "        vertical-align: top;\n",
       "    }\n",
       "\n",
       "    .dataframe thead th {\n",
       "        text-align: right;\n",
       "    }\n",
       "</style>\n",
       "<table border=\"1\" class=\"dataframe\">\n",
       "  <thead>\n",
       "    <tr style=\"text-align: right;\">\n",
       "      <th></th>\n",
       "      <th>user_email</th>\n",
       "      <th>gender</th>\n",
       "      <th>age</th>\n",
       "      <th>country</th>\n",
       "      <th>signup</th>\n",
       "    </tr>\n",
       "  </thead>\n",
       "  <tbody>\n",
       "    <tr>\n",
       "      <th>count</th>\n",
       "      <td>67044.000000</td>\n",
       "      <td>60534</td>\n",
       "      <td>52286.000000</td>\n",
       "      <td>67044</td>\n",
       "      <td>67044</td>\n",
       "    </tr>\n",
       "    <tr>\n",
       "      <th>unique</th>\n",
       "      <td>NaN</td>\n",
       "      <td>2</td>\n",
       "      <td>NaN</td>\n",
       "      <td>1</td>\n",
       "      <td>NaN</td>\n",
       "    </tr>\n",
       "    <tr>\n",
       "      <th>top</th>\n",
       "      <td>NaN</td>\n",
       "      <td>m</td>\n",
       "      <td>NaN</td>\n",
       "      <td>United States</td>\n",
       "      <td>NaN</td>\n",
       "    </tr>\n",
       "    <tr>\n",
       "      <th>freq</th>\n",
       "      <td>NaN</td>\n",
       "      <td>42730</td>\n",
       "      <td>NaN</td>\n",
       "      <td>67044</td>\n",
       "      <td>NaN</td>\n",
       "    </tr>\n",
       "    <tr>\n",
       "      <th>mean</th>\n",
       "      <td>33521.500000</td>\n",
       "      <td>NaN</td>\n",
       "      <td>26.052041</td>\n",
       "      <td>NaN</td>\n",
       "      <td>2007-04-18 18:15:36.889207040</td>\n",
       "    </tr>\n",
       "    <tr>\n",
       "      <th>min</th>\n",
       "      <td>0.000000</td>\n",
       "      <td>NaN</td>\n",
       "      <td>-1337.000000</td>\n",
       "      <td>NaN</td>\n",
       "      <td>2002-10-29 00:00:00</td>\n",
       "    </tr>\n",
       "    <tr>\n",
       "      <th>25%</th>\n",
       "      <td>16760.750000</td>\n",
       "      <td>NaN</td>\n",
       "      <td>20.000000</td>\n",
       "      <td>NaN</td>\n",
       "      <td>2006-05-09 00:00:00</td>\n",
       "    </tr>\n",
       "    <tr>\n",
       "      <th>50%</th>\n",
       "      <td>33521.500000</td>\n",
       "      <td>NaN</td>\n",
       "      <td>23.000000</td>\n",
       "      <td>NaN</td>\n",
       "      <td>2007-05-12 00:00:00</td>\n",
       "    </tr>\n",
       "    <tr>\n",
       "      <th>75%</th>\n",
       "      <td>50282.250000</td>\n",
       "      <td>NaN</td>\n",
       "      <td>29.000000</td>\n",
       "      <td>NaN</td>\n",
       "      <td>2008-05-19 00:00:00</td>\n",
       "    </tr>\n",
       "    <tr>\n",
       "      <th>max</th>\n",
       "      <td>67043.000000</td>\n",
       "      <td>NaN</td>\n",
       "      <td>109.000000</td>\n",
       "      <td>NaN</td>\n",
       "      <td>2009-11-02 00:00:00</td>\n",
       "    </tr>\n",
       "    <tr>\n",
       "      <th>std</th>\n",
       "      <td>19354.080061</td>\n",
       "      <td>NaN</td>\n",
       "      <td>16.696610</td>\n",
       "      <td>NaN</td>\n",
       "      <td>NaN</td>\n",
       "    </tr>\n",
       "  </tbody>\n",
       "</table>\n",
       "</div>"
      ],
      "text/plain": [
       "          user_email gender           age        country  \\\n",
       "count   67044.000000  60534  52286.000000          67044   \n",
       "unique           NaN      2           NaN              1   \n",
       "top              NaN      m           NaN  United States   \n",
       "freq             NaN  42730           NaN          67044   \n",
       "mean    33521.500000    NaN     26.052041            NaN   \n",
       "min         0.000000    NaN  -1337.000000            NaN   \n",
       "25%     16760.750000    NaN     20.000000            NaN   \n",
       "50%     33521.500000    NaN     23.000000            NaN   \n",
       "75%     50282.250000    NaN     29.000000            NaN   \n",
       "max     67043.000000    NaN    109.000000            NaN   \n",
       "std     19354.080061    NaN     16.696610            NaN   \n",
       "\n",
       "                               signup  \n",
       "count                           67044  \n",
       "unique                            NaN  \n",
       "top                               NaN  \n",
       "freq                              NaN  \n",
       "mean    2007-04-18 18:15:36.889207040  \n",
       "min               2002-10-29 00:00:00  \n",
       "25%               2006-05-09 00:00:00  \n",
       "50%               2007-05-12 00:00:00  \n",
       "75%               2008-05-19 00:00:00  \n",
       "max               2009-11-02 00:00:00  \n",
       "std                               NaN  "
      ]
     },
     "execution_count": 12,
     "metadata": {},
     "output_type": "execute_result"
    }
   ],
   "source": [
    "lastfm_360_demo.describe(include='all', datetime_is_numeric=True)"
   ]
  },
  {
   "cell_type": "markdown",
   "id": "extreme-ministry",
   "metadata": {},
   "source": [
    "It is seen that 'gender' and 'age' columns have missing values. Moreover, we can see that there are weitd ages, e.g. -1337. The 'country' columns is not needed as since all users are from the USA. The information about users are gathered from 2002 to 2009."
   ]
  },
  {
   "cell_type": "markdown",
   "id": "mobile-hearts",
   "metadata": {},
   "source": [
    "Then, we should process demographic data. First, we put unrealistic ages as NaNs."
   ]
  },
  {
   "cell_type": "code",
   "execution_count": 13,
   "id": "demonstrated-prairie",
   "metadata": {},
   "outputs": [],
   "source": [
    "ages = lastfm_360_demo['age'].unique()\n",
    "lastfm_360_demo['age'].replace(ages[ages > 99], np.nan, inplace=True)\n",
    "lastfm_360_demo['age'].replace(ages[ages < 8], np.nan, inplace=True)"
   ]
  },
  {
   "cell_type": "markdown",
   "id": "healthy-citizenship",
   "metadata": {},
   "source": [
    "Make one-hot encoding for gender, country, and age with sure that NaNs have some pattern"
   ]
  },
  {
   "cell_type": "code",
   "execution_count": 14,
   "id": "instructional-agent",
   "metadata": {},
   "outputs": [],
   "source": [
    "lastfm_360_demo = lastfm_360_demo.join(pd.get_dummies(lastfm_360_demo['gender']))\n",
    "lastfm_360_demo = lastfm_360_demo.drop('gender', axis=1)\n",
    "lastfm_360_demo = lastfm_360_demo.join(pd.get_dummies(lastfm_360_demo['age']))\n",
    "lastfm_360_demo = lastfm_360_demo.drop('age', axis=1)"
   ]
  },
  {
   "cell_type": "markdown",
   "id": "appreciated-letters",
   "metadata": {},
   "source": [
    "Extract features from sign-up date"
   ]
  },
  {
   "cell_type": "code",
   "execution_count": 15,
   "id": "healthy-slide",
   "metadata": {},
   "outputs": [],
   "source": [
    "lastfm_360_demo['year'] = lastfm_360_demo['signup'].dt.year\n",
    "lastfm_360_demo['month'] = lastfm_360_demo['signup'].dt.month\n",
    "lastfm_360_demo['weekday'] = lastfm_360_demo['signup'].dt.weekday\n",
    "lastfm_360_demo['day'] = lastfm_360_demo['signup'].dt.day\n",
    "lastfm_360_demo = lastfm_360_demo.drop(columns='signup') \n",
    "lastfm_360_demo = pd.concat([lastfm_360_demo, pd.get_dummies(lastfm_360_demo['year'])], axis=1)\n",
    "lastfm_360_demo = pd.concat([lastfm_360_demo, pd.get_dummies(lastfm_360_demo['month'])], axis=1)\n",
    "lastfm_360_demo = pd.concat([lastfm_360_demo, pd.get_dummies(lastfm_360_demo['day'])], axis=1)\n",
    "lastfm_360_demo = pd.concat([lastfm_360_demo, pd.get_dummies(lastfm_360_demo['weekday'])], axis=1)\n",
    "lastfm_360_demo = lastfm_360_demo.drop(columns=['year', 'month', 'weekday', 'day']) "
   ]
  },
  {
   "cell_type": "markdown",
   "id": "registered-public",
   "metadata": {},
   "source": [
    "### Exploring and cleaning behavioral data"
   ]
  },
  {
   "cell_type": "code",
   "execution_count": 16,
   "id": "neutral-familiar",
   "metadata": {},
   "outputs": [
    {
     "data": {
      "text/html": [
       "<div>\n",
       "<style scoped>\n",
       "    .dataframe tbody tr th:only-of-type {\n",
       "        vertical-align: middle;\n",
       "    }\n",
       "\n",
       "    .dataframe tbody tr th {\n",
       "        vertical-align: top;\n",
       "    }\n",
       "\n",
       "    .dataframe thead th {\n",
       "        text-align: right;\n",
       "    }\n",
       "</style>\n",
       "<table border=\"1\" class=\"dataframe\">\n",
       "  <thead>\n",
       "    <tr style=\"text-align: right;\">\n",
       "      <th></th>\n",
       "      <th>user_email</th>\n",
       "      <th>artist_id</th>\n",
       "      <th>artist_name</th>\n",
       "      <th>plays</th>\n",
       "    </tr>\n",
       "  </thead>\n",
       "  <tbody>\n",
       "    <tr>\n",
       "      <th>195</th>\n",
       "      <td>00007a47085b9aab8af55f52ec8846ac479ac4fe</td>\n",
       "      <td>0110e63e-0a9b-4818-af8e-41e180c20b9a</td>\n",
       "      <td>devendra banhart</td>\n",
       "      <td>456</td>\n",
       "    </tr>\n",
       "    <tr>\n",
       "      <th>196</th>\n",
       "      <td>00007a47085b9aab8af55f52ec8846ac479ac4fe</td>\n",
       "      <td>69158f97-4c07-4c4e-baf8-4e4ab1ed666e</td>\n",
       "      <td>boards of canada</td>\n",
       "      <td>407</td>\n",
       "    </tr>\n",
       "    <tr>\n",
       "      <th>197</th>\n",
       "      <td>00007a47085b9aab8af55f52ec8846ac479ac4fe</td>\n",
       "      <td>e162b2eb-6a42-4240-8c1b-c94d9a0acb73</td>\n",
       "      <td>cocorosie</td>\n",
       "      <td>386</td>\n",
       "    </tr>\n",
       "    <tr>\n",
       "      <th>198</th>\n",
       "      <td>00007a47085b9aab8af55f52ec8846ac479ac4fe</td>\n",
       "      <td>f22942a1-6f70-4f48-866e-238cb2308fbd</td>\n",
       "      <td>aphex twin</td>\n",
       "      <td>213</td>\n",
       "    </tr>\n",
       "    <tr>\n",
       "      <th>199</th>\n",
       "      <td>00007a47085b9aab8af55f52ec8846ac479ac4fe</td>\n",
       "      <td>0c751690-c784-4a4f-b1e4-c1de27d47581</td>\n",
       "      <td>animal collective</td>\n",
       "      <td>203</td>\n",
       "    </tr>\n",
       "  </tbody>\n",
       "</table>\n",
       "</div>"
      ],
      "text/plain": [
       "                                   user_email  \\\n",
       "195  00007a47085b9aab8af55f52ec8846ac479ac4fe   \n",
       "196  00007a47085b9aab8af55f52ec8846ac479ac4fe   \n",
       "197  00007a47085b9aab8af55f52ec8846ac479ac4fe   \n",
       "198  00007a47085b9aab8af55f52ec8846ac479ac4fe   \n",
       "199  00007a47085b9aab8af55f52ec8846ac479ac4fe   \n",
       "\n",
       "                                artist_id        artist_name  plays  \n",
       "195  0110e63e-0a9b-4818-af8e-41e180c20b9a   devendra banhart    456  \n",
       "196  69158f97-4c07-4c4e-baf8-4e4ab1ed666e   boards of canada    407  \n",
       "197  e162b2eb-6a42-4240-8c1b-c94d9a0acb73          cocorosie    386  \n",
       "198  f22942a1-6f70-4f48-866e-238cb2308fbd         aphex twin    213  \n",
       "199  0c751690-c784-4a4f-b1e4-c1de27d47581  animal collective    203  "
      ]
     },
     "execution_count": 16,
     "metadata": {},
     "output_type": "execute_result"
    }
   ],
   "source": [
    "lastfm_360_behav.head()"
   ]
  },
  {
   "cell_type": "code",
   "execution_count": 17,
   "id": "specific-supply",
   "metadata": {},
   "outputs": [
    {
     "name": "stdout",
     "output_type": "stream",
     "text": [
      "<class 'pandas.core.frame.DataFrame'>\n",
      "Int64Index: 3336272 entries, 195 to 17535535\n",
      "Data columns (total 4 columns):\n",
      " #   Column       Dtype \n",
      "---  ------       ----- \n",
      " 0   user_email   object\n",
      " 1   artist_id    object\n",
      " 2   artist_name  object\n",
      " 3   plays        int64 \n",
      "dtypes: int64(1), object(3)\n",
      "memory usage: 127.3+ MB\n"
     ]
    }
   ],
   "source": [
    "lastfm_360_behav.info()"
   ]
  },
  {
   "cell_type": "code",
   "execution_count": 18,
   "id": "looking-gibraltar",
   "metadata": {},
   "outputs": [
    {
     "data": {
      "text/html": [
       "<div>\n",
       "<style scoped>\n",
       "    .dataframe tbody tr th:only-of-type {\n",
       "        vertical-align: middle;\n",
       "    }\n",
       "\n",
       "    .dataframe tbody tr th {\n",
       "        vertical-align: top;\n",
       "    }\n",
       "\n",
       "    .dataframe thead th {\n",
       "        text-align: right;\n",
       "    }\n",
       "</style>\n",
       "<table border=\"1\" class=\"dataframe\">\n",
       "  <thead>\n",
       "    <tr style=\"text-align: right;\">\n",
       "      <th></th>\n",
       "      <th>user_email</th>\n",
       "      <th>artist_id</th>\n",
       "      <th>artist_name</th>\n",
       "      <th>plays</th>\n",
       "    </tr>\n",
       "  </thead>\n",
       "  <tbody>\n",
       "    <tr>\n",
       "      <th>count</th>\n",
       "      <td>3336272</td>\n",
       "      <td>3298989</td>\n",
       "      <td>3336237</td>\n",
       "      <td>3.336272e+06</td>\n",
       "    </tr>\n",
       "    <tr>\n",
       "      <th>unique</th>\n",
       "      <td>66949</td>\n",
       "      <td>84506</td>\n",
       "      <td>114123</td>\n",
       "      <td>NaN</td>\n",
       "    </tr>\n",
       "    <tr>\n",
       "      <th>top</th>\n",
       "      <td>13c0df8a58cd3ca9e37d8e90662d2ad3c062eaa5</td>\n",
       "      <td>b10bbbfc-cf9e-42e0-be17-e2c3e1d2600d</td>\n",
       "      <td>the beatles</td>\n",
       "      <td>NaN</td>\n",
       "    </tr>\n",
       "    <tr>\n",
       "      <th>freq</th>\n",
       "      <td>166</td>\n",
       "      <td>22186</td>\n",
       "      <td>22180</td>\n",
       "      <td>NaN</td>\n",
       "    </tr>\n",
       "    <tr>\n",
       "      <th>mean</th>\n",
       "      <td>NaN</td>\n",
       "      <td>NaN</td>\n",
       "      <td>NaN</td>\n",
       "      <td>2.555277e+02</td>\n",
       "    </tr>\n",
       "    <tr>\n",
       "      <th>std</th>\n",
       "      <td>NaN</td>\n",
       "      <td>NaN</td>\n",
       "      <td>NaN</td>\n",
       "      <td>7.066286e+02</td>\n",
       "    </tr>\n",
       "    <tr>\n",
       "      <th>min</th>\n",
       "      <td>NaN</td>\n",
       "      <td>NaN</td>\n",
       "      <td>NaN</td>\n",
       "      <td>1.000000e+00</td>\n",
       "    </tr>\n",
       "    <tr>\n",
       "      <th>25%</th>\n",
       "      <td>NaN</td>\n",
       "      <td>NaN</td>\n",
       "      <td>NaN</td>\n",
       "      <td>4.700000e+01</td>\n",
       "    </tr>\n",
       "    <tr>\n",
       "      <th>50%</th>\n",
       "      <td>NaN</td>\n",
       "      <td>NaN</td>\n",
       "      <td>NaN</td>\n",
       "      <td>1.180000e+02</td>\n",
       "    </tr>\n",
       "    <tr>\n",
       "      <th>75%</th>\n",
       "      <td>NaN</td>\n",
       "      <td>NaN</td>\n",
       "      <td>NaN</td>\n",
       "      <td>2.660000e+02</td>\n",
       "    </tr>\n",
       "    <tr>\n",
       "      <th>max</th>\n",
       "      <td>NaN</td>\n",
       "      <td>NaN</td>\n",
       "      <td>NaN</td>\n",
       "      <td>2.883750e+05</td>\n",
       "    </tr>\n",
       "  </tbody>\n",
       "</table>\n",
       "</div>"
      ],
      "text/plain": [
       "                                      user_email  \\\n",
       "count                                    3336272   \n",
       "unique                                     66949   \n",
       "top     13c0df8a58cd3ca9e37d8e90662d2ad3c062eaa5   \n",
       "freq                                         166   \n",
       "mean                                         NaN   \n",
       "std                                          NaN   \n",
       "min                                          NaN   \n",
       "25%                                          NaN   \n",
       "50%                                          NaN   \n",
       "75%                                          NaN   \n",
       "max                                          NaN   \n",
       "\n",
       "                                   artist_id  artist_name         plays  \n",
       "count                                3298989      3336237  3.336272e+06  \n",
       "unique                                 84506       114123           NaN  \n",
       "top     b10bbbfc-cf9e-42e0-be17-e2c3e1d2600d  the beatles           NaN  \n",
       "freq                                   22186        22180           NaN  \n",
       "mean                                     NaN          NaN  2.555277e+02  \n",
       "std                                      NaN          NaN  7.066286e+02  \n",
       "min                                      NaN          NaN  1.000000e+00  \n",
       "25%                                      NaN          NaN  4.700000e+01  \n",
       "50%                                      NaN          NaN  1.180000e+02  \n",
       "75%                                      NaN          NaN  2.660000e+02  \n",
       "max                                      NaN          NaN  2.883750e+05  "
      ]
     },
     "execution_count": 18,
     "metadata": {},
     "output_type": "execute_result"
    }
   ],
   "source": [
    "lastfm_360_behav.describe(include='all', datetime_is_numeric=True)"
   ]
  },
  {
   "cell_type": "code",
   "execution_count": 19,
   "id": "european-amino",
   "metadata": {},
   "outputs": [
    {
     "data": {
      "text/plain": [
       "user_email         0\n",
       "artist_id      37283\n",
       "artist_name       35\n",
       "plays              0\n",
       "dtype: int64"
      ]
     },
     "execution_count": 19,
     "metadata": {},
     "output_type": "execute_result"
    }
   ],
   "source": [
    "lastfm_360_behav.isna().sum(0)"
   ]
  },
  {
   "cell_type": "markdown",
   "id": "animal-spread",
   "metadata": {},
   "source": [
    "We drop samples with missed artist's name because there are no many of them and it is only one artist in 35 cases and an artist that doesn't have the name and the ID in 2 cases."
   ]
  },
  {
   "cell_type": "code",
   "execution_count": 20,
   "id": "favorite-frank",
   "metadata": {},
   "outputs": [
    {
     "data": {
      "text/plain": [
       "(35, 4)"
      ]
     },
     "execution_count": 20,
     "metadata": {},
     "output_type": "execute_result"
    }
   ],
   "source": [
    "lastfm_360_behav.loc[lastfm_360_behav['artist_name'].isnull()].shape"
   ]
  },
  {
   "cell_type": "code",
   "execution_count": 21,
   "id": "amateur-modern",
   "metadata": {},
   "outputs": [],
   "source": [
    "lastfm_360_behav = lastfm_360_behav.drop(lastfm_360_behav.loc[lastfm_360_behav['artist_name'].isnull()].index)"
   ]
  },
  {
   "cell_type": "markdown",
   "id": "thirty-kitchen",
   "metadata": {},
   "source": [
    "Since the part of samples where ID is missed makes up about 1% of data and don't include important systematic patterns like feats or the most popular artists, we drop it for simplicity. (another approach would be to say that the ID is equal names but this might make data incorrect because names are not unique at all)"
   ]
  },
  {
   "cell_type": "code",
   "execution_count": 22,
   "id": "middle-processing",
   "metadata": {},
   "outputs": [
    {
     "data": {
      "text/html": [
       "<div>\n",
       "<style scoped>\n",
       "    .dataframe tbody tr th:only-of-type {\n",
       "        vertical-align: middle;\n",
       "    }\n",
       "\n",
       "    .dataframe tbody tr th {\n",
       "        vertical-align: top;\n",
       "    }\n",
       "\n",
       "    .dataframe thead th {\n",
       "        text-align: right;\n",
       "    }\n",
       "</style>\n",
       "<table border=\"1\" class=\"dataframe\">\n",
       "  <thead>\n",
       "    <tr style=\"text-align: right;\">\n",
       "      <th></th>\n",
       "      <th>user_email</th>\n",
       "      <th>artist_id</th>\n",
       "      <th>artist_name</th>\n",
       "      <th>plays</th>\n",
       "    </tr>\n",
       "  </thead>\n",
       "  <tbody>\n",
       "    <tr>\n",
       "      <th>241</th>\n",
       "      <td>00007a47085b9aab8af55f52ec8846ac479ac4fe</td>\n",
       "      <td>NaN</td>\n",
       "      <td>apes &amp; androids</td>\n",
       "      <td>67</td>\n",
       "    </tr>\n",
       "    <tr>\n",
       "      <th>605</th>\n",
       "      <td>0001a57568309b287363e72dc682e9a170ba6dc2</td>\n",
       "      <td>NaN</td>\n",
       "      <td>haircut 100</td>\n",
       "      <td>83</td>\n",
       "    </tr>\n",
       "    <tr>\n",
       "      <th>1038</th>\n",
       "      <td>00032c7933e0eb05f2258f1147ef81a90f2d4d6c</td>\n",
       "      <td>NaN</td>\n",
       "      <td>parragon books</td>\n",
       "      <td>215</td>\n",
       "    </tr>\n",
       "    <tr>\n",
       "      <th>1353</th>\n",
       "      <td>00041cbfdd019b5431f926133266cc4ba38219bb</td>\n",
       "      <td>NaN</td>\n",
       "      <td>bent banana harper</td>\n",
       "      <td>309</td>\n",
       "    </tr>\n",
       "    <tr>\n",
       "      <th>1938</th>\n",
       "      <td>000701c3c006b091990162635b36b008c504c6a7</td>\n",
       "      <td>NaN</td>\n",
       "      <td>aqua teen hunger force colon movie film for th...</td>\n",
       "      <td>108</td>\n",
       "    </tr>\n",
       "    <tr>\n",
       "      <th>...</th>\n",
       "      <td>...</td>\n",
       "      <td>...</td>\n",
       "      <td>...</td>\n",
       "      <td>...</td>\n",
       "    </tr>\n",
       "    <tr>\n",
       "      <th>17531694</th>\n",
       "      <td>fff1e43c0de9a713783f1c92f65afb0b8b74498b</td>\n",
       "      <td>NaN</td>\n",
       "      <td>perlman &amp; peterson</td>\n",
       "      <td>9</td>\n",
       "    </tr>\n",
       "    <tr>\n",
       "      <th>17532868</th>\n",
       "      <td>fff58a5c95280b7af63f9c552f9159b58ae5efa3</td>\n",
       "      <td>NaN</td>\n",
       "      <td>chase kreger</td>\n",
       "      <td>144</td>\n",
       "    </tr>\n",
       "    <tr>\n",
       "      <th>17533020</th>\n",
       "      <td>fff694cf332ed701dccbf17f1d9595ba8ad69f22</td>\n",
       "      <td>NaN</td>\n",
       "      <td>super heros invasion</td>\n",
       "      <td>171</td>\n",
       "    </tr>\n",
       "    <tr>\n",
       "      <th>17534145</th>\n",
       "      <td>fffaf6f9a1a3ad8bd0dff7b48b2eb9eef030fdee</td>\n",
       "      <td>NaN</td>\n",
       "      <td>drumlines</td>\n",
       "      <td>184</td>\n",
       "    </tr>\n",
       "    <tr>\n",
       "      <th>17535486</th>\n",
       "      <td>fffe8c7f952d9b960a56ed4dcb40a415d924b224</td>\n",
       "      <td>NaN</td>\n",
       "      <td>bionic commando</td>\n",
       "      <td>235</td>\n",
       "    </tr>\n",
       "  </tbody>\n",
       "</table>\n",
       "<p>37281 rows × 4 columns</p>\n",
       "</div>"
      ],
      "text/plain": [
       "                                        user_email artist_id  \\\n",
       "241       00007a47085b9aab8af55f52ec8846ac479ac4fe       NaN   \n",
       "605       0001a57568309b287363e72dc682e9a170ba6dc2       NaN   \n",
       "1038      00032c7933e0eb05f2258f1147ef81a90f2d4d6c       NaN   \n",
       "1353      00041cbfdd019b5431f926133266cc4ba38219bb       NaN   \n",
       "1938      000701c3c006b091990162635b36b008c504c6a7       NaN   \n",
       "...                                            ...       ...   \n",
       "17531694  fff1e43c0de9a713783f1c92f65afb0b8b74498b       NaN   \n",
       "17532868  fff58a5c95280b7af63f9c552f9159b58ae5efa3       NaN   \n",
       "17533020  fff694cf332ed701dccbf17f1d9595ba8ad69f22       NaN   \n",
       "17534145  fffaf6f9a1a3ad8bd0dff7b48b2eb9eef030fdee       NaN   \n",
       "17535486  fffe8c7f952d9b960a56ed4dcb40a415d924b224       NaN   \n",
       "\n",
       "                                                artist_name  plays  \n",
       "241                                         apes & androids     67  \n",
       "605                                             haircut 100     83  \n",
       "1038                                         parragon books    215  \n",
       "1353                                     bent banana harper    309  \n",
       "1938      aqua teen hunger force colon movie film for th...    108  \n",
       "...                                                     ...    ...  \n",
       "17531694                                 perlman & peterson      9  \n",
       "17532868                                       chase kreger    144  \n",
       "17533020                               super heros invasion    171  \n",
       "17534145                                          drumlines    184  \n",
       "17535486                                    bionic commando    235  \n",
       "\n",
       "[37281 rows x 4 columns]"
      ]
     },
     "execution_count": 22,
     "metadata": {},
     "output_type": "execute_result"
    }
   ],
   "source": [
    "lastfm_360_behav.loc[lastfm_360_behav['artist_id'].isnull()]"
   ]
  },
  {
   "cell_type": "code",
   "execution_count": 23,
   "id": "beginning-springfield",
   "metadata": {},
   "outputs": [],
   "source": [
    "lastfm_360_behav = lastfm_360_behav.drop(lastfm_360_behav.loc[lastfm_360_behav['artist_id'].isnull()].index)"
   ]
  },
  {
   "cell_type": "markdown",
   "id": "color-string",
   "metadata": {},
   "source": [
    "There are cases where one ID corresponds several artists names. We fix it by assigning one name to all entries of a given ID"
   ]
  },
  {
   "cell_type": "code",
   "execution_count": 24,
   "id": "rational-grocery",
   "metadata": {},
   "outputs": [],
   "source": [
    "uniq_artist_names = lastfm_360_behav.groupby('artist_id')['artist_name'].unique()\n",
    "lastfm_360_behav['artist_name'] = lastfm_360_behav.apply(lambda x: uniq_artist_names[x['artist_id']][0], axis=1)"
   ]
  },
  {
   "cell_type": "markdown",
   "id": "legislative-static",
   "metadata": {},
   "source": [
    "Make artists' and users' IDs as numbers"
   ]
  },
  {
   "cell_type": "code",
   "execution_count": 25,
   "id": "through-winter",
   "metadata": {},
   "outputs": [],
   "source": [
    "uniq_artist_ids = lastfm_360_behav['artist_id'].unique()\n",
    "upd_ids = dict((id_, i) for i, id_ in enumerate(uniq_artist_ids))\n",
    "lastfm_360_behav['artist_id'] = lastfm_360_behav['artist_id'].map(lambda x: upd_ids[x])\n",
    "lastfm_360_behav['user_email'] = lastfm_360_behav['user_email'].map(lambda x: upd_users_ids[x])"
   ]
  },
  {
   "cell_type": "markdown",
   "id": "industrial-start",
   "metadata": {},
   "source": [
    "Drop users who have a number of plays equals to number of different users because the following processing can result in unreasonable high ratings for artists and these users loooks like those who came to check the platform but don't use it permanently. There are only 18 such users."
   ]
  },
  {
   "cell_type": "code",
   "execution_count": 26,
   "id": "headed-venue",
   "metadata": {},
   "outputs": [],
   "source": [
    "inactive_users = lastfm_360_behav.groupby('user_email').filter(\n",
    "    lambda x: x['plays'].count() == x['plays'].sum())['user_email'].unique()\n",
    "lastfm_360_behav = lastfm_360_behav[~lastfm_360_behav['user_email'].isin(inactive_users)]\n",
    "lastfm_360_demo = lastfm_360_demo[~lastfm_360_demo['user_email'].isin(inactive_users)]"
   ]
  },
  {
   "cell_type": "code",
   "execution_count": 27,
   "id": "thorough-student",
   "metadata": {},
   "outputs": [
    {
     "name": "stdout",
     "output_type": "stream",
     "text": [
      "(84497,)\n",
      "(66928,)\n",
      "(67026,)\n"
     ]
    }
   ],
   "source": [
    "print(lastfm_360_behav.artist_id.unique().shape)\n",
    "print(lastfm_360_behav.user_email.unique().shape)\n",
    "print(lastfm_360_demo.user_email.unique().shape)"
   ]
  },
  {
   "cell_type": "markdown",
   "id": "refined-macintosh",
   "metadata": {},
   "source": [
    "We can see that there are more users that don't have records in the behavioral part of the dataset. Let us drop them because it is about 500 users, i.e. ~0.1%."
   ]
  },
  {
   "cell_type": "code",
   "execution_count": 28,
   "id": "hourly-radiation",
   "metadata": {},
   "outputs": [],
   "source": [
    "no_plays_users = list(set(lastfm_360_demo.user_email.unique()).symmetric_difference(\n",
    "    set(lastfm_360_behav.user_email.unique())))\n",
    "lastfm_360_demo = lastfm_360_demo[~lastfm_360_demo.user_email.isin(no_plays_users)]"
   ]
  },
  {
   "cell_type": "code",
   "execution_count": 29,
   "id": "demographic-madison",
   "metadata": {},
   "outputs": [
    {
     "name": "stdout",
     "output_type": "stream",
     "text": [
      "(66928,)\n",
      "(66928,)\n"
     ]
    }
   ],
   "source": [
    "print(lastfm_360_behav.user_email.unique().shape)\n",
    "print(lastfm_360_demo.user_email.unique().shape)"
   ]
  },
  {
   "cell_type": "markdown",
   "id": "virtual-coating",
   "metadata": {},
   "source": [
    "### Transforming implicit feedback to explicit (plays $\\to$ ratings)"
   ]
  },
  {
   "cell_type": "markdown",
   "id": "hawaiian-investment",
   "metadata": {},
   "source": [
    "There are few very popular artists, all others have much less plays"
   ]
  },
  {
   "cell_type": "code",
   "execution_count": 30,
   "id": "theoretical-british",
   "metadata": {},
   "outputs": [
    {
     "data": {
      "image/png": "[encoded data removed]",
      "text/plain": [
       "<Figure size 432x288 with 1 Axes>"
      ]
     },
     "metadata": {
      "needs_background": "light"
     },
     "output_type": "display_data"
    }
   ],
   "source": [
    "artist_plays = lastfm_360_behav.groupby('artist_name')['plays'].sum().sort_values(ascending=False)\n",
    "# sns.distplot(artist_plays[:100])\n",
    "g = artist_plays[:2000].plot()\n",
    "g.set_ylabel('Plays')\n",
    "g.set_xlabel('Artist name')\n",
    "g.set_xticklabels(g.get_xticklabels(), rotation=45)\n",
    "plt.savefig('figs/plays_vs_artists.png')"
   ]
  },
  {
   "cell_type": "markdown",
   "id": "working-opening",
   "metadata": {},
   "source": [
    "We can see that the distribution of the plays is highly concentrated around a small number of plays. "
   ]
  },
  {
   "cell_type": "code",
   "execution_count": 31,
   "id": "liquid-arrangement",
   "metadata": {},
   "outputs": [
    {
     "data": {
      "image/png": "[encoded data removed]",
      "text/plain": [
       "<Figure size 432x288 with 1 Axes>"
      ]
     },
     "metadata": {
      "needs_background": "light"
     },
     "output_type": "display_data"
    }
   ],
   "source": [
    "g = sns.distplot(lastfm_360_behav['plays'])\n",
    "g.set_title('Density of plays \\n for the USA')\n",
    "plt.savefig('figs/plays_dens.png')"
   ]
  },
  {
   "cell_type": "markdown",
   "id": "graphic-values",
   "metadata": {},
   "source": [
    "The logarithm function makes it closer to gaussian, however it doesn't solve the problem of low plays overfitting"
   ]
  },
  {
   "cell_type": "code",
   "execution_count": 32,
   "id": "historical-diagram",
   "metadata": {},
   "outputs": [
    {
     "data": {
      "image/png": "[encoded data removed]",
      "text/plain": [
       "<Figure size 432x288 with 1 Axes>"
      ]
     },
     "metadata": {
      "needs_background": "light"
     },
     "output_type": "display_data"
    }
   ],
   "source": [
    "g = sns.distplot(np.log(lastfm_360_behav['plays']))\n",
    "g.set_title('Density of log plays \\n for the USA')\n",
    "g.set_xlabel('Log plays')\n",
    "plt.savefig('figs/log_plays_all.png')"
   ]
  },
  {
   "cell_type": "markdown",
   "id": "anticipated-philadelphia",
   "metadata": {},
   "source": [
    "It is much better to move plays into ratings as below"
   ]
  },
  {
   "cell_type": "code",
   "execution_count": 33,
   "id": "sensitive-burner",
   "metadata": {},
   "outputs": [],
   "source": [
    "lastfm_360_behav['norm_plays'] = lastfm_360_behav.groupby('user_email')['plays'].apply(lambda x: x / x.sum())"
   ]
  },
  {
   "cell_type": "code",
   "execution_count": 34,
   "id": "decent-aside",
   "metadata": {},
   "outputs": [],
   "source": [
    "groupped = lastfm_360_behav.groupby('user_email').apply(to_ratings)\n",
    "lastfm_360_behav = groupped.drop(columns='user_email').reset_index().drop(columns='level_1').rename(\n",
    "    columns={'norm_plays': 'rating'})"
   ]
  },
  {
   "cell_type": "code",
   "execution_count": 35,
   "id": "cordless-sunrise",
   "metadata": {},
   "outputs": [
    {
     "data": {
      "image/png": "[encoded data removed]",
      "text/plain": [
       "<Figure size 432x288 with 1 Axes>"
      ]
     },
     "metadata": {
      "needs_background": "light"
     },
     "output_type": "display_data"
    }
   ],
   "source": [
    "g = sns.distplot(lastfm_360_behav['rating'])\n",
    "g.set_title('Density of ratings')\n",
    "plt.savefig('figs/ratings.png')"
   ]
  },
  {
   "cell_type": "markdown",
   "id": "virgin-yacht",
   "metadata": {},
   "source": [
    "### Splitting behavioral data into train, validation and test"
   ]
  },
  {
   "cell_type": "code",
   "execution_count": 36,
   "id": "negative-choir",
   "metadata": {},
   "outputs": [],
   "source": [
    "ratings = lastfm_360_behav[['user_email', 'artist_id', 'rating']]\n",
    "train, test = train_test_split(ratings, test_frac=0.1)\n",
    "train, valid = train_test_split(train, test_frac=0.1)"
   ]
  },
  {
   "cell_type": "code",
   "execution_count": 37,
   "id": "operating-nudist",
   "metadata": {},
   "outputs": [],
   "source": [
    "lastfm_360_behav.to_csv(os.path.join(datafolder, 'behav-360k-processed.csv'), index=False)\n",
    "lastfm_360_demo.to_csv(os.path.join(datafolder, 'demo-360k-processed.csv'), index=False)"
   ]
  },
  {
   "cell_type": "code",
   "execution_count": 39,
   "id": "contained-benchmark",
   "metadata": {},
   "outputs": [
    {
     "name": "stderr",
     "output_type": "stream",
     "text": [
      "100%|██████████| 66928/66928 [14:32<00:00, 76.66it/s] \n"
     ]
    }
   ],
   "source": [
    "all_artists = set(ratings['artist_id'].unique())\n",
    "get_negative_ratings = build_get_negative_ratings(all_artists, factor=10)\n",
    "negative_ratings = ratings.groupby('user_email').progress_apply(get_negative_ratings)\n",
    "negative_ratings = negative_ratings.reset_index().drop(columns='level_1')"
   ]
  },
  {
   "cell_type": "code",
   "execution_count": 40,
   "id": "advisory-thesaurus",
   "metadata": {},
   "outputs": [],
   "source": [
    "negative_train, negative_test = train_test_split(negative_ratings, test_frac=0.9)\n",
    "negative_train, negative_valid = train_test_split(negative_train, test_frac=0.1)"
   ]
  },
  {
   "cell_type": "code",
   "execution_count": 41,
   "id": "liquid-surface",
   "metadata": {},
   "outputs": [],
   "source": [
    "train = train.append(negative_train)\n",
    "valid = valid.append(negative_valid)\n",
    "test = test.append(negative_test)"
   ]
  },
  {
   "cell_type": "code",
   "execution_count": 42,
   "id": "premier-variable",
   "metadata": {},
   "outputs": [],
   "source": [
    "train = train.sample(frac=1).reset_index(drop=True) "
   ]
  },
  {
   "cell_type": "code",
   "execution_count": 43,
   "id": "motivated-inflation",
   "metadata": {},
   "outputs": [
    {
     "name": "stdout",
     "output_type": "stream",
     "text": [
      "(5644266, 3) (620749, 3) (30022346, 3) (3298851, 3)\n"
     ]
    }
   ],
   "source": [
    "print(train.shape, valid.shape, test.shape, ratings.shape)"
   ]
  },
  {
   "cell_type": "markdown",
   "id": "animal-jason",
   "metadata": {},
   "source": [
    "### Saving clean dataset"
   ]
  },
  {
   "cell_type": "code",
   "execution_count": 44,
   "id": "palestinian-springer",
   "metadata": {},
   "outputs": [],
   "source": [
    "train.to_csv(os.path.join(datafolder, 'train.csv'), index=False)\n",
    "valid.to_csv(os.path.join(datafolder, 'valid.csv'), index=False)\n",
    "test.to_csv(os.path.join(datafolder, 'test.csv'), index=False)"
   ]
  },
  {
   "cell_type": "markdown",
   "id": "tender-satin",
   "metadata": {},
   "source": [
    "### Selecting users to test artists recommendations in cold-start setting"
   ]
  },
  {
   "cell_type": "code",
   "execution_count": 46,
   "id": "greatest-cosmetic",
   "metadata": {},
   "outputs": [],
   "source": [
    "np.save(os.path.join(datafolder, 'test_users'), lastfm_360_demo['user_email'].sample(1000).index)"
   ]
  }
 ],
 "metadata": {
  "kernelspec": {
   "display_name": "Python 3",
   "language": "python",
   "name": "python3"
  },
  "language_info": {
   "codemirror_mode": {
    "name": "ipython",
    "version": 3
   },
   "file_extension": ".py",
   "mimetype": "text/x-python",
   "name": "python",
   "nbconvert_exporter": "python",
   "pygments_lexer": "ipython3",
   "version": "3.8.8"
  }
 },
 "nbformat": 4,
 "nbformat_minor": 5
}
