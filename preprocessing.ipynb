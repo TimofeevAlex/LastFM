{
 "cells": [
  {
   "cell_type": "code",
   "execution_count": 22,
   "id": "forward-understanding",
   "metadata": {},
   "outputs": [
    {
     "name": "stdout",
     "output_type": "stream",
     "text": [
      "The autoreload extension is already loaded. To reload it, use:\n",
      "  %reload_ext autoreload\n"
     ]
    }
   ],
   "source": [
    "import sys\n",
    "import numpy as np\n",
    "import pandas as pd\n",
    "import seaborn as sns\n",
    "import matplotlib.pyplot as plt\n",
    "from tqdm import tqdm\n",
    "tqdm.pandas()\n",
    "\n",
    "sys.path.append('src')\n",
    "from train_test import train_test_split\n",
    "from preprocessing import to_ratings, to_weights,  build_get_negative_ratings\n",
    "%load_ext autoreload\n",
    "%autoreload 2"
   ]
  },
  {
   "cell_type": "markdown",
   "id": "included-taiwan",
   "metadata": {},
   "source": [
    "### Uploading the original dataset (uncomment if you need)"
   ]
  },
  {
   "cell_type": "code",
   "execution_count": 23,
   "id": "brown-popularity",
   "metadata": {},
   "outputs": [],
   "source": [
    "# ! sudo apt install curl\n",
    "# ! curl -O  http://mtg.upf.edu/static/datasets/last.fm/lastfm-dataset-360K.tar.gz"
   ]
  },
  {
   "cell_type": "code",
   "execution_count": 24,
   "id": "alpine-region",
   "metadata": {},
   "outputs": [],
   "source": [
    "# ! tar -xf ./lastfm-dataset-360K.tar.gz"
   ]
  },
  {
   "cell_type": "markdown",
   "id": "linear-knitting",
   "metadata": {},
   "source": [
    "### Reading the dataset"
   ]
  },
  {
   "cell_type": "code",
   "execution_count": 25,
   "id": "valuable-wagon",
   "metadata": {},
   "outputs": [],
   "source": [
    "lastfm_360_demo = pd.read_csv('lastfm-dataset-360K/usersha1-profile.tsv', sep='\\t', header=None,\n",
    "                             names=['user_email', 'gender', 'age', 'country', 'signup'])\n",
    "lastfm_360_behav = pd.read_csv('lastfm-dataset-360K/usersha1-artmbid-artname-plays.tsv', sep='\\t', header=None, \n",
    "                              names=['user_email', 'artist_id', 'artist_name', 'plays'])"
   ]
  },
  {
   "cell_type": "code",
   "execution_count": 26,
   "id": "rocky-beverage",
   "metadata": {},
   "outputs": [],
   "source": [
    "lastfm_360_demo = lastfm_360_demo[lastfm_360_demo['country'] == 'United States']\n",
    "lastfm_360_behav = lastfm_360_behav[lastfm_360_behav['user_email'].isin(lastfm_360_demo['user_email'].unique())]"
   ]
  },
  {
   "cell_type": "markdown",
   "id": "sunset-sailing",
   "metadata": {},
   "source": [
    "Transform \"signup\" column into datetime type"
   ]
  },
  {
   "cell_type": "code",
   "execution_count": 27,
   "id": "funded-decade",
   "metadata": {},
   "outputs": [],
   "source": [
    "lastfm_360_demo[\"signup\"] = pd.to_datetime(lastfm_360_demo.signup)"
   ]
  },
  {
   "cell_type": "code",
   "execution_count": 28,
   "id": "middle-newton",
   "metadata": {},
   "outputs": [
    {
     "data": {
      "text/plain": [
       "Timestamp('2002-10-29 00:00:00')"
      ]
     },
     "execution_count": 28,
     "metadata": {},
     "output_type": "execute_result"
    }
   ],
   "source": [
    "lastfm_360_demo[\"signup\"].min()"
   ]
  },
  {
   "cell_type": "code",
   "execution_count": 29,
   "id": "velvet-lebanon",
   "metadata": {},
   "outputs": [
    {
     "data": {
      "text/plain": [
       "Timestamp('2009-11-02 00:00:00')"
      ]
     },
     "execution_count": 29,
     "metadata": {},
     "output_type": "execute_result"
    }
   ],
   "source": [
    "lastfm_360_demo[\"signup\"].max()"
   ]
  },
  {
   "cell_type": "markdown",
   "id": "round-climate",
   "metadata": {},
   "source": [
    "Make users' IDs as numbers"
   ]
  },
  {
   "cell_type": "code",
   "execution_count": 30,
   "id": "sunrise-giving",
   "metadata": {},
   "outputs": [],
   "source": [
    "uniq_users = lastfm_360_demo['user_email'].unique()\n",
    "upd_users_ids = dict((id_, i) for i, id_ in enumerate(uniq_users))\n",
    "lastfm_360_demo['user_email'] = lastfm_360_demo['user_email'].map(lambda x: upd_users_ids[x])"
   ]
  },
  {
   "cell_type": "markdown",
   "id": "thermal-rainbow",
   "metadata": {},
   "source": [
    "### Exploring and cleaning demographic data"
   ]
  },
  {
   "cell_type": "code",
   "execution_count": 31,
   "id": "surprised-silicon",
   "metadata": {},
   "outputs": [
    {
     "data": {
      "text/html": [
       "<div>\n",
       "<style scoped>\n",
       "    .dataframe tbody tr th:only-of-type {\n",
       "        vertical-align: middle;\n",
       "    }\n",
       "\n",
       "    .dataframe tbody tr th {\n",
       "        vertical-align: top;\n",
       "    }\n",
       "\n",
       "    .dataframe thead th {\n",
       "        text-align: right;\n",
       "    }\n",
       "</style>\n",
       "<table border=\"1\" class=\"dataframe\">\n",
       "  <thead>\n",
       "    <tr style=\"text-align: right;\">\n",
       "      <th></th>\n",
       "      <th>user_email</th>\n",
       "      <th>gender</th>\n",
       "      <th>age</th>\n",
       "      <th>country</th>\n",
       "      <th>signup</th>\n",
       "    </tr>\n",
       "  </thead>\n",
       "  <tbody>\n",
       "    <tr>\n",
       "      <th>4</th>\n",
       "      <td>0</td>\n",
       "      <td>m</td>\n",
       "      <td>28.0</td>\n",
       "      <td>United States</td>\n",
       "      <td>2006-01-27</td>\n",
       "    </tr>\n",
       "    <tr>\n",
       "      <th>11</th>\n",
       "      <td>1</td>\n",
       "      <td>NaN</td>\n",
       "      <td>23.0</td>\n",
       "      <td>United States</td>\n",
       "      <td>2007-05-12</td>\n",
       "    </tr>\n",
       "    <tr>\n",
       "      <th>15</th>\n",
       "      <td>2</td>\n",
       "      <td>m</td>\n",
       "      <td>23.0</td>\n",
       "      <td>United States</td>\n",
       "      <td>2005-08-19</td>\n",
       "    </tr>\n",
       "    <tr>\n",
       "      <th>19</th>\n",
       "      <td>3</td>\n",
       "      <td>m</td>\n",
       "      <td>30.0</td>\n",
       "      <td>United States</td>\n",
       "      <td>2006-08-23</td>\n",
       "    </tr>\n",
       "    <tr>\n",
       "      <th>21</th>\n",
       "      <td>4</td>\n",
       "      <td>f</td>\n",
       "      <td>26.0</td>\n",
       "      <td>United States</td>\n",
       "      <td>2008-12-05</td>\n",
       "    </tr>\n",
       "  </tbody>\n",
       "</table>\n",
       "</div>"
      ],
      "text/plain": [
       "    user_email gender   age        country     signup\n",
       "4            0      m  28.0  United States 2006-01-27\n",
       "11           1    NaN  23.0  United States 2007-05-12\n",
       "15           2      m  23.0  United States 2005-08-19\n",
       "19           3      m  30.0  United States 2006-08-23\n",
       "21           4      f  26.0  United States 2008-12-05"
      ]
     },
     "execution_count": 31,
     "metadata": {},
     "output_type": "execute_result"
    }
   ],
   "source": [
    "lastfm_360_demo.head()"
   ]
  },
  {
   "cell_type": "code",
   "execution_count": 32,
   "id": "major-spencer",
   "metadata": {},
   "outputs": [
    {
     "name": "stdout",
     "output_type": "stream",
     "text": [
      "<class 'pandas.core.frame.DataFrame'>\n",
      "Int64Index: 67044 entries, 4 to 359344\n",
      "Data columns (total 5 columns):\n",
      " #   Column      Non-Null Count  Dtype         \n",
      "---  ------      --------------  -----         \n",
      " 0   user_email  67044 non-null  int64         \n",
      " 1   gender      60534 non-null  object        \n",
      " 2   age         52286 non-null  float64       \n",
      " 3   country     67044 non-null  object        \n",
      " 4   signup      67044 non-null  datetime64[ns]\n",
      "dtypes: datetime64[ns](1), float64(1), int64(1), object(2)\n",
      "memory usage: 3.1+ MB\n"
     ]
    }
   ],
   "source": [
    "lastfm_360_demo.info()"
   ]
  },
  {
   "cell_type": "code",
   "execution_count": 33,
   "id": "experienced-robin",
   "metadata": {},
   "outputs": [
    {
     "data": {
      "text/html": [
       "<div>\n",
       "<style scoped>\n",
       "    .dataframe tbody tr th:only-of-type {\n",
       "        vertical-align: middle;\n",
       "    }\n",
       "\n",
       "    .dataframe tbody tr th {\n",
       "        vertical-align: top;\n",
       "    }\n",
       "\n",
       "    .dataframe thead th {\n",
       "        text-align: right;\n",
       "    }\n",
       "</style>\n",
       "<table border=\"1\" class=\"dataframe\">\n",
       "  <thead>\n",
       "    <tr style=\"text-align: right;\">\n",
       "      <th></th>\n",
       "      <th>user_email</th>\n",
       "      <th>gender</th>\n",
       "      <th>age</th>\n",
       "      <th>country</th>\n",
       "      <th>signup</th>\n",
       "    </tr>\n",
       "  </thead>\n",
       "  <tbody>\n",
       "    <tr>\n",
       "      <th>count</th>\n",
       "      <td>67044.000000</td>\n",
       "      <td>60534</td>\n",
       "      <td>52286.000000</td>\n",
       "      <td>67044</td>\n",
       "      <td>67044</td>\n",
       "    </tr>\n",
       "    <tr>\n",
       "      <th>unique</th>\n",
       "      <td>NaN</td>\n",
       "      <td>2</td>\n",
       "      <td>NaN</td>\n",
       "      <td>1</td>\n",
       "      <td>NaN</td>\n",
       "    </tr>\n",
       "    <tr>\n",
       "      <th>top</th>\n",
       "      <td>NaN</td>\n",
       "      <td>m</td>\n",
       "      <td>NaN</td>\n",
       "      <td>United States</td>\n",
       "      <td>NaN</td>\n",
       "    </tr>\n",
       "    <tr>\n",
       "      <th>freq</th>\n",
       "      <td>NaN</td>\n",
       "      <td>42730</td>\n",
       "      <td>NaN</td>\n",
       "      <td>67044</td>\n",
       "      <td>NaN</td>\n",
       "    </tr>\n",
       "    <tr>\n",
       "      <th>mean</th>\n",
       "      <td>33521.500000</td>\n",
       "      <td>NaN</td>\n",
       "      <td>26.052041</td>\n",
       "      <td>NaN</td>\n",
       "      <td>2007-04-18 18:15:36.889207040</td>\n",
       "    </tr>\n",
       "    <tr>\n",
       "      <th>min</th>\n",
       "      <td>0.000000</td>\n",
       "      <td>NaN</td>\n",
       "      <td>-1337.000000</td>\n",
       "      <td>NaN</td>\n",
       "      <td>2002-10-29 00:00:00</td>\n",
       "    </tr>\n",
       "    <tr>\n",
       "      <th>25%</th>\n",
       "      <td>16760.750000</td>\n",
       "      <td>NaN</td>\n",
       "      <td>20.000000</td>\n",
       "      <td>NaN</td>\n",
       "      <td>2006-05-09 00:00:00</td>\n",
       "    </tr>\n",
       "    <tr>\n",
       "      <th>50%</th>\n",
       "      <td>33521.500000</td>\n",
       "      <td>NaN</td>\n",
       "      <td>23.000000</td>\n",
       "      <td>NaN</td>\n",
       "      <td>2007-05-12 00:00:00</td>\n",
       "    </tr>\n",
       "    <tr>\n",
       "      <th>75%</th>\n",
       "      <td>50282.250000</td>\n",
       "      <td>NaN</td>\n",
       "      <td>29.000000</td>\n",
       "      <td>NaN</td>\n",
       "      <td>2008-05-19 00:00:00</td>\n",
       "    </tr>\n",
       "    <tr>\n",
       "      <th>max</th>\n",
       "      <td>67043.000000</td>\n",
       "      <td>NaN</td>\n",
       "      <td>109.000000</td>\n",
       "      <td>NaN</td>\n",
       "      <td>2009-11-02 00:00:00</td>\n",
       "    </tr>\n",
       "    <tr>\n",
       "      <th>std</th>\n",
       "      <td>19354.080061</td>\n",
       "      <td>NaN</td>\n",
       "      <td>16.696610</td>\n",
       "      <td>NaN</td>\n",
       "      <td>NaN</td>\n",
       "    </tr>\n",
       "  </tbody>\n",
       "</table>\n",
       "</div>"
      ],
      "text/plain": [
       "          user_email gender           age        country  \\\n",
       "count   67044.000000  60534  52286.000000          67044   \n",
       "unique           NaN      2           NaN              1   \n",
       "top              NaN      m           NaN  United States   \n",
       "freq             NaN  42730           NaN          67044   \n",
       "mean    33521.500000    NaN     26.052041            NaN   \n",
       "min         0.000000    NaN  -1337.000000            NaN   \n",
       "25%     16760.750000    NaN     20.000000            NaN   \n",
       "50%     33521.500000    NaN     23.000000            NaN   \n",
       "75%     50282.250000    NaN     29.000000            NaN   \n",
       "max     67043.000000    NaN    109.000000            NaN   \n",
       "std     19354.080061    NaN     16.696610            NaN   \n",
       "\n",
       "                               signup  \n",
       "count                           67044  \n",
       "unique                            NaN  \n",
       "top                               NaN  \n",
       "freq                              NaN  \n",
       "mean    2007-04-18 18:15:36.889207040  \n",
       "min               2002-10-29 00:00:00  \n",
       "25%               2006-05-09 00:00:00  \n",
       "50%               2007-05-12 00:00:00  \n",
       "75%               2008-05-19 00:00:00  \n",
       "max               2009-11-02 00:00:00  \n",
       "std                               NaN  "
      ]
     },
     "execution_count": 33,
     "metadata": {},
     "output_type": "execute_result"
    }
   ],
   "source": [
    "lastfm_360_demo.describe(include='all', datetime_is_numeric=True)"
   ]
  },
  {
   "cell_type": "markdown",
   "id": "starting-membrane",
   "metadata": {},
   "source": [
    "Then, we should process demographic data. First, we put unrealistic ages as NaNs."
   ]
  },
  {
   "cell_type": "code",
   "execution_count": 34,
   "id": "relevant-trial",
   "metadata": {},
   "outputs": [],
   "source": [
    "ages = lastfm_360_demo['age'].unique()\n",
    "lastfm_360_demo['age'].replace(ages[ages > 99], np.nan, inplace=True)\n",
    "lastfm_360_demo['age'].replace(ages[ages < 8], np.nan, inplace=True)"
   ]
  },
  {
   "cell_type": "markdown",
   "id": "ultimate-shield",
   "metadata": {},
   "source": [
    "Make one-hot encoding for gender, country, and age with sure that NaNs have some pattern"
   ]
  },
  {
   "cell_type": "code",
   "execution_count": 35,
   "id": "parliamentary-depth",
   "metadata": {},
   "outputs": [],
   "source": [
    "lastfm_360_demo = lastfm_360_demo.join(pd.get_dummies(lastfm_360_demo['gender']))\n",
    "lastfm_360_demo = lastfm_360_demo.drop('gender', axis=1)\n",
    "\n",
    "# lastfm_360_demo = lastfm_360_demo.join(pd.get_dummies(lastfm_360_demo['country']))\n",
    "# lastfm_360_demo = lastfm_360_demo.drop('country', axis=1)\n",
    "\n",
    "lastfm_360_demo = lastfm_360_demo.join(pd.get_dummies(lastfm_360_demo['age']))\n",
    "lastfm_360_demo = lastfm_360_demo.drop('age', axis=1)"
   ]
  },
  {
   "cell_type": "markdown",
   "id": "whole-simple",
   "metadata": {},
   "source": [
    "Extract features from sign-up date"
   ]
  },
  {
   "cell_type": "code",
   "execution_count": 36,
   "id": "uniform-minister",
   "metadata": {},
   "outputs": [],
   "source": [
    "lastfm_360_demo['year'] = lastfm_360_demo['signup'].dt.year\n",
    "lastfm_360_demo['month'] = lastfm_360_demo['signup'].dt.month\n",
    "lastfm_360_demo['weekday'] = lastfm_360_demo['signup'].dt.weekday\n",
    "lastfm_360_demo['day'] = lastfm_360_demo['signup'].dt.day\n",
    "lastfm_360_demo = lastfm_360_demo.drop(columns='signup') \n",
    "lastfm_360_demo = pd.concat([lastfm_360_demo, pd.get_dummies(lastfm_360_demo['year'])], axis=1)\n",
    "lastfm_360_demo = pd.concat([lastfm_360_demo, pd.get_dummies(lastfm_360_demo['month'])], axis=1)\n",
    "lastfm_360_demo = pd.concat([lastfm_360_demo, pd.get_dummies(lastfm_360_demo['day'])], axis=1)\n",
    "lastfm_360_demo = pd.concat([lastfm_360_demo, pd.get_dummies(lastfm_360_demo['weekday'])], axis=1)\n",
    "lastfm_360_demo = lastfm_360_demo.drop(columns=['year', 'month', 'weekday', 'day']) "
   ]
  },
  {
   "cell_type": "markdown",
   "id": "little-brush",
   "metadata": {},
   "source": [
    "### Exploring and cleaning behavioral data"
   ]
  },
  {
   "cell_type": "code",
   "execution_count": 37,
   "id": "developmental-problem",
   "metadata": {},
   "outputs": [
    {
     "data": {
      "text/html": [
       "<div>\n",
       "<style scoped>\n",
       "    .dataframe tbody tr th:only-of-type {\n",
       "        vertical-align: middle;\n",
       "    }\n",
       "\n",
       "    .dataframe tbody tr th {\n",
       "        vertical-align: top;\n",
       "    }\n",
       "\n",
       "    .dataframe thead th {\n",
       "        text-align: right;\n",
       "    }\n",
       "</style>\n",
       "<table border=\"1\" class=\"dataframe\">\n",
       "  <thead>\n",
       "    <tr style=\"text-align: right;\">\n",
       "      <th></th>\n",
       "      <th>user_email</th>\n",
       "      <th>artist_id</th>\n",
       "      <th>artist_name</th>\n",
       "      <th>plays</th>\n",
       "    </tr>\n",
       "  </thead>\n",
       "  <tbody>\n",
       "    <tr>\n",
       "      <th>195</th>\n",
       "      <td>00007a47085b9aab8af55f52ec8846ac479ac4fe</td>\n",
       "      <td>0110e63e-0a9b-4818-af8e-41e180c20b9a</td>\n",
       "      <td>devendra banhart</td>\n",
       "      <td>456</td>\n",
       "    </tr>\n",
       "    <tr>\n",
       "      <th>196</th>\n",
       "      <td>00007a47085b9aab8af55f52ec8846ac479ac4fe</td>\n",
       "      <td>69158f97-4c07-4c4e-baf8-4e4ab1ed666e</td>\n",
       "      <td>boards of canada</td>\n",
       "      <td>407</td>\n",
       "    </tr>\n",
       "    <tr>\n",
       "      <th>197</th>\n",
       "      <td>00007a47085b9aab8af55f52ec8846ac479ac4fe</td>\n",
       "      <td>e162b2eb-6a42-4240-8c1b-c94d9a0acb73</td>\n",
       "      <td>cocorosie</td>\n",
       "      <td>386</td>\n",
       "    </tr>\n",
       "    <tr>\n",
       "      <th>198</th>\n",
       "      <td>00007a47085b9aab8af55f52ec8846ac479ac4fe</td>\n",
       "      <td>f22942a1-6f70-4f48-866e-238cb2308fbd</td>\n",
       "      <td>aphex twin</td>\n",
       "      <td>213</td>\n",
       "    </tr>\n",
       "    <tr>\n",
       "      <th>199</th>\n",
       "      <td>00007a47085b9aab8af55f52ec8846ac479ac4fe</td>\n",
       "      <td>0c751690-c784-4a4f-b1e4-c1de27d47581</td>\n",
       "      <td>animal collective</td>\n",
       "      <td>203</td>\n",
       "    </tr>\n",
       "  </tbody>\n",
       "</table>\n",
       "</div>"
      ],
      "text/plain": [
       "                                   user_email  \\\n",
       "195  00007a47085b9aab8af55f52ec8846ac479ac4fe   \n",
       "196  00007a47085b9aab8af55f52ec8846ac479ac4fe   \n",
       "197  00007a47085b9aab8af55f52ec8846ac479ac4fe   \n",
       "198  00007a47085b9aab8af55f52ec8846ac479ac4fe   \n",
       "199  00007a47085b9aab8af55f52ec8846ac479ac4fe   \n",
       "\n",
       "                                artist_id        artist_name  plays  \n",
       "195  0110e63e-0a9b-4818-af8e-41e180c20b9a   devendra banhart    456  \n",
       "196  69158f97-4c07-4c4e-baf8-4e4ab1ed666e   boards of canada    407  \n",
       "197  e162b2eb-6a42-4240-8c1b-c94d9a0acb73          cocorosie    386  \n",
       "198  f22942a1-6f70-4f48-866e-238cb2308fbd         aphex twin    213  \n",
       "199  0c751690-c784-4a4f-b1e4-c1de27d47581  animal collective    203  "
      ]
     },
     "execution_count": 37,
     "metadata": {},
     "output_type": "execute_result"
    }
   ],
   "source": [
    "lastfm_360_behav.head()"
   ]
  },
  {
   "cell_type": "code",
   "execution_count": 38,
   "id": "organized-western",
   "metadata": {},
   "outputs": [
    {
     "name": "stdout",
     "output_type": "stream",
     "text": [
      "<class 'pandas.core.frame.DataFrame'>\n",
      "Int64Index: 3336272 entries, 195 to 17535535\n",
      "Data columns (total 4 columns):\n",
      " #   Column       Dtype \n",
      "---  ------       ----- \n",
      " 0   user_email   object\n",
      " 1   artist_id    object\n",
      " 2   artist_name  object\n",
      " 3   plays        int64 \n",
      "dtypes: int64(1), object(3)\n",
      "memory usage: 127.3+ MB\n"
     ]
    }
   ],
   "source": [
    "lastfm_360_behav.info()"
   ]
  },
  {
   "cell_type": "code",
   "execution_count": 39,
   "id": "animal-omega",
   "metadata": {},
   "outputs": [
    {
     "data": {
      "text/html": [
       "<div>\n",
       "<style scoped>\n",
       "    .dataframe tbody tr th:only-of-type {\n",
       "        vertical-align: middle;\n",
       "    }\n",
       "\n",
       "    .dataframe tbody tr th {\n",
       "        vertical-align: top;\n",
       "    }\n",
       "\n",
       "    .dataframe thead th {\n",
       "        text-align: right;\n",
       "    }\n",
       "</style>\n",
       "<table border=\"1\" class=\"dataframe\">\n",
       "  <thead>\n",
       "    <tr style=\"text-align: right;\">\n",
       "      <th></th>\n",
       "      <th>user_email</th>\n",
       "      <th>artist_id</th>\n",
       "      <th>artist_name</th>\n",
       "      <th>plays</th>\n",
       "    </tr>\n",
       "  </thead>\n",
       "  <tbody>\n",
       "    <tr>\n",
       "      <th>count</th>\n",
       "      <td>3336272</td>\n",
       "      <td>3298989</td>\n",
       "      <td>3336237</td>\n",
       "      <td>3.336272e+06</td>\n",
       "    </tr>\n",
       "    <tr>\n",
       "      <th>unique</th>\n",
       "      <td>66949</td>\n",
       "      <td>84506</td>\n",
       "      <td>114123</td>\n",
       "      <td>NaN</td>\n",
       "    </tr>\n",
       "    <tr>\n",
       "      <th>top</th>\n",
       "      <td>13c0df8a58cd3ca9e37d8e90662d2ad3c062eaa5</td>\n",
       "      <td>b10bbbfc-cf9e-42e0-be17-e2c3e1d2600d</td>\n",
       "      <td>the beatles</td>\n",
       "      <td>NaN</td>\n",
       "    </tr>\n",
       "    <tr>\n",
       "      <th>freq</th>\n",
       "      <td>166</td>\n",
       "      <td>22186</td>\n",
       "      <td>22180</td>\n",
       "      <td>NaN</td>\n",
       "    </tr>\n",
       "    <tr>\n",
       "      <th>mean</th>\n",
       "      <td>NaN</td>\n",
       "      <td>NaN</td>\n",
       "      <td>NaN</td>\n",
       "      <td>2.555277e+02</td>\n",
       "    </tr>\n",
       "    <tr>\n",
       "      <th>std</th>\n",
       "      <td>NaN</td>\n",
       "      <td>NaN</td>\n",
       "      <td>NaN</td>\n",
       "      <td>7.066286e+02</td>\n",
       "    </tr>\n",
       "    <tr>\n",
       "      <th>min</th>\n",
       "      <td>NaN</td>\n",
       "      <td>NaN</td>\n",
       "      <td>NaN</td>\n",
       "      <td>1.000000e+00</td>\n",
       "    </tr>\n",
       "    <tr>\n",
       "      <th>25%</th>\n",
       "      <td>NaN</td>\n",
       "      <td>NaN</td>\n",
       "      <td>NaN</td>\n",
       "      <td>4.700000e+01</td>\n",
       "    </tr>\n",
       "    <tr>\n",
       "      <th>50%</th>\n",
       "      <td>NaN</td>\n",
       "      <td>NaN</td>\n",
       "      <td>NaN</td>\n",
       "      <td>1.180000e+02</td>\n",
       "    </tr>\n",
       "    <tr>\n",
       "      <th>75%</th>\n",
       "      <td>NaN</td>\n",
       "      <td>NaN</td>\n",
       "      <td>NaN</td>\n",
       "      <td>2.660000e+02</td>\n",
       "    </tr>\n",
       "    <tr>\n",
       "      <th>max</th>\n",
       "      <td>NaN</td>\n",
       "      <td>NaN</td>\n",
       "      <td>NaN</td>\n",
       "      <td>2.883750e+05</td>\n",
       "    </tr>\n",
       "  </tbody>\n",
       "</table>\n",
       "</div>"
      ],
      "text/plain": [
       "                                      user_email  \\\n",
       "count                                    3336272   \n",
       "unique                                     66949   \n",
       "top     13c0df8a58cd3ca9e37d8e90662d2ad3c062eaa5   \n",
       "freq                                         166   \n",
       "mean                                         NaN   \n",
       "std                                          NaN   \n",
       "min                                          NaN   \n",
       "25%                                          NaN   \n",
       "50%                                          NaN   \n",
       "75%                                          NaN   \n",
       "max                                          NaN   \n",
       "\n",
       "                                   artist_id  artist_name         plays  \n",
       "count                                3298989      3336237  3.336272e+06  \n",
       "unique                                 84506       114123           NaN  \n",
       "top     b10bbbfc-cf9e-42e0-be17-e2c3e1d2600d  the beatles           NaN  \n",
       "freq                                   22186        22180           NaN  \n",
       "mean                                     NaN          NaN  2.555277e+02  \n",
       "std                                      NaN          NaN  7.066286e+02  \n",
       "min                                      NaN          NaN  1.000000e+00  \n",
       "25%                                      NaN          NaN  4.700000e+01  \n",
       "50%                                      NaN          NaN  1.180000e+02  \n",
       "75%                                      NaN          NaN  2.660000e+02  \n",
       "max                                      NaN          NaN  2.883750e+05  "
      ]
     },
     "execution_count": 39,
     "metadata": {},
     "output_type": "execute_result"
    }
   ],
   "source": [
    "lastfm_360_behav.describe(include='all', datetime_is_numeric=True)"
   ]
  },
  {
   "cell_type": "code",
   "execution_count": 40,
   "id": "golden-ability",
   "metadata": {},
   "outputs": [
    {
     "data": {
      "text/plain": [
       "user_email         0\n",
       "artist_id      37283\n",
       "artist_name       35\n",
       "plays              0\n",
       "dtype: int64"
      ]
     },
     "execution_count": 40,
     "metadata": {},
     "output_type": "execute_result"
    }
   ],
   "source": [
    "lastfm_360_behav.isna().sum(0)"
   ]
  },
  {
   "cell_type": "markdown",
   "id": "secondary-trauma",
   "metadata": {},
   "source": [
    "We drop samples with missed artist's name because there are no many of them and it is only one artist in 35 cases and an artist that doesn't have the name and the ID in 2 cases."
   ]
  },
  {
   "cell_type": "code",
   "execution_count": 43,
   "id": "functioning-directory",
   "metadata": {},
   "outputs": [
    {
     "data": {
      "text/plain": [
       "(35, 4)"
      ]
     },
     "execution_count": 43,
     "metadata": {},
     "output_type": "execute_result"
    }
   ],
   "source": [
    "lastfm_360_behav.loc[lastfm_360_behav['artist_name'].isnull()].shape"
   ]
  },
  {
   "cell_type": "code",
   "execution_count": 44,
   "id": "bored-chancellor",
   "metadata": {},
   "outputs": [],
   "source": [
    "lastfm_360_behav = lastfm_360_behav.drop(lastfm_360_behav.loc[lastfm_360_behav['artist_name'].isnull()].index)"
   ]
  },
  {
   "cell_type": "markdown",
   "id": "through-growing",
   "metadata": {},
   "source": [
    "Since the part of samples where ID is missed makes up about 1% of data and don't include important systematic patterns like feats or the most popular artists, we drop it for simplicity. (another approach would be to say that the ID is equal names but this might make data incorrect because names are not unique at all)"
   ]
  },
  {
   "cell_type": "code",
   "execution_count": 48,
   "id": "hawaiian-wright",
   "metadata": {},
   "outputs": [
    {
     "data": {
      "text/plain": [
       "(37281, 4)"
      ]
     },
     "execution_count": 48,
     "metadata": {},
     "output_type": "execute_result"
    }
   ],
   "source": [
    "lastfm_360_behav.loc[lastfm_360_behav['artist_id'].isnull()]"
   ]
  },
  {
   "cell_type": "code",
   "execution_count": 50,
   "id": "existing-margin",
   "metadata": {},
   "outputs": [],
   "source": [
    "lastfm_360_behav = lastfm_360_behav.drop(lastfm_360_behav.loc[lastfm_360_behav['artist_id'].isnull()].index)"
   ]
  },
  {
   "cell_type": "markdown",
   "id": "parliamentary-stock",
   "metadata": {},
   "source": [
    "There are cases where one ID corresponds several artists names. We fix it by assigning one name to all entries of a given ID"
   ]
  },
  {
   "cell_type": "code",
   "execution_count": 51,
   "id": "breathing-special",
   "metadata": {},
   "outputs": [],
   "source": [
    "uniq_artist_names = lastfm_360_behav.groupby('artist_id')['artist_name'].unique()\n",
    "lastfm_360_behav['artist_name'] = lastfm_360_behav.apply(lambda x: uniq_artist_names[x['artist_id']][0], axis=1)"
   ]
  },
  {
   "cell_type": "markdown",
   "id": "acoustic-illustration",
   "metadata": {},
   "source": [
    "Make artists' and users' IDs as numbers"
   ]
  },
  {
   "cell_type": "code",
   "execution_count": 24,
   "id": "colonial-tackle",
   "metadata": {},
   "outputs": [],
   "source": [
    "uniq_artist_ids = lastfm_360_behav['artist_id'].unique()\n",
    "upd_ids = dict((id_, i) for i, id_ in enumerate(uniq_artist_ids))\n",
    "lastfm_360_behav['artist_id'] = lastfm_360_behav['artist_id'].map(lambda x: upd_ids[x])\n",
    "lastfm_360_behav['user_email'] = lastfm_360_behav['user_email'].map(lambda x: upd_users_ids[x])"
   ]
  },
  {
   "cell_type": "markdown",
   "id": "american-album",
   "metadata": {},
   "source": [
    "Drop users who have a number of plays equals to number of different users because the following processing can result in unreasonable high ratings for artists and these users loooks like those who came to check the platform but don't use it permanently. There are only 18 such users."
   ]
  },
  {
   "cell_type": "code",
   "execution_count": 25,
   "id": "together-invasion",
   "metadata": {},
   "outputs": [],
   "source": [
    "inactive_users = lastfm_360_behav.groupby('user_email').filter(\n",
    "    lambda x: x['plays'].count() == x['plays'].sum())['user_email'].unique()\n",
    "lastfm_360_behav = lastfm_360_behav[~lastfm_360_behav['user_email'].isin(inactive_users)]\n",
    "lastfm_360_demo = lastfm_360_demo[~lastfm_360_demo['user_email'].isin(inactive_users)]"
   ]
  },
  {
   "cell_type": "code",
   "execution_count": 26,
   "id": "lesbian-dubai",
   "metadata": {},
   "outputs": [
    {
     "name": "stdout",
     "output_type": "stream",
     "text": [
      "(160098,)\n",
      "(358726,)\n",
      "(359217,)\n"
     ]
    }
   ],
   "source": [
    "print(lastfm_360_behav.artist_id.unique().shape)\n",
    "print(lastfm_360_behav.user_email.unique().shape)\n",
    "print(lastfm_360_demo.user_email.unique().shape)"
   ]
  },
  {
   "cell_type": "markdown",
   "id": "protecting-handle",
   "metadata": {},
   "source": [
    "We can see that there are more users that don't have records in the behavioral part of the dataset. Let us drop them because it is about 500 users, i.e. ~0.1%."
   ]
  },
  {
   "cell_type": "code",
   "execution_count": 27,
   "id": "emotional-edward",
   "metadata": {},
   "outputs": [],
   "source": [
    "no_plays_users = list(set(lastfm_360_demo.user_email.unique()).symmetric_difference(\n",
    "    set(lastfm_360_behav.user_email.unique())))\n",
    "lastfm_360_demo = lastfm_360_demo[~lastfm_360_demo.user_email.isin(no_plays_users)]"
   ]
  },
  {
   "cell_type": "code",
   "execution_count": 28,
   "id": "saving-syndication",
   "metadata": {},
   "outputs": [
    {
     "name": "stdout",
     "output_type": "stream",
     "text": [
      "(358726,)\n",
      "(358726,)\n"
     ]
    }
   ],
   "source": [
    "print(lastfm_360_behav.user_email.unique().shape)\n",
    "print(lastfm_360_demo.user_email.unique().shape)"
   ]
  },
  {
   "cell_type": "markdown",
   "id": "neutral-marker",
   "metadata": {},
   "source": [
    "### Transforming implicit feedback to explicit (plays $\\to$ ratings)"
   ]
  },
  {
   "cell_type": "code",
   "execution_count": 29,
   "id": "valued-casino",
   "metadata": {},
   "outputs": [
    {
     "data": {
      "text/plain": [
       "[Text(-250.0, 0, 'qntal'),\n",
       " Text(0.0, 0, 'the beatles'),\n",
       " Text(250.0, 0, 'nick drake'),\n",
       " Text(500.0, 0, 'kate nash'),\n",
       " Text(750.0, 0, 'amy macdonald'),\n",
       " Text(1000.0, 0, 'the lawrence arms'),\n",
       " Text(1250.0, 0, '(hed) p.e'),\n",
       " Text(1500.0, 0, 'meat loaf'),\n",
       " Text(1750.0, 0, 'qntal'),\n",
       " Text(2000.0, 0, ''),\n",
       " Text(2250.0, 0, '')]"
      ]
     },
     "execution_count": 29,
     "metadata": {},
     "output_type": "execute_result"
    },
    {
     "data": {
      "image/png": "[encoded data removed]",
      "text/plain": [
       "<Figure size 432x288 with 1 Axes>"
      ]
     },
     "metadata": {
      "needs_background": "light"
     },
     "output_type": "display_data"
    }
   ],
   "source": [
    "artist_plays = lastfm_360_behav.groupby('artist_name')['plays'].sum().sort_values(ascending=False)\n",
    "# sns.distplot(artist_plays[:100])\n",
    "g = artist_plays[:2000].plot()\n",
    "g.set_ylabel('Plays')\n",
    "g.set_xlabel('Artist name')\n",
    "g.set_xticklabels(g.get_xticklabels(), rotation=45)\n",
    "# plt.savefig('plays_vs_artists.png')"
   ]
  },
  {
   "cell_type": "markdown",
   "id": "fiscal-steering",
   "metadata": {},
   "source": [
    "We can see that the distribution of the plays is highly concentrated around a few hundreds of plays. \n",
    "## write something here"
   ]
  },
  {
   "cell_type": "code",
   "execution_count": 30,
   "id": "restricted-following",
   "metadata": {},
   "outputs": [
    {
     "name": "stderr",
     "output_type": "stream",
     "text": [
      "/home/alex/anaconda3/lib/python3.8/site-packages/seaborn/distributions.py:2557: FutureWarning: `distplot` is a deprecated function and will be removed in a future version. Please adapt your code to use either `displot` (a figure-level function with similar flexibility) or `histplot` (an axes-level function for histograms).\n",
      "  warnings.warn(msg, FutureWarning)\n"
     ]
    },
    {
     "data": {
      "text/plain": [
       "<AxesSubplot:xlabel='plays', ylabel='Density'>"
      ]
     },
     "execution_count": 30,
     "metadata": {},
     "output_type": "execute_result"
    },
    {
     "data": {
      "image/png": "[encoded data removed]",
      "text/plain": [
       "<Figure size 432x288 with 1 Axes>"
      ]
     },
     "metadata": {
      "needs_background": "light"
     },
     "output_type": "display_data"
    }
   ],
   "source": [
    "sns.distplot(lastfm_360_behav['plays'])"
   ]
  },
  {
   "cell_type": "code",
   "execution_count": 31,
   "id": "cooperative-cocktail",
   "metadata": {},
   "outputs": [],
   "source": [
    "lastfm_360_behav['norm_plays'] = lastfm_360_behav.groupby('user_email')['plays'].apply(lambda x: x / x.sum())"
   ]
  },
  {
   "cell_type": "code",
   "execution_count": 32,
   "id": "funny-authority",
   "metadata": {},
   "outputs": [],
   "source": [
    "groupped = lastfm_360_behav.groupby('user_email').apply(to_ratings)\n",
    "lastfm_360_behav = groupped.drop(columns='user_email').reset_index().drop(columns='level_1').rename(\n",
    "    columns={'norm_plays': 'rating'})"
   ]
  },
  {
   "cell_type": "code",
   "execution_count": 33,
   "id": "disturbed-harrison",
   "metadata": {},
   "outputs": [
    {
     "name": "stderr",
     "output_type": "stream",
     "text": [
      "/home/alex/anaconda3/lib/python3.8/site-packages/seaborn/distributions.py:2557: FutureWarning: `distplot` is a deprecated function and will be removed in a future version. Please adapt your code to use either `displot` (a figure-level function with similar flexibility) or `histplot` (an axes-level function for histograms).\n",
      "  warnings.warn(msg, FutureWarning)\n"
     ]
    },
    {
     "data": {
      "text/plain": [
       "<AxesSubplot:xlabel='rating', ylabel='Density'>"
      ]
     },
     "execution_count": 33,
     "metadata": {},
     "output_type": "execute_result"
    },
    {
     "data": {
      "image/png": "[encoded data removed]",
      "text/plain": [
       "<Figure size 432x288 with 1 Axes>"
      ]
     },
     "metadata": {
      "needs_background": "light"
     },
     "output_type": "display_data"
    }
   ],
   "source": [
    "# lastfm_360_behav['log_plays'] = np.log(lastfm_360_behav['plays'])\n",
    "sns.distplot(lastfm_360_behav['rating'])"
   ]
  },
  {
   "cell_type": "code",
   "execution_count": 34,
   "id": "nonprofit-crisis",
   "metadata": {},
   "outputs": [
    {
     "name": "stderr",
     "output_type": "stream",
     "text": [
      "/home/alex/anaconda3/lib/python3.8/site-packages/seaborn/distributions.py:2557: FutureWarning: `distplot` is a deprecated function and will be removed in a future version. Please adapt your code to use either `displot` (a figure-level function with similar flexibility) or `histplot` (an axes-level function for histograms).\n",
      "  warnings.warn(msg, FutureWarning)\n"
     ]
    },
    {
     "data": {
      "image/png": "[encoded data removed]",
      "text/plain": [
       "<Figure size 432x288 with 1 Axes>"
      ]
     },
     "metadata": {
      "needs_background": "light"
     },
     "output_type": "display_data"
    }
   ],
   "source": [
    "g = sns.distplot(np.log(lastfm_360_behav['plays']))\n",
    "g.set_title('Density of log plays \\n for all countries')\n",
    "g.set_xlabel('Log plays')\n",
    "plt.savefig('figs/log_plays_all.png')"
   ]
  },
  {
   "cell_type": "code",
   "execution_count": 35,
   "id": "distant-notification",
   "metadata": {},
   "outputs": [
    {
     "data": {
      "text/plain": [
       "((358726, 154), (17307967, 5))"
      ]
     },
     "execution_count": 35,
     "metadata": {},
     "output_type": "execute_result"
    }
   ],
   "source": [
    "lastfm_360_demo.shape, lastfm_360_behav.shape,"
   ]
  },
  {
   "cell_type": "code",
   "execution_count": 36,
   "id": "secret-feedback",
   "metadata": {},
   "outputs": [
    {
     "data": {
      "text/plain": [
       "((66928, 152), (3298851, 5))"
      ]
     },
     "execution_count": 36,
     "metadata": {},
     "output_type": "execute_result"
    }
   ],
   "source": [
    "((66928, 152), (3298851, 5))"
   ]
  },
  {
   "cell_type": "markdown",
   "id": "productive-swaziland",
   "metadata": {},
   "source": [
    "### Splitting behavioral data into train, validation and test"
   ]
  },
  {
   "cell_type": "code",
   "execution_count": null,
   "id": "northern-yield",
   "metadata": {},
   "outputs": [],
   "source": [
    "ratings = lastfm_360_behav[['user_email', 'artist_id', 'rating']]\n",
    "train, test = train_test_split(ratings, test_frac=0.1)\n",
    "train, valid = train_test_split(train, test_frac=0.1)"
   ]
  },
  {
   "cell_type": "code",
   "execution_count": null,
   "id": "collective-cross",
   "metadata": {},
   "outputs": [],
   "source": [
    "lastfm_360_behav.to_csv('lastfm-dataset-360K/behav-360k-processed.csv', index=False)\n",
    "lastfm_360_demo.to_csv('lastfm-dataset-360K/demo-360k-processed.csv', index=False)"
   ]
  },
  {
   "cell_type": "code",
   "execution_count": null,
   "id": "quality-edmonton",
   "metadata": {},
   "outputs": [],
   "source": [
    "del lastfm_360_behav\n",
    "del lastfm_360_demo"
   ]
  },
  {
   "cell_type": "code",
   "execution_count": null,
   "id": "civil-behalf",
   "metadata": {},
   "outputs": [],
   "source": [
    "all_artists = set(ratings['artist_id'].unique())\n",
    "get_negative_ratings = build_get_negative_ratings(all_artists, factor=10)\n",
    "negative_ratings = ratings.groupby('user_email').progress_apply(get_negative_ratings)\n",
    "negative_ratings = negative_ratings.reset_index().drop(columns='level_1')"
   ]
  },
  {
   "cell_type": "code",
   "execution_count": null,
   "id": "operating-death",
   "metadata": {},
   "outputs": [],
   "source": [
    "negative_train, negative_test = train_test_split(negative_ratings, test_frac=0.9)\n",
    "negative_train, negative_valid = train_test_split(negative_train, test_frac=0.1)"
   ]
  },
  {
   "cell_type": "code",
   "execution_count": null,
   "id": "secure-wesley",
   "metadata": {},
   "outputs": [],
   "source": [
    "train = train.append(negative_train)\n",
    "valid = valid.append(negative_valid)\n",
    "test = test.append(negative_test)"
   ]
  },
  {
   "cell_type": "code",
   "execution_count": null,
   "id": "nearby-mixer",
   "metadata": {},
   "outputs": [],
   "source": [
    "train = train.sample(frac=1).reset_index(drop=True) "
   ]
  },
  {
   "cell_type": "markdown",
   "id": "phantom-grade",
   "metadata": {},
   "source": [
    "###### Computing weight of artists for each user"
   ]
  },
  {
   "cell_type": "code",
   "execution_count": null,
   "id": "sonic-shelter",
   "metadata": {},
   "outputs": [],
   "source": [
    "# train['weight'] = np.floor(train['rating']).astype(np.int8)\n",
    "# train = train.groupby('user_email').apply(to_weights)"
   ]
  },
  {
   "cell_type": "code",
   "execution_count": null,
   "id": "authentic-albania",
   "metadata": {},
   "outputs": [],
   "source": [
    "print(train.shape, test.shape, ratings.shape)"
   ]
  },
  {
   "cell_type": "markdown",
   "id": "egyptian-heading",
   "metadata": {},
   "source": [
    "### Saving clean dataset"
   ]
  },
  {
   "cell_type": "code",
   "execution_count": null,
   "id": "single-blast",
   "metadata": {},
   "outputs": [],
   "source": [
    "train.to_csv('lastfm-dataset-360K/train.csv', index=False)\n",
    "valid.to_csv('lastfm-dataset-360K/valid.csv', index=False)\n",
    "test.to_csv('lastfm-dataset-360K/test.csv', index=False)"
   ]
  },
  {
   "cell_type": "markdown",
   "id": "artistic-specification",
   "metadata": {},
   "source": [
    "###### Selecting users to test artists recommendations"
   ]
  },
  {
   "cell_type": "code",
   "execution_count": null,
   "id": "retired-grass",
   "metadata": {},
   "outputs": [],
   "source": [
    "# diversity = lastfm_360_behav.groupby('user_email')['user_email'].count()"
   ]
  },
  {
   "cell_type": "code",
   "execution_count": null,
   "id": "quantitative-amber",
   "metadata": {},
   "outputs": [],
   "source": [
    "# g = sns.distplot(diversity)\n",
    "# g.set_xlabel('Number of distinct artists')\n",
    "# plt.savefig('diversity.png')"
   ]
  },
  {
   "cell_type": "code",
   "execution_count": null,
   "id": "amber-career",
   "metadata": {},
   "outputs": [],
   "source": [
    "# np.save('lastfm-dataset-360K/test_users', diversity[diversity >= 50].sample(1000).index)"
   ]
  },
  {
   "cell_type": "code",
   "execution_count": null,
   "id": "attempted-absolute",
   "metadata": {},
   "outputs": [],
   "source": []
  }
 ],
 "metadata": {
  "kernelspec": {
   "display_name": "Python 3",
   "language": "python",
   "name": "python3"
  },
  "language_info": {
   "codemirror_mode": {
    "name": "ipython",
    "version": 3
   },
   "file_extension": ".py",
   "mimetype": "text/x-python",
   "name": "python",
   "nbconvert_exporter": "python",
   "pygments_lexer": "ipython3",
   "version": "3.8.8"
  }
 },
 "nbformat": 4,
 "nbformat_minor": 5
}
