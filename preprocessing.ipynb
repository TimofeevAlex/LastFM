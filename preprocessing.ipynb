{
 "cells": [
  {
   "cell_type": "code",
   "execution_count": 93,
   "id": "broken-agency",
   "metadata": {},
   "outputs": [
    {
     "name": "stdout",
     "output_type": "stream",
     "text": [
      "The autoreload extension is already loaded. To reload it, use:\n",
      "  %reload_ext autoreload\n"
     ]
    }
   ],
   "source": [
    "import sys\n",
    "import numpy as np\n",
    "import pandas as pd\n",
    "import seaborn as sns\n",
    "import matplotlib.pyplot as plt\n",
    "# import warnings\n",
    "# warnings.filterwarnings(\"ignore\", category=FutureWarning)\n",
    "# warnings.filterwarnings(\"ignore\", category=RuntimeWarning)\n",
    "sys.path.append('src')\n",
    "from train_test import train_test_split\n",
    "\n",
    "%load_ext autoreload\n",
    "%autoreload 2"
   ]
  },
  {
   "cell_type": "markdown",
   "id": "designed-zimbabwe",
   "metadata": {},
   "source": [
    "### Uploading the original dataset (uncomment if you need)"
   ]
  },
  {
   "cell_type": "code",
   "execution_count": 2,
   "id": "intended-direction",
   "metadata": {},
   "outputs": [],
   "source": [
    "# ! sudo apt install curl\n",
    "# ! curl -O  http://mtg.upf.edu/static/datasets/last.fm/lastfm-dataset-360K.tar.gz"
   ]
  },
  {
   "cell_type": "code",
   "execution_count": 3,
   "id": "satellite-secondary",
   "metadata": {},
   "outputs": [],
   "source": [
    "# ! tar -xf ./lastfm-dataset-360K.tar.gz"
   ]
  },
  {
   "cell_type": "markdown",
   "id": "serial-phrase",
   "metadata": {},
   "source": [
    "### Reading the dataset"
   ]
  },
  {
   "cell_type": "code",
   "execution_count": 4,
   "id": "initial-black",
   "metadata": {},
   "outputs": [],
   "source": [
    "lastfm_360_demo = pd.read_csv('lastfm-dataset-360K/usersha1-profile.tsv', sep='\\t', header=None,\n",
    "                             names=['user_email', 'gender', 'age', 'country', 'signup'])\n",
    "lastfm_360_behav = pd.read_csv('lastfm-dataset-360K/usersha1-artmbid-artname-plays.tsv', sep='\\t', header=None, \n",
    "                              names=['user_email', 'artist_id', 'artist_name', 'plays'])"
   ]
  },
  {
   "cell_type": "markdown",
   "id": "centered-printer",
   "metadata": {},
   "source": [
    "Transform \"signup\" column into datetime type"
   ]
  },
  {
   "cell_type": "code",
   "execution_count": 5,
   "id": "sustainable-memphis",
   "metadata": {},
   "outputs": [],
   "source": [
    "lastfm_360_demo[\"signup\"] = pd.to_datetime(lastfm_360_demo.signup)"
   ]
  },
  {
   "cell_type": "markdown",
   "id": "ready-bridges",
   "metadata": {},
   "source": [
    "Make users' IDs as numbers"
   ]
  },
  {
   "cell_type": "code",
   "execution_count": 6,
   "id": "rolled-independence",
   "metadata": {},
   "outputs": [],
   "source": [
    "uniq_users = lastfm_360_demo['user_email'].unique()\n",
    "upd_users_ids = dict((id_, i) for i, id_ in enumerate(uniq_users))\n",
    "lastfm_360_demo['user_email'] = lastfm_360_demo['user_email'].map(lambda x: upd_users_ids[x])"
   ]
  },
  {
   "cell_type": "markdown",
   "id": "processed-diagram",
   "metadata": {},
   "source": [
    "### Exploring and cleaning demographic data"
   ]
  },
  {
   "cell_type": "code",
   "execution_count": 7,
   "id": "direct-karaoke",
   "metadata": {},
   "outputs": [
    {
     "data": {
      "text/html": [
       "<div>\n",
       "<style scoped>\n",
       "    .dataframe tbody tr th:only-of-type {\n",
       "        vertical-align: middle;\n",
       "    }\n",
       "\n",
       "    .dataframe tbody tr th {\n",
       "        vertical-align: top;\n",
       "    }\n",
       "\n",
       "    .dataframe thead th {\n",
       "        text-align: right;\n",
       "    }\n",
       "</style>\n",
       "<table border=\"1\" class=\"dataframe\">\n",
       "  <thead>\n",
       "    <tr style=\"text-align: right;\">\n",
       "      <th></th>\n",
       "      <th>user_email</th>\n",
       "      <th>gender</th>\n",
       "      <th>age</th>\n",
       "      <th>country</th>\n",
       "      <th>signup</th>\n",
       "    </tr>\n",
       "  </thead>\n",
       "  <tbody>\n",
       "    <tr>\n",
       "      <th>0</th>\n",
       "      <td>0</td>\n",
       "      <td>f</td>\n",
       "      <td>22.0</td>\n",
       "      <td>Germany</td>\n",
       "      <td>2007-02-01</td>\n",
       "    </tr>\n",
       "    <tr>\n",
       "      <th>1</th>\n",
       "      <td>1</td>\n",
       "      <td>f</td>\n",
       "      <td>NaN</td>\n",
       "      <td>Canada</td>\n",
       "      <td>2007-12-04</td>\n",
       "    </tr>\n",
       "    <tr>\n",
       "      <th>2</th>\n",
       "      <td>2</td>\n",
       "      <td>NaN</td>\n",
       "      <td>NaN</td>\n",
       "      <td>Germany</td>\n",
       "      <td>2006-09-01</td>\n",
       "    </tr>\n",
       "    <tr>\n",
       "      <th>3</th>\n",
       "      <td>3</td>\n",
       "      <td>m</td>\n",
       "      <td>19.0</td>\n",
       "      <td>Mexico</td>\n",
       "      <td>2008-04-28</td>\n",
       "    </tr>\n",
       "    <tr>\n",
       "      <th>4</th>\n",
       "      <td>4</td>\n",
       "      <td>m</td>\n",
       "      <td>28.0</td>\n",
       "      <td>United States</td>\n",
       "      <td>2006-01-27</td>\n",
       "    </tr>\n",
       "  </tbody>\n",
       "</table>\n",
       "</div>"
      ],
      "text/plain": [
       "   user_email gender   age        country     signup\n",
       "0           0      f  22.0        Germany 2007-02-01\n",
       "1           1      f   NaN         Canada 2007-12-04\n",
       "2           2    NaN   NaN        Germany 2006-09-01\n",
       "3           3      m  19.0         Mexico 2008-04-28\n",
       "4           4      m  28.0  United States 2006-01-27"
      ]
     },
     "execution_count": 7,
     "metadata": {},
     "output_type": "execute_result"
    }
   ],
   "source": [
    "lastfm_360_demo.head()"
   ]
  },
  {
   "cell_type": "code",
   "execution_count": 8,
   "id": "pending-carbon",
   "metadata": {},
   "outputs": [
    {
     "name": "stdout",
     "output_type": "stream",
     "text": [
      "<class 'pandas.core.frame.DataFrame'>\n",
      "RangeIndex: 359347 entries, 0 to 359346\n",
      "Data columns (total 5 columns):\n",
      " #   Column      Non-Null Count   Dtype         \n",
      "---  ------      --------------   -----         \n",
      " 0   user_email  359347 non-null  int64         \n",
      " 1   gender      326572 non-null  object        \n",
      " 2   age         284447 non-null  float64       \n",
      " 3   country     359347 non-null  object        \n",
      " 4   signup      359347 non-null  datetime64[ns]\n",
      "dtypes: datetime64[ns](1), float64(1), int64(1), object(2)\n",
      "memory usage: 13.7+ MB\n"
     ]
    }
   ],
   "source": [
    "lastfm_360_demo.info()"
   ]
  },
  {
   "cell_type": "code",
   "execution_count": 9,
   "id": "documentary-mining",
   "metadata": {},
   "outputs": [
    {
     "data": {
      "text/html": [
       "<div>\n",
       "<style scoped>\n",
       "    .dataframe tbody tr th:only-of-type {\n",
       "        vertical-align: middle;\n",
       "    }\n",
       "\n",
       "    .dataframe tbody tr th {\n",
       "        vertical-align: top;\n",
       "    }\n",
       "\n",
       "    .dataframe thead th {\n",
       "        text-align: right;\n",
       "    }\n",
       "</style>\n",
       "<table border=\"1\" class=\"dataframe\">\n",
       "  <thead>\n",
       "    <tr style=\"text-align: right;\">\n",
       "      <th></th>\n",
       "      <th>user_email</th>\n",
       "      <th>gender</th>\n",
       "      <th>age</th>\n",
       "      <th>country</th>\n",
       "      <th>signup</th>\n",
       "    </tr>\n",
       "  </thead>\n",
       "  <tbody>\n",
       "    <tr>\n",
       "      <th>count</th>\n",
       "      <td>359347.000000</td>\n",
       "      <td>326572</td>\n",
       "      <td>284447.000000</td>\n",
       "      <td>359347</td>\n",
       "      <td>359347</td>\n",
       "    </tr>\n",
       "    <tr>\n",
       "      <th>unique</th>\n",
       "      <td>NaN</td>\n",
       "      <td>2</td>\n",
       "      <td>NaN</td>\n",
       "      <td>239</td>\n",
       "      <td>NaN</td>\n",
       "    </tr>\n",
       "    <tr>\n",
       "      <th>top</th>\n",
       "      <td>NaN</td>\n",
       "      <td>m</td>\n",
       "      <td>NaN</td>\n",
       "      <td>United States</td>\n",
       "      <td>NaN</td>\n",
       "    </tr>\n",
       "    <tr>\n",
       "      <th>freq</th>\n",
       "      <td>NaN</td>\n",
       "      <td>241642</td>\n",
       "      <td>NaN</td>\n",
       "      <td>67044</td>\n",
       "      <td>NaN</td>\n",
       "    </tr>\n",
       "    <tr>\n",
       "      <th>mean</th>\n",
       "      <td>179673.000000</td>\n",
       "      <td>NaN</td>\n",
       "      <td>25.098046</td>\n",
       "      <td>NaN</td>\n",
       "      <td>2007-08-01 08:05:37.732609280</td>\n",
       "    </tr>\n",
       "    <tr>\n",
       "      <th>min</th>\n",
       "      <td>0.000000</td>\n",
       "      <td>NaN</td>\n",
       "      <td>-1337.000000</td>\n",
       "      <td>NaN</td>\n",
       "      <td>2002-10-29 00:00:00</td>\n",
       "    </tr>\n",
       "    <tr>\n",
       "      <th>25%</th>\n",
       "      <td>89836.500000</td>\n",
       "      <td>NaN</td>\n",
       "      <td>20.000000</td>\n",
       "      <td>NaN</td>\n",
       "      <td>2006-10-21 00:00:00</td>\n",
       "    </tr>\n",
       "    <tr>\n",
       "      <th>50%</th>\n",
       "      <td>179673.000000</td>\n",
       "      <td>NaN</td>\n",
       "      <td>23.000000</td>\n",
       "      <td>NaN</td>\n",
       "      <td>2007-09-29 00:00:00</td>\n",
       "    </tr>\n",
       "    <tr>\n",
       "      <th>75%</th>\n",
       "      <td>269509.500000</td>\n",
       "      <td>NaN</td>\n",
       "      <td>28.000000</td>\n",
       "      <td>NaN</td>\n",
       "      <td>2008-07-17 00:00:00</td>\n",
       "    </tr>\n",
       "    <tr>\n",
       "      <th>max</th>\n",
       "      <td>359346.000000</td>\n",
       "      <td>NaN</td>\n",
       "      <td>1002.000000</td>\n",
       "      <td>NaN</td>\n",
       "      <td>2009-11-11 00:00:00</td>\n",
       "    </tr>\n",
       "    <tr>\n",
       "      <th>std</th>\n",
       "      <td>103734.687929</td>\n",
       "      <td>NaN</td>\n",
       "      <td>21.665742</td>\n",
       "      <td>NaN</td>\n",
       "      <td>NaN</td>\n",
       "    </tr>\n",
       "  </tbody>\n",
       "</table>\n",
       "</div>"
      ],
      "text/plain": [
       "           user_email  gender            age        country  \\\n",
       "count   359347.000000  326572  284447.000000         359347   \n",
       "unique            NaN       2            NaN            239   \n",
       "top               NaN       m            NaN  United States   \n",
       "freq              NaN  241642            NaN          67044   \n",
       "mean    179673.000000     NaN      25.098046            NaN   \n",
       "min          0.000000     NaN   -1337.000000            NaN   \n",
       "25%      89836.500000     NaN      20.000000            NaN   \n",
       "50%     179673.000000     NaN      23.000000            NaN   \n",
       "75%     269509.500000     NaN      28.000000            NaN   \n",
       "max     359346.000000     NaN    1002.000000            NaN   \n",
       "std     103734.687929     NaN      21.665742            NaN   \n",
       "\n",
       "                               signup  \n",
       "count                          359347  \n",
       "unique                            NaN  \n",
       "top                               NaN  \n",
       "freq                              NaN  \n",
       "mean    2007-08-01 08:05:37.732609280  \n",
       "min               2002-10-29 00:00:00  \n",
       "25%               2006-10-21 00:00:00  \n",
       "50%               2007-09-29 00:00:00  \n",
       "75%               2008-07-17 00:00:00  \n",
       "max               2009-11-11 00:00:00  \n",
       "std                               NaN  "
      ]
     },
     "execution_count": 9,
     "metadata": {},
     "output_type": "execute_result"
    }
   ],
   "source": [
    "lastfm_360_demo.describe(include='all', datetime_is_numeric=True)"
   ]
  },
  {
   "cell_type": "markdown",
   "id": "average-earthquake",
   "metadata": {},
   "source": [
    "Then, we should process demographic data. First, we put unrealistic ages as NaNs."
   ]
  },
  {
   "cell_type": "code",
   "execution_count": 10,
   "id": "curious-fitness",
   "metadata": {},
   "outputs": [],
   "source": [
    "ages = lastfm_360_demo['age'].unique()\n",
    "lastfm_360_demo['age'].replace(ages[ages > 99], np.nan, inplace=True)\n",
    "lastfm_360_demo['age'].replace(ages[ages < 8], np.nan, inplace=True)"
   ]
  },
  {
   "cell_type": "markdown",
   "id": "searching-series",
   "metadata": {},
   "source": [
    "Make one-hot encoding for gender, country, and age with sure that NaNs have some pattern"
   ]
  },
  {
   "cell_type": "code",
   "execution_count": 11,
   "id": "round-freeze",
   "metadata": {},
   "outputs": [],
   "source": [
    "lastfm_360_demo = lastfm_360_demo.join(pd.get_dummies(lastfm_360_demo['gender']))\n",
    "lastfm_360_demo = lastfm_360_demo.drop('gender', axis=1)\n",
    "\n",
    "lastfm_360_demo = lastfm_360_demo.join(pd.get_dummies(lastfm_360_demo['country']))\n",
    "lastfm_360_demo = lastfm_360_demo.drop('country', axis=1)\n",
    "\n",
    "lastfm_360_demo = lastfm_360_demo.join(pd.get_dummies(lastfm_360_demo['age']))\n",
    "lastfm_360_demo = lastfm_360_demo.drop('age', axis=1)"
   ]
  },
  {
   "cell_type": "markdown",
   "id": "imperial-patient",
   "metadata": {},
   "source": [
    "Extract features from sign-up date"
   ]
  },
  {
   "cell_type": "code",
   "execution_count": 12,
   "id": "million-extraction",
   "metadata": {},
   "outputs": [],
   "source": [
    "lastfm_360_demo['year'] = lastfm_360_demo['signup'].dt.year\n",
    "lastfm_360_demo['month'] = lastfm_360_demo['signup'].dt.month\n",
    "lastfm_360_demo['weekday'] = lastfm_360_demo['signup'].dt.weekday\n",
    "lastfm_360_demo['day'] = lastfm_360_demo['signup'].dt.day\n",
    "lastfm_360_demo = lastfm_360_demo.drop(columns='signup') \n",
    "lastfm_360_demo = pd.concat([lastfm_360_demo, pd.get_dummies(lastfm_360_demo['year'])], axis=1)\n",
    "lastfm_360_demo = pd.concat([lastfm_360_demo, pd.get_dummies(lastfm_360_demo['month'])], axis=1)\n",
    "lastfm_360_demo = pd.concat([lastfm_360_demo, pd.get_dummies(lastfm_360_demo['day'])], axis=1)\n",
    "lastfm_360_demo = pd.concat([lastfm_360_demo, pd.get_dummies(lastfm_360_demo['weekday'])], axis=1)\n",
    "lastfm_360_demo = lastfm_360_demo.drop(columns=['year', 'month', 'weekday', 'day']) "
   ]
  },
  {
   "cell_type": "markdown",
   "id": "checked-executive",
   "metadata": {},
   "source": [
    "### Exploring and cleaning behavioral data"
   ]
  },
  {
   "cell_type": "code",
   "execution_count": 13,
   "id": "russian-florida",
   "metadata": {},
   "outputs": [
    {
     "data": {
      "text/html": [
       "<div>\n",
       "<style scoped>\n",
       "    .dataframe tbody tr th:only-of-type {\n",
       "        vertical-align: middle;\n",
       "    }\n",
       "\n",
       "    .dataframe tbody tr th {\n",
       "        vertical-align: top;\n",
       "    }\n",
       "\n",
       "    .dataframe thead th {\n",
       "        text-align: right;\n",
       "    }\n",
       "</style>\n",
       "<table border=\"1\" class=\"dataframe\">\n",
       "  <thead>\n",
       "    <tr style=\"text-align: right;\">\n",
       "      <th></th>\n",
       "      <th>user_email</th>\n",
       "      <th>artist_id</th>\n",
       "      <th>artist_name</th>\n",
       "      <th>plays</th>\n",
       "    </tr>\n",
       "  </thead>\n",
       "  <tbody>\n",
       "    <tr>\n",
       "      <th>0</th>\n",
       "      <td>00000c289a1829a808ac09c00daf10bc3c4e223b</td>\n",
       "      <td>3bd73256-3905-4f3a-97e2-8b341527f805</td>\n",
       "      <td>betty blowtorch</td>\n",
       "      <td>2137</td>\n",
       "    </tr>\n",
       "    <tr>\n",
       "      <th>1</th>\n",
       "      <td>00000c289a1829a808ac09c00daf10bc3c4e223b</td>\n",
       "      <td>f2fb0ff0-5679-42ec-a55c-15109ce6e320</td>\n",
       "      <td>die Ärzte</td>\n",
       "      <td>1099</td>\n",
       "    </tr>\n",
       "    <tr>\n",
       "      <th>2</th>\n",
       "      <td>00000c289a1829a808ac09c00daf10bc3c4e223b</td>\n",
       "      <td>b3ae82c2-e60b-4551-a76d-6620f1b456aa</td>\n",
       "      <td>melissa etheridge</td>\n",
       "      <td>897</td>\n",
       "    </tr>\n",
       "    <tr>\n",
       "      <th>3</th>\n",
       "      <td>00000c289a1829a808ac09c00daf10bc3c4e223b</td>\n",
       "      <td>3d6bbeb7-f90e-4d10-b440-e153c0d10b53</td>\n",
       "      <td>elvenking</td>\n",
       "      <td>717</td>\n",
       "    </tr>\n",
       "    <tr>\n",
       "      <th>4</th>\n",
       "      <td>00000c289a1829a808ac09c00daf10bc3c4e223b</td>\n",
       "      <td>bbd2ffd7-17f4-4506-8572-c1ea58c3f9a8</td>\n",
       "      <td>juliette &amp; the licks</td>\n",
       "      <td>706</td>\n",
       "    </tr>\n",
       "  </tbody>\n",
       "</table>\n",
       "</div>"
      ],
      "text/plain": [
       "                                 user_email  \\\n",
       "0  00000c289a1829a808ac09c00daf10bc3c4e223b   \n",
       "1  00000c289a1829a808ac09c00daf10bc3c4e223b   \n",
       "2  00000c289a1829a808ac09c00daf10bc3c4e223b   \n",
       "3  00000c289a1829a808ac09c00daf10bc3c4e223b   \n",
       "4  00000c289a1829a808ac09c00daf10bc3c4e223b   \n",
       "\n",
       "                              artist_id           artist_name  plays  \n",
       "0  3bd73256-3905-4f3a-97e2-8b341527f805       betty blowtorch   2137  \n",
       "1  f2fb0ff0-5679-42ec-a55c-15109ce6e320             die Ärzte   1099  \n",
       "2  b3ae82c2-e60b-4551-a76d-6620f1b456aa     melissa etheridge    897  \n",
       "3  3d6bbeb7-f90e-4d10-b440-e153c0d10b53             elvenking    717  \n",
       "4  bbd2ffd7-17f4-4506-8572-c1ea58c3f9a8  juliette & the licks    706  "
      ]
     },
     "execution_count": 13,
     "metadata": {},
     "output_type": "execute_result"
    }
   ],
   "source": [
    "lastfm_360_behav.head()"
   ]
  },
  {
   "cell_type": "code",
   "execution_count": 14,
   "id": "threaded-sodium",
   "metadata": {},
   "outputs": [
    {
     "name": "stdout",
     "output_type": "stream",
     "text": [
      "<class 'pandas.core.frame.DataFrame'>\n",
      "RangeIndex: 17535655 entries, 0 to 17535654\n",
      "Data columns (total 4 columns):\n",
      " #   Column       Dtype \n",
      "---  ------       ----- \n",
      " 0   user_email   object\n",
      " 1   artist_id    object\n",
      " 2   artist_name  object\n",
      " 3   plays        int64 \n",
      "dtypes: int64(1), object(3)\n",
      "memory usage: 535.1+ MB\n"
     ]
    }
   ],
   "source": [
    "lastfm_360_behav.info()"
   ]
  },
  {
   "cell_type": "code",
   "execution_count": 15,
   "id": "higher-search",
   "metadata": {},
   "outputs": [
    {
     "data": {
      "text/html": [
       "<div>\n",
       "<style scoped>\n",
       "    .dataframe tbody tr th:only-of-type {\n",
       "        vertical-align: middle;\n",
       "    }\n",
       "\n",
       "    .dataframe tbody tr th {\n",
       "        vertical-align: top;\n",
       "    }\n",
       "\n",
       "    .dataframe thead th {\n",
       "        text-align: right;\n",
       "    }\n",
       "</style>\n",
       "<table border=\"1\" class=\"dataframe\">\n",
       "  <thead>\n",
       "    <tr style=\"text-align: right;\">\n",
       "      <th></th>\n",
       "      <th>user_email</th>\n",
       "      <th>artist_id</th>\n",
       "      <th>artist_name</th>\n",
       "      <th>plays</th>\n",
       "    </tr>\n",
       "  </thead>\n",
       "  <tbody>\n",
       "    <tr>\n",
       "      <th>count</th>\n",
       "      <td>17535655</td>\n",
       "      <td>17309518</td>\n",
       "      <td>17535451</td>\n",
       "      <td>1.753566e+07</td>\n",
       "    </tr>\n",
       "    <tr>\n",
       "      <th>unique</th>\n",
       "      <td>358868</td>\n",
       "      <td>160112</td>\n",
       "      <td>292363</td>\n",
       "      <td>NaN</td>\n",
       "    </tr>\n",
       "    <tr>\n",
       "      <th>top</th>\n",
       "      <td>13c0df8a58cd3ca9e37d8e90662d2ad3c062eaa5</td>\n",
       "      <td>a74b1b7f-71a5-4011-9441-d0b5e4122711</td>\n",
       "      <td>radiohead</td>\n",
       "      <td>NaN</td>\n",
       "    </tr>\n",
       "    <tr>\n",
       "      <th>freq</th>\n",
       "      <td>166</td>\n",
       "      <td>77254</td>\n",
       "      <td>77254</td>\n",
       "      <td>NaN</td>\n",
       "    </tr>\n",
       "    <tr>\n",
       "      <th>mean</th>\n",
       "      <td>NaN</td>\n",
       "      <td>NaN</td>\n",
       "      <td>NaN</td>\n",
       "      <td>2.151932e+02</td>\n",
       "    </tr>\n",
       "    <tr>\n",
       "      <th>std</th>\n",
       "      <td>NaN</td>\n",
       "      <td>NaN</td>\n",
       "      <td>NaN</td>\n",
       "      <td>6.144815e+02</td>\n",
       "    </tr>\n",
       "    <tr>\n",
       "      <th>min</th>\n",
       "      <td>NaN</td>\n",
       "      <td>NaN</td>\n",
       "      <td>NaN</td>\n",
       "      <td>0.000000e+00</td>\n",
       "    </tr>\n",
       "    <tr>\n",
       "      <th>25%</th>\n",
       "      <td>NaN</td>\n",
       "      <td>NaN</td>\n",
       "      <td>NaN</td>\n",
       "      <td>3.500000e+01</td>\n",
       "    </tr>\n",
       "    <tr>\n",
       "      <th>50%</th>\n",
       "      <td>NaN</td>\n",
       "      <td>NaN</td>\n",
       "      <td>NaN</td>\n",
       "      <td>9.400000e+01</td>\n",
       "    </tr>\n",
       "    <tr>\n",
       "      <th>75%</th>\n",
       "      <td>NaN</td>\n",
       "      <td>NaN</td>\n",
       "      <td>NaN</td>\n",
       "      <td>2.240000e+02</td>\n",
       "    </tr>\n",
       "    <tr>\n",
       "      <th>max</th>\n",
       "      <td>NaN</td>\n",
       "      <td>NaN</td>\n",
       "      <td>NaN</td>\n",
       "      <td>4.191570e+05</td>\n",
       "    </tr>\n",
       "  </tbody>\n",
       "</table>\n",
       "</div>"
      ],
      "text/plain": [
       "                                      user_email  \\\n",
       "count                                   17535655   \n",
       "unique                                    358868   \n",
       "top     13c0df8a58cd3ca9e37d8e90662d2ad3c062eaa5   \n",
       "freq                                         166   \n",
       "mean                                         NaN   \n",
       "std                                          NaN   \n",
       "min                                          NaN   \n",
       "25%                                          NaN   \n",
       "50%                                          NaN   \n",
       "75%                                          NaN   \n",
       "max                                          NaN   \n",
       "\n",
       "                                   artist_id artist_name         plays  \n",
       "count                               17309518    17535451  1.753566e+07  \n",
       "unique                                160112      292363           NaN  \n",
       "top     a74b1b7f-71a5-4011-9441-d0b5e4122711   radiohead           NaN  \n",
       "freq                                   77254       77254           NaN  \n",
       "mean                                     NaN         NaN  2.151932e+02  \n",
       "std                                      NaN         NaN  6.144815e+02  \n",
       "min                                      NaN         NaN  0.000000e+00  \n",
       "25%                                      NaN         NaN  3.500000e+01  \n",
       "50%                                      NaN         NaN  9.400000e+01  \n",
       "75%                                      NaN         NaN  2.240000e+02  \n",
       "max                                      NaN         NaN  4.191570e+05  "
      ]
     },
     "execution_count": 15,
     "metadata": {},
     "output_type": "execute_result"
    }
   ],
   "source": [
    "lastfm_360_behav.describe(include='all', datetime_is_numeric=True)"
   ]
  },
  {
   "cell_type": "code",
   "execution_count": 16,
   "id": "earned-synthetic",
   "metadata": {},
   "outputs": [
    {
     "data": {
      "text/plain": [
       "user_email          0\n",
       "artist_id      226137\n",
       "artist_name       204\n",
       "plays               0\n",
       "dtype: int64"
      ]
     },
     "execution_count": 16,
     "metadata": {},
     "output_type": "execute_result"
    }
   ],
   "source": [
    "lastfm_360_behav.isna().sum(0)"
   ]
  },
  {
   "cell_type": "markdown",
   "id": "informal-lodge",
   "metadata": {},
   "source": [
    "We drop samples with missed artist's name because there are no many of them and it is only one artist in 202 cases and an artist that doesn't have the name and the ID in 2 cases."
   ]
  },
  {
   "cell_type": "code",
   "execution_count": 17,
   "id": "loved-string",
   "metadata": {},
   "outputs": [],
   "source": [
    "lastfm_360_behav = lastfm_360_behav.drop(lastfm_360_behav.loc[lastfm_360_behav['artist_name'].isnull()].index)"
   ]
  },
  {
   "cell_type": "markdown",
   "id": "premier-timothy",
   "metadata": {},
   "source": [
    "Then, we have strange user emails \"dec 27, 2008\" and \"sep 20, 2008\" in the behavioral data which are not found in the demographic one. It is only 86 samples and it can be some test data, thus we drop it. (It is not needed for ALS for example)"
   ]
  },
  {
   "cell_type": "code",
   "execution_count": 18,
   "id": "greatest-packaging",
   "metadata": {},
   "outputs": [],
   "source": [
    "lastfm_360_behav = lastfm_360_behav.drop(lastfm_360_behav.loc[lastfm_360_behav['user_email'].str.contains(' ')].index) "
   ]
  },
  {
   "cell_type": "markdown",
   "id": "auburn-pierce",
   "metadata": {},
   "source": [
    "Since the part of samples where ID is missed makes up about 1% of data and don't include important systematic patterns like feats or the most popular artists, we drop it for simplicity. (another approach would be to say that the ID is equal names but this might make data incorrect because names are not unique at all)"
   ]
  },
  {
   "cell_type": "code",
   "execution_count": 19,
   "id": "arranged-structure",
   "metadata": {},
   "outputs": [],
   "source": [
    "lastfm_360_behav = lastfm_360_behav.drop(lastfm_360_behav.loc[lastfm_360_behav['artist_id'].isnull()].index)"
   ]
  },
  {
   "cell_type": "markdown",
   "id": "changed-reminder",
   "metadata": {},
   "source": [
    "There are cases where one ID corresponds several artists names. We fix it by assigning one name to all entries of a given ID"
   ]
  },
  {
   "cell_type": "code",
   "execution_count": 20,
   "id": "adequate-america",
   "metadata": {},
   "outputs": [],
   "source": [
    "uniq_artist_names = lastfm_360_behav.groupby('artist_id')['artist_name'].unique()\n",
    "lastfm_360_behav['artist_name'] = lastfm_360_behav.apply(lambda x: uniq_artist_names[x['artist_id']][0], axis=1)"
   ]
  },
  {
   "cell_type": "markdown",
   "id": "statutory-shirt",
   "metadata": {},
   "source": [
    "Make artists' and users' IDs as numbers"
   ]
  },
  {
   "cell_type": "code",
   "execution_count": 21,
   "id": "combined-fisher",
   "metadata": {},
   "outputs": [],
   "source": [
    "uniq_artist_ids = lastfm_360_behav['artist_id'].unique()\n",
    "upd_ids = dict((id_, i) for i, id_ in enumerate(uniq_artist_ids))\n",
    "lastfm_360_behav['artist_id'] = lastfm_360_behav['artist_id'].map(lambda x: upd_ids[x])\n",
    "lastfm_360_behav['user_email'] = lastfm_360_behav['user_email'].map(lambda x: upd_users_ids[x])"
   ]
  },
  {
   "cell_type": "code",
   "execution_count": 22,
   "id": "geological-development",
   "metadata": {},
   "outputs": [
    {
     "name": "stdout",
     "output_type": "stream",
     "text": [
      "(160111,)\n",
      "(358856,)\n",
      "(359347,)\n"
     ]
    }
   ],
   "source": [
    "print(lastfm_360_behav.artist_id.unique().shape)\n",
    "print(lastfm_360_behav.user_email.unique().shape)\n",
    "print(lastfm_360_demo.user_email.unique().shape)"
   ]
  },
  {
   "cell_type": "markdown",
   "id": "higher-relations",
   "metadata": {},
   "source": [
    "We can see that there are more users that don't have records in the behavioral part of the dataset. Let us drop them because it is about 500 users, i.e. ~0.1%."
   ]
  },
  {
   "cell_type": "code",
   "execution_count": 23,
   "id": "lightweight-overall",
   "metadata": {},
   "outputs": [],
   "source": [
    "no_plays_users = list(set(lastfm_360_demo.user_email.unique()).symmetric_difference(\n",
    "    set(lastfm_360_behav.user_email.unique())))\n",
    "lastfm_360_demo = lastfm_360_demo[~lastfm_360_demo.user_email.isin(no_plays_users)]"
   ]
  },
  {
   "cell_type": "code",
   "execution_count": 24,
   "id": "aging-webmaster",
   "metadata": {},
   "outputs": [
    {
     "name": "stdout",
     "output_type": "stream",
     "text": [
      "(358856,)\n",
      "(358856,)\n"
     ]
    }
   ],
   "source": [
    "print(lastfm_360_behav.user_email.unique().shape)\n",
    "print(lastfm_360_demo.user_email.unique().shape)"
   ]
  },
  {
   "cell_type": "markdown",
   "id": "sealed-continuity",
   "metadata": {},
   "source": [
    "### Handling number of plays"
   ]
  },
  {
   "cell_type": "code",
   "execution_count": 25,
   "id": "lined-sleeve",
   "metadata": {},
   "outputs": [
    {
     "data": {
      "text/plain": [
       "[Text(-250.0, 0, 'qntal'),\n",
       " Text(0.0, 0, 'the beatles'),\n",
       " Text(250.0, 0, 'nick drake'),\n",
       " Text(500.0, 0, 'kate nash'),\n",
       " Text(750.0, 0, 'amy macdonald'),\n",
       " Text(1000.0, 0, 'the lawrence arms'),\n",
       " Text(1250.0, 0, '(hed) p.e'),\n",
       " Text(1500.0, 0, 'meat loaf'),\n",
       " Text(1750.0, 0, 'qntal'),\n",
       " Text(2000.0, 0, ''),\n",
       " Text(2250.0, 0, '')]"
      ]
     },
     "execution_count": 25,
     "metadata": {},
     "output_type": "execute_result"
    },
    {
     "data": {
      "image/png": "[encoded data removed]",
      "text/plain": [
       "<Figure size 432x288 with 1 Axes>"
      ]
     },
     "metadata": {
      "needs_background": "light"
     },
     "output_type": "display_data"
    }
   ],
   "source": [
    "artist_plays = lastfm_360_behav.groupby('artist_name')['plays'].sum().sort_values(ascending=False)\n",
    "# sns.distplot(artist_plays[:100])\n",
    "g = artist_plays[:2000].plot()\n",
    "g.set_ylabel('Plays')\n",
    "g.set_xlabel('Artist name')\n",
    "g.set_xticklabels(g.get_xticklabels(), rotation=45)\n",
    "# plt.savefig('plays_vs_artists.png')"
   ]
  },
  {
   "cell_type": "markdown",
   "id": "quick-computer",
   "metadata": {},
   "source": [
    "We can see that the distribution of the plays is highly concentrated around a few hundreds of plays. Thus, we reduce it to more useful range by taking log (notice that samples with 0 plays were already dropped simultaneously with NaNs). Further, in the training phase, we will standardize them using the maximum number of plays calculated from the train sample."
   ]
  },
  {
   "cell_type": "code",
   "execution_count": 26,
   "id": "attended-standing",
   "metadata": {},
   "outputs": [
    {
     "name": "stderr",
     "output_type": "stream",
     "text": [
      "/home/alex/anaconda3/lib/python3.8/site-packages/seaborn/distributions.py:2557: FutureWarning: `distplot` is a deprecated function and will be removed in a future version. Please adapt your code to use either `displot` (a figure-level function with similar flexibility) or `histplot` (an axes-level function for histograms).\n",
      "  warnings.warn(msg, FutureWarning)\n"
     ]
    },
    {
     "data": {
      "text/plain": [
       "<AxesSubplot:xlabel='plays', ylabel='Density'>"
      ]
     },
     "execution_count": 26,
     "metadata": {},
     "output_type": "execute_result"
    },
    {
     "data": {
      "image/png": "[encoded data removed]",
      "text/plain": [
       "<Figure size 432x288 with 1 Axes>"
      ]
     },
     "metadata": {
      "needs_background": "light"
     },
     "output_type": "display_data"
    }
   ],
   "source": [
    "sns.distplot(lastfm_360_behav['plays'])\n",
    "# plt.savefig('plays_density.png')"
   ]
  },
  {
   "cell_type": "code",
   "execution_count": 27,
   "id": "interior-leave",
   "metadata": {},
   "outputs": [
    {
     "name": "stderr",
     "output_type": "stream",
     "text": [
      "/home/alex/anaconda3/lib/python3.8/site-packages/seaborn/distributions.py:2557: FutureWarning: `distplot` is a deprecated function and will be removed in a future version. Please adapt your code to use either `displot` (a figure-level function with similar flexibility) or `histplot` (an axes-level function for histograms).\n",
      "  warnings.warn(msg, FutureWarning)\n"
     ]
    },
    {
     "data": {
      "text/plain": [
       "<AxesSubplot:xlabel='log_plays', ylabel='Density'>"
      ]
     },
     "execution_count": 27,
     "metadata": {},
     "output_type": "execute_result"
    },
    {
     "data": {
      "image/png": "[encoded data removed]",
      "text/plain": [
       "<Figure size 432x288 with 1 Axes>"
      ]
     },
     "metadata": {
      "needs_background": "light"
     },
     "output_type": "display_data"
    }
   ],
   "source": [
    "lastfm_360_behav['log_plays'] = np.log(lastfm_360_behav['plays'])\n",
    "sns.distplot(lastfm_360_behav['log_plays'])"
   ]
  },
  {
   "cell_type": "markdown",
   "id": "temporal-population",
   "metadata": {},
   "source": [
    "### Splitting behavioral data into train, validation and test"
   ]
  },
  {
   "cell_type": "code",
   "execution_count": 28,
   "id": "naughty-winning",
   "metadata": {},
   "outputs": [],
   "source": [
    "ratings = lastfm_360_behav[['user_email', 'artist_id', 'log_plays']]\n",
    "train, test = train_test_split(ratings, test_frac=0.1)\n",
    "train = train.sample(frac=1).reset_index(drop=True) \n",
    "train, valid = train_test_split(train, test_frac=0.1)"
   ]
  },
  {
   "cell_type": "code",
   "execution_count": 29,
   "id": "material-coordination",
   "metadata": {},
   "outputs": [
    {
     "name": "stdout",
     "output_type": "stream",
     "text": [
      "(14049677, 3) (1742895, 3) (17309231, 3)\n"
     ]
    }
   ],
   "source": [
    "print(train.shape, test.shape, ratings.shape)"
   ]
  },
  {
   "cell_type": "markdown",
   "id": "gorgeous-venture",
   "metadata": {},
   "source": [
    "### Saving clean dataset"
   ]
  },
  {
   "cell_type": "code",
   "execution_count": 30,
   "id": "phantom-campus",
   "metadata": {},
   "outputs": [],
   "source": [
    "# lastfm_360_behav.to_csv('lastfm-dataset-360K/behav-360k-processed.csv', index=False)\n",
    "lastfm_360_demo.to_csv('lastfm-dataset-360K/demo-360k-processed.csv', index=False)\n",
    "train.to_csv('lastfm-dataset-360K/train.csv', index=False)\n",
    "valid.to_csv('lastfm-dataset-360K/valid.csv', index=False)\n",
    "test.to_csv('lastfm-dataset-360K/test.csv', index=False)"
   ]
  },
  {
   "cell_type": "markdown",
   "id": "reduced-mercury",
   "metadata": {},
   "source": [
    "### Selecting users to test artists recommendations"
   ]
  },
  {
   "cell_type": "code",
   "execution_count": 56,
   "id": "sixth-juice",
   "metadata": {},
   "outputs": [],
   "source": [
    "diversity = lastfm_360_behav.groupby('user_email')['user_email'].count()"
   ]
  },
  {
   "cell_type": "code",
   "execution_count": 85,
   "id": "female-kidney",
   "metadata": {},
   "outputs": [
    {
     "name": "stderr",
     "output_type": "stream",
     "text": [
      "/home/alex/anaconda3/lib/python3.8/site-packages/seaborn/distributions.py:2557: FutureWarning: `distplot` is a deprecated function and will be removed in a future version. Please adapt your code to use either `displot` (a figure-level function with similar flexibility) or `histplot` (an axes-level function for histograms).\n",
      "  warnings.warn(msg, FutureWarning)\n"
     ]
    },
    {
     "data": {
      "image/png": "[encoded data removed]",
      "text/plain": [
       "<Figure size 432x288 with 1 Axes>"
      ]
     },
     "metadata": {
      "needs_background": "light"
     },
     "output_type": "display_data"
    }
   ],
   "source": [
    "g = sns.distplot(diversity)\n",
    "g.set_xlabel('Number of distinct artists')\n",
    "plt.savefig('diversity.png')"
   ]
  },
  {
   "cell_type": "code",
   "execution_count": 92,
   "id": "complimentary-square",
   "metadata": {},
   "outputs": [],
   "source": [
    "np.save('lastfm-dataset-360K/test_users', diversity[diversity >= 50].sample(1000).index)"
   ]
  }
 ],
 "metadata": {
  "kernelspec": {
   "display_name": "Python 3",
   "language": "python",
   "name": "python3"
  },
  "language_info": {
   "codemirror_mode": {
    "name": "ipython",
    "version": 3
   },
   "file_extension": ".py",
   "mimetype": "text/x-python",
   "name": "python",
   "nbconvert_exporter": "python",
   "pygments_lexer": "ipython3",
   "version": "3.8.8"
  }
 },
 "nbformat": 4,
 "nbformat_minor": 5
}
