{
 "cells": [
  {
   "cell_type": "code",
   "execution_count": 1,
   "metadata": {},
   "outputs": [],
   "source": [
    "import numpy as np\n",
    "import pandas as pd\n",
    "import seaborn as sns\n",
    "import matplotlib.pyplot as plt\n",
    "from sklearn.preprocessing import MinMaxScaler\n",
    "import warnings\n",
    "warnings.filterwarnings(\"ignore\", category=FutureWarning)\n",
    "warnings.filterwarnings(\"ignore\", category=RuntimeWarning)"
   ]
  },
  {
   "cell_type": "markdown",
   "metadata": {},
   "source": [
    "### Dataset ~360K users, demographic data"
   ]
  },
  {
   "cell_type": "code",
   "execution_count": 7,
   "metadata": {},
   "outputs": [],
   "source": [
    "lastfm_360_demo = pd.read_csv('data.nosync/lastfm-dataset-360K/usersha1-profile.tsv', sep='\\t', header=None,\n",
    "                             names=['user_email', 'gender', 'age', 'country', 'signup'])\n",
    "lastfm_360_demo[\"signup\"] = pd.to_datetime(lastfm_360_demo.signup)"
   ]
  },
  {
   "cell_type": "code",
   "execution_count": 5,
   "metadata": {},
   "outputs": [
    {
     "data": {
      "text/html": [
       "<div>\n",
       "<style scoped>\n",
       "    .dataframe tbody tr th:only-of-type {\n",
       "        vertical-align: middle;\n",
       "    }\n",
       "\n",
       "    .dataframe tbody tr th {\n",
       "        vertical-align: top;\n",
       "    }\n",
       "\n",
       "    .dataframe thead th {\n",
       "        text-align: right;\n",
       "    }\n",
       "</style>\n",
       "<table border=\"1\" class=\"dataframe\">\n",
       "  <thead>\n",
       "    <tr style=\"text-align: right;\">\n",
       "      <th></th>\n",
       "      <th>user_email</th>\n",
       "      <th>gender</th>\n",
       "      <th>age</th>\n",
       "      <th>country</th>\n",
       "      <th>signup</th>\n",
       "    </tr>\n",
       "  </thead>\n",
       "  <tbody>\n",
       "    <tr>\n",
       "      <th>0</th>\n",
       "      <td>00000c289a1829a808ac09c00daf10bc3c4e223b</td>\n",
       "      <td>f</td>\n",
       "      <td>22.0</td>\n",
       "      <td>Germany</td>\n",
       "      <td>2007-02-01</td>\n",
       "    </tr>\n",
       "    <tr>\n",
       "      <th>1</th>\n",
       "      <td>00001411dc427966b17297bf4d69e7e193135d89</td>\n",
       "      <td>f</td>\n",
       "      <td>NaN</td>\n",
       "      <td>Canada</td>\n",
       "      <td>2007-12-04</td>\n",
       "    </tr>\n",
       "    <tr>\n",
       "      <th>2</th>\n",
       "      <td>00004d2ac9316e22dc007ab2243d6fcb239e707d</td>\n",
       "      <td>NaN</td>\n",
       "      <td>NaN</td>\n",
       "      <td>Germany</td>\n",
       "      <td>2006-09-01</td>\n",
       "    </tr>\n",
       "    <tr>\n",
       "      <th>3</th>\n",
       "      <td>000063d3fe1cf2ba248b9e3c3f0334845a27a6bf</td>\n",
       "      <td>m</td>\n",
       "      <td>19.0</td>\n",
       "      <td>Mexico</td>\n",
       "      <td>2008-04-28</td>\n",
       "    </tr>\n",
       "    <tr>\n",
       "      <th>4</th>\n",
       "      <td>00007a47085b9aab8af55f52ec8846ac479ac4fe</td>\n",
       "      <td>m</td>\n",
       "      <td>28.0</td>\n",
       "      <td>United States</td>\n",
       "      <td>2006-01-27</td>\n",
       "    </tr>\n",
       "  </tbody>\n",
       "</table>\n",
       "</div>"
      ],
      "text/plain": [
       "                                 user_email gender   age        country  \\\n",
       "0  00000c289a1829a808ac09c00daf10bc3c4e223b      f  22.0        Germany   \n",
       "1  00001411dc427966b17297bf4d69e7e193135d89      f   NaN         Canada   \n",
       "2  00004d2ac9316e22dc007ab2243d6fcb239e707d    NaN   NaN        Germany   \n",
       "3  000063d3fe1cf2ba248b9e3c3f0334845a27a6bf      m  19.0         Mexico   \n",
       "4  00007a47085b9aab8af55f52ec8846ac479ac4fe      m  28.0  United States   \n",
       "\n",
       "      signup  \n",
       "0 2007-02-01  \n",
       "1 2007-12-04  \n",
       "2 2006-09-01  \n",
       "3 2008-04-28  \n",
       "4 2006-01-27  "
      ]
     },
     "execution_count": 5,
     "metadata": {},
     "output_type": "execute_result"
    }
   ],
   "source": [
    "lastfm_360_demo.head()"
   ]
  },
  {
   "cell_type": "code",
   "execution_count": 6,
   "metadata": {},
   "outputs": [
    {
     "name": "stdout",
     "output_type": "stream",
     "text": [
      "<class 'pandas.core.frame.DataFrame'>\n",
      "RangeIndex: 359347 entries, 0 to 359346\n",
      "Data columns (total 5 columns):\n",
      " #   Column      Non-Null Count   Dtype         \n",
      "---  ------      --------------   -----         \n",
      " 0   user_email  359347 non-null  object        \n",
      " 1   gender      326572 non-null  object        \n",
      " 2   age         284447 non-null  float64       \n",
      " 3   country     359347 non-null  object        \n",
      " 4   signup      359347 non-null  datetime64[ns]\n",
      "dtypes: datetime64[ns](1), float64(1), object(3)\n",
      "memory usage: 13.7+ MB\n"
     ]
    }
   ],
   "source": [
    "lastfm_360_demo.info()"
   ]
  },
  {
   "cell_type": "code",
   "execution_count": 7,
   "metadata": {},
   "outputs": [
    {
     "data": {
      "text/html": [
       "<div>\n",
       "<style scoped>\n",
       "    .dataframe tbody tr th:only-of-type {\n",
       "        vertical-align: middle;\n",
       "    }\n",
       "\n",
       "    .dataframe tbody tr th {\n",
       "        vertical-align: top;\n",
       "    }\n",
       "\n",
       "    .dataframe thead th {\n",
       "        text-align: right;\n",
       "    }\n",
       "</style>\n",
       "<table border=\"1\" class=\"dataframe\">\n",
       "  <thead>\n",
       "    <tr style=\"text-align: right;\">\n",
       "      <th></th>\n",
       "      <th>user_email</th>\n",
       "      <th>gender</th>\n",
       "      <th>age</th>\n",
       "      <th>country</th>\n",
       "      <th>signup</th>\n",
       "    </tr>\n",
       "  </thead>\n",
       "  <tbody>\n",
       "    <tr>\n",
       "      <th>count</th>\n",
       "      <td>359347</td>\n",
       "      <td>326572</td>\n",
       "      <td>284447.000000</td>\n",
       "      <td>359347</td>\n",
       "      <td>359347</td>\n",
       "    </tr>\n",
       "    <tr>\n",
       "      <th>unique</th>\n",
       "      <td>359347</td>\n",
       "      <td>2</td>\n",
       "      <td>NaN</td>\n",
       "      <td>239</td>\n",
       "      <td>NaN</td>\n",
       "    </tr>\n",
       "    <tr>\n",
       "      <th>top</th>\n",
       "      <td>e3137f17872aa72713f17fd416298e753dc67ee8</td>\n",
       "      <td>m</td>\n",
       "      <td>NaN</td>\n",
       "      <td>United States</td>\n",
       "      <td>NaN</td>\n",
       "    </tr>\n",
       "    <tr>\n",
       "      <th>freq</th>\n",
       "      <td>1</td>\n",
       "      <td>241642</td>\n",
       "      <td>NaN</td>\n",
       "      <td>67044</td>\n",
       "      <td>NaN</td>\n",
       "    </tr>\n",
       "    <tr>\n",
       "      <th>mean</th>\n",
       "      <td>NaN</td>\n",
       "      <td>NaN</td>\n",
       "      <td>25.098046</td>\n",
       "      <td>NaN</td>\n",
       "      <td>2007-08-01 08:05:37.732609280</td>\n",
       "    </tr>\n",
       "    <tr>\n",
       "      <th>min</th>\n",
       "      <td>NaN</td>\n",
       "      <td>NaN</td>\n",
       "      <td>-1337.000000</td>\n",
       "      <td>NaN</td>\n",
       "      <td>2002-10-29 00:00:00</td>\n",
       "    </tr>\n",
       "    <tr>\n",
       "      <th>25%</th>\n",
       "      <td>NaN</td>\n",
       "      <td>NaN</td>\n",
       "      <td>20.000000</td>\n",
       "      <td>NaN</td>\n",
       "      <td>2006-10-21 00:00:00</td>\n",
       "    </tr>\n",
       "    <tr>\n",
       "      <th>50%</th>\n",
       "      <td>NaN</td>\n",
       "      <td>NaN</td>\n",
       "      <td>23.000000</td>\n",
       "      <td>NaN</td>\n",
       "      <td>2007-09-29 00:00:00</td>\n",
       "    </tr>\n",
       "    <tr>\n",
       "      <th>75%</th>\n",
       "      <td>NaN</td>\n",
       "      <td>NaN</td>\n",
       "      <td>28.000000</td>\n",
       "      <td>NaN</td>\n",
       "      <td>2008-07-17 00:00:00</td>\n",
       "    </tr>\n",
       "    <tr>\n",
       "      <th>max</th>\n",
       "      <td>NaN</td>\n",
       "      <td>NaN</td>\n",
       "      <td>1002.000000</td>\n",
       "      <td>NaN</td>\n",
       "      <td>2009-11-11 00:00:00</td>\n",
       "    </tr>\n",
       "    <tr>\n",
       "      <th>std</th>\n",
       "      <td>NaN</td>\n",
       "      <td>NaN</td>\n",
       "      <td>21.665742</td>\n",
       "      <td>NaN</td>\n",
       "      <td>NaN</td>\n",
       "    </tr>\n",
       "  </tbody>\n",
       "</table>\n",
       "</div>"
      ],
      "text/plain": [
       "                                      user_email  gender            age  \\\n",
       "count                                     359347  326572  284447.000000   \n",
       "unique                                    359347       2            NaN   \n",
       "top     e3137f17872aa72713f17fd416298e753dc67ee8       m            NaN   \n",
       "freq                                           1  241642            NaN   \n",
       "mean                                         NaN     NaN      25.098046   \n",
       "min                                          NaN     NaN   -1337.000000   \n",
       "25%                                          NaN     NaN      20.000000   \n",
       "50%                                          NaN     NaN      23.000000   \n",
       "75%                                          NaN     NaN      28.000000   \n",
       "max                                          NaN     NaN    1002.000000   \n",
       "std                                          NaN     NaN      21.665742   \n",
       "\n",
       "              country                         signup  \n",
       "count          359347                         359347  \n",
       "unique            239                            NaN  \n",
       "top     United States                            NaN  \n",
       "freq            67044                            NaN  \n",
       "mean              NaN  2007-08-01 08:05:37.732609280  \n",
       "min               NaN            2002-10-29 00:00:00  \n",
       "25%               NaN            2006-10-21 00:00:00  \n",
       "50%               NaN            2007-09-29 00:00:00  \n",
       "75%               NaN            2008-07-17 00:00:00  \n",
       "max               NaN            2009-11-11 00:00:00  \n",
       "std               NaN                            NaN  "
      ]
     },
     "execution_count": 7,
     "metadata": {},
     "output_type": "execute_result"
    }
   ],
   "source": [
    "lastfm_360_demo.describe(include='all', datetime_is_numeric=True)"
   ]
  },
  {
   "cell_type": "markdown",
   "metadata": {},
   "source": [
    "### Dataset ~360K users, behavioral data"
   ]
  },
  {
   "cell_type": "code",
   "execution_count": 3,
   "metadata": {},
   "outputs": [],
   "source": [
    "lastfm_360_behav = pd.read_csv('data.nosync/lastfm-dataset-360K/usersha1-artmbid-artname-plays.tsv', sep='\\t', header=None, \n",
    "                              names=['user_email', 'artist_id', 'artist_name', 'plays'])"
   ]
  },
  {
   "cell_type": "code",
   "execution_count": 4,
   "metadata": {},
   "outputs": [
    {
     "data": {
      "text/plain": [
       "(17535655, 4)"
      ]
     },
     "execution_count": 4,
     "metadata": {},
     "output_type": "execute_result"
    }
   ],
   "source": [
    "lastfm_360_behav.shape"
   ]
  },
  {
   "cell_type": "code",
   "execution_count": null,
   "metadata": {},
   "outputs": [],
   "source": []
  },
  {
   "cell_type": "code",
   "execution_count": 9,
   "metadata": {},
   "outputs": [
    {
     "data": {
      "text/html": [
       "<div>\n",
       "<style scoped>\n",
       "    .dataframe tbody tr th:only-of-type {\n",
       "        vertical-align: middle;\n",
       "    }\n",
       "\n",
       "    .dataframe tbody tr th {\n",
       "        vertical-align: top;\n",
       "    }\n",
       "\n",
       "    .dataframe thead th {\n",
       "        text-align: right;\n",
       "    }\n",
       "</style>\n",
       "<table border=\"1\" class=\"dataframe\">\n",
       "  <thead>\n",
       "    <tr style=\"text-align: right;\">\n",
       "      <th></th>\n",
       "      <th>user_email</th>\n",
       "      <th>artist_id</th>\n",
       "      <th>artist_name</th>\n",
       "      <th>plays</th>\n",
       "    </tr>\n",
       "  </thead>\n",
       "  <tbody>\n",
       "    <tr>\n",
       "      <th>0</th>\n",
       "      <td>00000c289a1829a808ac09c00daf10bc3c4e223b</td>\n",
       "      <td>3bd73256-3905-4f3a-97e2-8b341527f805</td>\n",
       "      <td>betty blowtorch</td>\n",
       "      <td>2137</td>\n",
       "    </tr>\n",
       "    <tr>\n",
       "      <th>1</th>\n",
       "      <td>00000c289a1829a808ac09c00daf10bc3c4e223b</td>\n",
       "      <td>f2fb0ff0-5679-42ec-a55c-15109ce6e320</td>\n",
       "      <td>die Ärzte</td>\n",
       "      <td>1099</td>\n",
       "    </tr>\n",
       "    <tr>\n",
       "      <th>2</th>\n",
       "      <td>00000c289a1829a808ac09c00daf10bc3c4e223b</td>\n",
       "      <td>b3ae82c2-e60b-4551-a76d-6620f1b456aa</td>\n",
       "      <td>melissa etheridge</td>\n",
       "      <td>897</td>\n",
       "    </tr>\n",
       "    <tr>\n",
       "      <th>3</th>\n",
       "      <td>00000c289a1829a808ac09c00daf10bc3c4e223b</td>\n",
       "      <td>3d6bbeb7-f90e-4d10-b440-e153c0d10b53</td>\n",
       "      <td>elvenking</td>\n",
       "      <td>717</td>\n",
       "    </tr>\n",
       "    <tr>\n",
       "      <th>4</th>\n",
       "      <td>00000c289a1829a808ac09c00daf10bc3c4e223b</td>\n",
       "      <td>bbd2ffd7-17f4-4506-8572-c1ea58c3f9a8</td>\n",
       "      <td>juliette &amp; the licks</td>\n",
       "      <td>706</td>\n",
       "    </tr>\n",
       "  </tbody>\n",
       "</table>\n",
       "</div>"
      ],
      "text/plain": [
       "                                 user_email  \\\n",
       "0  00000c289a1829a808ac09c00daf10bc3c4e223b   \n",
       "1  00000c289a1829a808ac09c00daf10bc3c4e223b   \n",
       "2  00000c289a1829a808ac09c00daf10bc3c4e223b   \n",
       "3  00000c289a1829a808ac09c00daf10bc3c4e223b   \n",
       "4  00000c289a1829a808ac09c00daf10bc3c4e223b   \n",
       "\n",
       "                              artist_id           artist_name  plays  \n",
       "0  3bd73256-3905-4f3a-97e2-8b341527f805       betty blowtorch   2137  \n",
       "1  f2fb0ff0-5679-42ec-a55c-15109ce6e320             die Ärzte   1099  \n",
       "2  b3ae82c2-e60b-4551-a76d-6620f1b456aa     melissa etheridge    897  \n",
       "3  3d6bbeb7-f90e-4d10-b440-e153c0d10b53             elvenking    717  \n",
       "4  bbd2ffd7-17f4-4506-8572-c1ea58c3f9a8  juliette & the licks    706  "
      ]
     },
     "execution_count": 9,
     "metadata": {},
     "output_type": "execute_result"
    }
   ],
   "source": [
    "lastfm_360_behav.head()"
   ]
  },
  {
   "cell_type": "code",
   "execution_count": 10,
   "metadata": {},
   "outputs": [
    {
     "name": "stdout",
     "output_type": "stream",
     "text": [
      "<class 'pandas.core.frame.DataFrame'>\n",
      "RangeIndex: 17535655 entries, 0 to 17535654\n",
      "Data columns (total 4 columns):\n",
      " #   Column       Dtype \n",
      "---  ------       ----- \n",
      " 0   user_email   object\n",
      " 1   artist_id    object\n",
      " 2   artist_name  object\n",
      " 3   plays        int64 \n",
      "dtypes: int64(1), object(3)\n",
      "memory usage: 535.1+ MB\n"
     ]
    }
   ],
   "source": [
    "lastfm_360_behav.info()"
   ]
  },
  {
   "cell_type": "code",
   "execution_count": 11,
   "metadata": {},
   "outputs": [
    {
     "data": {
      "text/html": [
       "<div>\n",
       "<style scoped>\n",
       "    .dataframe tbody tr th:only-of-type {\n",
       "        vertical-align: middle;\n",
       "    }\n",
       "\n",
       "    .dataframe tbody tr th {\n",
       "        vertical-align: top;\n",
       "    }\n",
       "\n",
       "    .dataframe thead th {\n",
       "        text-align: right;\n",
       "    }\n",
       "</style>\n",
       "<table border=\"1\" class=\"dataframe\">\n",
       "  <thead>\n",
       "    <tr style=\"text-align: right;\">\n",
       "      <th></th>\n",
       "      <th>user_email</th>\n",
       "      <th>artist_id</th>\n",
       "      <th>artist_name</th>\n",
       "      <th>plays</th>\n",
       "    </tr>\n",
       "  </thead>\n",
       "  <tbody>\n",
       "    <tr>\n",
       "      <th>count</th>\n",
       "      <td>17535655</td>\n",
       "      <td>17309518</td>\n",
       "      <td>17535451</td>\n",
       "      <td>1.753566e+07</td>\n",
       "    </tr>\n",
       "    <tr>\n",
       "      <th>unique</th>\n",
       "      <td>358868</td>\n",
       "      <td>160112</td>\n",
       "      <td>292363</td>\n",
       "      <td>NaN</td>\n",
       "    </tr>\n",
       "    <tr>\n",
       "      <th>top</th>\n",
       "      <td>13c0df8a58cd3ca9e37d8e90662d2ad3c062eaa5</td>\n",
       "      <td>a74b1b7f-71a5-4011-9441-d0b5e4122711</td>\n",
       "      <td>radiohead</td>\n",
       "      <td>NaN</td>\n",
       "    </tr>\n",
       "    <tr>\n",
       "      <th>freq</th>\n",
       "      <td>166</td>\n",
       "      <td>77254</td>\n",
       "      <td>77254</td>\n",
       "      <td>NaN</td>\n",
       "    </tr>\n",
       "    <tr>\n",
       "      <th>mean</th>\n",
       "      <td>NaN</td>\n",
       "      <td>NaN</td>\n",
       "      <td>NaN</td>\n",
       "      <td>2.151932e+02</td>\n",
       "    </tr>\n",
       "    <tr>\n",
       "      <th>std</th>\n",
       "      <td>NaN</td>\n",
       "      <td>NaN</td>\n",
       "      <td>NaN</td>\n",
       "      <td>6.144815e+02</td>\n",
       "    </tr>\n",
       "    <tr>\n",
       "      <th>min</th>\n",
       "      <td>NaN</td>\n",
       "      <td>NaN</td>\n",
       "      <td>NaN</td>\n",
       "      <td>0.000000e+00</td>\n",
       "    </tr>\n",
       "    <tr>\n",
       "      <th>25%</th>\n",
       "      <td>NaN</td>\n",
       "      <td>NaN</td>\n",
       "      <td>NaN</td>\n",
       "      <td>3.500000e+01</td>\n",
       "    </tr>\n",
       "    <tr>\n",
       "      <th>50%</th>\n",
       "      <td>NaN</td>\n",
       "      <td>NaN</td>\n",
       "      <td>NaN</td>\n",
       "      <td>9.400000e+01</td>\n",
       "    </tr>\n",
       "    <tr>\n",
       "      <th>75%</th>\n",
       "      <td>NaN</td>\n",
       "      <td>NaN</td>\n",
       "      <td>NaN</td>\n",
       "      <td>2.240000e+02</td>\n",
       "    </tr>\n",
       "    <tr>\n",
       "      <th>max</th>\n",
       "      <td>NaN</td>\n",
       "      <td>NaN</td>\n",
       "      <td>NaN</td>\n",
       "      <td>4.191570e+05</td>\n",
       "    </tr>\n",
       "  </tbody>\n",
       "</table>\n",
       "</div>"
      ],
      "text/plain": [
       "                                      user_email  \\\n",
       "count                                   17535655   \n",
       "unique                                    358868   \n",
       "top     13c0df8a58cd3ca9e37d8e90662d2ad3c062eaa5   \n",
       "freq                                         166   \n",
       "mean                                         NaN   \n",
       "std                                          NaN   \n",
       "min                                          NaN   \n",
       "25%                                          NaN   \n",
       "50%                                          NaN   \n",
       "75%                                          NaN   \n",
       "max                                          NaN   \n",
       "\n",
       "                                   artist_id artist_name         plays  \n",
       "count                               17309518    17535451  1.753566e+07  \n",
       "unique                                160112      292363           NaN  \n",
       "top     a74b1b7f-71a5-4011-9441-d0b5e4122711   radiohead           NaN  \n",
       "freq                                   77254       77254           NaN  \n",
       "mean                                     NaN         NaN  2.151932e+02  \n",
       "std                                      NaN         NaN  6.144815e+02  \n",
       "min                                      NaN         NaN  0.000000e+00  \n",
       "25%                                      NaN         NaN  3.500000e+01  \n",
       "50%                                      NaN         NaN  9.400000e+01  \n",
       "75%                                      NaN         NaN  2.240000e+02  \n",
       "max                                      NaN         NaN  4.191570e+05  "
      ]
     },
     "execution_count": 11,
     "metadata": {},
     "output_type": "execute_result"
    }
   ],
   "source": [
    "lastfm_360_behav.describe(include='all', datetime_is_numeric=True)"
   ]
  },
  {
   "cell_type": "markdown",
   "metadata": {},
   "source": [
    "# Cleaning"
   ]
  },
  {
   "cell_type": "code",
   "execution_count": 5,
   "metadata": {},
   "outputs": [
    {
     "data": {
      "text/plain": [
       "user_email          0\n",
       "artist_id      226137\n",
       "artist_name       204\n",
       "plays               0\n",
       "dtype: int64"
      ]
     },
     "execution_count": 5,
     "metadata": {},
     "output_type": "execute_result"
    }
   ],
   "source": [
    "lastfm_360_behav.isna().sum(0)"
   ]
  },
  {
   "cell_type": "markdown",
   "metadata": {},
   "source": [
    "We drop samples with missed artist's name because there are no many of them and it is only one artist in 202 cases and an artist that doesn't have the name and the ID in 2 cases."
   ]
  },
  {
   "cell_type": "code",
   "execution_count": 8,
   "metadata": {},
   "outputs": [],
   "source": [
    "lastfm_360_behav = lastfm_360_behav.drop(lastfm_360_behav.loc[lastfm_360_behav['artist_name'].isnull()].index)"
   ]
  },
  {
   "cell_type": "markdown",
   "metadata": {},
   "source": [
    "Then, we have strange user emails \"dec 27, 2008\" and \"sep 20, 2008\" in the behavioral data which are not found in the demographic one. It is only 86 samples and it can be some test data, thus we drop it. (It is not needed for ALS for example)"
   ]
  },
  {
   "cell_type": "code",
   "execution_count": 9,
   "metadata": {},
   "outputs": [],
   "source": [
    "lastfm_360_behav = lastfm_360_behav.drop(lastfm_360_behav.loc[lastfm_360_behav['user_email'].str.contains(' ')].index) "
   ]
  },
  {
   "cell_type": "markdown",
   "metadata": {},
   "source": [
    "Since the part of samples where ID is missed makes up about 1% of data and don't include important systematic patterns like feats or the most popular artists, we drop it for simplicity. (another approach would be to say that the ID is equal names but this might make data incorrect because names are not unique at all)"
   ]
  },
  {
   "cell_type": "code",
   "execution_count": 10,
   "metadata": {},
   "outputs": [],
   "source": [
    "lastfm_360_behav = lastfm_360_behav.drop(lastfm_360_behav.loc[lastfm_360_behav['artist_id'].isnull()].index)"
   ]
  },
  {
   "cell_type": "markdown",
   "metadata": {},
   "source": [
    "There are cases where one ID corresponds several artists names. We fix it by assigning one name to all entries of a given ID"
   ]
  },
  {
   "cell_type": "code",
   "execution_count": 11,
   "metadata": {},
   "outputs": [],
   "source": [
    "uniq_artist_names = lastfm_360_behav.groupby('artist_id')['artist_name'].unique()\n",
    "lastfm_360_behav['artist_name'] = lastfm_360_behav.apply(lambda x: uniq_artist_names[x['artist_id']][0], axis=1)"
   ]
  },
  {
   "cell_type": "markdown",
   "metadata": {},
   "source": [
    "Make artists' IDs as numbers"
   ]
  },
  {
   "cell_type": "code",
   "execution_count": 12,
   "metadata": {},
   "outputs": [],
   "source": [
    "uniq_artist_ids = lastfm_360_behav['artist_id'].unique()\n",
    "upd_ids = dict((id_, i) for i, id_ in enumerate(uniq_artist_ids))\n",
    "lastfm_360_behav['artist_id'] = lastfm_360_behav['artist_id'].map(lambda x: upd_ids[x])"
   ]
  },
  {
   "cell_type": "markdown",
   "metadata": {},
   "source": [
    "Then, we should process demographic data. First, we put unrealistic ages as NaNs."
   ]
  },
  {
   "cell_type": "code",
   "execution_count": 13,
   "metadata": {},
   "outputs": [],
   "source": [
    "ages = lastfm_360_demo['age'].unique()\n",
    "lastfm_360_demo['age'].replace(ages[ages > 99], np.nan, inplace=True)\n",
    "lastfm_360_demo['age'].replace(ages[ages < 8], np.nan, inplace=True)"
   ]
  },
  {
   "cell_type": "markdown",
   "metadata": {},
   "source": [
    "Make one-hot encoding for gender, country, and age with sure that NaNs have some pattern"
   ]
  },
  {
   "cell_type": "code",
   "execution_count": 14,
   "metadata": {},
   "outputs": [],
   "source": [
    "lastfm_360_demo = lastfm_360_demo.join(pd.get_dummies(lastfm_360_demo['gender']))\n",
    "lastfm_360_demo = lastfm_360_demo.drop('gender', axis=1)\n",
    "\n",
    "lastfm_360_demo = lastfm_360_demo.join(pd.get_dummies(lastfm_360_demo['country']))\n",
    "lastfm_360_demo = lastfm_360_demo.drop('country', axis=1)\n",
    "\n",
    "lastfm_360_demo = lastfm_360_demo.join(pd.get_dummies(lastfm_360_demo['age']))\n",
    "lastfm_360_demo = lastfm_360_demo.drop('age', axis=1)"
   ]
  },
  {
   "cell_type": "markdown",
   "metadata": {},
   "source": [
    "Merging dataset parts"
   ]
  },
  {
   "cell_type": "code",
   "execution_count": 20,
   "metadata": {},
   "outputs": [],
   "source": [
    "# Crashes on my laptop, sample a subset\n",
    "# lastfm_360 = pd.merge(lastfm_360_demo, lastfm_360_behav, on='user_email')\n",
    "# uniq_user_ids = lastfm_360['user_email'].unique()\n",
    "# upd_user_ids = dict((id_, i) for i, id_ in enumerate(uniq_user_ids))\n",
    "# lastfm_360['user_email'] = lastfm_360['user_email'].map(lambda x: upd_user_ids[x])"
   ]
  },
  {
   "cell_type": "code",
   "execution_count": 15,
   "metadata": {},
   "outputs": [
    {
     "name": "stdout",
     "output_type": "stream",
     "text": [
      "(160111,)\n",
      "(358856,)\n",
      "(359347,)\n"
     ]
    }
   ],
   "source": [
    "print(lastfm_360_behav.artist_id.unique().shape)\n",
    "print(lastfm_360_behav.user_email.unique().shape)\n",
    "print(lastfm_360_demo.user_email.unique().shape)\n",
    "# print(lastfm_360.artist_id.unique().shape)\n",
    "# print(lastfm_360.user_email.unique().shape)"
   ]
  },
  {
   "cell_type": "markdown",
   "metadata": {},
   "source": [
    "# EDA"
   ]
  },
  {
   "cell_type": "code",
   "execution_count": 16,
   "metadata": {},
   "outputs": [
    {
     "data": {
      "image/png": "[encoded data removed]",
      "text/plain": [
       "<Figure size 432x288 with 1 Axes>"
      ]
     },
     "metadata": {
      "needs_background": "light"
     },
     "output_type": "display_data"
    }
   ],
   "source": [
    "artist_plays = lastfm_360_behav.groupby('artist_name')['plays'].sum().sort_values(ascending=False)\n",
    "# sns.distplot(artist_plays[:100])\n",
    "g = artist_plays[:2000].plot()\n",
    "g.set_ylabel('Plays')\n",
    "g.set_xlabel('Artist name')\n",
    "g.set_xticklabels(g.get_xticklabels(), rotation=45)\n",
    "plt.savefig('plays_vs_artists.png')"
   ]
  },
  {
   "cell_type": "markdown",
   "metadata": {},
   "source": [
    "We can see that the distribution of the plays is highly concentrated around a few hundreds of plays. Thus, we reduce it to more useful range by taking log and using MinMax scaler (notice that samples with 0 plays were already dropped simultaneously with NaNs)."
   ]
  },
  {
   "cell_type": "code",
   "execution_count": 17,
   "metadata": {},
   "outputs": [
    {
     "data": {
      "image/png": "[encoded data removed]",
      "text/plain": [
       "<Figure size 432x288 with 1 Axes>"
      ]
     },
     "metadata": {
      "needs_background": "light"
     },
     "output_type": "display_data"
    }
   ],
   "source": [
    "sns.distplot(lastfm_360_behav['plays'][:-100])\n",
    "plt.savefig('plays_density.png')"
   ]
  },
  {
   "cell_type": "code",
   "execution_count": 18,
   "metadata": {},
   "outputs": [
    {
     "data": {
      "text/plain": [
       "<matplotlib.axes._subplots.AxesSubplot at 0x7fe20ea04a10>"
      ]
     },
     "execution_count": 18,
     "metadata": {},
     "output_type": "execute_result"
    },
    {
     "data": {
      "image/png": "[encoded data removed]",
      "text/plain": [
       "<Figure size 432x288 with 1 Axes>"
      ]
     },
     "metadata": {
      "needs_background": "light"
     },
     "output_type": "display_data"
    }
   ],
   "source": [
    "lastfm_360_behav['log_plays'] = np.log(lastfm_360_behav['plays'])\n",
    "sns.distplot(lastfm_360_behav['log_plays'])"
   ]
  },
  {
   "cell_type": "code",
   "execution_count": 19,
   "metadata": {},
   "outputs": [
    {
     "data": {
      "image/png": "[encoded data removed]",
      "text/plain": [
       "<Figure size 432x288 with 1 Axes>"
      ]
     },
     "metadata": {
      "needs_background": "light"
     },
     "output_type": "display_data"
    }
   ],
   "source": [
    "lastfm_360_behav['std_plays'] = lastfm_360_behav['log_plays'] / lastfm_360_behav['log_plays'].max()\n",
    "sns.distplot(lastfm_360_behav['std_plays'])\n",
    "plt.savefig('std_plays_density.png')"
   ]
  },
  {
   "cell_type": "code",
   "execution_count": 20,
   "metadata": {},
   "outputs": [],
   "source": [
    "lastfm_360_behav.to_csv('data.nosync/lastfm-dataset-360K/behav-360k-processed.csv')\n",
    "lastfm_360_demo.to_csv('data.nosync/lastfm-dataset-360K/demo-360k-processed.csv')"
   ]
  },
  {
   "cell_type": "code",
   "execution_count": 33,
   "metadata": {},
   "outputs": [
    {
     "data": {
      "image/png": "[encoded data removed]",
      "text/plain": [
       "<Figure size 432x288 with 1 Axes>"
      ]
     },
     "metadata": {
      "needs_background": "light"
     },
     "output_type": "display_data"
    }
   ],
   "source": [
    "g = sns.countplot(lastfm_360_demo.age)\n",
    "locs, labels = plt.xticks()            # Get locations and labels\n",
    "plt.xticks(locs[::6], labels[::6])\n",
    "g.set_xticklabels(g.get_xticklabels(), rotation=45)\n",
    "plt.savefig(\"ages_dist.png\")"
   ]
  },
  {
   "cell_type": "code",
   "execution_count": 37,
   "metadata": {},
   "outputs": [
    {
     "data": {
      "image/png": "[encoded data removed]",
      "text/plain": [
       "<Figure size 432x288 with 1 Axes>"
      ]
     },
     "metadata": {
      "needs_background": "light"
     },
     "output_type": "display_data"
    }
   ],
   "source": [
    "g = sns.countplot(lastfm_360_demo.gender)\n",
    "locs, labels = plt.xticks()            # Get locations and labels\n",
    "# plt.xticks(locs[::6], labels[::6])\n",
    "# g.set_xticklabels(g.get_xticklabels(), rotation=45)\n",
    "plt.savefig(\"gender_dist.png\")"
   ]
  },
  {
   "cell_type": "code",
   "execution_count": null,
   "metadata": {},
   "outputs": [],
   "source": []
  }
 ],
 "metadata": {
  "kernelspec": {
   "display_name": "Python 3",
   "language": "python",
   "name": "python3"
  },
  "language_info": {
   "codemirror_mode": {
    "name": "ipython",
    "version": 3
   },
   "file_extension": ".py",
   "mimetype": "text/x-python",
   "name": "python",
   "nbconvert_exporter": "python",
   "pygments_lexer": "ipython3",
   "version": "3.7.6"
  }
 },
 "nbformat": 4,
 "nbformat_minor": 5
}
