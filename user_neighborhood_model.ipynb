{
 "cells": [
  {
   "cell_type": "markdown",
   "metadata": {},
   "source": [
    "# User-user neighborhood model\n",
    "\n",
    "This notebook present the user-user neighborhood model training and testing\n",
    "\n",
    "\n",
    "<a id=content><a>\n",
    "## Table of contents\n",
    "1. ### [Data preprocessing](#preprocessing)\n",
    "    * [Load cleaned datasets](#load_datasets)\n",
    "    * [Divide users in groups](#split_users_in_groups)  \n",
    "2. ### [Model (Find neighbors)](#find_neighbors)\n",
    "3. ### [Predictions](#compute_predictions)\n",
    "4. ### [Evaluation](#model_evaluation)\n",
    " "
   ]
  },
  {
   "cell_type": "code",
   "execution_count": 1,
   "metadata": {},
   "outputs": [],
   "source": [
    "import sys\n",
    "from tqdm.auto import tqdm\n",
    "\n",
    "import numpy as np\n",
    "import pandas as pd\n",
    "import matplotlib.pyplot as plt\n",
    "\n",
    "sys.path.append('src')\n",
    "from train_test import train_test_split\n",
    "from metrics import compute_metrics, rmse\n",
    "import neighborhood_helpers as uunm\n",
    "\n",
    "tqdm.pandas()\n",
    "%load_ext autoreload\n",
    "%autoreload 2"
   ]
  },
  {
   "cell_type": "markdown",
   "metadata": {},
   "source": [
    "<a id=preprocessing><a>\n",
    "## Data preprocessing \n",
    "\n",
    "<a id=load_datasets><a>\n",
    "### Load datasets\n",
    "[Back to content](#content)\n",
    "\n",
    "The dataset has already been preprocessed in \"./preprocessing.ipynb\" and split into training and test set. "
   ]
  },
  {
   "cell_type": "code",
   "execution_count": 2,
   "metadata": {},
   "outputs": [],
   "source": [
    "DATA_PATH = './data.nosync/lastfm-dataset-360K/'\n",
    "MY_DIR = './data.nosync/user_neighborhood/'"
   ]
  },
  {
   "cell_type": "code",
   "execution_count": 3,
   "metadata": {},
   "outputs": [],
   "source": [
    "# Load data files\n",
    "train = pd.read_csv(DATA_PATH + 'train.csv')\n",
    "test = pd.read_csv(DATA_PATH + 'test.csv')\n",
    "lastfm_360_behav = pd.read_csv(DATA_PATH + 'behav-360k-processed.csv')\n",
    "lastfm_360_demo = pd.read_csv(DATA_PATH + 'demo-360k-processed.csv')\n",
    "lastfm_360_demo = lastfm_360_demo.set_index('user_email')\n",
    "test_users = np.load(DATA_PATH + 'test_users.npy')"
   ]
  },
  {
   "cell_type": "code",
   "execution_count": 4,
   "metadata": {},
   "outputs": [
    {
     "data": {
      "text/plain": [
       "((5644266, 3), (30022346, 3))"
      ]
     },
     "execution_count": 4,
     "metadata": {},
     "output_type": "execute_result"
    }
   ],
   "source": [
    "train.shape, test.shape"
   ]
  },
  {
   "cell_type": "markdown",
   "metadata": {},
   "source": [
    "<a id=\"split_users_in_groups\"><a>\n",
    "### Split users in groups\n",
    "[Back to content](#content)\n",
    "\n",
    "Our train dataset contains 67k users. Comparing all users is expensive in time and ressource and lead to memory issues. \n",
    "    \n",
    "To fix this issue, before computing the user's similarity, we split them into groups based on the demographic features. This operation enables us to speed the model training, against precision. \n",
    "    \n",
    "We make the groups smaller than 20k users. \n",
    "    \n",
    "We initially divided using 'country' and then 'age' parameters. (Country have been removed after we selected only USA in the processed dataset). \n"
   ]
  },
  {
   "cell_type": "code",
   "execution_count": 5,
   "metadata": {},
   "outputs": [
    {
     "data": {
      "text/plain": [
       "66928"
      ]
     },
     "execution_count": 5,
     "metadata": {},
     "output_type": "execute_result"
    }
   ],
   "source": [
    "users = train['user_email'].unique()\n",
    "len(users)"
   ]
  },
  {
   "cell_type": "code",
   "execution_count": 6,
   "metadata": {},
   "outputs": [
    {
     "data": {
      "application/vnd.jupyter.widget-view+json": {
       "model_id": "1518d61662e24a0aad82200f1425461b",
       "version_major": 2,
       "version_minor": 0
      },
      "text/plain": [
       "HBox(children=(FloatProgress(value=0.0, max=66928.0), HTML(value='')))"
      ]
     },
     "metadata": {},
     "output_type": "display_data"
    },
    {
     "name": "stdout",
     "output_type": "stream",
     "text": [
      "\n"
     ]
    }
   ],
   "source": [
    "train_groups = uunm.compute_groups(train, lastfm_360_demo)"
   ]
  },
  {
   "cell_type": "code",
   "execution_count": 7,
   "metadata": {},
   "outputs": [
    {
     "data": {
      "text/plain": [
       "[9079, 17226, 10001, 11977, 15131]"
      ]
     },
     "execution_count": 7,
     "metadata": {},
     "output_type": "execute_result"
    }
   ],
   "source": [
    "[len(train_groups[i]) for i in range(len(train_groups))]"
   ]
  },
  {
   "cell_type": "markdown",
   "metadata": {},
   "source": [
    "<a id='find_neighbors'><a>\n",
    "## 2. Find user neighbors\n",
    "[Back to content](#content)\n",
    "\n",
    "Because of the big size of the dataset 67k users, the pairwise correlation cannot be compute on all pairs, therefore, we are going to chunk the users dataset using the 'age' demographic parameter. We are going to split the users in chunk of 5 years. \n",
    "\n",
    "\n",
    "Before of the very high number of artists (84k) and sparse data, we speed this process by removing artists that have less than 100 users interactions in train dataset. "
   ]
  },
  {
   "cell_type": "code",
   "execution_count": 8,
   "metadata": {},
   "outputs": [
    {
     "data": {
      "text/plain": [
       "84497"
      ]
     },
     "execution_count": 8,
     "metadata": {},
     "output_type": "execute_result"
    }
   ],
   "source": [
    "len(train['artist_id'].unique())"
   ]
  },
  {
   "cell_type": "code",
   "execution_count": 9,
   "metadata": {},
   "outputs": [
    {
     "name": "stdout",
     "output_type": "stream",
     "text": [
      "Number of selected artists: 5354\n",
      "User groups size: [9079, 17226, 10001, 11977, 15131]\n"
     ]
    },
    {
     "data": {
      "application/vnd.jupyter.widget-view+json": {
       "model_id": "15b375e13d744b639a227699948abc1e",
       "version_major": 2,
       "version_minor": 0
      },
      "text/plain": [
       "HBox(children=(FloatProgress(value=0.0, max=5.0), HTML(value='')))"
      ]
     },
     "metadata": {},
     "output_type": "display_data"
    },
    {
     "name": "stderr",
     "output_type": "stream",
     "text": [
      "/Users/pierre/opt/miniconda3/lib/python3.7/site-packages/numpy/lib/function_base.py:2559: RuntimeWarning: invalid value encountered in true_divide\n",
      "  c /= stddev[:, None]\n",
      "/Users/pierre/opt/miniconda3/lib/python3.7/site-packages/numpy/lib/function_base.py:2560: RuntimeWarning: invalid value encountered in true_divide\n",
      "  c /= stddev[None, :]\n"
     ]
    },
    {
     "name": "stdout",
     "output_type": "stream",
     "text": [
      "Correlation matrix computation: 7.093887090682983 seconds.\n"
     ]
    },
    {
     "data": {
      "application/vnd.jupyter.widget-view+json": {
       "model_id": "416ab4d1a07d44239b0144e2ec7148ee",
       "version_major": 2,
       "version_minor": 0
      },
      "text/plain": [
       "HBox(children=(FloatProgress(value=0.0, max=9076.0), HTML(value='')))"
      ]
     },
     "metadata": {},
     "output_type": "display_data"
    },
    {
     "name": "stdout",
     "output_type": "stream",
     "text": [
      "\n",
      "Correlation matrix computation: 32.12835121154785 seconds.\n"
     ]
    },
    {
     "data": {
      "application/vnd.jupyter.widget-view+json": {
       "model_id": "4c6756078a2648fc89de467042bc69de",
       "version_major": 2,
       "version_minor": 0
      },
      "text/plain": [
       "HBox(children=(FloatProgress(value=0.0, max=17223.0), HTML(value='')))"
      ]
     },
     "metadata": {},
     "output_type": "display_data"
    },
    {
     "name": "stdout",
     "output_type": "stream",
     "text": [
      "\n",
      "Correlation matrix computation: 9.899366855621338 seconds.\n"
     ]
    },
    {
     "data": {
      "application/vnd.jupyter.widget-view+json": {
       "model_id": "41876f3dfac14855ae166ea6fa874f6b",
       "version_major": 2,
       "version_minor": 0
      },
      "text/plain": [
       "HBox(children=(FloatProgress(value=0.0, max=10001.0), HTML(value='')))"
      ]
     },
     "metadata": {},
     "output_type": "display_data"
    },
    {
     "name": "stdout",
     "output_type": "stream",
     "text": [
      "\n",
      "Correlation matrix computation: 14.087893962860107 seconds.\n"
     ]
    },
    {
     "data": {
      "application/vnd.jupyter.widget-view+json": {
       "model_id": "6e76189edf834f91be85ea7949528742",
       "version_major": 2,
       "version_minor": 0
      },
      "text/plain": [
       "HBox(children=(FloatProgress(value=0.0, max=11974.0), HTML(value='')))"
      ]
     },
     "metadata": {},
     "output_type": "display_data"
    },
    {
     "name": "stdout",
     "output_type": "stream",
     "text": [
      "\n",
      "Correlation matrix computation: 25.097601652145386 seconds.\n"
     ]
    },
    {
     "data": {
      "application/vnd.jupyter.widget-view+json": {
       "model_id": "7f0225c8f9904eee8e2bd11fd80216c4",
       "version_major": 2,
       "version_minor": 0
      },
      "text/plain": [
       "HBox(children=(FloatProgress(value=0.0, max=15126.0), HTML(value='')))"
      ]
     },
     "metadata": {},
     "output_type": "display_data"
    },
    {
     "name": "stdout",
     "output_type": "stream",
     "text": [
      "\n",
      "\n"
     ]
    },
    {
     "data": {
      "text/html": [
       "<div>\n",
       "<style scoped>\n",
       "    .dataframe tbody tr th:only-of-type {\n",
       "        vertical-align: middle;\n",
       "    }\n",
       "\n",
       "    .dataframe tbody tr th {\n",
       "        vertical-align: top;\n",
       "    }\n",
       "\n",
       "    .dataframe thead th {\n",
       "        text-align: right;\n",
       "    }\n",
       "</style>\n",
       "<table border=\"1\" class=\"dataframe\">\n",
       "  <thead>\n",
       "    <tr style=\"text-align: right;\">\n",
       "      <th></th>\n",
       "      <th>neighbors</th>\n",
       "    </tr>\n",
       "    <tr>\n",
       "      <th>user_email</th>\n",
       "      <th></th>\n",
       "    </tr>\n",
       "  </thead>\n",
       "  <tbody>\n",
       "    <tr>\n",
       "      <th>10</th>\n",
       "      <td>[(65694, 0.24142768171938941), (29650, 0.23797...</td>\n",
       "    </tr>\n",
       "    <tr>\n",
       "      <th>13</th>\n",
       "      <td>[(53572, 0.29683674643611463), (31573, 0.29285...</td>\n",
       "    </tr>\n",
       "    <tr>\n",
       "      <th>18</th>\n",
       "      <td>[(12659, 0.24548255672375344), (18236, 0.23209...</td>\n",
       "    </tr>\n",
       "    <tr>\n",
       "      <th>19</th>\n",
       "      <td>[(58102, 0.2252037000274356), (19164, 0.214010...</td>\n",
       "    </tr>\n",
       "    <tr>\n",
       "      <th>20</th>\n",
       "      <td>[(23933, 0.2783164590124584), (34775, 0.230828...</td>\n",
       "    </tr>\n",
       "    <tr>\n",
       "      <th>...</th>\n",
       "      <td>...</td>\n",
       "    </tr>\n",
       "    <tr>\n",
       "      <th>67019</th>\n",
       "      <td>[(37733, 0.2532350708273024), (27881, 0.220762...</td>\n",
       "    </tr>\n",
       "    <tr>\n",
       "      <th>67028</th>\n",
       "      <td>[(20309, 0.21340624226104818), (41630, 0.18850...</td>\n",
       "    </tr>\n",
       "    <tr>\n",
       "      <th>67029</th>\n",
       "      <td>[(60139, 0.30738219877520817), (65518, 0.29884...</td>\n",
       "    </tr>\n",
       "    <tr>\n",
       "      <th>67033</th>\n",
       "      <td>[(28359, 0.3082681591830806), (32815, 0.294213...</td>\n",
       "    </tr>\n",
       "    <tr>\n",
       "      <th>67038</th>\n",
       "      <td>[(47120, 0.3027167037097875), (17094, 0.257890...</td>\n",
       "    </tr>\n",
       "  </tbody>\n",
       "</table>\n",
       "<p>63400 rows × 1 columns</p>\n",
       "</div>"
      ],
      "text/plain": [
       "                                                    neighbors\n",
       "user_email                                                   \n",
       "10          [(65694, 0.24142768171938941), (29650, 0.23797...\n",
       "13          [(53572, 0.29683674643611463), (31573, 0.29285...\n",
       "18          [(12659, 0.24548255672375344), (18236, 0.23209...\n",
       "19          [(58102, 0.2252037000274356), (19164, 0.214010...\n",
       "20          [(23933, 0.2783164590124584), (34775, 0.230828...\n",
       "...                                                       ...\n",
       "67019       [(37733, 0.2532350708273024), (27881, 0.220762...\n",
       "67028       [(20309, 0.21340624226104818), (41630, 0.18850...\n",
       "67029       [(60139, 0.30738219877520817), (65518, 0.29884...\n",
       "67033       [(28359, 0.3082681591830806), (32815, 0.294213...\n",
       "67038       [(47120, 0.3027167037097875), (17094, 0.257890...\n",
       "\n",
       "[63400 rows x 1 columns]"
      ]
     },
     "execution_count": 9,
     "metadata": {},
     "output_type": "execute_result"
    }
   ],
   "source": [
    "model = uunm.compute_neighborhood_model(train, train_groups, verbose=True)\n",
    "model"
   ]
  },
  {
   "cell_type": "code",
   "execution_count": 10,
   "metadata": {},
   "outputs": [],
   "source": [
    "# Save the model\n",
    "model.to_csv(MY_DIR + \"user_neighborhood_model.csv\")"
   ]
  },
  {
   "cell_type": "markdown",
   "metadata": {},
   "source": [
    "<a id=\"compute_predictions\"><a>\n",
    "## Compute user predictions\n",
    "    \n",
    "[Back to content](#content)\n",
    "\n",
    "\n",
    "After building our model, we now compute the predictions on the train dataset. (Note: negative samples have been added to the train data).\n",
    "    \n",
    "Due to the high computation time, we have saved the predictions in snapshots to compute it in multiple runs."
   ]
  },
  {
   "cell_type": "code",
   "execution_count": 11,
   "metadata": {},
   "outputs": [],
   "source": [
    "# Load the model (ignore if computed above)\n",
    "model = pd.read_csv(MY_DIR + \"user_neighborhood_model.csv\", index_col='user_email')\n",
    "model['neighbors'] = model['neighbors'].apply(eval)"
   ]
  },
  {
   "cell_type": "code",
   "execution_count": null,
   "metadata": {},
   "outputs": [],
   "source": [
    "# Split the test set per user. \n",
    "test_split = [(user, user_df) for user, user_df in tqdm(test.groupby('user_email'))]\n",
    "\n",
    "# Filter the number of artist to reduce the prediction time\n",
    "selected_artists = uunm.filter_artists(train, artist_threshold=300)"
   ]
  },
  {
   "cell_type": "code",
   "execution_count": null,
   "metadata": {},
   "outputs": [],
   "source": [
    "pred_ratings_dict = {}\n",
    "true_dict = {}"
   ]
  },
  {
   "cell_type": "code",
   "execution_count": null,
   "metadata": {},
   "outputs": [],
   "source": [
    "# Compute all the predictions and save them into dict above\n",
    "# Note: This cell takes 20 hours to run and have been left blank here. \n",
    "failed = []\n",
    "for i, (user, user_df) in enumerate(tqdm(test_split)):\n",
    "    if (i % 100 == 0): # Save temp file in case of failure\n",
    "        uunm.save_dict(pred_ratings_dict, MY_DIR, 'user_n_model_snapshot')\n",
    "        uunm.save_dict(true_dict, MY_DIR, 'user_n_model_true_snapshot')\n",
    "    try:\n",
    "        # Compute predictions\n",
    "        artists = user_df['artist_id'].values\n",
    "        pred_ratings_dict[user] = np.stack([artists, \n",
    "                               np.array(uunm.compute_user_predictions(train, user, artists, model))])\n",
    "        # Get true values\n",
    "        true_dict[user] = np.stack([artists, user_df['rating'].values])\n",
    "    except ValueError:\n",
    "        failed.append((user, user_df))\n",
    "        # Add empty values to failed artists\n",
    "        artists = user_df['artist_id'].values\n",
    "        pred_ratings_dict[user] = np.stack([artists, [0]*artists])\n",
    "        true_dict[user] = np.stack([artists, user_df['rating'].values])\n",
    "        print(f\"Failed for user: {user}\")\n",
    "    "
   ]
  },
  {
   "cell_type": "code",
   "execution_count": null,
   "metadata": {},
   "outputs": [],
   "source": [
    "# Save full predictions dict\n",
    "uunm.save_dict(pred_ratings_dict, MY_DIR, 'user_n_model_pred')\n",
    "uunm.save_dict(true_dict, MY_DIR, 'user_n_model_true')"
   ]
  },
  {
   "cell_type": "markdown",
   "metadata": {},
   "source": [
    "<a id=\"model_evaluation\"><a>\n",
    "## Model evaluation\n",
    "\n",
    "[Back to content](#content)\n",
    "    \n",
    "    \n",
    "After computing the predictions, we want to evaluate our model. \n",
    "In this part, we compute the following metrics:\n",
    "    \n",
    "    1. Root Mean Squared Error\n",
    "    2. Precision @ 10\n",
    "    3. Recall @ 10\n",
    "    4. Normalized Discounted Cumulative Gain @ 10\n",
    "    5. Hit rate @ 10\n",
    "    6. Average Reciprocal Hit Rate @ 10"
   ]
  },
  {
   "cell_type": "code",
   "execution_count": 12,
   "metadata": {},
   "outputs": [],
   "source": [
    "# Load predictions and true data\n",
    "pred_ratings_dict = uunm.load_dict(MY_DIR, 'user_n_model_pred')\n",
    "true_dict = uunm.load_dict(MY_DIR, 'user_n_model_true')"
   ]
  },
  {
   "cell_type": "code",
   "execution_count": 13,
   "metadata": {},
   "outputs": [
    {
     "data": {
      "application/vnd.jupyter.widget-view+json": {
       "model_id": "cb7239e5eccd44cc8f40c594eea1d351",
       "version_major": 2,
       "version_minor": 0
      },
      "text/plain": [
       "HBox(children=(FloatProgress(value=0.0, max=66928.0), HTML(value='')))"
      ]
     },
     "metadata": {},
     "output_type": "display_data"
    },
    {
     "name": "stdout",
     "output_type": "stream",
     "text": [
      "\n",
      "Average RMSE: 0.20006307812344187\n"
     ]
    }
   ],
   "source": [
    "rmse_arr = []\n",
    "for user in tqdm(pred_ratings_dict):\n",
    "    u_true = true_dict[user][1]\n",
    "    u_pred = pred_ratings_dict[user][1]\n",
    "    rmse_arr.append(rmse(u_true, u_pred))\n",
    "    \n",
    "print(f\"Average RMSE: {np.mean(rmse_arr)}\")"
   ]
  },
  {
   "cell_type": "code",
   "execution_count": 14,
   "metadata": {},
   "outputs": [
    {
     "name": "stdout",
     "output_type": "stream",
     "text": [
      "Computing precision & recall...\n"
     ]
    },
    {
     "data": {
      "application/vnd.jupyter.widget-view+json": {
       "model_id": "73f0cc50aca54d9ab4daecb6c9a7e1e7",
       "version_major": 2,
       "version_minor": 0
      },
      "text/plain": [
       "HBox(children=(FloatProgress(value=0.0, max=66879.0), HTML(value='')))"
      ]
     },
     "metadata": {},
     "output_type": "display_data"
    },
    {
     "name": "stdout",
     "output_type": "stream",
     "text": [
      "\n",
      "Computing normalized discounted cumulative gain...\n"
     ]
    },
    {
     "data": {
      "application/vnd.jupyter.widget-view+json": {
       "model_id": "056c3abdbed34b41a85f80663e2f3c40",
       "version_major": 2,
       "version_minor": 0
      },
      "text/plain": [
       "HBox(children=(FloatProgress(value=0.0, max=66879.0), HTML(value='')))"
      ]
     },
     "metadata": {},
     "output_type": "display_data"
    },
    {
     "name": "stdout",
     "output_type": "stream",
     "text": [
      "\n",
      "Computing hit rate...\n"
     ]
    },
    {
     "data": {
      "application/vnd.jupyter.widget-view+json": {
       "model_id": "8e39f428ef024fc1a792e2f6e8f4059d",
       "version_major": 2,
       "version_minor": 0
      },
      "text/plain": [
       "HBox(children=(FloatProgress(value=0.0, max=66879.0), HTML(value='')))"
      ]
     },
     "metadata": {},
     "output_type": "display_data"
    },
    {
     "name": "stdout",
     "output_type": "stream",
     "text": [
      "\n",
      "Computing average reciprocal hit ranking...\n"
     ]
    },
    {
     "data": {
      "application/vnd.jupyter.widget-view+json": {
       "model_id": "fd4aa3eb05f34545ac7cfe984280dd4c",
       "version_major": 2,
       "version_minor": 0
      },
      "text/plain": [
       "HBox(children=(FloatProgress(value=0.0, max=66879.0), HTML(value='')))"
      ]
     },
     "metadata": {},
     "output_type": "display_data"
    },
    {
     "name": "stdout",
     "output_type": "stream",
     "text": [
      "\n",
      "\n",
      "Metrics: \n",
      "\n",
      "Precision @ 10: 0.3492366811704721\n",
      "Recall    @ 10: 0.7106346192679347\n",
      "Ndcg @ 10: 0.6071280220485821\n",
      "Hit rate: 3.472749293500202\n",
      "Arhr: 1.1396479356107105\n"
     ]
    }
   ],
   "source": [
    "k = 10\n",
    "_, _, _, _, _  = compute_metrics(test.drop(test[test.rating == 0].index),\n",
    "                                 users, pred_ratings_dict, k)"
   ]
  }
 ],
 "metadata": {
  "kernelspec": {
   "display_name": "Python 3",
   "language": "python",
   "name": "python3"
  },
  "language_info": {
   "codemirror_mode": {
    "name": "ipython",
    "version": 3
   },
   "file_extension": ".py",
   "mimetype": "text/x-python",
   "name": "python",
   "nbconvert_exporter": "python",
   "pygments_lexer": "ipython3",
   "version": "3.8.8"
  }
 },
 "nbformat": 4,
 "nbformat_minor": 4
}
