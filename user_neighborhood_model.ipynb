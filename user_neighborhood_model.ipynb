{
 "cells": [
  {
   "cell_type": "code",
   "execution_count": 2,
   "metadata": {},
   "outputs": [],
   "source": [
    "import pandas as pd\n",
    "import matplotlib.pyplot as plt \n",
    "import numpy as np\n",
    "import time"
   ]
  },
  {
   "cell_type": "code",
   "execution_count": 524,
   "metadata": {},
   "outputs": [],
   "source": [
    "from tqdm.auto import tqdm\n",
    "tqdm.pandas()"
   ]
  },
  {
   "cell_type": "markdown",
   "metadata": {},
   "source": [
    "# Demographic data preprocessing"
   ]
  },
  {
   "cell_type": "code",
   "execution_count": 17,
   "metadata": {},
   "outputs": [],
   "source": [
    "demo_raw = pd.read_csv('data.nosync/lastfm-dataset-360K/usersha1-profile.tsv', sep='\\t', header=None,\n",
    "                             names=['user_email', 'gender', 'age', 'country', 'signup'])\n",
    "demo_raw[\"signup\"] = pd.to_datetime(demo_raw.signup)"
   ]
  },
  {
   "cell_type": "code",
   "execution_count": 18,
   "metadata": {},
   "outputs": [],
   "source": [
    "# Data cleaning of demo"
   ]
  },
  {
   "cell_type": "code",
   "execution_count": 19,
   "metadata": {},
   "outputs": [
    {
     "data": {
      "text/plain": [
       "user_email        0\n",
       "gender        32775\n",
       "age           74900\n",
       "country           0\n",
       "signup            0\n",
       "dtype: int64"
      ]
     },
     "execution_count": 19,
     "metadata": {},
     "output_type": "execute_result"
    }
   ],
   "source": [
    "demo_raw.isna().sum(0)"
   ]
  },
  {
   "cell_type": "code",
   "execution_count": 22,
   "metadata": {},
   "outputs": [
    {
     "data": {
      "text/plain": [
       "(359347, 5)"
      ]
     },
     "execution_count": 22,
     "metadata": {},
     "output_type": "execute_result"
    }
   ],
   "source": [
    "demo_raw.shape"
   ]
  },
  {
   "cell_type": "code",
   "execution_count": 23,
   "metadata": {},
   "outputs": [],
   "source": [
    "ages = demo_raw['age'].unique()\n",
    "demo_raw['age'].replace(ages[ages > 99], np.nan, inplace=True)\n",
    "demo_raw['age'].replace(ages[ages < 8], np.nan, inplace=True)"
   ]
  },
  {
   "cell_type": "code",
   "execution_count": 24,
   "metadata": {},
   "outputs": [
    {
     "data": {
      "text/plain": [
       "user_email        0\n",
       "gender        32775\n",
       "age           77218\n",
       "country           0\n",
       "signup            0\n",
       "dtype: int64"
      ]
     },
     "execution_count": 24,
     "metadata": {},
     "output_type": "execute_result"
    }
   ],
   "source": [
    "demo_raw.isna().sum(0)"
   ]
  },
  {
   "cell_type": "code",
   "execution_count": 26,
   "metadata": {},
   "outputs": [],
   "source": [
    "demo_raw = demo_raw.drop('signup', axis=1)"
   ]
  },
  {
   "cell_type": "code",
   "execution_count": 29,
   "metadata": {},
   "outputs": [],
   "source": [
    "demo_raw = demo_raw.set_index('user_email')"
   ]
  },
  {
   "cell_type": "code",
   "execution_count": 30,
   "metadata": {},
   "outputs": [],
   "source": [
    "demo_raw.to_csv('data.nosync/lastfm-dataset-360K/demo-360k-processed-neighborhood.csv')"
   ]
  },
  {
   "cell_type": "markdown",
   "metadata": {},
   "source": [
    "# User-user neighborhood model"
   ]
  },
  {
   "cell_type": "code",
   "execution_count": 31,
   "metadata": {},
   "outputs": [],
   "source": [
    "demo = pd.read_csv('data.nosync/lastfm-dataset-360K/demo-360k-processed-neighborhood.csv', index_col='user_email')\n",
    "behav = pd.read_csv('data.nosync/lastfm-dataset-360K/behav-360k-processed.csv', index_col='None')"
   ]
  },
  {
   "cell_type": "markdown",
   "metadata": {},
   "source": [
    "## 1. User demographic filtering \n",
    "\n",
    "For the user neighborhood model, we are going to consider the users using the following. \n",
    "\n",
    "- Per country, then per 5 years age chunk, then per gender. \n",
    "\n",
    "\n",
    "1. Filter users using demographic data\n",
    "First step of our user-user neighborhood model is to select of set of users with similar demographic data. \n",
    "This helps reduce the dimention of the search space for the users, but also for the items. Especially the country parameters\n",
    "\n",
    "# We are applying the filters until we have 10000 profiles. \n",
    "\n",
    "**Nan values**: For user with nan values, we will take all the user base for similarities. "
   ]
  },
  {
   "cell_type": "code",
   "execution_count": 56,
   "metadata": {},
   "outputs": [
    {
     "data": {
      "text/html": [
       "<div>\n",
       "<style scoped>\n",
       "    .dataframe tbody tr th:only-of-type {\n",
       "        vertical-align: middle;\n",
       "    }\n",
       "\n",
       "    .dataframe tbody tr th {\n",
       "        vertical-align: top;\n",
       "    }\n",
       "\n",
       "    .dataframe thead th {\n",
       "        text-align: right;\n",
       "    }\n",
       "</style>\n",
       "<table border=\"1\" class=\"dataframe\">\n",
       "  <thead>\n",
       "    <tr style=\"text-align: right;\">\n",
       "      <th></th>\n",
       "      <th>gender</th>\n",
       "      <th>age</th>\n",
       "      <th>country</th>\n",
       "    </tr>\n",
       "  </thead>\n",
       "  <tbody>\n",
       "    <tr>\n",
       "      <th>count</th>\n",
       "      <td>326572</td>\n",
       "      <td>282129.000000</td>\n",
       "      <td>359347</td>\n",
       "    </tr>\n",
       "    <tr>\n",
       "      <th>unique</th>\n",
       "      <td>2</td>\n",
       "      <td>NaN</td>\n",
       "      <td>239</td>\n",
       "    </tr>\n",
       "    <tr>\n",
       "      <th>top</th>\n",
       "      <td>m</td>\n",
       "      <td>NaN</td>\n",
       "      <td>United States</td>\n",
       "    </tr>\n",
       "    <tr>\n",
       "      <th>freq</th>\n",
       "      <td>241642</td>\n",
       "      <td>NaN</td>\n",
       "      <td>67044</td>\n",
       "    </tr>\n",
       "    <tr>\n",
       "      <th>mean</th>\n",
       "      <td>NaN</td>\n",
       "      <td>25.097413</td>\n",
       "      <td>NaN</td>\n",
       "    </tr>\n",
       "    <tr>\n",
       "      <th>std</th>\n",
       "      <td>NaN</td>\n",
       "      <td>7.937884</td>\n",
       "      <td>NaN</td>\n",
       "    </tr>\n",
       "    <tr>\n",
       "      <th>min</th>\n",
       "      <td>NaN</td>\n",
       "      <td>8.000000</td>\n",
       "      <td>NaN</td>\n",
       "    </tr>\n",
       "    <tr>\n",
       "      <th>25%</th>\n",
       "      <td>NaN</td>\n",
       "      <td>20.000000</td>\n",
       "      <td>NaN</td>\n",
       "    </tr>\n",
       "    <tr>\n",
       "      <th>50%</th>\n",
       "      <td>NaN</td>\n",
       "      <td>23.000000</td>\n",
       "      <td>NaN</td>\n",
       "    </tr>\n",
       "    <tr>\n",
       "      <th>75%</th>\n",
       "      <td>NaN</td>\n",
       "      <td>28.000000</td>\n",
       "      <td>NaN</td>\n",
       "    </tr>\n",
       "    <tr>\n",
       "      <th>max</th>\n",
       "      <td>NaN</td>\n",
       "      <td>99.000000</td>\n",
       "      <td>NaN</td>\n",
       "    </tr>\n",
       "  </tbody>\n",
       "</table>\n",
       "</div>"
      ],
      "text/plain": [
       "        gender            age        country\n",
       "count   326572  282129.000000         359347\n",
       "unique       2            NaN            239\n",
       "top          m            NaN  United States\n",
       "freq    241642            NaN          67044\n",
       "mean       NaN      25.097413            NaN\n",
       "std        NaN       7.937884            NaN\n",
       "min        NaN       8.000000            NaN\n",
       "25%        NaN      20.000000            NaN\n",
       "50%        NaN      23.000000            NaN\n",
       "75%        NaN      28.000000            NaN\n",
       "max        NaN      99.000000            NaN"
      ]
     },
     "execution_count": 56,
     "metadata": {},
     "output_type": "execute_result"
    }
   ],
   "source": [
    "demo.describe(include='all')"
   ]
  },
  {
   "cell_type": "code",
   "execution_count": 89,
   "metadata": {},
   "outputs": [],
   "source": [
    "default_gender = demo['gender'].mode()[0]\n",
    "default_age = float(int(demo['age'].mean()))"
   ]
  },
  {
   "cell_type": "code",
   "execution_count": 90,
   "metadata": {},
   "outputs": [
    {
     "data": {
      "text/plain": [
       "user_email\n",
       "00000c289a1829a808ac09c00daf10bc3c4e223b    22.0\n",
       "00001411dc427966b17297bf4d69e7e193135d89     NaN\n",
       "00004d2ac9316e22dc007ab2243d6fcb239e707d     NaN\n",
       "000063d3fe1cf2ba248b9e3c3f0334845a27a6bf    19.0\n",
       "00007a47085b9aab8af55f52ec8846ac479ac4fe    28.0\n",
       "                                            ... \n",
       "fffe7823f67b433b45f22056467db921c1d3d7d0    25.0\n",
       "fffe8637bd8234309e871409c7ebef99a720afc1    25.0\n",
       "fffe8c7f952d9b960a56ed4dcb40a415d924b224    20.0\n",
       "ffff9af9ae04d263dae91cb838b1f3a6725f5ffb    20.0\n",
       "ffff9ef87a7d9494ada2f9ade4b9ff637c0759ac    21.0\n",
       "Name: age, Length: 359347, dtype: float64"
      ]
     },
     "execution_count": 90,
     "metadata": {},
     "output_type": "execute_result"
    }
   ],
   "source": [
    "demo['age'].astype(int, errors='ignore')"
   ]
  },
  {
   "cell_type": "code",
   "execution_count": 91,
   "metadata": {},
   "outputs": [],
   "source": [
    "example_user_email = '00024b5b85c40f990c28644d53257819980bf6bb'\n",
    "example_email_nan = '00004d2ac9316e22dc007ab2243d6fcb239e707d'"
   ]
  },
  {
   "cell_type": "code",
   "execution_count": 84,
   "metadata": {},
   "outputs": [],
   "source": [
    "gender, age, country = demo.loc[example_user_email].values"
   ]
  },
  {
   "cell_type": "code",
   "execution_count": 126,
   "metadata": {},
   "outputs": [],
   "source": [
    "def get_user_demo(user_email:str):\n",
    "    gender, age, country = demo.loc[user_email].values\n",
    "    if pd.isna(gender):\n",
    "        gender = default_gender\n",
    "    if pd.isna(age):\n",
    "        age = default_age\n",
    "    return gender, age, country"
   ]
  },
  {
   "cell_type": "code",
   "execution_count": 365,
   "metadata": {},
   "outputs": [],
   "source": [
    "SAMPLE_SIZE = 10000\n",
    "def get_demo_similar_users(user_email:str):\n",
    "    gender, age, country = get_user_demo(user_email)\n",
    "    print(f\"Gender: {gender}, Age: {age}, Country: {country}\")\n",
    "    \n",
    "    country_users = demo[demo['country'] == country]\n",
    "    \n",
    "    if (len(country_users) <= SAMPLE_SIZE):\n",
    "        print(f\"Country filter applied. Length: {len(country_users)}\")\n",
    "        return country_users.index.values\n",
    "    \n",
    "    age_users = country_users[(country_users['age'] >= (age - 2)) \n",
    "                              & (country_users['age'] <= (age + 2))]\n",
    "    \n",
    "    if (len(age_users) <= SAMPLE_SIZE):\n",
    "        print(f\"Country and age filters. Length: {len(age_users)}\")\n",
    "        return age_users.index.values\n",
    "    \n",
    "    gender_users = age_users[age_users['gender'] == gender]\n",
    "    print(f\"Country, age, and gender filters applied. Length: {len(gender_users)}\")\n",
    "    return gender_users.index.values\n"
   ]
  },
  {
   "cell_type": "code",
   "execution_count": 129,
   "metadata": {},
   "outputs": [
    {
     "name": "stdout",
     "output_type": "stream",
     "text": [
      "Gender: m, Age: 25.0, Country: Germany\n",
      "Country and age filters. Length: 5909\n"
     ]
    }
   ],
   "source": [
    "similar_users = get_demo_similar_users(example_email_nan)"
   ]
  },
  {
   "cell_type": "code",
   "execution_count": 209,
   "metadata": {},
   "outputs": [],
   "source": [
    "# Get the rows for selected users\n",
    "similar_behav = behav[(behav['user_email'].isin(similar_users)) | (behav['user_email'] == example_email_nan)]"
   ]
  },
  {
   "cell_type": "code",
   "execution_count": 211,
   "metadata": {},
   "outputs": [
    {
     "data": {
      "text/plain": [
       "288869"
      ]
     },
     "execution_count": 211,
     "metadata": {},
     "output_type": "execute_result"
    }
   ],
   "source": [
    "len(similar_behav)"
   ]
  },
  {
   "cell_type": "code",
   "execution_count": 212,
   "metadata": {},
   "outputs": [
    {
     "data": {
      "text/plain": [
       "0.016688725224130407"
      ]
     },
     "execution_count": 212,
     "metadata": {},
     "output_type": "execute_result"
    }
   ],
   "source": [
    "len(similar_behav) / len(behav) "
   ]
  },
  {
   "cell_type": "code",
   "execution_count": 213,
   "metadata": {},
   "outputs": [
    {
     "data": {
      "text/html": [
       "<div>\n",
       "<style scoped>\n",
       "    .dataframe tbody tr th:only-of-type {\n",
       "        vertical-align: middle;\n",
       "    }\n",
       "\n",
       "    .dataframe tbody tr th {\n",
       "        vertical-align: top;\n",
       "    }\n",
       "\n",
       "    .dataframe thead th {\n",
       "        text-align: right;\n",
       "    }\n",
       "</style>\n",
       "<table border=\"1\" class=\"dataframe\">\n",
       "  <thead>\n",
       "    <tr style=\"text-align: right;\">\n",
       "      <th></th>\n",
       "      <th>Unnamed: 0</th>\n",
       "      <th>user_email</th>\n",
       "      <th>artist_id</th>\n",
       "      <th>artist_name</th>\n",
       "      <th>plays</th>\n",
       "      <th>log_plays</th>\n",
       "      <th>std_plays</th>\n",
       "    </tr>\n",
       "  </thead>\n",
       "  <tbody>\n",
       "    <tr>\n",
       "      <th>100</th>\n",
       "      <td>100</td>\n",
       "      <td>00004d2ac9316e22dc007ab2243d6fcb239e707d</td>\n",
       "      <td>100</td>\n",
       "      <td>current 93</td>\n",
       "      <td>853</td>\n",
       "      <td>6.748760</td>\n",
       "      <td>0.521301</td>\n",
       "    </tr>\n",
       "    <tr>\n",
       "      <th>101</th>\n",
       "      <td>101</td>\n",
       "      <td>00004d2ac9316e22dc007ab2243d6fcb239e707d</td>\n",
       "      <td>101</td>\n",
       "      <td>coil</td>\n",
       "      <td>567</td>\n",
       "      <td>6.340359</td>\n",
       "      <td>0.489754</td>\n",
       "    </tr>\n",
       "    <tr>\n",
       "      <th>102</th>\n",
       "      <td>102</td>\n",
       "      <td>00004d2ac9316e22dc007ab2243d6fcb239e707d</td>\n",
       "      <td>102</td>\n",
       "      <td>andrew liles</td>\n",
       "      <td>248</td>\n",
       "      <td>5.513429</td>\n",
       "      <td>0.425879</td>\n",
       "    </tr>\n",
       "    <tr>\n",
       "      <th>103</th>\n",
       "      <td>103</td>\n",
       "      <td>00004d2ac9316e22dc007ab2243d6fcb239e707d</td>\n",
       "      <td>103</td>\n",
       "      <td>six organs of admittance</td>\n",
       "      <td>242</td>\n",
       "      <td>5.488938</td>\n",
       "      <td>0.423987</td>\n",
       "    </tr>\n",
       "    <tr>\n",
       "      <th>104</th>\n",
       "      <td>104</td>\n",
       "      <td>00004d2ac9316e22dc007ab2243d6fcb239e707d</td>\n",
       "      <td>104</td>\n",
       "      <td>16 horsepower</td>\n",
       "      <td>225</td>\n",
       "      <td>5.416100</td>\n",
       "      <td>0.418361</td>\n",
       "    </tr>\n",
       "    <tr>\n",
       "      <th>...</th>\n",
       "      <td>...</td>\n",
       "      <td>...</td>\n",
       "      <td>...</td>\n",
       "      <td>...</td>\n",
       "      <td>...</td>\n",
       "      <td>...</td>\n",
       "      <td>...</td>\n",
       "    </tr>\n",
       "    <tr>\n",
       "      <th>17309047</th>\n",
       "      <td>17535421</td>\n",
       "      <td>fffe7823f67b433b45f22056467db921c1d3d7d0</td>\n",
       "      <td>62</td>\n",
       "      <td>coldplay</td>\n",
       "      <td>42</td>\n",
       "      <td>3.737670</td>\n",
       "      <td>0.288712</td>\n",
       "    </tr>\n",
       "    <tr>\n",
       "      <th>17309048</th>\n",
       "      <td>17535422</td>\n",
       "      <td>fffe7823f67b433b45f22056467db921c1d3d7d0</td>\n",
       "      <td>2746</td>\n",
       "      <td>david guetta</td>\n",
       "      <td>41</td>\n",
       "      <td>3.713572</td>\n",
       "      <td>0.286851</td>\n",
       "    </tr>\n",
       "    <tr>\n",
       "      <th>17309049</th>\n",
       "      <td>17535423</td>\n",
       "      <td>fffe7823f67b433b45f22056467db921c1d3d7d0</td>\n",
       "      <td>2071</td>\n",
       "      <td>silbermond</td>\n",
       "      <td>41</td>\n",
       "      <td>3.713572</td>\n",
       "      <td>0.286851</td>\n",
       "    </tr>\n",
       "    <tr>\n",
       "      <th>17309050</th>\n",
       "      <td>17535424</td>\n",
       "      <td>fffe7823f67b433b45f22056467db921c1d3d7d0</td>\n",
       "      <td>885</td>\n",
       "      <td>elvis presley</td>\n",
       "      <td>40</td>\n",
       "      <td>3.688879</td>\n",
       "      <td>0.284944</td>\n",
       "    </tr>\n",
       "    <tr>\n",
       "      <th>17309051</th>\n",
       "      <td>17535425</td>\n",
       "      <td>fffe7823f67b433b45f22056467db921c1d3d7d0</td>\n",
       "      <td>5758</td>\n",
       "      <td>blank &amp; jones</td>\n",
       "      <td>39</td>\n",
       "      <td>3.663562</td>\n",
       "      <td>0.282988</td>\n",
       "    </tr>\n",
       "  </tbody>\n",
       "</table>\n",
       "<p>288869 rows × 7 columns</p>\n",
       "</div>"
      ],
      "text/plain": [
       "          Unnamed: 0                                user_email  artist_id  \\\n",
       "100              100  00004d2ac9316e22dc007ab2243d6fcb239e707d        100   \n",
       "101              101  00004d2ac9316e22dc007ab2243d6fcb239e707d        101   \n",
       "102              102  00004d2ac9316e22dc007ab2243d6fcb239e707d        102   \n",
       "103              103  00004d2ac9316e22dc007ab2243d6fcb239e707d        103   \n",
       "104              104  00004d2ac9316e22dc007ab2243d6fcb239e707d        104   \n",
       "...              ...                                       ...        ...   \n",
       "17309047    17535421  fffe7823f67b433b45f22056467db921c1d3d7d0         62   \n",
       "17309048    17535422  fffe7823f67b433b45f22056467db921c1d3d7d0       2746   \n",
       "17309049    17535423  fffe7823f67b433b45f22056467db921c1d3d7d0       2071   \n",
       "17309050    17535424  fffe7823f67b433b45f22056467db921c1d3d7d0        885   \n",
       "17309051    17535425  fffe7823f67b433b45f22056467db921c1d3d7d0       5758   \n",
       "\n",
       "                       artist_name  plays  log_plays  std_plays  \n",
       "100                     current 93    853   6.748760   0.521301  \n",
       "101                           coil    567   6.340359   0.489754  \n",
       "102                   andrew liles    248   5.513429   0.425879  \n",
       "103       six organs of admittance    242   5.488938   0.423987  \n",
       "104                  16 horsepower    225   5.416100   0.418361  \n",
       "...                            ...    ...        ...        ...  \n",
       "17309047                  coldplay     42   3.737670   0.288712  \n",
       "17309048              david guetta     41   3.713572   0.286851  \n",
       "17309049                silbermond     41   3.713572   0.286851  \n",
       "17309050             elvis presley     40   3.688879   0.284944  \n",
       "17309051             blank & jones     39   3.663562   0.282988  \n",
       "\n",
       "[288869 rows x 7 columns]"
      ]
     },
     "execution_count": 213,
     "metadata": {},
     "output_type": "execute_result"
    }
   ],
   "source": [
    "similar_behav"
   ]
  },
  {
   "cell_type": "code",
   "execution_count": 214,
   "metadata": {},
   "outputs": [],
   "source": [
    "# Compute the total plays per user\n",
    "user_total_play = similar_behav.groupby('user_email')['plays'].sum()"
   ]
  },
  {
   "cell_type": "code",
   "execution_count": 215,
   "metadata": {},
   "outputs": [
    {
     "data": {
      "text/plain": [
       "2139"
      ]
     },
     "execution_count": 215,
     "metadata": {},
     "output_type": "execute_result"
    }
   ],
   "source": [
    "user_total_play.loc['000bce5b008caef9cce3f2b981ec71ef20a5926e']"
   ]
  },
  {
   "cell_type": "code",
   "execution_count": 242,
   "metadata": {},
   "outputs": [],
   "source": [
    "# Compute normalized plays per user\n",
    "similar_behav.loc[:, 'norm_plays'] = (similar_behav['plays'] / user_total_play.loc[similar_behav['user_email']].values)"
   ]
  },
  {
   "cell_type": "code",
   "execution_count": 243,
   "metadata": {},
   "outputs": [
    {
     "data": {
      "text/html": [
       "<div>\n",
       "<style scoped>\n",
       "    .dataframe tbody tr th:only-of-type {\n",
       "        vertical-align: middle;\n",
       "    }\n",
       "\n",
       "    .dataframe tbody tr th {\n",
       "        vertical-align: top;\n",
       "    }\n",
       "\n",
       "    .dataframe thead th {\n",
       "        text-align: right;\n",
       "    }\n",
       "</style>\n",
       "<table border=\"1\" class=\"dataframe\">\n",
       "  <thead>\n",
       "    <tr style=\"text-align: right;\">\n",
       "      <th></th>\n",
       "      <th>Unnamed: 0</th>\n",
       "      <th>user_email</th>\n",
       "      <th>artist_id</th>\n",
       "      <th>artist_name</th>\n",
       "      <th>plays</th>\n",
       "      <th>log_plays</th>\n",
       "      <th>std_plays</th>\n",
       "      <th>norm_plays</th>\n",
       "      <th>norm_plays2</th>\n",
       "    </tr>\n",
       "  </thead>\n",
       "  <tbody>\n",
       "    <tr>\n",
       "      <th>100</th>\n",
       "      <td>100</td>\n",
       "      <td>00004d2ac9316e22dc007ab2243d6fcb239e707d</td>\n",
       "      <td>100</td>\n",
       "      <td>current 93</td>\n",
       "      <td>853</td>\n",
       "      <td>6.748760</td>\n",
       "      <td>0.521301</td>\n",
       "      <td>0.147834</td>\n",
       "      <td>0.147834</td>\n",
       "    </tr>\n",
       "    <tr>\n",
       "      <th>101</th>\n",
       "      <td>101</td>\n",
       "      <td>00004d2ac9316e22dc007ab2243d6fcb239e707d</td>\n",
       "      <td>101</td>\n",
       "      <td>coil</td>\n",
       "      <td>567</td>\n",
       "      <td>6.340359</td>\n",
       "      <td>0.489754</td>\n",
       "      <td>0.098267</td>\n",
       "      <td>0.098267</td>\n",
       "    </tr>\n",
       "    <tr>\n",
       "      <th>102</th>\n",
       "      <td>102</td>\n",
       "      <td>00004d2ac9316e22dc007ab2243d6fcb239e707d</td>\n",
       "      <td>102</td>\n",
       "      <td>andrew liles</td>\n",
       "      <td>248</td>\n",
       "      <td>5.513429</td>\n",
       "      <td>0.425879</td>\n",
       "      <td>0.042981</td>\n",
       "      <td>0.042981</td>\n",
       "    </tr>\n",
       "    <tr>\n",
       "      <th>103</th>\n",
       "      <td>103</td>\n",
       "      <td>00004d2ac9316e22dc007ab2243d6fcb239e707d</td>\n",
       "      <td>103</td>\n",
       "      <td>six organs of admittance</td>\n",
       "      <td>242</td>\n",
       "      <td>5.488938</td>\n",
       "      <td>0.423987</td>\n",
       "      <td>0.041941</td>\n",
       "      <td>0.041941</td>\n",
       "    </tr>\n",
       "    <tr>\n",
       "      <th>104</th>\n",
       "      <td>104</td>\n",
       "      <td>00004d2ac9316e22dc007ab2243d6fcb239e707d</td>\n",
       "      <td>104</td>\n",
       "      <td>16 horsepower</td>\n",
       "      <td>225</td>\n",
       "      <td>5.416100</td>\n",
       "      <td>0.418361</td>\n",
       "      <td>0.038995</td>\n",
       "      <td>0.038995</td>\n",
       "    </tr>\n",
       "    <tr>\n",
       "      <th>...</th>\n",
       "      <td>...</td>\n",
       "      <td>...</td>\n",
       "      <td>...</td>\n",
       "      <td>...</td>\n",
       "      <td>...</td>\n",
       "      <td>...</td>\n",
       "      <td>...</td>\n",
       "      <td>...</td>\n",
       "      <td>...</td>\n",
       "    </tr>\n",
       "    <tr>\n",
       "      <th>17309047</th>\n",
       "      <td>17535421</td>\n",
       "      <td>fffe7823f67b433b45f22056467db921c1d3d7d0</td>\n",
       "      <td>62</td>\n",
       "      <td>coldplay</td>\n",
       "      <td>42</td>\n",
       "      <td>3.737670</td>\n",
       "      <td>0.288712</td>\n",
       "      <td>0.013241</td>\n",
       "      <td>0.013241</td>\n",
       "    </tr>\n",
       "    <tr>\n",
       "      <th>17309048</th>\n",
       "      <td>17535422</td>\n",
       "      <td>fffe7823f67b433b45f22056467db921c1d3d7d0</td>\n",
       "      <td>2746</td>\n",
       "      <td>david guetta</td>\n",
       "      <td>41</td>\n",
       "      <td>3.713572</td>\n",
       "      <td>0.286851</td>\n",
       "      <td>0.012926</td>\n",
       "      <td>0.012926</td>\n",
       "    </tr>\n",
       "    <tr>\n",
       "      <th>17309049</th>\n",
       "      <td>17535423</td>\n",
       "      <td>fffe7823f67b433b45f22056467db921c1d3d7d0</td>\n",
       "      <td>2071</td>\n",
       "      <td>silbermond</td>\n",
       "      <td>41</td>\n",
       "      <td>3.713572</td>\n",
       "      <td>0.286851</td>\n",
       "      <td>0.012926</td>\n",
       "      <td>0.012926</td>\n",
       "    </tr>\n",
       "    <tr>\n",
       "      <th>17309050</th>\n",
       "      <td>17535424</td>\n",
       "      <td>fffe7823f67b433b45f22056467db921c1d3d7d0</td>\n",
       "      <td>885</td>\n",
       "      <td>elvis presley</td>\n",
       "      <td>40</td>\n",
       "      <td>3.688879</td>\n",
       "      <td>0.284944</td>\n",
       "      <td>0.012610</td>\n",
       "      <td>0.012610</td>\n",
       "    </tr>\n",
       "    <tr>\n",
       "      <th>17309051</th>\n",
       "      <td>17535425</td>\n",
       "      <td>fffe7823f67b433b45f22056467db921c1d3d7d0</td>\n",
       "      <td>5758</td>\n",
       "      <td>blank &amp; jones</td>\n",
       "      <td>39</td>\n",
       "      <td>3.663562</td>\n",
       "      <td>0.282988</td>\n",
       "      <td>0.012295</td>\n",
       "      <td>0.012295</td>\n",
       "    </tr>\n",
       "  </tbody>\n",
       "</table>\n",
       "<p>288869 rows × 9 columns</p>\n",
       "</div>"
      ],
      "text/plain": [
       "          Unnamed: 0                                user_email  artist_id  \\\n",
       "100              100  00004d2ac9316e22dc007ab2243d6fcb239e707d        100   \n",
       "101              101  00004d2ac9316e22dc007ab2243d6fcb239e707d        101   \n",
       "102              102  00004d2ac9316e22dc007ab2243d6fcb239e707d        102   \n",
       "103              103  00004d2ac9316e22dc007ab2243d6fcb239e707d        103   \n",
       "104              104  00004d2ac9316e22dc007ab2243d6fcb239e707d        104   \n",
       "...              ...                                       ...        ...   \n",
       "17309047    17535421  fffe7823f67b433b45f22056467db921c1d3d7d0         62   \n",
       "17309048    17535422  fffe7823f67b433b45f22056467db921c1d3d7d0       2746   \n",
       "17309049    17535423  fffe7823f67b433b45f22056467db921c1d3d7d0       2071   \n",
       "17309050    17535424  fffe7823f67b433b45f22056467db921c1d3d7d0        885   \n",
       "17309051    17535425  fffe7823f67b433b45f22056467db921c1d3d7d0       5758   \n",
       "\n",
       "                       artist_name  plays  log_plays  std_plays  norm_plays  \\\n",
       "100                     current 93    853   6.748760   0.521301    0.147834   \n",
       "101                           coil    567   6.340359   0.489754    0.098267   \n",
       "102                   andrew liles    248   5.513429   0.425879    0.042981   \n",
       "103       six organs of admittance    242   5.488938   0.423987    0.041941   \n",
       "104                  16 horsepower    225   5.416100   0.418361    0.038995   \n",
       "...                            ...    ...        ...        ...         ...   \n",
       "17309047                  coldplay     42   3.737670   0.288712    0.013241   \n",
       "17309048              david guetta     41   3.713572   0.286851    0.012926   \n",
       "17309049                silbermond     41   3.713572   0.286851    0.012926   \n",
       "17309050             elvis presley     40   3.688879   0.284944    0.012610   \n",
       "17309051             blank & jones     39   3.663562   0.282988    0.012295   \n",
       "\n",
       "          norm_plays2  \n",
       "100          0.147834  \n",
       "101          0.098267  \n",
       "102          0.042981  \n",
       "103          0.041941  \n",
       "104          0.038995  \n",
       "...               ...  \n",
       "17309047     0.013241  \n",
       "17309048     0.012926  \n",
       "17309049     0.012926  \n",
       "17309050     0.012610  \n",
       "17309051     0.012295  \n",
       "\n",
       "[288869 rows x 9 columns]"
      ]
     },
     "execution_count": 243,
     "metadata": {},
     "output_type": "execute_result"
    }
   ],
   "source": [
    "similar_behav"
   ]
  },
  {
   "cell_type": "code",
   "execution_count": 244,
   "metadata": {},
   "outputs": [
    {
     "data": {
      "text/plain": [
       "30202"
      ]
     },
     "execution_count": 244,
     "metadata": {},
     "output_type": "execute_result"
    }
   ],
   "source": [
    "similar_group_artists = similar_behav['artist_id'].value_counts()\n",
    "len(similar_group_artists)"
   ]
  },
  {
   "cell_type": "markdown",
   "metadata": {},
   "source": [
    "We will be filtering the songs such that at least 1% of our dataset have listened to it. "
   ]
  },
  {
   "cell_type": "code",
   "execution_count": 245,
   "metadata": {},
   "outputs": [],
   "source": [
    "ARTIST_THRESHOLD = len(similar_users) / 100"
   ]
  },
  {
   "cell_type": "code",
   "execution_count": 246,
   "metadata": {},
   "outputs": [],
   "source": [
    "selected_artist_ids = similar_group_artists[similar_group_artists > ARTIST_THRESHOLD].index.values"
   ]
  },
  {
   "cell_type": "code",
   "execution_count": 247,
   "metadata": {},
   "outputs": [],
   "source": [
    "similar_behav = similar_behav.groupby(['user_email', 'artist_id'], as_index=False).sum()"
   ]
  },
  {
   "cell_type": "code",
   "execution_count": 271,
   "metadata": {},
   "outputs": [
    {
     "data": {
      "text/plain": [
       "(5904, 30202)"
      ]
     },
     "execution_count": 271,
     "metadata": {},
     "output_type": "execute_result"
    }
   ],
   "source": [
    "similar_user_scores = similar_behav.pivot(index='user_email', columns='artist_id', values='norm_plays')\n",
    "similar_user_scores.shape"
   ]
  },
  {
   "cell_type": "code",
   "execution_count": 250,
   "metadata": {},
   "outputs": [
    {
     "data": {
      "text/plain": [
       "(5904, 931)"
      ]
     },
     "execution_count": 250,
     "metadata": {},
     "output_type": "execute_result"
    }
   ],
   "source": [
    "sim_selected_scores = similar_user_scores[selected_artist_ids]\n",
    "sim_selected_scores.shape"
   ]
  },
  {
   "cell_type": "code",
   "execution_count": 258,
   "metadata": {},
   "outputs": [
    {
     "data": {
      "text/html": [
       "<div>\n",
       "<style scoped>\n",
       "    .dataframe tbody tr th:only-of-type {\n",
       "        vertical-align: middle;\n",
       "    }\n",
       "\n",
       "    .dataframe tbody tr th {\n",
       "        vertical-align: top;\n",
       "    }\n",
       "\n",
       "    .dataframe thead th {\n",
       "        text-align: right;\n",
       "    }\n",
       "</style>\n",
       "<table border=\"1\" class=\"dataframe\">\n",
       "  <thead>\n",
       "    <tr style=\"text-align: right;\">\n",
       "      <th>artist_id</th>\n",
       "      <th>1</th>\n",
       "      <th>62</th>\n",
       "      <th>5</th>\n",
       "      <th>192</th>\n",
       "      <th>216</th>\n",
       "      <th>281</th>\n",
       "      <th>350</th>\n",
       "      <th>485</th>\n",
       "      <th>28</th>\n",
       "      <th>757</th>\n",
       "      <th>...</th>\n",
       "      <th>3927</th>\n",
       "      <th>321</th>\n",
       "      <th>276</th>\n",
       "      <th>5050</th>\n",
       "      <th>185</th>\n",
       "      <th>3347</th>\n",
       "      <th>79</th>\n",
       "      <th>878</th>\n",
       "      <th>3506</th>\n",
       "      <th>7679</th>\n",
       "    </tr>\n",
       "    <tr>\n",
       "      <th>user_email</th>\n",
       "      <th></th>\n",
       "      <th></th>\n",
       "      <th></th>\n",
       "      <th></th>\n",
       "      <th></th>\n",
       "      <th></th>\n",
       "      <th></th>\n",
       "      <th></th>\n",
       "      <th></th>\n",
       "      <th></th>\n",
       "      <th></th>\n",
       "      <th></th>\n",
       "      <th></th>\n",
       "      <th></th>\n",
       "      <th></th>\n",
       "      <th></th>\n",
       "      <th></th>\n",
       "      <th></th>\n",
       "      <th></th>\n",
       "      <th></th>\n",
       "      <th></th>\n",
       "    </tr>\n",
       "  </thead>\n",
       "  <tbody>\n",
       "    <tr>\n",
       "      <th>00004d2ac9316e22dc007ab2243d6fcb239e707d</th>\n",
       "      <td>NaN</td>\n",
       "      <td>NaN</td>\n",
       "      <td>NaN</td>\n",
       "      <td>NaN</td>\n",
       "      <td>NaN</td>\n",
       "      <td>NaN</td>\n",
       "      <td>NaN</td>\n",
       "      <td>NaN</td>\n",
       "      <td>NaN</td>\n",
       "      <td>NaN</td>\n",
       "      <td>...</td>\n",
       "      <td>NaN</td>\n",
       "      <td>NaN</td>\n",
       "      <td>NaN</td>\n",
       "      <td>NaN</td>\n",
       "      <td>NaN</td>\n",
       "      <td>NaN</td>\n",
       "      <td>NaN</td>\n",
       "      <td>NaN</td>\n",
       "      <td>NaN</td>\n",
       "      <td>NaN</td>\n",
       "    </tr>\n",
       "  </tbody>\n",
       "</table>\n",
       "<p>1 rows × 931 columns</p>\n",
       "</div>"
      ],
      "text/plain": [
       "artist_id                                 1     62    5     192   216   281   \\\n",
       "user_email                                                                     \n",
       "00004d2ac9316e22dc007ab2243d6fcb239e707d   NaN   NaN   NaN   NaN   NaN   NaN   \n",
       "\n",
       "artist_id                                 350   485   28    757   ...  3927  \\\n",
       "user_email                                                        ...         \n",
       "00004d2ac9316e22dc007ab2243d6fcb239e707d   NaN   NaN   NaN   NaN  ...   NaN   \n",
       "\n",
       "artist_id                                 321   276   5050  185   3347  79    \\\n",
       "user_email                                                                     \n",
       "00004d2ac9316e22dc007ab2243d6fcb239e707d   NaN   NaN   NaN   NaN   NaN   NaN   \n",
       "\n",
       "artist_id                                 878   3506  7679  \n",
       "user_email                                                  \n",
       "00004d2ac9316e22dc007ab2243d6fcb239e707d   NaN   NaN   NaN  \n",
       "\n",
       "[1 rows x 931 columns]"
      ]
     },
     "execution_count": 258,
     "metadata": {},
     "output_type": "execute_result"
    }
   ],
   "source": [
    "sim_selected_scores[sim_selected_scores.index == example_email_nan]"
   ]
  },
  {
   "cell_type": "code",
   "execution_count": 336,
   "metadata": {},
   "outputs": [],
   "source": [
    "filled_scores2 = sim_selected_scores.fillna(0)"
   ]
  },
  {
   "cell_type": "code",
   "execution_count": 312,
   "metadata": {},
   "outputs": [],
   "source": [
    "filled_scores = similar_user_scores.fillna(0)"
   ]
  },
  {
   "cell_type": "code",
   "execution_count": 315,
   "metadata": {},
   "outputs": [],
   "source": [
    "correlated_rows = filled_scores.corrwith(filled_scores.loc[example_email_nan], axis=1)"
   ]
  },
  {
   "cell_type": "code",
   "execution_count": 334,
   "metadata": {},
   "outputs": [
    {
     "data": {
      "text/plain": [
       "user_email\n",
       "00004d2ac9316e22dc007ab2243d6fcb239e707d    1.000000\n",
       "e828e22870f59bfa139cd50c5ae6d8c953714541    0.611279\n",
       "dtype: float64"
      ]
     },
     "execution_count": 334,
     "metadata": {},
     "output_type": "execute_result"
    }
   ],
   "source": [
    "correlated_rows[correlated_rows > 0.5]"
   ]
  },
  {
   "cell_type": "code",
   "execution_count": 326,
   "metadata": {},
   "outputs": [],
   "source": [
    "u1_artists = behav[behav['user_email'] == '00004d2ac9316e22dc007ab2243d6fcb239e707d']['artist_name'].values"
   ]
  },
  {
   "cell_type": "code",
   "execution_count": 328,
   "metadata": {},
   "outputs": [],
   "source": [
    "u2_artists = behav[behav['user_email'] == 'e828e22870f59bfa139cd50c5ae6d8c953714541']['artist_name'].values"
   ]
  },
  {
   "cell_type": "code",
   "execution_count": 335,
   "metadata": {},
   "outputs": [
    {
     "name": "stdout",
     "output_type": "stream",
     "text": [
      "U1 artists: 46, U2 artists: 50, Shared: {'antony and the johnsons', 'current 93', 'marissa nadler'}\n"
     ]
    }
   ],
   "source": [
    "shared_artists = set(u1_artists).intersection(set(u2_artists))\n",
    "print(f\"U1 artists: {len(u1_artists)}, U2 artists: {len(u2_artists)}, Shared: {shared_artists}\")"
   ]
  },
  {
   "cell_type": "code",
   "execution_count": 340,
   "metadata": {},
   "outputs": [
    {
     "data": {
      "text/plain": [
       "array(['current 93', 'coil', 'andrew liles', 'six organs of admittance',\n",
       "       '16 horsepower', 'angels of light', 'the legendary pink dots',\n",
       "       'charalambides', 'festival', 'fern knight',\n",
       "       'nick cave & the bad seeds', 'fovea hex', 'amanda rogers',\n",
       "       'lux interna', 'nalle', 'antony and the johnsons',\n",
       "       'marissa nadler', 'a silver mt. zion', 'einstürzende neubauten',\n",
       "       'marc almond', 'mariee sioux', 'björk', 'bill fay',\n",
       "       'nurse with wound', 'baby dee', 'ghq', 'daniel higgs', 'flairck',\n",
       "       'jack rose', 'castanets', 'john jacob niles',\n",
       "       'the revolutionary army of the infant jesus', 'carter tutti',\n",
       "       'the one ensemble', 'orion rigel dommisse', 'jocelyn pook',\n",
       "       'matmos', 'ulver', 'ane brun', 'soisong', 'a hawk and a hacksaw',\n",
       "       'frank london', 'michael gira', 'larkin grimm', 'pelt',\n",
       "       'jean parlette'], dtype=object)"
      ]
     },
     "execution_count": 340,
     "metadata": {},
     "output_type": "execute_result"
    }
   ],
   "source": [
    "u1_artists"
   ]
  },
  {
   "cell_type": "code",
   "execution_count": 341,
   "metadata": {},
   "outputs": [
    {
     "data": {
      "text/plain": [
       "array(['current 93', 'mia doi todd', 'hans-joachim roedelius',\n",
       "       'art bears', 'red krayola', 'max richter', 'meredith monk',\n",
       "       'scott walker', 'magma', 'laurie anderson',\n",
       "       \"bonnie 'prince' billy\", 'swans', 'low', 'cocteau twins',\n",
       "       'the west coast pop art experimental band', 'beach house',\n",
       "       'deutsch amerikanische freundschaft',\n",
       "       'miasma & the carousel of headless horses', 'monte cazazza',\n",
       "       'animal collective', 'mazzy star', 'the chameleons',\n",
       "       'casiotone for the painfully alone', 'gonzales', 'talk talk',\n",
       "       'the iditarod', 'the velvet underground', 'xiu xiu', 'analogy',\n",
       "       'oriental sunshine', 'slowdive', 'tuxedomoon',\n",
       "       'angelite & moscow art trio & huun-huur-tu',\n",
       "       'antony and the johnsons', 'donovan', 'steve reich',\n",
       "       'ana da silva', 'fujiya & miyagi', 'joy division',\n",
       "       'marissa nadler', 'mission of burma', 'portishead', 'suede',\n",
       "       'broadcast', 'fennesz + sakamoto', 'interpol', 'james',\n",
       "       'the incredible string band', 'woven hand', 'yann tiersen'],\n",
       "      dtype=object)"
      ]
     },
     "execution_count": 341,
     "metadata": {},
     "output_type": "execute_result"
    }
   ],
   "source": [
    "u2_artists"
   ]
  },
  {
   "cell_type": "code",
   "execution_count": 338,
   "metadata": {},
   "outputs": [],
   "source": [
    "corr2_rows = filled_scores2.corrwith(filled_scores2.loc[example_email_nan], axis=1)"
   ]
  },
  {
   "cell_type": "code",
   "execution_count": 400,
   "metadata": {},
   "outputs": [
    {
     "data": {
      "text/plain": [
       "user_email\n",
       "00004d2ac9316e22dc007ab2243d6fcb239e707d    1.000000\n",
       "074854442dbee22c6cd38cc9367c6a18ae9f8100    0.258952\n",
       "0dcd2d1478aed2c46bb24ca10290f22cff526cc7    0.249107\n",
       "11d3cc425bf38258f8c1aaacc6d44dd74a3d47e1    0.343626\n",
       "1451b5daec73ae37eb6326068fca2f8c96772331    0.488541\n",
       "                                              ...   \n",
       "eb8a09eb60ca29eba9751def84bb8097ec751e9b    0.285807\n",
       "edff96396805711a5941f821e46ea890266dbf13    0.232787\n",
       "f051d06889be35344e86fcb02325945071f23009    0.254665\n",
       "f82aa7903797d261566f090f3fd65a8876a8ce94    0.223182\n",
       "fcc2fa52b2368cbd248410b5d447b3fd2f88c704    0.256162\n",
       "Length: 63, dtype: float64"
      ]
     },
     "execution_count": 400,
     "metadata": {},
     "output_type": "execute_result"
    }
   ],
   "source": [
    "corr2_rows = corr2_rows[corr2_rows > 0.2]\n",
    "corr2_rows"
   ]
  },
  {
   "cell_type": "code",
   "execution_count": 342,
   "metadata": {},
   "outputs": [],
   "source": [
    "u1_artists2 = behav[behav['user_email'] == '00004d2ac9316e22dc007ab2243d6fcb239e707d']['artist_name'].values\n",
    "u2_artists2 = behav[behav['user_email'] == '53252fbef5eb81512498b2eb2f89157a3f91917c']['artist_name'].values\n",
    "u3_artists2 = behav[behav['user_email'] == '65f84f90d310fc68d78a1b589adf5bb126f511c4']['artist_name'].values"
   ]
  },
  {
   "cell_type": "code",
   "execution_count": 345,
   "metadata": {},
   "outputs": [
    {
     "data": {
      "text/plain": [
       "{'16 horsepower', 'einstürzende neubauten', 'nick cave & the bad seeds'}"
      ]
     },
     "execution_count": 345,
     "metadata": {},
     "output_type": "execute_result"
    }
   ],
   "source": [
    "set(u1_artists2).intersection(u2_artists2)"
   ]
  },
  {
   "cell_type": "code",
   "execution_count": 347,
   "metadata": {},
   "outputs": [
    {
     "data": {
      "text/plain": [
       "{'einstürzende neubauten', 'nick cave & the bad seeds'}"
      ]
     },
     "execution_count": 347,
     "metadata": {},
     "output_type": "execute_result"
    }
   ],
   "source": [
    "set(u1_artists2).intersection(u3_artists2)"
   ]
  },
  {
   "cell_type": "code",
   "execution_count": 404,
   "metadata": {},
   "outputs": [
    {
     "data": {
      "text/plain": [
       "user_email\n",
       "00004d2ac9316e22dc007ab2243d6fcb239e707d    125.434783\n",
       "074854442dbee22c6cd38cc9367c6a18ae9f8100     41.907692\n",
       "0dcd2d1478aed2c46bb24ca10290f22cff526cc7    339.320000\n",
       "11d3cc425bf38258f8c1aaacc6d44dd74a3d47e1    767.133333\n",
       "1451b5daec73ae37eb6326068fca2f8c96772331    183.210526\n",
       "                                               ...    \n",
       "eb8a09eb60ca29eba9751def84bb8097ec751e9b    510.580000\n",
       "edff96396805711a5941f821e46ea890266dbf13    232.877551\n",
       "f051d06889be35344e86fcb02325945071f23009    147.755556\n",
       "f82aa7903797d261566f090f3fd65a8876a8ce94    244.489796\n",
       "fcc2fa52b2368cbd248410b5d447b3fd2f88c704     85.854167\n",
       "Name: plays, Length: 63, dtype: float64"
      ]
     },
     "execution_count": 404,
     "metadata": {},
     "output_type": "execute_result"
    }
   ],
   "source": [
    "avg_plays = behav[behav['user_email'].isin(corr2_rows.index)].groupby('user_email')['plays'].mean()\n",
    "avg_plays"
   ]
  },
  {
   "cell_type": "code",
   "execution_count": 406,
   "metadata": {},
   "outputs": [
    {
     "data": {
      "text/plain": [
       "user_email\n",
       "00004d2ac9316e22dc007ab2243d6fcb239e707d    0.021739\n",
       "074854442dbee22c6cd38cc9367c6a18ae9f8100    0.015385\n",
       "0dcd2d1478aed2c46bb24ca10290f22cff526cc7    0.020000\n",
       "11d3cc425bf38258f8c1aaacc6d44dd74a3d47e1    0.016667\n",
       "1451b5daec73ae37eb6326068fca2f8c96772331    0.017544\n",
       "                                              ...   \n",
       "eb8a09eb60ca29eba9751def84bb8097ec751e9b    0.020000\n",
       "edff96396805711a5941f821e46ea890266dbf13    0.020408\n",
       "f051d06889be35344e86fcb02325945071f23009    0.022222\n",
       "f82aa7903797d261566f090f3fd65a8876a8ce94    0.020408\n",
       "fcc2fa52b2368cbd248410b5d447b3fd2f88c704    0.020833\n",
       "Name: norm_plays, Length: 63, dtype: float64"
      ]
     },
     "execution_count": 406,
     "metadata": {},
     "output_type": "execute_result"
    }
   ],
   "source": [
    "# Compute the normalized average number of play\n",
    "avg_norm_plays = similar_behav[similar_behav['user_email'].isin(corr2_rows.index)].groupby('user_email')['norm_plays'].mean()\n",
    "avg_norm_plays"
   ]
  },
  {
   "cell_type": "code",
   "execution_count": 420,
   "metadata": {},
   "outputs": [
    {
     "data": {
      "text/plain": [
       "user_email\n",
       "46212907b8f0449e5c83b93b19e85e61847e9d5a    0.017929\n",
       "c82eb243debb3ca31cd9205ea23daf9aba14ba86    0.008681\n",
       "d18d70fc1dd22c905f1099a60d447174b69dbb1c    0.007232\n",
       "e15151eace11324fd7a766be6a47ec36a496a540    0.052034\n",
       "Name: norm_plays, dtype: float64"
      ]
     },
     "execution_count": 420,
     "metadata": {},
     "output_type": "execute_result"
    }
   ],
   "source": [
    "# Get the normalized play for given artist id\n",
    "example_artist = 1\n",
    "artist_norm_plays = similar_behav[(similar_behav['user_email'].isin(corr2_rows.index)) \n",
    "              & (similar_behav['artist_id'] == example_artist)]\\\n",
    "                [['user_email', 'norm_plays']].set_index('user_email')['norm_plays']\n",
    "artist_norm_plays"
   ]
  },
  {
   "cell_type": "code",
   "execution_count": 422,
   "metadata": {},
   "outputs": [
    {
     "data": {
      "text/plain": [
       "0.021739130434782605"
      ]
     },
     "execution_count": 422,
     "metadata": {},
     "output_type": "execute_result"
    }
   ],
   "source": [
    "avg_norm_plays.loc[example_email_nan]"
   ]
  },
  {
   "cell_type": "code",
   "execution_count": 426,
   "metadata": {},
   "outputs": [],
   "source": [
    "remaining_users = artist_norm_plays.index.values"
   ]
  },
  {
   "cell_type": "code",
   "execution_count": 429,
   "metadata": {},
   "outputs": [
    {
     "data": {
      "text/plain": [
       "user_email\n",
       "46212907b8f0449e5c83b93b19e85e61847e9d5a    0.015625\n",
       "c82eb243debb3ca31cd9205ea23daf9aba14ba86    0.018868\n",
       "d18d70fc1dd22c905f1099a60d447174b69dbb1c    0.021739\n",
       "e15151eace11324fd7a766be6a47ec36a496a540    0.016667\n",
       "Name: norm_plays, dtype: float64"
      ]
     },
     "execution_count": 429,
     "metadata": {},
     "output_type": "execute_result"
    }
   ],
   "source": [
    "avg_norm_plays[remaining_users]"
   ]
  },
  {
   "cell_type": "code",
   "execution_count": 433,
   "metadata": {},
   "outputs": [],
   "source": [
    "pred_shift = (corr2_rows[remaining_users] * (artist_norm_plays - avg_norm_plays[remaining_users])).sum() / corr2_rows[remaining_users].sum()"
   ]
  },
  {
   "cell_type": "code",
   "execution_count": 436,
   "metadata": {},
   "outputs": [
    {
     "data": {
      "text/plain": [
       "144"
      ]
     },
     "execution_count": 436,
     "metadata": {},
     "output_type": "execute_result"
    }
   ],
   "source": [
    "predicted_plays = int((avg_norm_plays.loc[example_email_nan] + pred_shift) * user_total_play.loc[example_email_nan])\n",
    "predicted_plays"
   ]
  },
  {
   "cell_type": "markdown",
   "metadata": {},
   "source": [
    "# Prediction\n",
    "\n",
    "prediction = user_average_listen + sum_over_x(coor_x * (#play_x - avg_#play_x))/sum_over_x(corr_x)"
   ]
  },
  {
   "cell_type": "markdown",
   "metadata": {},
   "source": [
    "In order to predict the value for a specific artist, we need to filter on the users that have already listened to this artist. "
   ]
  },
  {
   "cell_type": "code",
   "execution_count": 353,
   "metadata": {},
   "outputs": [
    {
     "data": {
      "text/plain": [
       "array(['00000c289a1829a808ac09c00daf10bc3c4e223b',\n",
       "       '000a1585c5f65532a9c9187a882892982d345a5c',\n",
       "       '000cb6427411006fe9a6193d3c4f59efed53fbef', ...,\n",
       "       'ffe42950d65973be91082d9270a8ebcd15d2c20a',\n",
       "       'ffe7359143a9fe15b3be2eaac57385e237f82e2c',\n",
       "       'fffe356b9dab2fae1f887fabb1f08ab4976c91bb'], dtype=object)"
      ]
     },
     "execution_count": 353,
     "metadata": {},
     "output_type": "execute_result"
    }
   ],
   "source": [
    "behav[behav['artist_id'] == 1]['user_email'].values"
   ]
  },
  {
   "cell_type": "code",
   "execution_count": 354,
   "metadata": {},
   "outputs": [],
   "source": [
    "def get_users_for_artist(artist_id:int):\n",
    "    return behav[behav['artist_id'] == artist_id]['user_email'].values"
   ]
  },
  {
   "cell_type": "code",
   "execution_count": 516,
   "metadata": {},
   "outputs": [],
   "source": [
    "def get_correlation_list(user_email: str, selected_users:list, filter_artists=False, verbose=False):\n",
    "    \n",
    "    # Filter the behavioral data for the listed users\n",
    "    selected_behav = behav[(behav['user_email'].isin(selected_users)) | (behav['user_email'] == user_email)]\n",
    "    \n",
    "    # Make sure there is no duplicated rows for given user and artist pair\n",
    "    selected_behav = selected_behav.groupby(['user_email', 'artist_id'], as_index=False).sum()\n",
    "    \n",
    "    # Compute the total number of plays per user\n",
    "    total_plays = selected_behav.groupby('user_email')['plays'].sum()\n",
    "    \n",
    "    # Compute normalized plays per user\n",
    "    selected_behav.loc[:, 'norm_plays'] = (selected_behav['plays'] / total_plays.loc[selected_behav['user_email']].values)\n",
    "    \n",
    "    # Compute the number of artists listened in the selected group\n",
    "    selected_artists = selected_behav['artist_id'].value_counts().index.values\n",
    "    if verbose: print(f\"Total artists: {len(selected_artists)}\")\n",
    "    \n",
    "    # Filter the artist to reduce the dimention\n",
    "    if filter_artists:\n",
    "        # Remove all artist that have been listened by less than 1% of the user list. \n",
    "        artist_threshold = len(selected_users) / 100\n",
    "        selected_artists = selected_artists[selected_artists > ARTIST_THRESHOLD].index.values\n",
    "        selected_behav = selected_behav[selected_behav['artist_id'].isin(selected_artists)]\n",
    "        \n",
    "    # Build the user raking dataset (user_email index and one column per artist)\n",
    "    user_scores = selected_behav.pivot(index='user_email', columns='artist_id', values='norm_plays').fillna(0)\n",
    "    \n",
    "    # Compute correlation between users\n",
    "    correlation_list = user_scores.corrwith(user_scores.loc[user_email], axis=1)\n",
    "    \n",
    "    return correlation_list, selected_behav"
   ]
  },
  {
   "cell_type": "code",
   "execution_count": 517,
   "metadata": {},
   "outputs": [],
   "source": [
    "def compute_prediction(user_email: str, artist_id: int, selected_corr: np.array, selected_behav: pd.DataFrame):\n",
    "    # Get the behav data for the remaining users\n",
    "    final_behav = selected_behav[selected_behav['user_email'].isin(selected_corr.index)]\n",
    "\n",
    "    # Compute the normalized average number of play\n",
    "    avg_norm_plays = final_behav.groupby('user_email')['norm_plays'].mean()\n",
    "    \n",
    "    # Remove user_email from the selected_corr data\n",
    "    \n",
    "    \n",
    "    # Get the normalized number of play for a given artist\n",
    "    artist_norm_plays = final_behav[(final_behav['artist_id'] == artist_id)]\\\n",
    "                                    [['user_email', 'norm_plays']].set_index('user_email')['norm_plays']\n",
    "    \n",
    "    # Compute the plays variance from the similar users\n",
    "    #print('Prediction computation')\n",
    "    #print(f'Corr: {selected_corr}')\n",
    "    #print(f'Norm play: {artist_norm_plays}')\n",
    "    #print(f'Avg norm plays: {avg_norm_plays}')\n",
    "    var_pred = (selected_corr * (artist_norm_plays - avg_norm_plays)).sum() / selected_corr.sum()\n",
    "    \n",
    "    # Compute user total number of play and average number of play\n",
    "    user_plays = behav[behav['user_email'] == example_user_email]['plays']\n",
    "    user_avg_plays = user_plays.mean()\n",
    "    \n",
    "    # Compute the estimated number of play for new artist (average + normalized var * number of plays)\n",
    "    predicted_plays = int(user_plays.mean() + var_pred * user_plays.sum())\n",
    "    \n",
    "    return predicted_plays"
   ]
  },
  {
   "cell_type": "code",
   "execution_count": 518,
   "metadata": {},
   "outputs": [],
   "source": [
    "def get_artist_prediction(user_email:str, artist_id:int, corr_threshold=0.1, filter_demo=False, filter_artist=False, verbose=False):\n",
    "    start = time.time()\n",
    "    \n",
    "    # Select users that have already listened to the given artist \n",
    "    selected_users = get_users_for_artist(artist_id)\n",
    "    if verbose: print(f\"Selected users: {len(selected_users)}\")\n",
    "    \n",
    "    # Filter on users demographic features \n",
    "    if filter_demo:\n",
    "        demo_users = get_users_demo(user_email)\n",
    "        selected_users = np.array(list(set(demo_users).intersection(set(selected_users))))\n",
    "        if verbose: print(f\"Selected users (after demo filter): {len(selected_users)}\")\n",
    "    \n",
    "    # Compute correlation with selected users\n",
    "    start_corr = time.time()\n",
    "    correlation_list, selected_behav = get_correlation_list(user_email, selected_users, filter_artist)\n",
    "    end_corr = time.time()\n",
    "    if verbose: print(f\"Correlation list computation time: {end_corr - start_corr}\")\n",
    "    \n",
    "    # Compute prediction\n",
    "    selected_corr = correlation_list[correlation_list > corr_threshold]\n",
    "    # Drop the user row from the corr\n",
    "    selected_corr = selected_corr.drop(user_email)\n",
    "    \n",
    "    if verbose: print(f\"Selected users (after correlation): {len(selected_corr)}\")\n",
    "    \n",
    "    \n",
    "    \n",
    "    \n",
    "    return compute_prediction(user_email, artist_id, selected_corr, selected_behav)\n",
    "    "
   ]
  },
  {
   "cell_type": "code",
   "execution_count": 519,
   "metadata": {},
   "outputs": [
    {
     "data": {
      "text/plain": [
       "458"
      ]
     },
     "execution_count": 519,
     "metadata": {},
     "output_type": "execute_result"
    }
   ],
   "source": [
    "get_artist_prediction(example_user_email, 680, corr_threshold=0.1)"
   ]
  },
  {
   "cell_type": "code",
   "execution_count": 520,
   "metadata": {},
   "outputs": [],
   "source": [
    "# Evaluate the model \n",
    "from sklearn.metrics import mean_squared_error\n",
    "\n",
    "def rmse(y_true, y_pred):\n",
    "    return mean_squared_error(y_actual, y_predicted, squared=False)"
   ]
  },
  {
   "cell_type": "code",
   "execution_count": 507,
   "metadata": {},
   "outputs": [],
   "source": [
    "def user_split(ratings_, test_frac=0.1):\n",
    "    users = ratings_['user_email'].unique()\n",
    "    np.random.shuffle(users)\n",
    "    train_size = int((1 - test_frac) * users.shape[0])\n",
    "    train_users, test_users = users[:train_size], users[train_size:]\n",
    "    return ratings_[ratings_['user_email'].isin(train_users)].reset_index(drop=True), \\\n",
    "           ratings_[ratings_['user_email'].isin(test_users)].reset_index(drop=True)\n",
    "#train_users, test_users"
   ]
  },
  {
   "cell_type": "code",
   "execution_count": 508,
   "metadata": {},
   "outputs": [],
   "source": [
    "_, test = user_split(behav)"
   ]
  },
  {
   "cell_type": "code",
   "execution_count": 511,
   "metadata": {},
   "outputs": [],
   "source": [
    "test_100k = test[:100000]"
   ]
  },
  {
   "cell_type": "code",
   "execution_count": 521,
   "metadata": {},
   "outputs": [],
   "source": [
    "def get_pred(row):\n",
    "    return get_artist_prediction(row['user_email'], row['artist_id'])"
   ]
  },
  {
   "cell_type": "code",
   "execution_count": 527,
   "metadata": {},
   "outputs": [
    {
     "data": {
      "application/vnd.jupyter.widget-view+json": {
       "model_id": "5cfda341e2134876bf5a054891352d6c",
       "version_major": 2,
       "version_minor": 0
      },
      "text/plain": [
       "HBox(children=(FloatProgress(value=0.0, max=100000.0), HTML(value='')))"
      ]
     },
     "metadata": {},
     "output_type": "display_data"
    },
    {
     "ename": "KeyboardInterrupt",
     "evalue": "",
     "output_type": "error",
     "traceback": [
      "\u001b[0;31m---------------------------------------------------------------------------\u001b[0m",
      "\u001b[0;31mKeyboardInterrupt\u001b[0m                         Traceback (most recent call last)",
      "\u001b[0;32m<ipython-input-527-8e9ba0b7828a>\u001b[0m in \u001b[0;36m<module>\u001b[0;34m\u001b[0m\n\u001b[0;32m----> 1\u001b[0;31m \u001b[0mtest_100k\u001b[0m\u001b[0;34m[\u001b[0m\u001b[0;34m'pred'\u001b[0m\u001b[0;34m]\u001b[0m \u001b[0;34m=\u001b[0m \u001b[0mtest_100k\u001b[0m\u001b[0;34m.\u001b[0m\u001b[0mprogress_apply\u001b[0m\u001b[0;34m(\u001b[0m\u001b[0;32mlambda\u001b[0m \u001b[0mx\u001b[0m\u001b[0;34m:\u001b[0m \u001b[0mget_pred\u001b[0m\u001b[0;34m(\u001b[0m\u001b[0mx\u001b[0m\u001b[0;34m)\u001b[0m\u001b[0;34m,\u001b[0m \u001b[0maxis\u001b[0m\u001b[0;34m=\u001b[0m\u001b[0;36m1\u001b[0m\u001b[0;34m)\u001b[0m\u001b[0;34m\u001b[0m\u001b[0;34m\u001b[0m\u001b[0m\n\u001b[0m",
      "\u001b[0;32m~/opt/miniconda3/lib/python3.7/site-packages/tqdm/std.py\u001b[0m in \u001b[0;36minner\u001b[0;34m(df, func, *args, **kwargs)\u001b[0m\n\u001b[1;32m    754\u001b[0m                 \u001b[0;31m# Apply the provided function (in **kwargs)\u001b[0m\u001b[0;34m\u001b[0m\u001b[0;34m\u001b[0m\u001b[0;34m\u001b[0m\u001b[0m\n\u001b[1;32m    755\u001b[0m                 \u001b[0;31m# on the df using our wrapper (which provides bar updating)\u001b[0m\u001b[0;34m\u001b[0m\u001b[0;34m\u001b[0m\u001b[0;34m\u001b[0m\u001b[0m\n\u001b[0;32m--> 756\u001b[0;31m                 \u001b[0mresult\u001b[0m \u001b[0;34m=\u001b[0m \u001b[0mgetattr\u001b[0m\u001b[0;34m(\u001b[0m\u001b[0mdf\u001b[0m\u001b[0;34m,\u001b[0m \u001b[0mdf_function\u001b[0m\u001b[0;34m)\u001b[0m\u001b[0;34m(\u001b[0m\u001b[0mwrapper\u001b[0m\u001b[0;34m,\u001b[0m \u001b[0;34m**\u001b[0m\u001b[0mkwargs\u001b[0m\u001b[0;34m)\u001b[0m\u001b[0;34m\u001b[0m\u001b[0;34m\u001b[0m\u001b[0m\n\u001b[0m\u001b[1;32m    757\u001b[0m \u001b[0;34m\u001b[0m\u001b[0m\n\u001b[1;32m    758\u001b[0m                 \u001b[0;31m# Close bar and return pandas calculation result\u001b[0m\u001b[0;34m\u001b[0m\u001b[0;34m\u001b[0m\u001b[0;34m\u001b[0m\u001b[0m\n",
      "\u001b[0;32m~/opt/miniconda3/lib/python3.7/site-packages/pandas/core/frame.py\u001b[0m in \u001b[0;36mapply\u001b[0;34m(self, func, axis, raw, result_type, args, **kwds)\u001b[0m\n\u001b[1;32m   7766\u001b[0m             \u001b[0mkwds\u001b[0m\u001b[0;34m=\u001b[0m\u001b[0mkwds\u001b[0m\u001b[0;34m,\u001b[0m\u001b[0;34m\u001b[0m\u001b[0;34m\u001b[0m\u001b[0m\n\u001b[1;32m   7767\u001b[0m         )\n\u001b[0;32m-> 7768\u001b[0;31m         \u001b[0;32mreturn\u001b[0m \u001b[0mop\u001b[0m\u001b[0;34m.\u001b[0m\u001b[0mget_result\u001b[0m\u001b[0;34m(\u001b[0m\u001b[0;34m)\u001b[0m\u001b[0;34m\u001b[0m\u001b[0;34m\u001b[0m\u001b[0m\n\u001b[0m\u001b[1;32m   7769\u001b[0m \u001b[0;34m\u001b[0m\u001b[0m\n\u001b[1;32m   7770\u001b[0m     \u001b[0;32mdef\u001b[0m \u001b[0mapplymap\u001b[0m\u001b[0;34m(\u001b[0m\u001b[0mself\u001b[0m\u001b[0;34m,\u001b[0m \u001b[0mfunc\u001b[0m\u001b[0;34m,\u001b[0m \u001b[0mna_action\u001b[0m\u001b[0;34m:\u001b[0m \u001b[0mOptional\u001b[0m\u001b[0;34m[\u001b[0m\u001b[0mstr\u001b[0m\u001b[0;34m]\u001b[0m \u001b[0;34m=\u001b[0m \u001b[0;32mNone\u001b[0m\u001b[0;34m)\u001b[0m \u001b[0;34m->\u001b[0m \u001b[0mDataFrame\u001b[0m\u001b[0;34m:\u001b[0m\u001b[0;34m\u001b[0m\u001b[0;34m\u001b[0m\u001b[0m\n",
      "\u001b[0;32m~/opt/miniconda3/lib/python3.7/site-packages/pandas/core/apply.py\u001b[0m in \u001b[0;36mget_result\u001b[0;34m(self)\u001b[0m\n\u001b[1;32m    183\u001b[0m             \u001b[0;32mreturn\u001b[0m \u001b[0mself\u001b[0m\u001b[0;34m.\u001b[0m\u001b[0mapply_raw\u001b[0m\u001b[0;34m(\u001b[0m\u001b[0;34m)\u001b[0m\u001b[0;34m\u001b[0m\u001b[0;34m\u001b[0m\u001b[0m\n\u001b[1;32m    184\u001b[0m \u001b[0;34m\u001b[0m\u001b[0m\n\u001b[0;32m--> 185\u001b[0;31m         \u001b[0;32mreturn\u001b[0m \u001b[0mself\u001b[0m\u001b[0;34m.\u001b[0m\u001b[0mapply_standard\u001b[0m\u001b[0;34m(\u001b[0m\u001b[0;34m)\u001b[0m\u001b[0;34m\u001b[0m\u001b[0;34m\u001b[0m\u001b[0m\n\u001b[0m\u001b[1;32m    186\u001b[0m \u001b[0;34m\u001b[0m\u001b[0m\n\u001b[1;32m    187\u001b[0m     \u001b[0;32mdef\u001b[0m \u001b[0mapply_empty_result\u001b[0m\u001b[0;34m(\u001b[0m\u001b[0mself\u001b[0m\u001b[0;34m)\u001b[0m\u001b[0;34m:\u001b[0m\u001b[0;34m\u001b[0m\u001b[0;34m\u001b[0m\u001b[0m\n",
      "\u001b[0;32m~/opt/miniconda3/lib/python3.7/site-packages/pandas/core/apply.py\u001b[0m in \u001b[0;36mapply_standard\u001b[0;34m(self)\u001b[0m\n\u001b[1;32m    274\u001b[0m \u001b[0;34m\u001b[0m\u001b[0m\n\u001b[1;32m    275\u001b[0m     \u001b[0;32mdef\u001b[0m \u001b[0mapply_standard\u001b[0m\u001b[0;34m(\u001b[0m\u001b[0mself\u001b[0m\u001b[0;34m)\u001b[0m\u001b[0;34m:\u001b[0m\u001b[0;34m\u001b[0m\u001b[0;34m\u001b[0m\u001b[0m\n\u001b[0;32m--> 276\u001b[0;31m         \u001b[0mresults\u001b[0m\u001b[0;34m,\u001b[0m \u001b[0mres_index\u001b[0m \u001b[0;34m=\u001b[0m \u001b[0mself\u001b[0m\u001b[0;34m.\u001b[0m\u001b[0mapply_series_generator\u001b[0m\u001b[0;34m(\u001b[0m\u001b[0;34m)\u001b[0m\u001b[0;34m\u001b[0m\u001b[0;34m\u001b[0m\u001b[0m\n\u001b[0m\u001b[1;32m    277\u001b[0m \u001b[0;34m\u001b[0m\u001b[0m\n\u001b[1;32m    278\u001b[0m         \u001b[0;31m# wrap results\u001b[0m\u001b[0;34m\u001b[0m\u001b[0;34m\u001b[0m\u001b[0;34m\u001b[0m\u001b[0m\n",
      "\u001b[0;32m~/opt/miniconda3/lib/python3.7/site-packages/pandas/core/apply.py\u001b[0m in \u001b[0;36mapply_series_generator\u001b[0;34m(self)\u001b[0m\n\u001b[1;32m    288\u001b[0m             \u001b[0;32mfor\u001b[0m \u001b[0mi\u001b[0m\u001b[0;34m,\u001b[0m \u001b[0mv\u001b[0m \u001b[0;32min\u001b[0m \u001b[0menumerate\u001b[0m\u001b[0;34m(\u001b[0m\u001b[0mseries_gen\u001b[0m\u001b[0;34m)\u001b[0m\u001b[0;34m:\u001b[0m\u001b[0;34m\u001b[0m\u001b[0;34m\u001b[0m\u001b[0m\n\u001b[1;32m    289\u001b[0m                 \u001b[0;31m# ignore SettingWithCopy here in case the user mutates\u001b[0m\u001b[0;34m\u001b[0m\u001b[0;34m\u001b[0m\u001b[0;34m\u001b[0m\u001b[0m\n\u001b[0;32m--> 290\u001b[0;31m                 \u001b[0mresults\u001b[0m\u001b[0;34m[\u001b[0m\u001b[0mi\u001b[0m\u001b[0;34m]\u001b[0m \u001b[0;34m=\u001b[0m \u001b[0mself\u001b[0m\u001b[0;34m.\u001b[0m\u001b[0mf\u001b[0m\u001b[0;34m(\u001b[0m\u001b[0mv\u001b[0m\u001b[0;34m)\u001b[0m\u001b[0;34m\u001b[0m\u001b[0;34m\u001b[0m\u001b[0m\n\u001b[0m\u001b[1;32m    291\u001b[0m                 \u001b[0;32mif\u001b[0m \u001b[0misinstance\u001b[0m\u001b[0;34m(\u001b[0m\u001b[0mresults\u001b[0m\u001b[0;34m[\u001b[0m\u001b[0mi\u001b[0m\u001b[0;34m]\u001b[0m\u001b[0;34m,\u001b[0m \u001b[0mABCSeries\u001b[0m\u001b[0;34m)\u001b[0m\u001b[0;34m:\u001b[0m\u001b[0;34m\u001b[0m\u001b[0;34m\u001b[0m\u001b[0m\n\u001b[1;32m    292\u001b[0m                     \u001b[0;31m# If we have a view on v, we need to make a copy because\u001b[0m\u001b[0;34m\u001b[0m\u001b[0;34m\u001b[0m\u001b[0;34m\u001b[0m\u001b[0m\n",
      "\u001b[0;32m~/opt/miniconda3/lib/python3.7/site-packages/tqdm/std.py\u001b[0m in \u001b[0;36mwrapper\u001b[0;34m(*args, **kwargs)\u001b[0m\n\u001b[1;32m    750\u001b[0m                     \u001b[0;31m# take a fast or slow code path; so stop when t.total==t.n\u001b[0m\u001b[0;34m\u001b[0m\u001b[0;34m\u001b[0m\u001b[0;34m\u001b[0m\u001b[0m\n\u001b[1;32m    751\u001b[0m                     \u001b[0mt\u001b[0m\u001b[0;34m.\u001b[0m\u001b[0mupdate\u001b[0m\u001b[0;34m(\u001b[0m\u001b[0mn\u001b[0m\u001b[0;34m=\u001b[0m\u001b[0;36m1\u001b[0m \u001b[0;32mif\u001b[0m \u001b[0;32mnot\u001b[0m \u001b[0mt\u001b[0m\u001b[0;34m.\u001b[0m\u001b[0mtotal\u001b[0m \u001b[0;32mor\u001b[0m \u001b[0mt\u001b[0m\u001b[0;34m.\u001b[0m\u001b[0mn\u001b[0m \u001b[0;34m<\u001b[0m \u001b[0mt\u001b[0m\u001b[0;34m.\u001b[0m\u001b[0mtotal\u001b[0m \u001b[0;32melse\u001b[0m \u001b[0;36m0\u001b[0m\u001b[0;34m)\u001b[0m\u001b[0;34m\u001b[0m\u001b[0;34m\u001b[0m\u001b[0m\n\u001b[0;32m--> 752\u001b[0;31m                     \u001b[0;32mreturn\u001b[0m \u001b[0mfunc\u001b[0m\u001b[0;34m(\u001b[0m\u001b[0;34m*\u001b[0m\u001b[0margs\u001b[0m\u001b[0;34m,\u001b[0m \u001b[0;34m**\u001b[0m\u001b[0mkwargs\u001b[0m\u001b[0;34m)\u001b[0m\u001b[0;34m\u001b[0m\u001b[0;34m\u001b[0m\u001b[0m\n\u001b[0m\u001b[1;32m    753\u001b[0m \u001b[0;34m\u001b[0m\u001b[0m\n\u001b[1;32m    754\u001b[0m                 \u001b[0;31m# Apply the provided function (in **kwargs)\u001b[0m\u001b[0;34m\u001b[0m\u001b[0;34m\u001b[0m\u001b[0;34m\u001b[0m\u001b[0m\n",
      "\u001b[0;32m<ipython-input-527-8e9ba0b7828a>\u001b[0m in \u001b[0;36m<lambda>\u001b[0;34m(x)\u001b[0m\n\u001b[0;32m----> 1\u001b[0;31m \u001b[0mtest_100k\u001b[0m\u001b[0;34m[\u001b[0m\u001b[0;34m'pred'\u001b[0m\u001b[0;34m]\u001b[0m \u001b[0;34m=\u001b[0m \u001b[0mtest_100k\u001b[0m\u001b[0;34m.\u001b[0m\u001b[0mprogress_apply\u001b[0m\u001b[0;34m(\u001b[0m\u001b[0;32mlambda\u001b[0m \u001b[0mx\u001b[0m\u001b[0;34m:\u001b[0m \u001b[0mget_pred\u001b[0m\u001b[0;34m(\u001b[0m\u001b[0mx\u001b[0m\u001b[0;34m)\u001b[0m\u001b[0;34m,\u001b[0m \u001b[0maxis\u001b[0m\u001b[0;34m=\u001b[0m\u001b[0;36m1\u001b[0m\u001b[0;34m)\u001b[0m\u001b[0;34m\u001b[0m\u001b[0;34m\u001b[0m\u001b[0m\n\u001b[0m",
      "\u001b[0;32m<ipython-input-521-bf47f058f929>\u001b[0m in \u001b[0;36mget_pred\u001b[0;34m(row)\u001b[0m\n\u001b[1;32m      1\u001b[0m \u001b[0;32mdef\u001b[0m \u001b[0mget_pred\u001b[0m\u001b[0;34m(\u001b[0m\u001b[0mrow\u001b[0m\u001b[0;34m)\u001b[0m\u001b[0;34m:\u001b[0m\u001b[0;34m\u001b[0m\u001b[0;34m\u001b[0m\u001b[0m\n\u001b[0;32m----> 2\u001b[0;31m     \u001b[0;32mreturn\u001b[0m \u001b[0mget_artist_prediction\u001b[0m\u001b[0;34m(\u001b[0m\u001b[0mrow\u001b[0m\u001b[0;34m[\u001b[0m\u001b[0;34m'user_email'\u001b[0m\u001b[0;34m]\u001b[0m\u001b[0;34m,\u001b[0m \u001b[0mrow\u001b[0m\u001b[0;34m[\u001b[0m\u001b[0;34m'artist_id'\u001b[0m\u001b[0;34m]\u001b[0m\u001b[0;34m)\u001b[0m\u001b[0;34m\u001b[0m\u001b[0;34m\u001b[0m\u001b[0m\n\u001b[0m",
      "\u001b[0;32m<ipython-input-518-543a59f9b473>\u001b[0m in \u001b[0;36mget_artist_prediction\u001b[0;34m(user_email, artist_id, corr_threshold, filter_demo, filter_artist, verbose)\u001b[0m\n\u001b[1;32m     14\u001b[0m     \u001b[0;31m# Compute correlation with selected users\u001b[0m\u001b[0;34m\u001b[0m\u001b[0;34m\u001b[0m\u001b[0;34m\u001b[0m\u001b[0m\n\u001b[1;32m     15\u001b[0m     \u001b[0mstart_corr\u001b[0m \u001b[0;34m=\u001b[0m \u001b[0mtime\u001b[0m\u001b[0;34m.\u001b[0m\u001b[0mtime\u001b[0m\u001b[0;34m(\u001b[0m\u001b[0;34m)\u001b[0m\u001b[0;34m\u001b[0m\u001b[0;34m\u001b[0m\u001b[0m\n\u001b[0;32m---> 16\u001b[0;31m     \u001b[0mcorrelation_list\u001b[0m\u001b[0;34m,\u001b[0m \u001b[0mselected_behav\u001b[0m \u001b[0;34m=\u001b[0m \u001b[0mget_correlation_list\u001b[0m\u001b[0;34m(\u001b[0m\u001b[0muser_email\u001b[0m\u001b[0;34m,\u001b[0m \u001b[0mselected_users\u001b[0m\u001b[0;34m,\u001b[0m \u001b[0mfilter_artist\u001b[0m\u001b[0;34m)\u001b[0m\u001b[0;34m\u001b[0m\u001b[0;34m\u001b[0m\u001b[0m\n\u001b[0m\u001b[1;32m     17\u001b[0m     \u001b[0mend_corr\u001b[0m \u001b[0;34m=\u001b[0m \u001b[0mtime\u001b[0m\u001b[0;34m.\u001b[0m\u001b[0mtime\u001b[0m\u001b[0;34m(\u001b[0m\u001b[0;34m)\u001b[0m\u001b[0;34m\u001b[0m\u001b[0;34m\u001b[0m\u001b[0m\n\u001b[1;32m     18\u001b[0m     \u001b[0;32mif\u001b[0m \u001b[0mverbose\u001b[0m\u001b[0;34m:\u001b[0m \u001b[0mprint\u001b[0m\u001b[0;34m(\u001b[0m\u001b[0;34mf\"Correlation list computation time: {end_corr - start_corr}\"\u001b[0m\u001b[0;34m)\u001b[0m\u001b[0;34m\u001b[0m\u001b[0;34m\u001b[0m\u001b[0m\n",
      "\u001b[0;32m<ipython-input-516-51096c3705cd>\u001b[0m in \u001b[0;36mget_correlation_list\u001b[0;34m(user_email, selected_users, filter_artists, verbose)\u001b[0m\n\u001b[1;32m     25\u001b[0m \u001b[0;34m\u001b[0m\u001b[0m\n\u001b[1;32m     26\u001b[0m     \u001b[0;31m# Build the user raking dataset (user_email index and one column per artist)\u001b[0m\u001b[0;34m\u001b[0m\u001b[0;34m\u001b[0m\u001b[0;34m\u001b[0m\u001b[0m\n\u001b[0;32m---> 27\u001b[0;31m     \u001b[0muser_scores\u001b[0m \u001b[0;34m=\u001b[0m \u001b[0mselected_behav\u001b[0m\u001b[0;34m.\u001b[0m\u001b[0mpivot\u001b[0m\u001b[0;34m(\u001b[0m\u001b[0mindex\u001b[0m\u001b[0;34m=\u001b[0m\u001b[0;34m'user_email'\u001b[0m\u001b[0;34m,\u001b[0m \u001b[0mcolumns\u001b[0m\u001b[0;34m=\u001b[0m\u001b[0;34m'artist_id'\u001b[0m\u001b[0;34m,\u001b[0m \u001b[0mvalues\u001b[0m\u001b[0;34m=\u001b[0m\u001b[0;34m'norm_plays'\u001b[0m\u001b[0;34m)\u001b[0m\u001b[0;34m.\u001b[0m\u001b[0mfillna\u001b[0m\u001b[0;34m(\u001b[0m\u001b[0;36m0\u001b[0m\u001b[0;34m)\u001b[0m\u001b[0;34m\u001b[0m\u001b[0;34m\u001b[0m\u001b[0m\n\u001b[0m\u001b[1;32m     28\u001b[0m \u001b[0;34m\u001b[0m\u001b[0m\n\u001b[1;32m     29\u001b[0m     \u001b[0;31m# Compute correlation between users\u001b[0m\u001b[0;34m\u001b[0m\u001b[0;34m\u001b[0m\u001b[0;34m\u001b[0m\u001b[0m\n",
      "\u001b[0;32m~/opt/miniconda3/lib/python3.7/site-packages/pandas/core/frame.py\u001b[0m in \u001b[0;36mfillna\u001b[0;34m(self, value, method, axis, inplace, limit, downcast)\u001b[0m\n\u001b[1;32m   4466\u001b[0m             \u001b[0minplace\u001b[0m\u001b[0;34m=\u001b[0m\u001b[0minplace\u001b[0m\u001b[0;34m,\u001b[0m\u001b[0;34m\u001b[0m\u001b[0;34m\u001b[0m\u001b[0m\n\u001b[1;32m   4467\u001b[0m             \u001b[0mlimit\u001b[0m\u001b[0;34m=\u001b[0m\u001b[0mlimit\u001b[0m\u001b[0;34m,\u001b[0m\u001b[0;34m\u001b[0m\u001b[0;34m\u001b[0m\u001b[0m\n\u001b[0;32m-> 4468\u001b[0;31m             \u001b[0mdowncast\u001b[0m\u001b[0;34m=\u001b[0m\u001b[0mdowncast\u001b[0m\u001b[0;34m,\u001b[0m\u001b[0;34m\u001b[0m\u001b[0;34m\u001b[0m\u001b[0m\n\u001b[0m\u001b[1;32m   4469\u001b[0m         )\n\u001b[1;32m   4470\u001b[0m \u001b[0;34m\u001b[0m\u001b[0m\n",
      "\u001b[0;32m~/opt/miniconda3/lib/python3.7/site-packages/pandas/core/generic.py\u001b[0m in \u001b[0;36mfillna\u001b[0;34m(self, value, method, axis, inplace, limit, downcast)\u001b[0m\n\u001b[1;32m   6428\u001b[0m             \u001b[0;32melif\u001b[0m \u001b[0;32mnot\u001b[0m \u001b[0mis_list_like\u001b[0m\u001b[0;34m(\u001b[0m\u001b[0mvalue\u001b[0m\u001b[0;34m)\u001b[0m\u001b[0;34m:\u001b[0m\u001b[0;34m\u001b[0m\u001b[0;34m\u001b[0m\u001b[0m\n\u001b[1;32m   6429\u001b[0m                 new_data = self._mgr.fillna(\n\u001b[0;32m-> 6430\u001b[0;31m                     \u001b[0mvalue\u001b[0m\u001b[0;34m=\u001b[0m\u001b[0mvalue\u001b[0m\u001b[0;34m,\u001b[0m \u001b[0mlimit\u001b[0m\u001b[0;34m=\u001b[0m\u001b[0mlimit\u001b[0m\u001b[0;34m,\u001b[0m \u001b[0minplace\u001b[0m\u001b[0;34m=\u001b[0m\u001b[0minplace\u001b[0m\u001b[0;34m,\u001b[0m \u001b[0mdowncast\u001b[0m\u001b[0;34m=\u001b[0m\u001b[0mdowncast\u001b[0m\u001b[0;34m\u001b[0m\u001b[0;34m\u001b[0m\u001b[0m\n\u001b[0m\u001b[1;32m   6431\u001b[0m                 )\n\u001b[1;32m   6432\u001b[0m             \u001b[0;32melif\u001b[0m \u001b[0misinstance\u001b[0m\u001b[0;34m(\u001b[0m\u001b[0mvalue\u001b[0m\u001b[0;34m,\u001b[0m \u001b[0mABCDataFrame\u001b[0m\u001b[0;34m)\u001b[0m \u001b[0;32mand\u001b[0m \u001b[0mself\u001b[0m\u001b[0;34m.\u001b[0m\u001b[0mndim\u001b[0m \u001b[0;34m==\u001b[0m \u001b[0;36m2\u001b[0m\u001b[0;34m:\u001b[0m\u001b[0;34m\u001b[0m\u001b[0;34m\u001b[0m\u001b[0m\n",
      "\u001b[0;32m~/opt/miniconda3/lib/python3.7/site-packages/pandas/core/internals/managers.py\u001b[0m in \u001b[0;36mfillna\u001b[0;34m(self, value, limit, inplace, downcast)\u001b[0m\n\u001b[1;32m    620\u001b[0m     \u001b[0;32mdef\u001b[0m \u001b[0mfillna\u001b[0m\u001b[0;34m(\u001b[0m\u001b[0mself\u001b[0m\u001b[0;34m,\u001b[0m \u001b[0mvalue\u001b[0m\u001b[0;34m,\u001b[0m \u001b[0mlimit\u001b[0m\u001b[0;34m,\u001b[0m \u001b[0minplace\u001b[0m\u001b[0;34m:\u001b[0m \u001b[0mbool\u001b[0m\u001b[0;34m,\u001b[0m \u001b[0mdowncast\u001b[0m\u001b[0;34m)\u001b[0m \u001b[0;34m->\u001b[0m \u001b[0;34m\"BlockManager\"\u001b[0m\u001b[0;34m:\u001b[0m\u001b[0;34m\u001b[0m\u001b[0;34m\u001b[0m\u001b[0m\n\u001b[1;32m    621\u001b[0m         return self.apply(\n\u001b[0;32m--> 622\u001b[0;31m             \u001b[0;34m\"fillna\"\u001b[0m\u001b[0;34m,\u001b[0m \u001b[0mvalue\u001b[0m\u001b[0;34m=\u001b[0m\u001b[0mvalue\u001b[0m\u001b[0;34m,\u001b[0m \u001b[0mlimit\u001b[0m\u001b[0;34m=\u001b[0m\u001b[0mlimit\u001b[0m\u001b[0;34m,\u001b[0m \u001b[0minplace\u001b[0m\u001b[0;34m=\u001b[0m\u001b[0minplace\u001b[0m\u001b[0;34m,\u001b[0m \u001b[0mdowncast\u001b[0m\u001b[0;34m=\u001b[0m\u001b[0mdowncast\u001b[0m\u001b[0;34m\u001b[0m\u001b[0;34m\u001b[0m\u001b[0m\n\u001b[0m\u001b[1;32m    623\u001b[0m         )\n\u001b[1;32m    624\u001b[0m \u001b[0;34m\u001b[0m\u001b[0m\n",
      "\u001b[0;32m~/opt/miniconda3/lib/python3.7/site-packages/pandas/core/internals/managers.py\u001b[0m in \u001b[0;36mapply\u001b[0;34m(self, f, align_keys, ignore_failures, **kwargs)\u001b[0m\n\u001b[1;32m    425\u001b[0m                     \u001b[0mapplied\u001b[0m \u001b[0;34m=\u001b[0m \u001b[0mb\u001b[0m\u001b[0;34m.\u001b[0m\u001b[0mapply\u001b[0m\u001b[0;34m(\u001b[0m\u001b[0mf\u001b[0m\u001b[0;34m,\u001b[0m \u001b[0;34m**\u001b[0m\u001b[0mkwargs\u001b[0m\u001b[0;34m)\u001b[0m\u001b[0;34m\u001b[0m\u001b[0;34m\u001b[0m\u001b[0m\n\u001b[1;32m    426\u001b[0m                 \u001b[0;32melse\u001b[0m\u001b[0;34m:\u001b[0m\u001b[0;34m\u001b[0m\u001b[0;34m\u001b[0m\u001b[0m\n\u001b[0;32m--> 427\u001b[0;31m                     \u001b[0mapplied\u001b[0m \u001b[0;34m=\u001b[0m \u001b[0mgetattr\u001b[0m\u001b[0;34m(\u001b[0m\u001b[0mb\u001b[0m\u001b[0;34m,\u001b[0m \u001b[0mf\u001b[0m\u001b[0;34m)\u001b[0m\u001b[0;34m(\u001b[0m\u001b[0;34m**\u001b[0m\u001b[0mkwargs\u001b[0m\u001b[0;34m)\u001b[0m\u001b[0;34m\u001b[0m\u001b[0;34m\u001b[0m\u001b[0m\n\u001b[0m\u001b[1;32m    428\u001b[0m             \u001b[0;32mexcept\u001b[0m \u001b[0;34m(\u001b[0m\u001b[0mTypeError\u001b[0m\u001b[0;34m,\u001b[0m \u001b[0mNotImplementedError\u001b[0m\u001b[0;34m)\u001b[0m\u001b[0;34m:\u001b[0m\u001b[0;34m\u001b[0m\u001b[0;34m\u001b[0m\u001b[0m\n\u001b[1;32m    429\u001b[0m                 \u001b[0;32mif\u001b[0m \u001b[0;32mnot\u001b[0m \u001b[0mignore_failures\u001b[0m\u001b[0;34m:\u001b[0m\u001b[0;34m\u001b[0m\u001b[0;34m\u001b[0m\u001b[0m\n",
      "\u001b[0;32m~/opt/miniconda3/lib/python3.7/site-packages/pandas/core/internals/blocks.py\u001b[0m in \u001b[0;36mfillna\u001b[0;34m(self, value, limit, inplace, downcast)\u001b[0m\n\u001b[1;32m    441\u001b[0m         \u001b[0;32mif\u001b[0m \u001b[0mself\u001b[0m\u001b[0;34m.\u001b[0m\u001b[0m_can_hold_element\u001b[0m\u001b[0;34m(\u001b[0m\u001b[0mvalue\u001b[0m\u001b[0;34m)\u001b[0m\u001b[0;34m:\u001b[0m\u001b[0;34m\u001b[0m\u001b[0;34m\u001b[0m\u001b[0m\n\u001b[1;32m    442\u001b[0m             \u001b[0mnb\u001b[0m \u001b[0;34m=\u001b[0m \u001b[0mself\u001b[0m \u001b[0;32mif\u001b[0m \u001b[0minplace\u001b[0m \u001b[0;32melse\u001b[0m \u001b[0mself\u001b[0m\u001b[0;34m.\u001b[0m\u001b[0mcopy\u001b[0m\u001b[0;34m(\u001b[0m\u001b[0;34m)\u001b[0m\u001b[0;34m\u001b[0m\u001b[0;34m\u001b[0m\u001b[0m\n\u001b[0;32m--> 443\u001b[0;31m             \u001b[0mnb\u001b[0m\u001b[0;34m.\u001b[0m\u001b[0m_putmask_simple\u001b[0m\u001b[0;34m(\u001b[0m\u001b[0mmask\u001b[0m\u001b[0;34m,\u001b[0m \u001b[0mvalue\u001b[0m\u001b[0;34m)\u001b[0m\u001b[0;34m\u001b[0m\u001b[0;34m\u001b[0m\u001b[0m\n\u001b[0m\u001b[1;32m    444\u001b[0m             \u001b[0;31m# TODO: should be nb._maybe_downcast?\u001b[0m\u001b[0;34m\u001b[0m\u001b[0;34m\u001b[0m\u001b[0;34m\u001b[0m\u001b[0m\n\u001b[1;32m    445\u001b[0m             \u001b[0;32mreturn\u001b[0m \u001b[0mself\u001b[0m\u001b[0;34m.\u001b[0m\u001b[0m_maybe_downcast\u001b[0m\u001b[0;34m(\u001b[0m\u001b[0;34m[\u001b[0m\u001b[0mnb\u001b[0m\u001b[0;34m]\u001b[0m\u001b[0;34m,\u001b[0m \u001b[0mdowncast\u001b[0m\u001b[0;34m)\u001b[0m\u001b[0;34m\u001b[0m\u001b[0;34m\u001b[0m\u001b[0m\n",
      "\u001b[0;32m~/opt/miniconda3/lib/python3.7/site-packages/pandas/core/internals/blocks.py\u001b[0m in \u001b[0;36m_putmask_simple\u001b[0;34m(self, mask, value)\u001b[0m\n\u001b[1;32m   1057\u001b[0m         \u001b[0;32melse\u001b[0m\u001b[0;34m:\u001b[0m\u001b[0;34m\u001b[0m\u001b[0;34m\u001b[0m\u001b[0m\n\u001b[1;32m   1058\u001b[0m             \u001b[0;31m# GH#37833 np.putmask is more performant than __setitem__\u001b[0m\u001b[0;34m\u001b[0m\u001b[0;34m\u001b[0m\u001b[0;34m\u001b[0m\u001b[0m\n\u001b[0;32m-> 1059\u001b[0;31m             \u001b[0mnp\u001b[0m\u001b[0;34m.\u001b[0m\u001b[0mputmask\u001b[0m\u001b[0;34m(\u001b[0m\u001b[0mvalues\u001b[0m\u001b[0;34m,\u001b[0m \u001b[0mmask\u001b[0m\u001b[0;34m,\u001b[0m \u001b[0mvalue\u001b[0m\u001b[0;34m)\u001b[0m\u001b[0;34m\u001b[0m\u001b[0;34m\u001b[0m\u001b[0m\n\u001b[0m\u001b[1;32m   1060\u001b[0m \u001b[0;34m\u001b[0m\u001b[0m\n\u001b[1;32m   1061\u001b[0m     def putmask(\n",
      "\u001b[0;32m<__array_function__ internals>\u001b[0m in \u001b[0;36mputmask\u001b[0;34m(*args, **kwargs)\u001b[0m\n",
      "\u001b[0;31mKeyboardInterrupt\u001b[0m: "
     ]
    }
   ],
   "source": [
    "test_100k['pred'] = test_100k.progress_apply(lambda x: get_pred(x), axis=1)"
   ]
  },
  {
   "cell_type": "code",
   "execution_count": null,
   "metadata": {},
   "outputs": [],
   "source": []
  }
 ],
 "metadata": {
  "kernelspec": {
   "display_name": "Python 3",
   "language": "python",
   "name": "python3"
  },
  "language_info": {
   "codemirror_mode": {
    "name": "ipython",
    "version": 3
   },
   "file_extension": ".py",
   "mimetype": "text/x-python",
   "name": "python",
   "nbconvert_exporter": "python",
   "pygments_lexer": "ipython3",
   "version": "3.7.6"
  }
 },
 "nbformat": 4,
 "nbformat_minor": 4
}
